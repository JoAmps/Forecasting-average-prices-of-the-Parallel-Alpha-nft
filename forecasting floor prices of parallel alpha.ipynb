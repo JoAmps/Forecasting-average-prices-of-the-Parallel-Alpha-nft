{
 "cells": [
  {
   "cell_type": "markdown",
   "id": "5d095af9",
   "metadata": {},
   "source": [
    "### Import libraries"
   ]
  },
  {
   "cell_type": "code",
   "execution_count": 1,
   "id": "252f0a26",
   "metadata": {},
   "outputs": [
    {
     "name": "stderr",
     "output_type": "stream",
     "text": [
      "/Users/hyacinthampadu/miniforge3/envs/py36/lib/python3.8/site-packages/xgboost/compat.py:36: FutureWarning: pandas.Int64Index is deprecated and will be removed from pandas in a future version. Use pandas.Index with the appropriate dtype instead.\n",
      "  from pandas import MultiIndex, Int64Index\n",
      "[nltk_data] Downloading package omw-1.4 to\n",
      "[nltk_data]     /Users/hyacinthampadu/nltk_data...\n",
      "[nltk_data]   Package omw-1.4 is already up-to-date!\n",
      "[nltk_data] Downloading package stopwords to\n",
      "[nltk_data]     /Users/hyacinthampadu/nltk_data...\n",
      "[nltk_data]   Package stopwords is already up-to-date!\n"
     ]
    }
   ],
   "source": [
    "#import the neccesary libraries\n",
    "from datetime import datetime\n",
    "import os\n",
    "import seaborn as sns\n",
    "import matplotlib.pyplot as plt\n",
    "import psycopg2\n",
    "from sklearn.model_selection import GridSearchCV\n",
    "import time\n",
    "import matplotlib as mpl\n",
    "from sklearn.model_selection import GridSearchCV\n",
    "import xgboost as xgb\n",
    "from xgboost import plot_importance, plot_tree\n",
    "import re\n",
    "import plotly.graph_objs as go\n",
    "from plotly.offline import init_notebook_mode, iplot\n",
    "from pylab import rcParams\n",
    "from statsmodels.tsa.arima_model import ARIMA\n",
    "import statsmodels.api as sm\n",
    "from chart_studio import plotly\n",
    "from plotly import tools\n",
    "from wordcloud import WordCloud, STOPWORDS, ImageColorGenerator\n",
    "from sklearn.cluster import KMeans\n",
    "from sklearn.metrics import mean_absolute_error, mean_squared_error, r2_score\n",
    "import pandas as pd\n",
    "from sklearn.decomposition import PCA\n",
    "from scipy.sparse import csr_matrix\n",
    "import shap\n",
    "from textblob import TextBlob\n",
    "import string, os, random\n",
    "from textstat import flesch_reading_ease\n",
    "from nltk.corpus import stopwords\n",
    "from sklearn.metrics import silhouette_score\n",
    "from nltk.stem.porter import PorterStemmer\n",
    "from nltk.stem import WordNetLemmatizer\n",
    "from sklearn.feature_extraction.text import TfidfVectorizer\n",
    "from fbprophet import Prophet\n",
    "import numpy as np\n",
    "import nltk\n",
    "from sklearn.metrics import mean_absolute_error, mean_squared_error\n",
    "nltk.download('omw-1.4')\n",
    "nltk.download('stopwords')\n",
    "words = set(nltk.corpus.words.words())\n",
    "from sklearn.ensemble import RandomForestRegressor\n",
    "from statsmodels.tsa.stattools import adfuller\n",
    "from statsmodels.tsa.stattools import grangercausalitytests\n",
    "import snscrape.modules.twitter as sntwitter\n",
    "\n",
    "mpl.rcParams['figure.figsize'] = (10, 8)\n",
    "mpl.rcParams['axes.grid'] = False\n",
    "pd.set_option('display.max_columns', None)\n",
    "from datetime import datetime,timedelta"
   ]
  },
  {
   "cell_type": "markdown",
   "id": "d04c3bf9",
   "metadata": {},
   "source": [
    "### Obtain data from database"
   ]
  },
  {
   "cell_type": "code",
   "execution_count": 2,
   "id": "4bd73b6f",
   "metadata": {},
   "outputs": [],
   "source": [
    "#database login\n",
    "Db_host='127.0.0.1'\n",
    "Db_name='postgres'\n",
    "Db_user='postgres'\n",
    "Db_pass='Brunei42i'"
   ]
  },
  {
   "cell_type": "code",
   "execution_count": 3,
   "id": "e86b5d8f",
   "metadata": {},
   "outputs": [],
   "source": [
    "#connect to postgres database\n",
    "conn = psycopg2.connect(host=Db_host, dbname=Db_name, user=Db_user,password=Db_pass)\n",
    "conn.set_session(autocommit=True)\n",
    "cur = conn.cursor()"
   ]
  },
  {
   "cell_type": "code",
   "execution_count": 4,
   "id": "9b3504a7",
   "metadata": {},
   "outputs": [
    {
     "name": "stderr",
     "output_type": "stream",
     "text": [
      "pandas only support SQLAlchemy connectable(engine/connection) ordatabase string URI or sqlite3 DBAPI2 connectionother DBAPI2 objects are not tested, please consider using SQLAlchemy\n"
     ]
    },
    {
     "data": {
      "text/html": [
       "<div>\n",
       "<style scoped>\n",
       "    .dataframe tbody tr th:only-of-type {\n",
       "        vertical-align: middle;\n",
       "    }\n",
       "\n",
       "    .dataframe tbody tr th {\n",
       "        vertical-align: top;\n",
       "    }\n",
       "\n",
       "    .dataframe thead th {\n",
       "        text-align: right;\n",
       "    }\n",
       "</style>\n",
       "<table border=\"1\" class=\"dataframe\">\n",
       "  <thead>\n",
       "    <tr style=\"text-align: right;\">\n",
       "      <th></th>\n",
       "      <th>chain</th>\n",
       "      <th>collectionaddress</th>\n",
       "      <th>collectionname</th>\n",
       "      <th>exchange</th>\n",
       "      <th>logindex</th>\n",
       "      <th>maker</th>\n",
       "      <th>price</th>\n",
       "      <th>quotecurrency</th>\n",
       "      <th>side</th>\n",
       "      <th>taker</th>\n",
       "      <th>thumbnailurl</th>\n",
       "      <th>timestamp</th>\n",
       "      <th>tokenid</th>\n",
       "      <th>tx</th>\n",
       "      <th>txindex</th>\n",
       "      <th>date</th>\n",
       "      <th>id</th>\n",
       "    </tr>\n",
       "  </thead>\n",
       "  <tbody>\n",
       "    <tr>\n",
       "      <th>0</th>\n",
       "      <td>eth</td>\n",
       "      <td>0x76be3b62873462d2142405439777e971754e8e77</td>\n",
       "      <td>Parallel Alpha</td>\n",
       "      <td>opensea</td>\n",
       "      <td>514</td>\n",
       "      <td>0x661d0eaf85b3af039aa457473e5d448b2ce38ce6</td>\n",
       "      <td>0.0013</td>\n",
       "      <td>ETH</td>\n",
       "      <td>buy</td>\n",
       "      <td>0xb9dfffe3dd0956455ebba025bc3f6de4ca6bed87</td>\n",
       "      <td>https://storage.googleapis.com/parsec-nft-stor...</td>\n",
       "      <td>1649804649</td>\n",
       "      <td>10545.0</td>\n",
       "      <td>0xcc40b548c1d454b42c0d8a06d8adb23ffb514b63fa2d...</td>\n",
       "      <td>210.0</td>\n",
       "      <td>2022-04-12</td>\n",
       "      <td>5111</td>\n",
       "    </tr>\n",
       "    <tr>\n",
       "      <th>1</th>\n",
       "      <td>eth</td>\n",
       "      <td>0x76be3b62873462d2142405439777e971754e8e77</td>\n",
       "      <td>Parallel Alpha</td>\n",
       "      <td>opensea</td>\n",
       "      <td>179</td>\n",
       "      <td>0x4050fb6fac4a6dbf61b63d6cba8e344a2ee9057d</td>\n",
       "      <td>0.0200</td>\n",
       "      <td>ETH</td>\n",
       "      <td>buy</td>\n",
       "      <td>0xb587cbaec20ef78296e1d3b105b5b6aa4ff0c3b4</td>\n",
       "      <td>https://storage.googleapis.com/parsec-nft-stor...</td>\n",
       "      <td>1649804054</td>\n",
       "      <td>10566.0</td>\n",
       "      <td>0xc9f1d2dd0b0afc70f254691ea119d1936288bfc261ae...</td>\n",
       "      <td>72.0</td>\n",
       "      <td>2022-04-12</td>\n",
       "      <td>5947</td>\n",
       "    </tr>\n",
       "    <tr>\n",
       "      <th>2</th>\n",
       "      <td>eth</td>\n",
       "      <td>0x76be3b62873462d2142405439777e971754e8e77</td>\n",
       "      <td>Parallel Alpha</td>\n",
       "      <td>opensea</td>\n",
       "      <td>99</td>\n",
       "      <td>0x2f02c4e2da54a0df1f40dfec773ded5125dc28bf</td>\n",
       "      <td>0.0100</td>\n",
       "      <td>ETH</td>\n",
       "      <td>buy</td>\n",
       "      <td>0x215e14543142af17e2cb0ef08db5c126776d59f4</td>\n",
       "      <td>https://storage.googleapis.com/parsec-nft-stor...</td>\n",
       "      <td>1649795459</td>\n",
       "      <td>10568.0</td>\n",
       "      <td>0xd8bc48264001571f79164bfa5c409d5eedecd56ceff6...</td>\n",
       "      <td>64.0</td>\n",
       "      <td>2022-04-12</td>\n",
       "      <td>14484</td>\n",
       "    </tr>\n",
       "    <tr>\n",
       "      <th>3</th>\n",
       "      <td>eth</td>\n",
       "      <td>0x76be3b62873462d2142405439777e971754e8e77</td>\n",
       "      <td>Parallel Alpha</td>\n",
       "      <td>opensea</td>\n",
       "      <td>269</td>\n",
       "      <td>0x91b2642e5317074f25a47dc2b65c280e9b3427a0</td>\n",
       "      <td>0.0380</td>\n",
       "      <td>ETH</td>\n",
       "      <td>sell</td>\n",
       "      <td>0xbc0139b7b925cd3aaf818880ff45ed15b077e111</td>\n",
       "      <td>https://storage.googleapis.com/parsec-nft-stor...</td>\n",
       "      <td>1649795052</td>\n",
       "      <td>10503.0</td>\n",
       "      <td>0x1cc4302565f7c9c1194d601e68e84389dbd88ac856d2...</td>\n",
       "      <td>127.0</td>\n",
       "      <td>2022-04-12</td>\n",
       "      <td>14655</td>\n",
       "    </tr>\n",
       "    <tr>\n",
       "      <th>4</th>\n",
       "      <td>eth</td>\n",
       "      <td>0x76be3b62873462d2142405439777e971754e8e77</td>\n",
       "      <td>Parallel Alpha</td>\n",
       "      <td>opensea</td>\n",
       "      <td>282</td>\n",
       "      <td>0x6c9af2c7b46b8c94061088a1f3bbf9b6651fc34c</td>\n",
       "      <td>0.0010</td>\n",
       "      <td>ETH</td>\n",
       "      <td>buy</td>\n",
       "      <td>0x6917b4f314e3e1e34750432f3c4fa6d6ebd878e0</td>\n",
       "      <td>https://storage.googleapis.com/parsec-nft-stor...</td>\n",
       "      <td>1649793126</td>\n",
       "      <td>10556.0</td>\n",
       "      <td>0x9ac3ba9439a650835fe905fd55571dafb14e5e5bc81d...</td>\n",
       "      <td>138.0</td>\n",
       "      <td>2022-04-12</td>\n",
       "      <td>16319</td>\n",
       "    </tr>\n",
       "  </tbody>\n",
       "</table>\n",
       "</div>"
      ],
      "text/plain": [
       "  chain                           collectionaddress  collectionname exchange  \\\n",
       "0   eth  0x76be3b62873462d2142405439777e971754e8e77  Parallel Alpha  opensea   \n",
       "1   eth  0x76be3b62873462d2142405439777e971754e8e77  Parallel Alpha  opensea   \n",
       "2   eth  0x76be3b62873462d2142405439777e971754e8e77  Parallel Alpha  opensea   \n",
       "3   eth  0x76be3b62873462d2142405439777e971754e8e77  Parallel Alpha  opensea   \n",
       "4   eth  0x76be3b62873462d2142405439777e971754e8e77  Parallel Alpha  opensea   \n",
       "\n",
       "   logindex                                       maker   price quotecurrency  \\\n",
       "0       514  0x661d0eaf85b3af039aa457473e5d448b2ce38ce6  0.0013           ETH   \n",
       "1       179  0x4050fb6fac4a6dbf61b63d6cba8e344a2ee9057d  0.0200           ETH   \n",
       "2        99  0x2f02c4e2da54a0df1f40dfec773ded5125dc28bf  0.0100           ETH   \n",
       "3       269  0x91b2642e5317074f25a47dc2b65c280e9b3427a0  0.0380           ETH   \n",
       "4       282  0x6c9af2c7b46b8c94061088a1f3bbf9b6651fc34c  0.0010           ETH   \n",
       "\n",
       "   side                                       taker  \\\n",
       "0   buy  0xb9dfffe3dd0956455ebba025bc3f6de4ca6bed87   \n",
       "1   buy  0xb587cbaec20ef78296e1d3b105b5b6aa4ff0c3b4   \n",
       "2   buy  0x215e14543142af17e2cb0ef08db5c126776d59f4   \n",
       "3  sell  0xbc0139b7b925cd3aaf818880ff45ed15b077e111   \n",
       "4   buy  0x6917b4f314e3e1e34750432f3c4fa6d6ebd878e0   \n",
       "\n",
       "                                        thumbnailurl   timestamp  tokenid  \\\n",
       "0  https://storage.googleapis.com/parsec-nft-stor...  1649804649  10545.0   \n",
       "1  https://storage.googleapis.com/parsec-nft-stor...  1649804054  10566.0   \n",
       "2  https://storage.googleapis.com/parsec-nft-stor...  1649795459  10568.0   \n",
       "3  https://storage.googleapis.com/parsec-nft-stor...  1649795052  10503.0   \n",
       "4  https://storage.googleapis.com/parsec-nft-stor...  1649793126  10556.0   \n",
       "\n",
       "                                                  tx  txindex        date  \\\n",
       "0  0xcc40b548c1d454b42c0d8a06d8adb23ffb514b63fa2d...    210.0  2022-04-12   \n",
       "1  0xc9f1d2dd0b0afc70f254691ea119d1936288bfc261ae...     72.0  2022-04-12   \n",
       "2  0xd8bc48264001571f79164bfa5c409d5eedecd56ceff6...     64.0  2022-04-12   \n",
       "3  0x1cc4302565f7c9c1194d601e68e84389dbd88ac856d2...    127.0  2022-04-12   \n",
       "4  0x9ac3ba9439a650835fe905fd55571dafb14e5e5bc81d...    138.0  2022-04-12   \n",
       "\n",
       "      id  \n",
       "0   5111  \n",
       "1   5947  \n",
       "2  14484  \n",
       "3  14655  \n",
       "4  16319  "
      ]
     },
     "execution_count": 4,
     "metadata": {},
     "output_type": "execute_result"
    }
   ],
   "source": [
    "#obtain financial data from database\n",
    "parallel=pd.read_sql_query(\"SELECT * FROM parallel_trades\",conn)\n",
    "parallel.head()"
   ]
  },
  {
   "cell_type": "code",
   "execution_count": 5,
   "id": "bec5ab14",
   "metadata": {},
   "outputs": [
    {
     "name": "stderr",
     "output_type": "stream",
     "text": [
      "pandas only support SQLAlchemy connectable(engine/connection) ordatabase string URI or sqlite3 DBAPI2 connectionother DBAPI2 objects are not tested, please consider using SQLAlchemy\n"
     ]
    },
    {
     "data": {
      "text/html": [
       "<div>\n",
       "<style scoped>\n",
       "    .dataframe tbody tr th:only-of-type {\n",
       "        vertical-align: middle;\n",
       "    }\n",
       "\n",
       "    .dataframe tbody tr th {\n",
       "        vertical-align: top;\n",
       "    }\n",
       "\n",
       "    .dataframe thead th {\n",
       "        text-align: right;\n",
       "    }\n",
       "</style>\n",
       "<table border=\"1\" class=\"dataframe\">\n",
       "  <thead>\n",
       "    <tr style=\"text-align: right;\">\n",
       "      <th></th>\n",
       "      <th>date</th>\n",
       "      <th>tweet_id</th>\n",
       "      <th>tweet</th>\n",
       "      <th>username</th>\n",
       "      <th>retweets</th>\n",
       "      <th>likes</th>\n",
       "      <th>id</th>\n",
       "    </tr>\n",
       "  </thead>\n",
       "  <tbody>\n",
       "    <tr>\n",
       "      <th>6265</th>\n",
       "      <td>2021-08-10</td>\n",
       "      <td>1425189708460662787</td>\n",
       "      <td>@GarretteDVF @0xSisyphus @ParallelNFT Some alp...</td>\n",
       "      <td>lanciendugas</td>\n",
       "      <td>0</td>\n",
       "      <td>2</td>\n",
       "      <td>6266</td>\n",
       "    </tr>\n",
       "    <tr>\n",
       "      <th>6266</th>\n",
       "      <td>2021-08-10</td>\n",
       "      <td>1425136467282563072</td>\n",
       "      <td>@reidatcheson @notdred Perhaps the quantitativ...</td>\n",
       "      <td>AdithyaR_YXE</td>\n",
       "      <td>0</td>\n",
       "      <td>0</td>\n",
       "      <td>6267</td>\n",
       "    </tr>\n",
       "    <tr>\n",
       "      <th>6267</th>\n",
       "      <td>2021-08-10</td>\n",
       "      <td>1425117332448370691</td>\n",
       "      <td>Soleia, Disciple of Gaffar [SE] parallelnft wa...</td>\n",
       "      <td>mondoaxi</td>\n",
       "      <td>0</td>\n",
       "      <td>0</td>\n",
       "      <td>6268</td>\n",
       "    </tr>\n",
       "    <tr>\n",
       "      <th>6268</th>\n",
       "      <td>2021-08-09</td>\n",
       "      <td>1424815063601270785</td>\n",
       "      <td>Artblocks: https://t.co/xyLEkSZFdm ❌\\nCurio ca...</td>\n",
       "      <td>relyt29</td>\n",
       "      <td>0</td>\n",
       "      <td>3</td>\n",
       "      <td>6269</td>\n",
       "    </tr>\n",
       "    <tr>\n",
       "      <th>6269</th>\n",
       "      <td>2021-08-09</td>\n",
       "      <td>1424609710116786179</td>\n",
       "      <td>@ParallelNFT \\nParallel Alpha\\n\\n769.7K\\nitems...</td>\n",
       "      <td>nftsbot</td>\n",
       "      <td>0</td>\n",
       "      <td>0</td>\n",
       "      <td>6270</td>\n",
       "    </tr>\n",
       "  </tbody>\n",
       "</table>\n",
       "</div>"
      ],
      "text/plain": [
       "            date             tweet_id  \\\n",
       "6265  2021-08-10  1425189708460662787   \n",
       "6266  2021-08-10  1425136467282563072   \n",
       "6267  2021-08-10  1425117332448370691   \n",
       "6268  2021-08-09  1424815063601270785   \n",
       "6269  2021-08-09  1424609710116786179   \n",
       "\n",
       "                                                  tweet      username  \\\n",
       "6265  @GarretteDVF @0xSisyphus @ParallelNFT Some alp...  lanciendugas   \n",
       "6266  @reidatcheson @notdred Perhaps the quantitativ...  AdithyaR_YXE   \n",
       "6267  Soleia, Disciple of Gaffar [SE] parallelnft wa...      mondoaxi   \n",
       "6268  Artblocks: https://t.co/xyLEkSZFdm ❌\\nCurio ca...       relyt29   \n",
       "6269  @ParallelNFT \\nParallel Alpha\\n\\n769.7K\\nitems...       nftsbot   \n",
       "\n",
       "      retweets  likes    id  \n",
       "6265         0      2  6266  \n",
       "6266         0      0  6267  \n",
       "6267         0      0  6268  \n",
       "6268         0      3  6269  \n",
       "6269         0      0  6270  "
      ]
     },
     "execution_count": 5,
     "metadata": {},
     "output_type": "execute_result"
    }
   ],
   "source": [
    "#obtain twitter data from database\n",
    "tweets=pd.read_sql_query(\"SELECT * FROM parallel_alpha_tweet\",conn)\n",
    "tweets.tail()"
   ]
  },
  {
   "cell_type": "markdown",
   "id": "8fb04767",
   "metadata": {},
   "source": [
    "### Data cleaning and preparation"
   ]
  },
  {
   "cell_type": "code",
   "execution_count": 6,
   "id": "cb16d690",
   "metadata": {},
   "outputs": [],
   "source": [
    "#cleaning the tweets\n",
    "ps = WordNetLemmatizer()\n",
    "corpus = []\n",
    "def cleaner(tweet):\n",
    "    for i in range(0, len(tweet)):\n",
    "        corpus = []\n",
    "        review = re.sub('[^a-zA-Z]', ' ', tweet)\n",
    "        review = review.lower()\n",
    "        review = review.split()    \n",
    "        review = [ps.lemmatize(word) for word in review if not word in stopwords.words('english')]\n",
    "        review = ' '.join(review)\n",
    "        corpus.append(review)\n",
    "        return corpus\n",
    "tweets['tweet_cleaned']=tweets['tweet'].map(lambda x: cleaner(x))"
   ]
  },
  {
   "cell_type": "code",
   "execution_count": 7,
   "id": "da349b53",
   "metadata": {},
   "outputs": [],
   "source": [
    "#cleaning the tweets\n",
    "ps = WordNetLemmatizer()\n",
    "corpus = []\n",
    "for i in range(0, len(tweets['tweet'])):\n",
    "    review = re.sub('[^a-zA-Z]', ' ', tweets['tweet'][i])\n",
    "    review = review.lower()\n",
    "    review = review.split()\n",
    "    \n",
    "    review = [ps.lemmatize(word) for word in review if not word in stopwords.words('english')]\n",
    "    review = ' '.join(review)\n",
    "    corpus.append(review)"
   ]
  },
  {
   "cell_type": "code",
   "execution_count": 8,
   "id": "0c52923b",
   "metadata": {},
   "outputs": [],
   "source": [
    "corpus=pd.Series(corpus)\n",
    "tweets['tweet_cleaned']=corpus"
   ]
  },
  {
   "cell_type": "code",
   "execution_count": 9,
   "id": "1cfd1cb8",
   "metadata": {},
   "outputs": [
    {
     "data": {
      "text/html": [
       "<div>\n",
       "<style scoped>\n",
       "    .dataframe tbody tr th:only-of-type {\n",
       "        vertical-align: middle;\n",
       "    }\n",
       "\n",
       "    .dataframe tbody tr th {\n",
       "        vertical-align: top;\n",
       "    }\n",
       "\n",
       "    .dataframe thead th {\n",
       "        text-align: right;\n",
       "    }\n",
       "</style>\n",
       "<table border=\"1\" class=\"dataframe\">\n",
       "  <thead>\n",
       "    <tr style=\"text-align: right;\">\n",
       "      <th></th>\n",
       "      <th>date</th>\n",
       "      <th>tweet_id</th>\n",
       "      <th>tweet</th>\n",
       "      <th>username</th>\n",
       "      <th>retweets</th>\n",
       "      <th>likes</th>\n",
       "      <th>id</th>\n",
       "      <th>tweet_cleaned</th>\n",
       "    </tr>\n",
       "  </thead>\n",
       "  <tbody>\n",
       "    <tr>\n",
       "      <th>0</th>\n",
       "      <td>2022-04-16</td>\n",
       "      <td>1515284652889722880</td>\n",
       "      <td>Royal Society of Players: 0.12 Ξ\\nRumble Kong ...</td>\n",
       "      <td>nftflooralerts</td>\n",
       "      <td>0</td>\n",
       "      <td>0</td>\n",
       "      <td>1</td>\n",
       "      <td>royal society player rumble kong league lazy l...</td>\n",
       "    </tr>\n",
       "    <tr>\n",
       "      <th>1</th>\n",
       "      <td>2022-04-16</td>\n",
       "      <td>1515259652409339904</td>\n",
       "      <td>NFT whale monitoring by @MetaApesClub\\nParalle...</td>\n",
       "      <td>Sabeen26694178</td>\n",
       "      <td>0</td>\n",
       "      <td>0</td>\n",
       "      <td>2</td>\n",
       "      <td>nft whale monitoring metaapesclub parallel alp...</td>\n",
       "    </tr>\n",
       "    <tr>\n",
       "      <th>2</th>\n",
       "      <td>2022-04-16</td>\n",
       "      <td>1515244182897672195</td>\n",
       "      <td>Daily Top NFT 🔥 Opensea - Sales  \\n\\n🖼️ Alien ...</td>\n",
       "      <td>coindicators</td>\n",
       "      <td>0</td>\n",
       "      <td>1</td>\n",
       "      <td>3</td>\n",
       "      <td>daily top nft opensea sale alien frens incubat...</td>\n",
       "    </tr>\n",
       "    <tr>\n",
       "      <th>3</th>\n",
       "      <td>2022-04-16</td>\n",
       "      <td>1515233552970964997</td>\n",
       "      <td>#NFT Statistics (Real-Time)\\nCollection: paral...</td>\n",
       "      <td>bitvots</td>\n",
       "      <td>0</td>\n",
       "      <td>1</td>\n",
       "      <td>4</td>\n",
       "      <td>nft statistic real time collection parallelalp...</td>\n",
       "    </tr>\n",
       "    <tr>\n",
       "      <th>4</th>\n",
       "      <td>2022-04-16</td>\n",
       "      <td>1515217419177906178</td>\n",
       "      <td>greddings fella’s i’m back drunk just to say t...</td>\n",
       "      <td>_lukebaum</td>\n",
       "      <td>0</td>\n",
       "      <td>8</td>\n",
       "      <td>5</td>\n",
       "      <td>greddings fella back drunk say wehn dealing pa...</td>\n",
       "    </tr>\n",
       "  </tbody>\n",
       "</table>\n",
       "</div>"
      ],
      "text/plain": [
       "         date             tweet_id  \\\n",
       "0  2022-04-16  1515284652889722880   \n",
       "1  2022-04-16  1515259652409339904   \n",
       "2  2022-04-16  1515244182897672195   \n",
       "3  2022-04-16  1515233552970964997   \n",
       "4  2022-04-16  1515217419177906178   \n",
       "\n",
       "                                               tweet        username  \\\n",
       "0  Royal Society of Players: 0.12 Ξ\\nRumble Kong ...  nftflooralerts   \n",
       "1  NFT whale monitoring by @MetaApesClub\\nParalle...  Sabeen26694178   \n",
       "2  Daily Top NFT 🔥 Opensea - Sales  \\n\\n🖼️ Alien ...    coindicators   \n",
       "3  #NFT Statistics (Real-Time)\\nCollection: paral...         bitvots   \n",
       "4  greddings fella’s i’m back drunk just to say t...       _lukebaum   \n",
       "\n",
       "   retweets  likes  id                                      tweet_cleaned  \n",
       "0         0      0   1  royal society player rumble kong league lazy l...  \n",
       "1         0      0   2  nft whale monitoring metaapesclub parallel alp...  \n",
       "2         0      1   3  daily top nft opensea sale alien frens incubat...  \n",
       "3         0      1   4  nft statistic real time collection parallelalp...  \n",
       "4         0      8   5  greddings fella back drunk say wehn dealing pa...  "
      ]
     },
     "execution_count": 9,
     "metadata": {},
     "output_type": "execute_result"
    }
   ],
   "source": [
    "tweets.head()"
   ]
  },
  {
   "cell_type": "markdown",
   "id": "3430e9b7",
   "metadata": {},
   "source": [
    "### PCA and Clustering of twitter data"
   ]
  },
  {
   "cell_type": "code",
   "execution_count": 10,
   "id": "78b17ec4",
   "metadata": {},
   "outputs": [],
   "source": [
    "#preparing data for clustering\n",
    "documents = tweets['tweet_cleaned'].values.astype(\"U\")\n",
    "vectorizer = TfidfVectorizer(stop_words='english')\n",
    "features = vectorizer.fit_transform(documents)\n",
    "X = features.copy()\n",
    "X = csr_matrix(X)"
   ]
  },
  {
   "cell_type": "code",
   "execution_count": 11,
   "id": "fd1c0503",
   "metadata": {},
   "outputs": [
    {
     "name": "stdout",
     "output_type": "stream",
     "text": [
      "Cumulative variance explained by 1000 pca components : 0.8073588260805884\n"
     ]
    }
   ],
   "source": [
    "#reducing dimensions using PCA\n",
    "pca=PCA(n_components=1000,random_state=0)\n",
    "pca_result = pca.fit_transform(X.toarray())\n",
    "print('Cumulative variance explained by 1000 pca components :',(np.sum(pca.explained_variance_ratio_)))"
   ]
  },
  {
   "cell_type": "code",
   "execution_count": 12,
   "id": "0361ab2c",
   "metadata": {},
   "outputs": [
    {
     "name": "stdout",
     "output_type": "stream",
     "text": [
      "Number of clusters: 1\n",
      "Number of clusters: 2\n",
      "Number of clusters: 3\n",
      "Number of clusters: 4\n",
      "Number of clusters: 5\n",
      "Number of clusters: 6\n",
      "Number of clusters: 7\n",
      "Number of clusters: 8\n",
      "Number of clusters: 9\n",
      "Number of clusters: 10\n"
     ]
    },
    {
     "data": {
      "image/png": "[encoded data removed]",
      "text/plain": [
       "<Figure size 720x720 with 1 Axes>"
      ]
     },
     "metadata": {
      "needs_background": "light"
     },
     "output_type": "display_data"
    }
   ],
   "source": [
    "#elbow method to find optimal number of clusters for kmeans\n",
    "wcss = []\n",
    "for i in range(1,11):\n",
    "   kmeans = KMeans(n_clusters = i, init = \"k-means++\")\n",
    "   kmeans.fit(pca_result)\n",
    "   wcss.append(kmeans.inertia_)\n",
    "   print('Number of clusters:',i)\n",
    "plt.figure(figsize=(10,10))\n",
    "plt.plot(range(1,11), wcss)\n",
    "plt.xlabel('Number of clusters')\n",
    "plt.ylabel('WCSS')\n",
    "plt.show()"
   ]
  },
  {
   "cell_type": "markdown",
   "id": "08124c43",
   "metadata": {},
   "source": [
    "#### Its difficult to see where the \"elbow\" is to determine the optimal number of clusters, so i would try another technique"
   ]
  },
  {
   "cell_type": "code",
   "execution_count": 13,
   "id": "6a7ec367",
   "metadata": {},
   "outputs": [
    {
     "name": "stdout",
     "output_type": "stream",
     "text": [
      "silhouette_score of 2 clusters is: 0.1568734686830686\n",
      "silhouette_score of 3 clusters is: 0.1923608913387054\n",
      "silhouette_score of 4 clusters is: 0.23263237259396963\n",
      "silhouette_score of 5 clusters is: 0.2605748213353883\n",
      "silhouette_score of 6 clusters is: 0.27567012577691086\n",
      "silhouette_score of 7 clusters is: 0.21724654264477775\n",
      "silhouette_score of 8 clusters is: 0.24928771973506683\n",
      "silhouette_score of 9 clusters is: 0.24163557875453837\n",
      "silhouette_score of 10 clusters is: 0.25915985062380065\n"
     ]
    },
    {
     "data": {
      "image/png": "[encoded data removed]",
      "text/plain": [
       "<Figure size 720x576 with 1 Axes>"
      ]
     },
     "metadata": {
      "needs_background": "light"
     },
     "output_type": "display_data"
    }
   ],
   "source": [
    "#silhouette score method to find optimal number of clusters for kmeans\n",
    "range_n_clusters = [i for i in range(2,11)]\n",
    "silhouette_avg = []\n",
    "for num_clusters in range_n_clusters:\n",
    "     # initialise kmeans\n",
    "     kmeans = KMeans(n_clusters=num_clusters)\n",
    "     kmeans.fit(pca_result)\n",
    "     #cluster_labels= kmeans.labels_\n",
    "     # silhouette score\n",
    "     print(f'silhouette_score of {num_clusters} clusters is:',silhouette_score(pca_result, kmeans.labels_, metric='euclidean'))   \n",
    "     silhouette_avg.append(silhouette_score(pca_result, kmeans.labels_, metric='euclidean'))\n",
    "plt.plot(range_n_clusters,silhouette_avg,'bx-')\n",
    "plt.xlabel('Values of K') \n",
    "plt.ylabel('Silhouette score') \n",
    "plt.title('Silhouette analysis For Optimal k')\n",
    "plt.show()"
   ]
  },
  {
   "cell_type": "markdown",
   "id": "98fb658b",
   "metadata": {},
   "source": [
    "#### It can clearly be seen that 10 number of clusters is the most optimal here"
   ]
  },
  {
   "cell_type": "code",
   "execution_count": 14,
   "id": "96c5e7b4",
   "metadata": {},
   "outputs": [],
   "source": [
    "#running kmeans n optimal number of clusters\n",
    "kmeans = KMeans(n_clusters=10, random_state=0)\n",
    "kmeans = kmeans.fit(pca_result)\n",
    "kmeans.labels_\n",
    "# \"predictions\" for new data\n",
    "predictions = kmeans.predict(pca_result)"
   ]
  },
  {
   "cell_type": "code",
   "execution_count": 15,
   "id": "a7b4aea3",
   "metadata": {},
   "outputs": [
    {
     "data": {
      "text/plain": [
       "8    3200\n",
       "9     753\n",
       "2     505\n",
       "5     479\n",
       "4     419\n",
       "1     324\n",
       "7     285\n",
       "0     121\n",
       "6     102\n",
       "3      82\n",
       "Name: clusters, dtype: int64"
      ]
     },
     "execution_count": 15,
     "metadata": {},
     "output_type": "execute_result"
    }
   ],
   "source": [
    "tweets['clusters']=kmeans.labels_\n",
    "tweets['clusters'].value_counts()"
   ]
  },
  {
   "cell_type": "code",
   "execution_count": 16,
   "id": "6a32f293",
   "metadata": {},
   "outputs": [],
   "source": [
    "#selecting only clusters containing relevant tweets\n",
    "tweets=tweets[(tweets['clusters']==1)|(tweets['clusters']==2)|(tweets['clusters']==3)|(tweets['clusters']==4)|(tweets['clusters']==9)]"
   ]
  },
  {
   "cell_type": "markdown",
   "id": "5fed4455",
   "metadata": {},
   "source": [
    "### Feature Engineering"
   ]
  },
  {
   "cell_type": "code",
   "execution_count": 17,
   "id": "7a18fa8b",
   "metadata": {},
   "outputs": [
    {
     "data": {
      "text/html": [
       "<div>\n",
       "<style scoped>\n",
       "    .dataframe tbody tr th:only-of-type {\n",
       "        vertical-align: middle;\n",
       "    }\n",
       "\n",
       "    .dataframe tbody tr th {\n",
       "        vertical-align: top;\n",
       "    }\n",
       "\n",
       "    .dataframe thead th {\n",
       "        text-align: right;\n",
       "    }\n",
       "</style>\n",
       "<table border=\"1\" class=\"dataframe\">\n",
       "  <thead>\n",
       "    <tr style=\"text-align: right;\">\n",
       "      <th></th>\n",
       "      <th>date</th>\n",
       "      <th>tweet_id</th>\n",
       "      <th>tweet</th>\n",
       "      <th>username</th>\n",
       "      <th>retweets</th>\n",
       "      <th>likes</th>\n",
       "      <th>id</th>\n",
       "      <th>tweet_cleaned</th>\n",
       "      <th>clusters</th>\n",
       "    </tr>\n",
       "  </thead>\n",
       "  <tbody>\n",
       "    <tr>\n",
       "      <th>0</th>\n",
       "      <td>2022-04-16</td>\n",
       "      <td>1515284652889722880</td>\n",
       "      <td>Royal Society of Players: 0.12 Ξ\\nRumble Kong ...</td>\n",
       "      <td>nftflooralerts</td>\n",
       "      <td>0</td>\n",
       "      <td>0</td>\n",
       "      <td>1</td>\n",
       "      <td>royal society player rumble kong league lazy l...</td>\n",
       "      <td>2</td>\n",
       "    </tr>\n",
       "    <tr>\n",
       "      <th>6</th>\n",
       "      <td>2022-04-16</td>\n",
       "      <td>1515194035568361475</td>\n",
       "      <td>Royal Society of Players: 0.12 Ξ\\nRumble Kong ...</td>\n",
       "      <td>nftflooralerts</td>\n",
       "      <td>0</td>\n",
       "      <td>1</td>\n",
       "      <td>7</td>\n",
       "      <td>royal society player rumble kong league lazy l...</td>\n",
       "      <td>2</td>\n",
       "    </tr>\n",
       "    <tr>\n",
       "      <th>10</th>\n",
       "      <td>2022-04-15</td>\n",
       "      <td>1515103488518283278</td>\n",
       "      <td>Royal Society of Players: 0.12 Ξ\\nRumble Kong ...</td>\n",
       "      <td>nftflooralerts</td>\n",
       "      <td>0</td>\n",
       "      <td>0</td>\n",
       "      <td>11</td>\n",
       "      <td>royal society player rumble kong league lazy l...</td>\n",
       "      <td>2</td>\n",
       "    </tr>\n",
       "    <tr>\n",
       "      <th>14</th>\n",
       "      <td>2022-04-15</td>\n",
       "      <td>1515012912376602624</td>\n",
       "      <td>Royal Society of Players: 0.12 Ξ\\nRumble Kong ...</td>\n",
       "      <td>nftflooralerts</td>\n",
       "      <td>0</td>\n",
       "      <td>0</td>\n",
       "      <td>15</td>\n",
       "      <td>royal society player rumble kong league lazy l...</td>\n",
       "      <td>2</td>\n",
       "    </tr>\n",
       "    <tr>\n",
       "      <th>22</th>\n",
       "      <td>2022-04-15</td>\n",
       "      <td>1514922259210776584</td>\n",
       "      <td>Royal Society of Players: 0.12 Ξ\\nRumble Kong ...</td>\n",
       "      <td>nftflooralerts</td>\n",
       "      <td>0</td>\n",
       "      <td>1</td>\n",
       "      <td>23</td>\n",
       "      <td>royal society player rumble kong league lazy l...</td>\n",
       "      <td>2</td>\n",
       "    </tr>\n",
       "  </tbody>\n",
       "</table>\n",
       "</div>"
      ],
      "text/plain": [
       "          date             tweet_id  \\\n",
       "0   2022-04-16  1515284652889722880   \n",
       "6   2022-04-16  1515194035568361475   \n",
       "10  2022-04-15  1515103488518283278   \n",
       "14  2022-04-15  1515012912376602624   \n",
       "22  2022-04-15  1514922259210776584   \n",
       "\n",
       "                                                tweet        username  \\\n",
       "0   Royal Society of Players: 0.12 Ξ\\nRumble Kong ...  nftflooralerts   \n",
       "6   Royal Society of Players: 0.12 Ξ\\nRumble Kong ...  nftflooralerts   \n",
       "10  Royal Society of Players: 0.12 Ξ\\nRumble Kong ...  nftflooralerts   \n",
       "14  Royal Society of Players: 0.12 Ξ\\nRumble Kong ...  nftflooralerts   \n",
       "22  Royal Society of Players: 0.12 Ξ\\nRumble Kong ...  nftflooralerts   \n",
       "\n",
       "    retweets  likes  id                                      tweet_cleaned  \\\n",
       "0          0      0   1  royal society player rumble kong league lazy l...   \n",
       "6          0      1   7  royal society player rumble kong league lazy l...   \n",
       "10         0      0  11  royal society player rumble kong league lazy l...   \n",
       "14         0      0  15  royal society player rumble kong league lazy l...   \n",
       "22         0      1  23  royal society player rumble kong league lazy l...   \n",
       "\n",
       "    clusters  \n",
       "0          2  \n",
       "6          2  \n",
       "10         2  \n",
       "14         2  \n",
       "22         2  "
      ]
     },
     "execution_count": 17,
     "metadata": {},
     "output_type": "execute_result"
    }
   ],
   "source": [
    "tweets.head()"
   ]
  },
  {
   "cell_type": "code",
   "execution_count": 18,
   "id": "12369871",
   "metadata": {},
   "outputs": [
    {
     "data": {
      "text/plain": [
       "count    2083.000000\n",
       "mean        3.079693\n",
       "std        26.804149\n",
       "min         0.000000\n",
       "25%         0.000000\n",
       "50%         1.000000\n",
       "75%         2.000000\n",
       "max      1176.000000\n",
       "Name: likes, dtype: float64"
      ]
     },
     "execution_count": 18,
     "metadata": {},
     "output_type": "execute_result"
    }
   ],
   "source": [
    "tweets['likes'].describe()"
   ]
  },
  {
   "cell_type": "code",
   "execution_count": 19,
   "id": "058d4af5",
   "metadata": {},
   "outputs": [
    {
     "data": {
      "text/plain": [
       "count    2083.000000\n",
       "mean        0.793087\n",
       "std        18.403053\n",
       "min         0.000000\n",
       "25%         0.000000\n",
       "50%         0.000000\n",
       "75%         0.000000\n",
       "max       836.000000\n",
       "Name: retweets, dtype: float64"
      ]
     },
     "execution_count": 19,
     "metadata": {},
     "output_type": "execute_result"
    }
   ],
   "source": [
    "tweets['retweets'].describe()"
   ]
  },
  {
   "cell_type": "code",
   "execution_count": 20,
   "id": "93545a0d",
   "metadata": {},
   "outputs": [],
   "source": [
    "#creating popular tweets and very popular tweets from likes and retweets\n",
    "tweets['popular_tweet']=(tweets['retweets']>np.percentile(tweets['retweets'],75)) | (tweets['likes']>np.percentile(tweets['likes'],75))\n",
    "tweets['very_popular_tweet']=(tweets['retweets']>np.percentile(tweets['retweets'],95)) | (tweets['likes']>np.percentile(tweets['likes'],95))"
   ]
  },
  {
   "cell_type": "markdown",
   "id": "940c120f",
   "metadata": {},
   "source": [
    "#### Popular tweet corresponds to any tweet that has either its likes or retweets in the 75th percentile of all likes or retweets\n",
    "#### Very Popular tweet corresponds to any tweet that has either its likes or retweets in the 95th percentile of all likes or retweets"
   ]
  },
  {
   "cell_type": "code",
   "execution_count": 21,
   "id": "51436a3a",
   "metadata": {},
   "outputs": [
    {
     "data": {
      "text/html": [
       "<div>\n",
       "<style scoped>\n",
       "    .dataframe tbody tr th:only-of-type {\n",
       "        vertical-align: middle;\n",
       "    }\n",
       "\n",
       "    .dataframe tbody tr th {\n",
       "        vertical-align: top;\n",
       "    }\n",
       "\n",
       "    .dataframe thead th {\n",
       "        text-align: right;\n",
       "    }\n",
       "</style>\n",
       "<table border=\"1\" class=\"dataframe\">\n",
       "  <thead>\n",
       "    <tr style=\"text-align: right;\">\n",
       "      <th></th>\n",
       "      <th>date</th>\n",
       "      <th>tweet_id</th>\n",
       "      <th>tweet</th>\n",
       "      <th>username</th>\n",
       "      <th>retweets</th>\n",
       "      <th>likes</th>\n",
       "      <th>id</th>\n",
       "      <th>tweet_cleaned</th>\n",
       "      <th>clusters</th>\n",
       "      <th>popular_tweet</th>\n",
       "      <th>very_popular_tweet</th>\n",
       "    </tr>\n",
       "  </thead>\n",
       "  <tbody>\n",
       "    <tr>\n",
       "      <th>0</th>\n",
       "      <td>2022-04-16</td>\n",
       "      <td>1515284652889722880</td>\n",
       "      <td>Royal Society of Players: 0.12 Ξ\\nRumble Kong ...</td>\n",
       "      <td>nftflooralerts</td>\n",
       "      <td>0</td>\n",
       "      <td>0</td>\n",
       "      <td>1</td>\n",
       "      <td>royal society player rumble kong league lazy l...</td>\n",
       "      <td>2</td>\n",
       "      <td>False</td>\n",
       "      <td>False</td>\n",
       "    </tr>\n",
       "    <tr>\n",
       "      <th>6</th>\n",
       "      <td>2022-04-16</td>\n",
       "      <td>1515194035568361475</td>\n",
       "      <td>Royal Society of Players: 0.12 Ξ\\nRumble Kong ...</td>\n",
       "      <td>nftflooralerts</td>\n",
       "      <td>0</td>\n",
       "      <td>1</td>\n",
       "      <td>7</td>\n",
       "      <td>royal society player rumble kong league lazy l...</td>\n",
       "      <td>2</td>\n",
       "      <td>False</td>\n",
       "      <td>False</td>\n",
       "    </tr>\n",
       "    <tr>\n",
       "      <th>10</th>\n",
       "      <td>2022-04-15</td>\n",
       "      <td>1515103488518283278</td>\n",
       "      <td>Royal Society of Players: 0.12 Ξ\\nRumble Kong ...</td>\n",
       "      <td>nftflooralerts</td>\n",
       "      <td>0</td>\n",
       "      <td>0</td>\n",
       "      <td>11</td>\n",
       "      <td>royal society player rumble kong league lazy l...</td>\n",
       "      <td>2</td>\n",
       "      <td>False</td>\n",
       "      <td>False</td>\n",
       "    </tr>\n",
       "    <tr>\n",
       "      <th>14</th>\n",
       "      <td>2022-04-15</td>\n",
       "      <td>1515012912376602624</td>\n",
       "      <td>Royal Society of Players: 0.12 Ξ\\nRumble Kong ...</td>\n",
       "      <td>nftflooralerts</td>\n",
       "      <td>0</td>\n",
       "      <td>0</td>\n",
       "      <td>15</td>\n",
       "      <td>royal society player rumble kong league lazy l...</td>\n",
       "      <td>2</td>\n",
       "      <td>False</td>\n",
       "      <td>False</td>\n",
       "    </tr>\n",
       "    <tr>\n",
       "      <th>22</th>\n",
       "      <td>2022-04-15</td>\n",
       "      <td>1514922259210776584</td>\n",
       "      <td>Royal Society of Players: 0.12 Ξ\\nRumble Kong ...</td>\n",
       "      <td>nftflooralerts</td>\n",
       "      <td>0</td>\n",
       "      <td>1</td>\n",
       "      <td>23</td>\n",
       "      <td>royal society player rumble kong league lazy l...</td>\n",
       "      <td>2</td>\n",
       "      <td>False</td>\n",
       "      <td>False</td>\n",
       "    </tr>\n",
       "  </tbody>\n",
       "</table>\n",
       "</div>"
      ],
      "text/plain": [
       "          date             tweet_id  \\\n",
       "0   2022-04-16  1515284652889722880   \n",
       "6   2022-04-16  1515194035568361475   \n",
       "10  2022-04-15  1515103488518283278   \n",
       "14  2022-04-15  1515012912376602624   \n",
       "22  2022-04-15  1514922259210776584   \n",
       "\n",
       "                                                tweet        username  \\\n",
       "0   Royal Society of Players: 0.12 Ξ\\nRumble Kong ...  nftflooralerts   \n",
       "6   Royal Society of Players: 0.12 Ξ\\nRumble Kong ...  nftflooralerts   \n",
       "10  Royal Society of Players: 0.12 Ξ\\nRumble Kong ...  nftflooralerts   \n",
       "14  Royal Society of Players: 0.12 Ξ\\nRumble Kong ...  nftflooralerts   \n",
       "22  Royal Society of Players: 0.12 Ξ\\nRumble Kong ...  nftflooralerts   \n",
       "\n",
       "    retweets  likes  id                                      tweet_cleaned  \\\n",
       "0          0      0   1  royal society player rumble kong league lazy l...   \n",
       "6          0      1   7  royal society player rumble kong league lazy l...   \n",
       "10         0      0  11  royal society player rumble kong league lazy l...   \n",
       "14         0      0  15  royal society player rumble kong league lazy l...   \n",
       "22         0      1  23  royal society player rumble kong league lazy l...   \n",
       "\n",
       "    clusters  popular_tweet  very_popular_tweet  \n",
       "0          2          False               False  \n",
       "6          2          False               False  \n",
       "10         2          False               False  \n",
       "14         2          False               False  \n",
       "22         2          False               False  "
      ]
     },
     "execution_count": 21,
     "metadata": {},
     "output_type": "execute_result"
    }
   ],
   "source": [
    "tweets.head()"
   ]
  },
  {
   "cell_type": "code",
   "execution_count": 22,
   "id": "85d434cf",
   "metadata": {},
   "outputs": [
    {
     "data": {
      "text/plain": [
       "False    1587\n",
       "True      496\n",
       "Name: popular_tweet, dtype: int64"
      ]
     },
     "execution_count": 22,
     "metadata": {},
     "output_type": "execute_result"
    }
   ],
   "source": [
    "tweets['popular_tweet'].value_counts()"
   ]
  },
  {
   "cell_type": "code",
   "execution_count": 23,
   "id": "85e87618",
   "metadata": {},
   "outputs": [
    {
     "data": {
      "text/plain": [
       "False    1961\n",
       "True      122\n",
       "Name: very_popular_tweet, dtype: int64"
      ]
     },
     "execution_count": 23,
     "metadata": {},
     "output_type": "execute_result"
    }
   ],
   "source": [
    "tweets['very_popular_tweet'].value_counts()"
   ]
  },
  {
   "cell_type": "code",
   "execution_count": 24,
   "id": "079d355f",
   "metadata": {},
   "outputs": [],
   "source": [
    "tweets['word_count'] = tweets['tweet_cleaned'].apply(lambda x : len(x.split()))"
   ]
  },
  {
   "cell_type": "code",
   "execution_count": 25,
   "id": "6d58e707",
   "metadata": {},
   "outputs": [],
   "source": [
    "#obtaining sentiments for the tweets\n",
    "def get_sentiment(text):\n",
    "    blob = TextBlob(text)\n",
    "    sentiment_polarity = blob.sentiment.polarity\n",
    "    sentiment_subjectivity = blob.sentiment.subjectivity\n",
    "    if sentiment_polarity > 0:\n",
    "        sentiment_label = 'Positive'\n",
    "    elif sentiment_polarity < 0:\n",
    "        sentiment_label = 'Negative'\n",
    "    else:\n",
    "        sentiment_label = 'Neutral'\n",
    "    result = {'polarity':sentiment_polarity,\n",
    "              'subjectivity':sentiment_subjectivity,\n",
    "              'sentiment':sentiment_label}\n",
    "    return result"
   ]
  },
  {
   "cell_type": "code",
   "execution_count": 26,
   "id": "75811b5c",
   "metadata": {},
   "outputs": [],
   "source": [
    "tweets['sentiment_results'] = tweets['tweet_cleaned'].apply(get_sentiment)"
   ]
  },
  {
   "cell_type": "code",
   "execution_count": 27,
   "id": "00198eb8",
   "metadata": {},
   "outputs": [
    {
     "data": {
      "text/plain": [
       "2083"
      ]
     },
     "execution_count": 27,
     "metadata": {},
     "output_type": "execute_result"
    }
   ],
   "source": [
    "len(tweets)"
   ]
  },
  {
   "cell_type": "code",
   "execution_count": 28,
   "id": "10c51de3",
   "metadata": {},
   "outputs": [],
   "source": [
    "sentiment=pd.json_normalize(tweets['sentiment_results'])"
   ]
  },
  {
   "cell_type": "code",
   "execution_count": 29,
   "id": "699bec49",
   "metadata": {},
   "outputs": [
    {
     "data": {
      "text/plain": [
       "(2083, 2083)"
      ]
     },
     "execution_count": 29,
     "metadata": {},
     "output_type": "execute_result"
    }
   ],
   "source": [
    "len(tweets),len(sentiment)"
   ]
  },
  {
   "cell_type": "code",
   "execution_count": 30,
   "id": "12bbe6f3",
   "metadata": {},
   "outputs": [],
   "source": [
    "tweets=tweets.reset_index()\n",
    "sentiment=sentiment.reset_index()"
   ]
  },
  {
   "cell_type": "code",
   "execution_count": 31,
   "id": "5e357934",
   "metadata": {},
   "outputs": [],
   "source": [
    "tweets=(pd.concat([tweets,sentiment],axis=1))"
   ]
  },
  {
   "cell_type": "code",
   "execution_count": 32,
   "id": "df47af53",
   "metadata": {},
   "outputs": [
    {
     "data": {
      "text/html": [
       "<div>\n",
       "<style scoped>\n",
       "    .dataframe tbody tr th:only-of-type {\n",
       "        vertical-align: middle;\n",
       "    }\n",
       "\n",
       "    .dataframe tbody tr th {\n",
       "        vertical-align: top;\n",
       "    }\n",
       "\n",
       "    .dataframe thead th {\n",
       "        text-align: right;\n",
       "    }\n",
       "</style>\n",
       "<table border=\"1\" class=\"dataframe\">\n",
       "  <thead>\n",
       "    <tr style=\"text-align: right;\">\n",
       "      <th></th>\n",
       "      <th>index</th>\n",
       "      <th>date</th>\n",
       "      <th>tweet_id</th>\n",
       "      <th>tweet</th>\n",
       "      <th>username</th>\n",
       "      <th>retweets</th>\n",
       "      <th>likes</th>\n",
       "      <th>id</th>\n",
       "      <th>tweet_cleaned</th>\n",
       "      <th>clusters</th>\n",
       "      <th>popular_tweet</th>\n",
       "      <th>very_popular_tweet</th>\n",
       "      <th>word_count</th>\n",
       "      <th>sentiment_results</th>\n",
       "      <th>index</th>\n",
       "      <th>polarity</th>\n",
       "      <th>subjectivity</th>\n",
       "      <th>sentiment</th>\n",
       "    </tr>\n",
       "  </thead>\n",
       "  <tbody>\n",
       "    <tr>\n",
       "      <th>2078</th>\n",
       "      <td>5628</td>\n",
       "      <td>2021-10-19</td>\n",
       "      <td>1450516286719545350</td>\n",
       "      <td>The #1 Collection by Volume (last 10 mins):\\np...</td>\n",
       "      <td>spr3adsh33t</td>\n",
       "      <td>0</td>\n",
       "      <td>2</td>\n",
       "      <td>5625</td>\n",
       "      <td>collection volume last min parallel parallelal...</td>\n",
       "      <td>4</td>\n",
       "      <td>False</td>\n",
       "      <td>False</td>\n",
       "      <td>19</td>\n",
       "      <td>{'polarity': 0.09375, 'subjectivity': 0.329166...</td>\n",
       "      <td>2078</td>\n",
       "      <td>0.09375</td>\n",
       "      <td>0.329167</td>\n",
       "      <td>Positive</td>\n",
       "    </tr>\n",
       "    <tr>\n",
       "      <th>2079</th>\n",
       "      <td>5985</td>\n",
       "      <td>2021-08-27</td>\n",
       "      <td>1431289478530928641</td>\n",
       "      <td>Top 5 trending NFT collectibles on OpenSea ove...</td>\n",
       "      <td>JohnTodaro1</td>\n",
       "      <td>0</td>\n",
       "      <td>4</td>\n",
       "      <td>5982</td>\n",
       "      <td>top trending nft collectible opensea week cryp...</td>\n",
       "      <td>9</td>\n",
       "      <td>True</td>\n",
       "      <td>False</td>\n",
       "      <td>18</td>\n",
       "      <td>{'polarity': -0.125, 'subjectivity': 0.575, 's...</td>\n",
       "      <td>2079</td>\n",
       "      <td>-0.12500</td>\n",
       "      <td>0.575000</td>\n",
       "      <td>Negative</td>\n",
       "    </tr>\n",
       "    <tr>\n",
       "      <th>2080</th>\n",
       "      <td>6000</td>\n",
       "      <td>2021-08-26</td>\n",
       "      <td>1430815649690005508</td>\n",
       "      <td>The #1 Collection by Volume (last 10 mins):\\np...</td>\n",
       "      <td>spr3adsh33t</td>\n",
       "      <td>0</td>\n",
       "      <td>0</td>\n",
       "      <td>5997</td>\n",
       "      <td>collection volume last min parallel parallelal...</td>\n",
       "      <td>4</td>\n",
       "      <td>False</td>\n",
       "      <td>False</td>\n",
       "      <td>19</td>\n",
       "      <td>{'polarity': 0.09375, 'subjectivity': 0.329166...</td>\n",
       "      <td>2080</td>\n",
       "      <td>0.09375</td>\n",
       "      <td>0.329167</td>\n",
       "      <td>Positive</td>\n",
       "    </tr>\n",
       "    <tr>\n",
       "      <th>2081</th>\n",
       "      <td>6001</td>\n",
       "      <td>2021-08-26</td>\n",
       "      <td>1430803023211683842</td>\n",
       "      <td>The #1 Collection by Volume (last 10 mins):\\np...</td>\n",
       "      <td>spr3adsh33t</td>\n",
       "      <td>0</td>\n",
       "      <td>0</td>\n",
       "      <td>5998</td>\n",
       "      <td>collection volume last min parallel parallelal...</td>\n",
       "      <td>4</td>\n",
       "      <td>False</td>\n",
       "      <td>False</td>\n",
       "      <td>19</td>\n",
       "      <td>{'polarity': 0.09375, 'subjectivity': 0.329166...</td>\n",
       "      <td>2081</td>\n",
       "      <td>0.09375</td>\n",
       "      <td>0.329167</td>\n",
       "      <td>Positive</td>\n",
       "    </tr>\n",
       "    <tr>\n",
       "      <th>2082</th>\n",
       "      <td>6030</td>\n",
       "      <td>2021-08-24</td>\n",
       "      <td>1429982308799553541</td>\n",
       "      <td>The #1 Collection by Volume (last 10 mins):\\np...</td>\n",
       "      <td>spr3adsh33t</td>\n",
       "      <td>0</td>\n",
       "      <td>0</td>\n",
       "      <td>6029</td>\n",
       "      <td>collection volume last min parallel parallelal...</td>\n",
       "      <td>4</td>\n",
       "      <td>False</td>\n",
       "      <td>False</td>\n",
       "      <td>19</td>\n",
       "      <td>{'polarity': 0.09375, 'subjectivity': 0.329166...</td>\n",
       "      <td>2082</td>\n",
       "      <td>0.09375</td>\n",
       "      <td>0.329167</td>\n",
       "      <td>Positive</td>\n",
       "    </tr>\n",
       "  </tbody>\n",
       "</table>\n",
       "</div>"
      ],
      "text/plain": [
       "      index        date             tweet_id  \\\n",
       "2078   5628  2021-10-19  1450516286719545350   \n",
       "2079   5985  2021-08-27  1431289478530928641   \n",
       "2080   6000  2021-08-26  1430815649690005508   \n",
       "2081   6001  2021-08-26  1430803023211683842   \n",
       "2082   6030  2021-08-24  1429982308799553541   \n",
       "\n",
       "                                                  tweet     username  \\\n",
       "2078  The #1 Collection by Volume (last 10 mins):\\np...  spr3adsh33t   \n",
       "2079  Top 5 trending NFT collectibles on OpenSea ove...  JohnTodaro1   \n",
       "2080  The #1 Collection by Volume (last 10 mins):\\np...  spr3adsh33t   \n",
       "2081  The #1 Collection by Volume (last 10 mins):\\np...  spr3adsh33t   \n",
       "2082  The #1 Collection by Volume (last 10 mins):\\np...  spr3adsh33t   \n",
       "\n",
       "      retweets  likes    id  \\\n",
       "2078         0      2  5625   \n",
       "2079         0      4  5982   \n",
       "2080         0      0  5997   \n",
       "2081         0      0  5998   \n",
       "2082         0      0  6029   \n",
       "\n",
       "                                          tweet_cleaned  clusters  \\\n",
       "2078  collection volume last min parallel parallelal...         4   \n",
       "2079  top trending nft collectible opensea week cryp...         9   \n",
       "2080  collection volume last min parallel parallelal...         4   \n",
       "2081  collection volume last min parallel parallelal...         4   \n",
       "2082  collection volume last min parallel parallelal...         4   \n",
       "\n",
       "      popular_tweet  very_popular_tweet  word_count  \\\n",
       "2078          False               False          19   \n",
       "2079           True               False          18   \n",
       "2080          False               False          19   \n",
       "2081          False               False          19   \n",
       "2082          False               False          19   \n",
       "\n",
       "                                      sentiment_results  index  polarity  \\\n",
       "2078  {'polarity': 0.09375, 'subjectivity': 0.329166...   2078   0.09375   \n",
       "2079  {'polarity': -0.125, 'subjectivity': 0.575, 's...   2079  -0.12500   \n",
       "2080  {'polarity': 0.09375, 'subjectivity': 0.329166...   2080   0.09375   \n",
       "2081  {'polarity': 0.09375, 'subjectivity': 0.329166...   2081   0.09375   \n",
       "2082  {'polarity': 0.09375, 'subjectivity': 0.329166...   2082   0.09375   \n",
       "\n",
       "      subjectivity sentiment  \n",
       "2078      0.329167  Positive  \n",
       "2079      0.575000  Negative  \n",
       "2080      0.329167  Positive  \n",
       "2081      0.329167  Positive  \n",
       "2082      0.329167  Positive  "
      ]
     },
     "execution_count": 32,
     "metadata": {},
     "output_type": "execute_result"
    }
   ],
   "source": [
    "tweets.tail()"
   ]
  },
  {
   "cell_type": "code",
   "execution_count": 33,
   "id": "dea60bdb",
   "metadata": {},
   "outputs": [
    {
     "data": {
      "text/plain": [
       "index                 0\n",
       "date                  0\n",
       "tweet_id              0\n",
       "tweet                 0\n",
       "username              0\n",
       "retweets              0\n",
       "likes                 0\n",
       "id                    0\n",
       "tweet_cleaned         0\n",
       "clusters              0\n",
       "popular_tweet         0\n",
       "very_popular_tweet    0\n",
       "word_count            0\n",
       "sentiment_results     0\n",
       "index                 0\n",
       "polarity              0\n",
       "subjectivity          0\n",
       "sentiment             0\n",
       "dtype: int64"
      ]
     },
     "execution_count": 33,
     "metadata": {},
     "output_type": "execute_result"
    }
   ],
   "source": [
    "tweets.isnull().sum()"
   ]
  },
  {
   "cell_type": "code",
   "execution_count": 34,
   "id": "358983e4",
   "metadata": {},
   "outputs": [],
   "source": [
    "#obtaining how readable a tweet is\n",
    "tweets['readability']=[flesch_reading_ease(i) for i in tweets['tweet_cleaned'].apply(str)]"
   ]
  },
  {
   "cell_type": "code",
   "execution_count": 35,
   "id": "8282fffb",
   "metadata": {},
   "outputs": [
    {
     "data": {
      "text/plain": [
       "<AxesSubplot:>"
      ]
     },
     "execution_count": 35,
     "metadata": {},
     "output_type": "execute_result"
    },
    {
     "data": {
      "image/png": "[encoded data removed]",
      "text/plain": [
       "<Figure size 720x576 with 1 Axes>"
      ]
     },
     "metadata": {
      "needs_background": "light"
     },
     "output_type": "display_data"
    }
   ],
   "source": [
    "tweets['readability'].hist()"
   ]
  },
  {
   "cell_type": "markdown",
   "id": "0e9fa66e",
   "metadata": {},
   "source": [
    "#### Higher scores indicate material that is easier to read, lower numbers mark harder-to-read passages: 0-30 College , 50-60 High school , 60+ Fourth grade\n",
    "#### It can be seen that most of the readability scores are around 40 to 60, which means that an average high school student can read and understand these tweets"
   ]
  },
  {
   "cell_type": "code",
   "execution_count": 36,
   "id": "62655383",
   "metadata": {},
   "outputs": [
    {
     "data": {
      "text/html": [
       "<div>\n",
       "<style scoped>\n",
       "    .dataframe tbody tr th:only-of-type {\n",
       "        vertical-align: middle;\n",
       "    }\n",
       "\n",
       "    .dataframe tbody tr th {\n",
       "        vertical-align: top;\n",
       "    }\n",
       "\n",
       "    .dataframe thead th {\n",
       "        text-align: right;\n",
       "    }\n",
       "</style>\n",
       "<table border=\"1\" class=\"dataframe\">\n",
       "  <thead>\n",
       "    <tr style=\"text-align: right;\">\n",
       "      <th></th>\n",
       "      <th>index</th>\n",
       "      <th>date</th>\n",
       "      <th>tweet_id</th>\n",
       "      <th>tweet</th>\n",
       "      <th>username</th>\n",
       "      <th>retweets</th>\n",
       "      <th>likes</th>\n",
       "      <th>id</th>\n",
       "      <th>tweet_cleaned</th>\n",
       "      <th>clusters</th>\n",
       "      <th>popular_tweet</th>\n",
       "      <th>very_popular_tweet</th>\n",
       "      <th>word_count</th>\n",
       "      <th>sentiment_results</th>\n",
       "      <th>index</th>\n",
       "      <th>polarity</th>\n",
       "      <th>subjectivity</th>\n",
       "      <th>sentiment</th>\n",
       "      <th>readability</th>\n",
       "    </tr>\n",
       "  </thead>\n",
       "  <tbody>\n",
       "    <tr>\n",
       "      <th>0</th>\n",
       "      <td>0</td>\n",
       "      <td>2022-04-16</td>\n",
       "      <td>1515284652889722880</td>\n",
       "      <td>Royal Society of Players: 0.12 Ξ\\nRumble Kong ...</td>\n",
       "      <td>nftflooralerts</td>\n",
       "      <td>0</td>\n",
       "      <td>0</td>\n",
       "      <td>1</td>\n",
       "      <td>royal society player rumble kong league lazy l...</td>\n",
       "      <td>2</td>\n",
       "      <td>False</td>\n",
       "      <td>False</td>\n",
       "      <td>23</td>\n",
       "      <td>{'polarity': -0.125, 'subjectivity': 0.5, 'sen...</td>\n",
       "      <td>0</td>\n",
       "      <td>-0.125</td>\n",
       "      <td>0.5</td>\n",
       "      <td>Negative</td>\n",
       "      <td>22.75</td>\n",
       "    </tr>\n",
       "    <tr>\n",
       "      <th>1</th>\n",
       "      <td>6</td>\n",
       "      <td>2022-04-16</td>\n",
       "      <td>1515194035568361475</td>\n",
       "      <td>Royal Society of Players: 0.12 Ξ\\nRumble Kong ...</td>\n",
       "      <td>nftflooralerts</td>\n",
       "      <td>0</td>\n",
       "      <td>1</td>\n",
       "      <td>7</td>\n",
       "      <td>royal society player rumble kong league lazy l...</td>\n",
       "      <td>2</td>\n",
       "      <td>False</td>\n",
       "      <td>False</td>\n",
       "      <td>23</td>\n",
       "      <td>{'polarity': -0.125, 'subjectivity': 0.5, 'sen...</td>\n",
       "      <td>1</td>\n",
       "      <td>-0.125</td>\n",
       "      <td>0.5</td>\n",
       "      <td>Negative</td>\n",
       "      <td>22.75</td>\n",
       "    </tr>\n",
       "    <tr>\n",
       "      <th>2</th>\n",
       "      <td>10</td>\n",
       "      <td>2022-04-15</td>\n",
       "      <td>1515103488518283278</td>\n",
       "      <td>Royal Society of Players: 0.12 Ξ\\nRumble Kong ...</td>\n",
       "      <td>nftflooralerts</td>\n",
       "      <td>0</td>\n",
       "      <td>0</td>\n",
       "      <td>11</td>\n",
       "      <td>royal society player rumble kong league lazy l...</td>\n",
       "      <td>2</td>\n",
       "      <td>False</td>\n",
       "      <td>False</td>\n",
       "      <td>23</td>\n",
       "      <td>{'polarity': -0.125, 'subjectivity': 0.5, 'sen...</td>\n",
       "      <td>2</td>\n",
       "      <td>-0.125</td>\n",
       "      <td>0.5</td>\n",
       "      <td>Negative</td>\n",
       "      <td>22.75</td>\n",
       "    </tr>\n",
       "    <tr>\n",
       "      <th>3</th>\n",
       "      <td>14</td>\n",
       "      <td>2022-04-15</td>\n",
       "      <td>1515012912376602624</td>\n",
       "      <td>Royal Society of Players: 0.12 Ξ\\nRumble Kong ...</td>\n",
       "      <td>nftflooralerts</td>\n",
       "      <td>0</td>\n",
       "      <td>0</td>\n",
       "      <td>15</td>\n",
       "      <td>royal society player rumble kong league lazy l...</td>\n",
       "      <td>2</td>\n",
       "      <td>False</td>\n",
       "      <td>False</td>\n",
       "      <td>23</td>\n",
       "      <td>{'polarity': -0.125, 'subjectivity': 0.5, 'sen...</td>\n",
       "      <td>3</td>\n",
       "      <td>-0.125</td>\n",
       "      <td>0.5</td>\n",
       "      <td>Negative</td>\n",
       "      <td>22.75</td>\n",
       "    </tr>\n",
       "    <tr>\n",
       "      <th>4</th>\n",
       "      <td>22</td>\n",
       "      <td>2022-04-15</td>\n",
       "      <td>1514922259210776584</td>\n",
       "      <td>Royal Society of Players: 0.12 Ξ\\nRumble Kong ...</td>\n",
       "      <td>nftflooralerts</td>\n",
       "      <td>0</td>\n",
       "      <td>1</td>\n",
       "      <td>23</td>\n",
       "      <td>royal society player rumble kong league lazy l...</td>\n",
       "      <td>2</td>\n",
       "      <td>False</td>\n",
       "      <td>False</td>\n",
       "      <td>23</td>\n",
       "      <td>{'polarity': -0.125, 'subjectivity': 0.5, 'sen...</td>\n",
       "      <td>4</td>\n",
       "      <td>-0.125</td>\n",
       "      <td>0.5</td>\n",
       "      <td>Negative</td>\n",
       "      <td>22.75</td>\n",
       "    </tr>\n",
       "  </tbody>\n",
       "</table>\n",
       "</div>"
      ],
      "text/plain": [
       "   index        date             tweet_id  \\\n",
       "0      0  2022-04-16  1515284652889722880   \n",
       "1      6  2022-04-16  1515194035568361475   \n",
       "2     10  2022-04-15  1515103488518283278   \n",
       "3     14  2022-04-15  1515012912376602624   \n",
       "4     22  2022-04-15  1514922259210776584   \n",
       "\n",
       "                                               tweet        username  \\\n",
       "0  Royal Society of Players: 0.12 Ξ\\nRumble Kong ...  nftflooralerts   \n",
       "1  Royal Society of Players: 0.12 Ξ\\nRumble Kong ...  nftflooralerts   \n",
       "2  Royal Society of Players: 0.12 Ξ\\nRumble Kong ...  nftflooralerts   \n",
       "3  Royal Society of Players: 0.12 Ξ\\nRumble Kong ...  nftflooralerts   \n",
       "4  Royal Society of Players: 0.12 Ξ\\nRumble Kong ...  nftflooralerts   \n",
       "\n",
       "   retweets  likes  id                                      tweet_cleaned  \\\n",
       "0         0      0   1  royal society player rumble kong league lazy l...   \n",
       "1         0      1   7  royal society player rumble kong league lazy l...   \n",
       "2         0      0  11  royal society player rumble kong league lazy l...   \n",
       "3         0      0  15  royal society player rumble kong league lazy l...   \n",
       "4         0      1  23  royal society player rumble kong league lazy l...   \n",
       "\n",
       "   clusters  popular_tweet  very_popular_tweet  word_count  \\\n",
       "0         2          False               False          23   \n",
       "1         2          False               False          23   \n",
       "2         2          False               False          23   \n",
       "3         2          False               False          23   \n",
       "4         2          False               False          23   \n",
       "\n",
       "                                   sentiment_results  index  polarity  \\\n",
       "0  {'polarity': -0.125, 'subjectivity': 0.5, 'sen...      0    -0.125   \n",
       "1  {'polarity': -0.125, 'subjectivity': 0.5, 'sen...      1    -0.125   \n",
       "2  {'polarity': -0.125, 'subjectivity': 0.5, 'sen...      2    -0.125   \n",
       "3  {'polarity': -0.125, 'subjectivity': 0.5, 'sen...      3    -0.125   \n",
       "4  {'polarity': -0.125, 'subjectivity': 0.5, 'sen...      4    -0.125   \n",
       "\n",
       "   subjectivity sentiment  readability  \n",
       "0           0.5  Negative        22.75  \n",
       "1           0.5  Negative        22.75  \n",
       "2           0.5  Negative        22.75  \n",
       "3           0.5  Negative        22.75  \n",
       "4           0.5  Negative        22.75  "
      ]
     },
     "execution_count": 36,
     "metadata": {},
     "output_type": "execute_result"
    }
   ],
   "source": [
    "tweets.head()"
   ]
  },
  {
   "cell_type": "code",
   "execution_count": 37,
   "id": "a1e6fa13",
   "metadata": {},
   "outputs": [],
   "source": [
    "df = tweets.copy()"
   ]
  },
  {
   "cell_type": "code",
   "execution_count": 38,
   "id": "536a837d",
   "metadata": {},
   "outputs": [
    {
     "name": "stderr",
     "output_type": "stream",
     "text": [
      "Series.dt.weekofyear and Series.dt.week have been deprecated. Please use Series.dt.isocalendar().week instead.\n"
     ]
    }
   ],
   "source": [
    "#obtaining datetime components\n",
    "df['date']=pd.to_datetime(df['date'])\n",
    "df['day']=df['date'].dt.day\n",
    "df['week']=df['date'].dt.week\n",
    "df['month']=df['date'].dt.month"
   ]
  },
  {
   "cell_type": "code",
   "execution_count": 39,
   "id": "26a16ad0",
   "metadata": {},
   "outputs": [
    {
     "data": {
      "text/plain": [
       "<AxesSubplot:>"
      ]
     },
     "execution_count": 39,
     "metadata": {},
     "output_type": "execute_result"
    },
    {
     "data": {
      "image/png": "[encoded data removed]",
      "text/plain": [
       "<Figure size 720x576 with 1 Axes>"
      ]
     },
     "metadata": {
      "needs_background": "light"
     },
     "output_type": "display_data"
    }
   ],
   "source": [
    "df['word_count'].hist()"
   ]
  },
  {
   "cell_type": "markdown",
   "id": "44291786",
   "metadata": {},
   "source": [
    "#### Most tweets were around 22 words long, and majority of the tweets contained words fewer than 20"
   ]
  },
  {
   "cell_type": "code",
   "execution_count": 40,
   "id": "47aa6d43",
   "metadata": {},
   "outputs": [
    {
     "data": {
      "image/png": "[encoded data removed]",
      "text/plain": [
       "<Figure size 1152x576 with 1 Axes>"
      ]
     },
     "metadata": {
      "needs_background": "light"
     },
     "output_type": "display_data"
    }
   ],
   "source": [
    "plt.figure(figsize=(16,8))\n",
    "df['month'].value_counts().plot(kind='bar')\n",
    "plt.title('Number of Tweets per month')\n",
    "plt.xlabel('month')\n",
    "plt.ylabel('Number of tweets');"
   ]
  },
  {
   "cell_type": "markdown",
   "id": "3a24d507",
   "metadata": {},
   "source": [
    "#### November was the month with the highest number of tweets on parallel alpha, with august being the least per the data we have\n",
    "#### Parallel Alpha reached its highest peak in november, thats why there is an overwhelming number of tweets in november than other months"
   ]
  },
  {
   "cell_type": "code",
   "execution_count": 41,
   "id": "518e84a2",
   "metadata": {},
   "outputs": [
    {
     "name": "stderr",
     "output_type": "stream",
     "text": [
      "pandas only support SQLAlchemy connectable(engine/connection) ordatabase string URI or sqlite3 DBAPI2 connectionother DBAPI2 objects are not tested, please consider using SQLAlchemy\n"
     ]
    },
    {
     "data": {
      "text/html": [
       "<div>\n",
       "<style scoped>\n",
       "    .dataframe tbody tr th:only-of-type {\n",
       "        vertical-align: middle;\n",
       "    }\n",
       "\n",
       "    .dataframe tbody tr th {\n",
       "        vertical-align: top;\n",
       "    }\n",
       "\n",
       "    .dataframe thead th {\n",
       "        text-align: right;\n",
       "    }\n",
       "</style>\n",
       "<table border=\"1\" class=\"dataframe\">\n",
       "  <thead>\n",
       "    <tr style=\"text-align: right;\">\n",
       "      <th></th>\n",
       "      <th>chain</th>\n",
       "      <th>collectionaddress</th>\n",
       "      <th>collectionname</th>\n",
       "      <th>exchange</th>\n",
       "      <th>logindex</th>\n",
       "      <th>maker</th>\n",
       "      <th>price</th>\n",
       "      <th>quotecurrency</th>\n",
       "      <th>side</th>\n",
       "      <th>taker</th>\n",
       "      <th>thumbnailurl</th>\n",
       "      <th>timestamp</th>\n",
       "      <th>tokenid</th>\n",
       "      <th>tx</th>\n",
       "      <th>txindex</th>\n",
       "      <th>id</th>\n",
       "    </tr>\n",
       "  </thead>\n",
       "  <tbody>\n",
       "    <tr>\n",
       "      <th>131357</th>\n",
       "      <td>eth</td>\n",
       "      <td>0x76be3b62873462d2142405439777e971754e8e77</td>\n",
       "      <td>Parallel Alpha</td>\n",
       "      <td>opensea</td>\n",
       "      <td>153</td>\n",
       "      <td>0xe20f75642b97c11af651a81afcbbc6d7b4e32981</td>\n",
       "      <td>0.4200</td>\n",
       "      <td>ETH</td>\n",
       "      <td>buy</td>\n",
       "      <td>0xa8c045e857c1c4550119b612f22c3b27ece10340</td>\n",
       "      <td>https://storage.googleapis.com/parsec-nft-stor...</td>\n",
       "      <td>1625339709</td>\n",
       "      <td>87.0</td>\n",
       "      <td>0x2b9d31835cc90cf9206534c7da9dffd7edfbd4b900b4...</td>\n",
       "      <td>76.0</td>\n",
       "      <td>131358</td>\n",
       "    </tr>\n",
       "    <tr>\n",
       "      <th>131358</th>\n",
       "      <td>eth</td>\n",
       "      <td>0x76be3b62873462d2142405439777e971754e8e77</td>\n",
       "      <td>Parallel Alpha</td>\n",
       "      <td>opensea</td>\n",
       "      <td>-1</td>\n",
       "      <td>0xc8301d3780efff7ee9fc579ab3b78aa5d6885a0a</td>\n",
       "      <td>0.4500</td>\n",
       "      <td>ETH</td>\n",
       "      <td>buy</td>\n",
       "      <td>0x41797b5e0398af475422f6f33f2dc81d9a24ae33</td>\n",
       "      <td>https://storage.googleapis.com/parsec-nft-stor...</td>\n",
       "      <td>1625323718</td>\n",
       "      <td>87.0</td>\n",
       "      <td>0x03d2923e72231726b99cda79073188cfb19195595530...</td>\n",
       "      <td>59.0</td>\n",
       "      <td>131359</td>\n",
       "    </tr>\n",
       "    <tr>\n",
       "      <th>131359</th>\n",
       "      <td>eth</td>\n",
       "      <td>0x76be3b62873462d2142405439777e971754e8e77</td>\n",
       "      <td>Parallel Alpha</td>\n",
       "      <td>opensea</td>\n",
       "      <td>193</td>\n",
       "      <td>0xe20f75642b97c11af651a81afcbbc6d7b4e32981</td>\n",
       "      <td>0.3800</td>\n",
       "      <td>ETH</td>\n",
       "      <td>buy</td>\n",
       "      <td>0xf2327b04521589f505c7074c163805843a4bd6cd</td>\n",
       "      <td>https://storage.googleapis.com/parsec-nft-stor...</td>\n",
       "      <td>1625275386</td>\n",
       "      <td>87.0</td>\n",
       "      <td>0xd3168d526e49d9f361e0f8d5dec7e7d5b91733f72b0e...</td>\n",
       "      <td>116.0</td>\n",
       "      <td>131360</td>\n",
       "    </tr>\n",
       "    <tr>\n",
       "      <th>131360</th>\n",
       "      <td>eth</td>\n",
       "      <td>0x76be3b62873462d2142405439777e971754e8e77</td>\n",
       "      <td>Parallel Alpha</td>\n",
       "      <td>opensea</td>\n",
       "      <td>198</td>\n",
       "      <td>0x52d7e31678d712ee8c15ca5af10babc257e5b61a</td>\n",
       "      <td>0.3500</td>\n",
       "      <td>ETH</td>\n",
       "      <td>buy</td>\n",
       "      <td>0x167539702b5501aadd9b0b85e53532fd57cc71a9</td>\n",
       "      <td>https://storage.googleapis.com/parsec-nft-stor...</td>\n",
       "      <td>1625220839</td>\n",
       "      <td>73.0</td>\n",
       "      <td>0x180169adcc282d403943b1a6c74a55c921547455adf4...</td>\n",
       "      <td>146.0</td>\n",
       "      <td>131361</td>\n",
       "    </tr>\n",
       "    <tr>\n",
       "      <th>131361</th>\n",
       "      <td>eth</td>\n",
       "      <td>0x76be3b62873462d2142405439777e971754e8e77</td>\n",
       "      <td>Parallel Alpha</td>\n",
       "      <td>opensea</td>\n",
       "      <td>75</td>\n",
       "      <td>0x98c45d5ea9ccd8278fe43ba740e967a49cd19e6e</td>\n",
       "      <td>0.0099</td>\n",
       "      <td>ETH</td>\n",
       "      <td>buy</td>\n",
       "      <td>0x1c73c6174eb2fddc2e0a702e85cd3146c05aa122</td>\n",
       "      <td>https://storage.googleapis.com/parsec-nft-stor...</td>\n",
       "      <td>1625177755</td>\n",
       "      <td>10089.0</td>\n",
       "      <td>0x56d15482b8e9433db79c4fcfb0788e384cb38ec027aa...</td>\n",
       "      <td>40.0</td>\n",
       "      <td>131362</td>\n",
       "    </tr>\n",
       "  </tbody>\n",
       "</table>\n",
       "</div>"
      ],
      "text/plain": [
       "       chain                           collectionaddress  collectionname  \\\n",
       "131357   eth  0x76be3b62873462d2142405439777e971754e8e77  Parallel Alpha   \n",
       "131358   eth  0x76be3b62873462d2142405439777e971754e8e77  Parallel Alpha   \n",
       "131359   eth  0x76be3b62873462d2142405439777e971754e8e77  Parallel Alpha   \n",
       "131360   eth  0x76be3b62873462d2142405439777e971754e8e77  Parallel Alpha   \n",
       "131361   eth  0x76be3b62873462d2142405439777e971754e8e77  Parallel Alpha   \n",
       "\n",
       "       exchange  logindex                                       maker   price  \\\n",
       "131357  opensea       153  0xe20f75642b97c11af651a81afcbbc6d7b4e32981  0.4200   \n",
       "131358  opensea        -1  0xc8301d3780efff7ee9fc579ab3b78aa5d6885a0a  0.4500   \n",
       "131359  opensea       193  0xe20f75642b97c11af651a81afcbbc6d7b4e32981  0.3800   \n",
       "131360  opensea       198  0x52d7e31678d712ee8c15ca5af10babc257e5b61a  0.3500   \n",
       "131361  opensea        75  0x98c45d5ea9ccd8278fe43ba740e967a49cd19e6e  0.0099   \n",
       "\n",
       "       quotecurrency side                                       taker  \\\n",
       "131357           ETH  buy  0xa8c045e857c1c4550119b612f22c3b27ece10340   \n",
       "131358           ETH  buy  0x41797b5e0398af475422f6f33f2dc81d9a24ae33   \n",
       "131359           ETH  buy  0xf2327b04521589f505c7074c163805843a4bd6cd   \n",
       "131360           ETH  buy  0x167539702b5501aadd9b0b85e53532fd57cc71a9   \n",
       "131361           ETH  buy  0x1c73c6174eb2fddc2e0a702e85cd3146c05aa122   \n",
       "\n",
       "                                             thumbnailurl   timestamp  \\\n",
       "131357  https://storage.googleapis.com/parsec-nft-stor...  1625339709   \n",
       "131358  https://storage.googleapis.com/parsec-nft-stor...  1625323718   \n",
       "131359  https://storage.googleapis.com/parsec-nft-stor...  1625275386   \n",
       "131360  https://storage.googleapis.com/parsec-nft-stor...  1625220839   \n",
       "131361  https://storage.googleapis.com/parsec-nft-stor...  1625177755   \n",
       "\n",
       "        tokenid                                                 tx  txindex  \\\n",
       "131357     87.0  0x2b9d31835cc90cf9206534c7da9dffd7edfbd4b900b4...     76.0   \n",
       "131358     87.0  0x03d2923e72231726b99cda79073188cfb19195595530...     59.0   \n",
       "131359     87.0  0xd3168d526e49d9f361e0f8d5dec7e7d5b91733f72b0e...    116.0   \n",
       "131360     73.0  0x180169adcc282d403943b1a6c74a55c921547455adf4...    146.0   \n",
       "131361  10089.0  0x56d15482b8e9433db79c4fcfb0788e384cb38ec027aa...     40.0   \n",
       "\n",
       "            id  \n",
       "131357  131358  \n",
       "131358  131359  \n",
       "131359  131360  \n",
       "131360  131361  \n",
       "131361  131362  "
      ]
     },
     "execution_count": 41,
     "metadata": {},
     "output_type": "execute_result"
    }
   ],
   "source": [
    "parallel=pd.read_sql_query(\"SELECT * FROM parallel_alpha_trades\",conn)\n",
    "parallel.tail()"
   ]
  },
  {
   "cell_type": "code",
   "execution_count": 42,
   "id": "dabe0172",
   "metadata": {},
   "outputs": [],
   "source": [
    "#obtain datetime from timestamp\n",
    "from datetime import datetime\n",
    "parallel['date']=parallel['timestamp'].apply(lambda x: datetime.utcfromtimestamp(x).strftime('%Y-%m-%d %H:%M:%S'))"
   ]
  },
  {
   "cell_type": "code",
   "execution_count": 43,
   "id": "01711de1",
   "metadata": {},
   "outputs": [],
   "source": [
    "parallel['date']=pd.to_datetime(parallel['date'])"
   ]
  },
  {
   "cell_type": "code",
   "execution_count": 44,
   "id": "056f8216",
   "metadata": {},
   "outputs": [
    {
     "data": {
      "text/html": [
       "<div>\n",
       "<style scoped>\n",
       "    .dataframe tbody tr th:only-of-type {\n",
       "        vertical-align: middle;\n",
       "    }\n",
       "\n",
       "    .dataframe tbody tr th {\n",
       "        vertical-align: top;\n",
       "    }\n",
       "\n",
       "    .dataframe thead th {\n",
       "        text-align: right;\n",
       "    }\n",
       "</style>\n",
       "<table border=\"1\" class=\"dataframe\">\n",
       "  <thead>\n",
       "    <tr style=\"text-align: right;\">\n",
       "      <th></th>\n",
       "      <th>index</th>\n",
       "      <th>date</th>\n",
       "      <th>tweet_id</th>\n",
       "      <th>tweet</th>\n",
       "      <th>username</th>\n",
       "      <th>retweets</th>\n",
       "      <th>likes</th>\n",
       "      <th>id</th>\n",
       "      <th>tweet_cleaned</th>\n",
       "      <th>clusters</th>\n",
       "      <th>popular_tweet</th>\n",
       "      <th>very_popular_tweet</th>\n",
       "      <th>word_count</th>\n",
       "      <th>sentiment_results</th>\n",
       "      <th>index</th>\n",
       "      <th>polarity</th>\n",
       "      <th>subjectivity</th>\n",
       "      <th>sentiment</th>\n",
       "      <th>readability</th>\n",
       "      <th>day</th>\n",
       "      <th>week</th>\n",
       "      <th>month</th>\n",
       "    </tr>\n",
       "  </thead>\n",
       "  <tbody>\n",
       "    <tr>\n",
       "      <th>0</th>\n",
       "      <td>0</td>\n",
       "      <td>2022-04-16</td>\n",
       "      <td>1515284652889722880</td>\n",
       "      <td>Royal Society of Players: 0.12 Ξ\\nRumble Kong ...</td>\n",
       "      <td>nftflooralerts</td>\n",
       "      <td>0</td>\n",
       "      <td>0</td>\n",
       "      <td>1</td>\n",
       "      <td>royal society player rumble kong league lazy l...</td>\n",
       "      <td>2</td>\n",
       "      <td>False</td>\n",
       "      <td>False</td>\n",
       "      <td>23</td>\n",
       "      <td>{'polarity': -0.125, 'subjectivity': 0.5, 'sen...</td>\n",
       "      <td>0</td>\n",
       "      <td>-0.125</td>\n",
       "      <td>0.5</td>\n",
       "      <td>Negative</td>\n",
       "      <td>22.75</td>\n",
       "      <td>16</td>\n",
       "      <td>15</td>\n",
       "      <td>4</td>\n",
       "    </tr>\n",
       "    <tr>\n",
       "      <th>1</th>\n",
       "      <td>6</td>\n",
       "      <td>2022-04-16</td>\n",
       "      <td>1515194035568361475</td>\n",
       "      <td>Royal Society of Players: 0.12 Ξ\\nRumble Kong ...</td>\n",
       "      <td>nftflooralerts</td>\n",
       "      <td>0</td>\n",
       "      <td>1</td>\n",
       "      <td>7</td>\n",
       "      <td>royal society player rumble kong league lazy l...</td>\n",
       "      <td>2</td>\n",
       "      <td>False</td>\n",
       "      <td>False</td>\n",
       "      <td>23</td>\n",
       "      <td>{'polarity': -0.125, 'subjectivity': 0.5, 'sen...</td>\n",
       "      <td>1</td>\n",
       "      <td>-0.125</td>\n",
       "      <td>0.5</td>\n",
       "      <td>Negative</td>\n",
       "      <td>22.75</td>\n",
       "      <td>16</td>\n",
       "      <td>15</td>\n",
       "      <td>4</td>\n",
       "    </tr>\n",
       "    <tr>\n",
       "      <th>2</th>\n",
       "      <td>10</td>\n",
       "      <td>2022-04-15</td>\n",
       "      <td>1515103488518283278</td>\n",
       "      <td>Royal Society of Players: 0.12 Ξ\\nRumble Kong ...</td>\n",
       "      <td>nftflooralerts</td>\n",
       "      <td>0</td>\n",
       "      <td>0</td>\n",
       "      <td>11</td>\n",
       "      <td>royal society player rumble kong league lazy l...</td>\n",
       "      <td>2</td>\n",
       "      <td>False</td>\n",
       "      <td>False</td>\n",
       "      <td>23</td>\n",
       "      <td>{'polarity': -0.125, 'subjectivity': 0.5, 'sen...</td>\n",
       "      <td>2</td>\n",
       "      <td>-0.125</td>\n",
       "      <td>0.5</td>\n",
       "      <td>Negative</td>\n",
       "      <td>22.75</td>\n",
       "      <td>15</td>\n",
       "      <td>15</td>\n",
       "      <td>4</td>\n",
       "    </tr>\n",
       "    <tr>\n",
       "      <th>3</th>\n",
       "      <td>14</td>\n",
       "      <td>2022-04-15</td>\n",
       "      <td>1515012912376602624</td>\n",
       "      <td>Royal Society of Players: 0.12 Ξ\\nRumble Kong ...</td>\n",
       "      <td>nftflooralerts</td>\n",
       "      <td>0</td>\n",
       "      <td>0</td>\n",
       "      <td>15</td>\n",
       "      <td>royal society player rumble kong league lazy l...</td>\n",
       "      <td>2</td>\n",
       "      <td>False</td>\n",
       "      <td>False</td>\n",
       "      <td>23</td>\n",
       "      <td>{'polarity': -0.125, 'subjectivity': 0.5, 'sen...</td>\n",
       "      <td>3</td>\n",
       "      <td>-0.125</td>\n",
       "      <td>0.5</td>\n",
       "      <td>Negative</td>\n",
       "      <td>22.75</td>\n",
       "      <td>15</td>\n",
       "      <td>15</td>\n",
       "      <td>4</td>\n",
       "    </tr>\n",
       "    <tr>\n",
       "      <th>4</th>\n",
       "      <td>22</td>\n",
       "      <td>2022-04-15</td>\n",
       "      <td>1514922259210776584</td>\n",
       "      <td>Royal Society of Players: 0.12 Ξ\\nRumble Kong ...</td>\n",
       "      <td>nftflooralerts</td>\n",
       "      <td>0</td>\n",
       "      <td>1</td>\n",
       "      <td>23</td>\n",
       "      <td>royal society player rumble kong league lazy l...</td>\n",
       "      <td>2</td>\n",
       "      <td>False</td>\n",
       "      <td>False</td>\n",
       "      <td>23</td>\n",
       "      <td>{'polarity': -0.125, 'subjectivity': 0.5, 'sen...</td>\n",
       "      <td>4</td>\n",
       "      <td>-0.125</td>\n",
       "      <td>0.5</td>\n",
       "      <td>Negative</td>\n",
       "      <td>22.75</td>\n",
       "      <td>15</td>\n",
       "      <td>15</td>\n",
       "      <td>4</td>\n",
       "    </tr>\n",
       "  </tbody>\n",
       "</table>\n",
       "</div>"
      ],
      "text/plain": [
       "   index       date             tweet_id  \\\n",
       "0      0 2022-04-16  1515284652889722880   \n",
       "1      6 2022-04-16  1515194035568361475   \n",
       "2     10 2022-04-15  1515103488518283278   \n",
       "3     14 2022-04-15  1515012912376602624   \n",
       "4     22 2022-04-15  1514922259210776584   \n",
       "\n",
       "                                               tweet        username  \\\n",
       "0  Royal Society of Players: 0.12 Ξ\\nRumble Kong ...  nftflooralerts   \n",
       "1  Royal Society of Players: 0.12 Ξ\\nRumble Kong ...  nftflooralerts   \n",
       "2  Royal Society of Players: 0.12 Ξ\\nRumble Kong ...  nftflooralerts   \n",
       "3  Royal Society of Players: 0.12 Ξ\\nRumble Kong ...  nftflooralerts   \n",
       "4  Royal Society of Players: 0.12 Ξ\\nRumble Kong ...  nftflooralerts   \n",
       "\n",
       "   retweets  likes  id                                      tweet_cleaned  \\\n",
       "0         0      0   1  royal society player rumble kong league lazy l...   \n",
       "1         0      1   7  royal society player rumble kong league lazy l...   \n",
       "2         0      0  11  royal society player rumble kong league lazy l...   \n",
       "3         0      0  15  royal society player rumble kong league lazy l...   \n",
       "4         0      1  23  royal society player rumble kong league lazy l...   \n",
       "\n",
       "   clusters  popular_tweet  very_popular_tweet  word_count  \\\n",
       "0         2          False               False          23   \n",
       "1         2          False               False          23   \n",
       "2         2          False               False          23   \n",
       "3         2          False               False          23   \n",
       "4         2          False               False          23   \n",
       "\n",
       "                                   sentiment_results  index  polarity  \\\n",
       "0  {'polarity': -0.125, 'subjectivity': 0.5, 'sen...      0    -0.125   \n",
       "1  {'polarity': -0.125, 'subjectivity': 0.5, 'sen...      1    -0.125   \n",
       "2  {'polarity': -0.125, 'subjectivity': 0.5, 'sen...      2    -0.125   \n",
       "3  {'polarity': -0.125, 'subjectivity': 0.5, 'sen...      3    -0.125   \n",
       "4  {'polarity': -0.125, 'subjectivity': 0.5, 'sen...      4    -0.125   \n",
       "\n",
       "   subjectivity sentiment  readability  day  week  month  \n",
       "0           0.5  Negative        22.75   16    15      4  \n",
       "1           0.5  Negative        22.75   16    15      4  \n",
       "2           0.5  Negative        22.75   15    15      4  \n",
       "3           0.5  Negative        22.75   15    15      4  \n",
       "4           0.5  Negative        22.75   15    15      4  "
      ]
     },
     "execution_count": 44,
     "metadata": {},
     "output_type": "execute_result"
    }
   ],
   "source": [
    "df.head()"
   ]
  },
  {
   "cell_type": "code",
   "execution_count": 45,
   "id": "3474b06b",
   "metadata": {},
   "outputs": [
    {
     "data": {
      "text/plain": [
       "(Timestamp('2021-08-24 00:00:00'), Timestamp('2022-04-16 00:00:00'))"
      ]
     },
     "execution_count": 45,
     "metadata": {},
     "output_type": "execute_result"
    }
   ],
   "source": [
    "df['date'].min(), df['date'].max()"
   ]
  },
  {
   "cell_type": "code",
   "execution_count": 46,
   "id": "2c4542b8",
   "metadata": {},
   "outputs": [
    {
     "data": {
      "text/plain": [
       "(Timestamp('2021-07-01 22:15:55'), Timestamp('2022-04-12 23:04:09'))"
      ]
     },
     "execution_count": 46,
     "metadata": {},
     "output_type": "execute_result"
    }
   ],
   "source": [
    "parallel['date'].min(), parallel['date'].max()"
   ]
  },
  {
   "cell_type": "code",
   "execution_count": 47,
   "id": "c5a80ecc",
   "metadata": {},
   "outputs": [],
   "source": [
    "#extracting for only relevant dates\n",
    "df=df[df['date']<='2022-04-12']\n",
    "parallel=parallel[parallel['date']>'2021-08-24']"
   ]
  },
  {
   "cell_type": "code",
   "execution_count": 48,
   "id": "ca6b40ca",
   "metadata": {},
   "outputs": [
    {
     "data": {
      "text/plain": [
       "1883"
      ]
     },
     "execution_count": 48,
     "metadata": {},
     "output_type": "execute_result"
    }
   ],
   "source": [
    "len(df)"
   ]
  },
  {
   "cell_type": "code",
   "execution_count": 49,
   "id": "0f6f678f",
   "metadata": {},
   "outputs": [
    {
     "data": {
      "text/plain": [
       "index                 0\n",
       "date                  0\n",
       "tweet_id              0\n",
       "tweet                 0\n",
       "username              0\n",
       "retweets              0\n",
       "likes                 0\n",
       "id                    0\n",
       "tweet_cleaned         0\n",
       "clusters              0\n",
       "popular_tweet         0\n",
       "very_popular_tweet    0\n",
       "word_count            0\n",
       "sentiment_results     0\n",
       "index                 0\n",
       "polarity              0\n",
       "subjectivity          0\n",
       "sentiment             0\n",
       "readability           0\n",
       "day                   0\n",
       "week                  0\n",
       "month                 0\n",
       "dtype: int64"
      ]
     },
     "execution_count": 49,
     "metadata": {},
     "output_type": "execute_result"
    }
   ],
   "source": [
    "df.isnull().sum()"
   ]
  },
  {
   "cell_type": "code",
   "execution_count": 50,
   "id": "1b5157ac",
   "metadata": {},
   "outputs": [],
   "source": [
    "#querying for only prices above 0.2 and under 2\n",
    "parallel=parallel[(parallel['price']>0.2)&(parallel['price']<2)]"
   ]
  },
  {
   "cell_type": "markdown",
   "id": "c5926331",
   "metadata": {},
   "source": [
    "### Week level Aggregation of data"
   ]
  },
  {
   "cell_type": "code",
   "execution_count": 51,
   "id": "c6429b2f",
   "metadata": {},
   "outputs": [],
   "source": [
    "#aggregating financial data to weekly\n",
    "parallel=parallel.groupby([pd.Grouper(key='date', freq='w-tue'),  'collectionname']).agg({\n",
    "    'maker':['nunique'],\n",
    "    'taker':['nunique'],\n",
    "    'thumbnailurl':['nunique'],\n",
    "    'tx':['nunique'],\n",
    "    'price':['mean']})"
   ]
  },
  {
   "cell_type": "code",
   "execution_count": 52,
   "id": "8bbccb5e",
   "metadata": {
    "scrolled": true
   },
   "outputs": [
    {
     "data": {
      "text/html": [
       "<div>\n",
       "<style scoped>\n",
       "    .dataframe tbody tr th:only-of-type {\n",
       "        vertical-align: middle;\n",
       "    }\n",
       "\n",
       "    .dataframe tbody tr th {\n",
       "        vertical-align: top;\n",
       "    }\n",
       "\n",
       "    .dataframe thead th {\n",
       "        text-align: right;\n",
       "    }\n",
       "</style>\n",
       "<table border=\"1\" class=\"dataframe\">\n",
       "  <thead>\n",
       "    <tr style=\"text-align: right;\">\n",
       "      <th></th>\n",
       "      <th>index</th>\n",
       "      <th>date</th>\n",
       "      <th>tweet_id</th>\n",
       "      <th>tweet</th>\n",
       "      <th>username</th>\n",
       "      <th>retweets</th>\n",
       "      <th>likes</th>\n",
       "      <th>id</th>\n",
       "      <th>tweet_cleaned</th>\n",
       "      <th>clusters</th>\n",
       "      <th>popular_tweet</th>\n",
       "      <th>very_popular_tweet</th>\n",
       "      <th>word_count</th>\n",
       "      <th>sentiment_results</th>\n",
       "      <th>index</th>\n",
       "      <th>polarity</th>\n",
       "      <th>subjectivity</th>\n",
       "      <th>sentiment</th>\n",
       "      <th>readability</th>\n",
       "      <th>day</th>\n",
       "      <th>week</th>\n",
       "      <th>month</th>\n",
       "    </tr>\n",
       "  </thead>\n",
       "  <tbody>\n",
       "    <tr>\n",
       "      <th>200</th>\n",
       "      <td>240</td>\n",
       "      <td>2022-04-12</td>\n",
       "      <td>1514016287831334916</td>\n",
       "      <td>Royal Society of Players: 0.12 Ξ\\nRumble Kong ...</td>\n",
       "      <td>nftflooralerts</td>\n",
       "      <td>0</td>\n",
       "      <td>1</td>\n",
       "      <td>240</td>\n",
       "      <td>royal society player rumble kong league lazy l...</td>\n",
       "      <td>2</td>\n",
       "      <td>False</td>\n",
       "      <td>False</td>\n",
       "      <td>23</td>\n",
       "      <td>{'polarity': -0.125, 'subjectivity': 0.5, 'sen...</td>\n",
       "      <td>200</td>\n",
       "      <td>-0.125</td>\n",
       "      <td>0.5</td>\n",
       "      <td>Negative</td>\n",
       "      <td>22.75</td>\n",
       "      <td>12</td>\n",
       "      <td>15</td>\n",
       "      <td>4</td>\n",
       "    </tr>\n",
       "  </tbody>\n",
       "</table>\n",
       "</div>"
      ],
      "text/plain": [
       "     index       date             tweet_id  \\\n",
       "200    240 2022-04-12  1514016287831334916   \n",
       "\n",
       "                                                 tweet        username  \\\n",
       "200  Royal Society of Players: 0.12 Ξ\\nRumble Kong ...  nftflooralerts   \n",
       "\n",
       "     retweets  likes   id                                      tweet_cleaned  \\\n",
       "200         0      1  240  royal society player rumble kong league lazy l...   \n",
       "\n",
       "     clusters  popular_tweet  very_popular_tweet  word_count  \\\n",
       "200         2          False               False          23   \n",
       "\n",
       "                                     sentiment_results  index  polarity  \\\n",
       "200  {'polarity': -0.125, 'subjectivity': 0.5, 'sen...    200    -0.125   \n",
       "\n",
       "     subjectivity sentiment  readability  day  week  month  \n",
       "200           0.5  Negative        22.75   12    15      4  "
      ]
     },
     "execution_count": 52,
     "metadata": {},
     "output_type": "execute_result"
    }
   ],
   "source": [
    "df.head(1)"
   ]
  },
  {
   "cell_type": "code",
   "execution_count": 53,
   "id": "c7a7d38f",
   "metadata": {},
   "outputs": [],
   "source": [
    "#aggregating twitter data to weekly\n",
    "agg_df=df.groupby([pd.Grouper(key='date', freq='w-tue')]).agg({\n",
    "    'word_count':['mean'],\n",
    "    'popular_tweet':'first',\n",
    "    'very_popular_tweet':'first',\n",
    "    'readability':['mean'],\n",
    "    'sentiment':'first'})"
   ]
  },
  {
   "cell_type": "code",
   "execution_count": 54,
   "id": "fcc418c2",
   "metadata": {},
   "outputs": [
    {
     "data": {
      "text/plain": [
       "(34, 34)"
      ]
     },
     "execution_count": 54,
     "metadata": {},
     "output_type": "execute_result"
    }
   ],
   "source": [
    "len(agg_df),len(parallel)"
   ]
  },
  {
   "cell_type": "code",
   "execution_count": 55,
   "id": "5e4dbe5b",
   "metadata": {},
   "outputs": [],
   "source": [
    "def flatten_columns(df, prefix=''):\n",
    "    columns = []\n",
    "    for cs in df:\n",
    "        if type(cs) is str:\n",
    "            cs = re.sub('\\W+','_', cs)\n",
    "        elif type(cs) is not list and type(cs) is not tuple:\n",
    "            print (cs)\n",
    "            cs = str(cs)\n",
    "        else:\n",
    "            cs = re.sub(\"\\W+\", \"\", \"\".join([str(c) for c in cs]))\n",
    "        cs = cs.lower()\n",
    "        if prefix:\n",
    "            cs = prefix + '' + cs\n",
    "        cs = re.sub('\\+$', '', cs)\n",
    "        columns.append(cs)\n",
    "    return columns"
   ]
  },
  {
   "cell_type": "code",
   "execution_count": 56,
   "id": "27bbba81",
   "metadata": {},
   "outputs": [],
   "source": [
    "agg_df.columns=flatten_columns(agg_df)\n",
    "parallel.columns=flatten_columns(parallel)"
   ]
  },
  {
   "cell_type": "code",
   "execution_count": 57,
   "id": "924bb706",
   "metadata": {},
   "outputs": [],
   "source": [
    "agg_df=agg_df.reset_index()\n",
    "parallel=parallel.reset_index()"
   ]
  },
  {
   "cell_type": "code",
   "execution_count": 58,
   "id": "8f24f1e9",
   "metadata": {},
   "outputs": [
    {
     "data": {
      "text/html": [
       "<div>\n",
       "<style scoped>\n",
       "    .dataframe tbody tr th:only-of-type {\n",
       "        vertical-align: middle;\n",
       "    }\n",
       "\n",
       "    .dataframe tbody tr th {\n",
       "        vertical-align: top;\n",
       "    }\n",
       "\n",
       "    .dataframe thead th {\n",
       "        text-align: right;\n",
       "    }\n",
       "</style>\n",
       "<table border=\"1\" class=\"dataframe\">\n",
       "  <thead>\n",
       "    <tr style=\"text-align: right;\">\n",
       "      <th></th>\n",
       "      <th>index</th>\n",
       "      <th>date</th>\n",
       "      <th>tweet_id</th>\n",
       "      <th>tweet</th>\n",
       "      <th>username</th>\n",
       "      <th>retweets</th>\n",
       "      <th>likes</th>\n",
       "      <th>id</th>\n",
       "      <th>tweet_cleaned</th>\n",
       "      <th>clusters</th>\n",
       "      <th>popular_tweet</th>\n",
       "      <th>very_popular_tweet</th>\n",
       "      <th>word_count</th>\n",
       "      <th>sentiment_results</th>\n",
       "      <th>index</th>\n",
       "      <th>polarity</th>\n",
       "      <th>subjectivity</th>\n",
       "      <th>sentiment</th>\n",
       "      <th>readability</th>\n",
       "      <th>day</th>\n",
       "      <th>week</th>\n",
       "      <th>month</th>\n",
       "    </tr>\n",
       "  </thead>\n",
       "  <tbody>\n",
       "    <tr>\n",
       "      <th>200</th>\n",
       "      <td>240</td>\n",
       "      <td>2022-04-12</td>\n",
       "      <td>1514016287831334916</td>\n",
       "      <td>Royal Society of Players: 0.12 Ξ\\nRumble Kong ...</td>\n",
       "      <td>nftflooralerts</td>\n",
       "      <td>0</td>\n",
       "      <td>1</td>\n",
       "      <td>240</td>\n",
       "      <td>royal society player rumble kong league lazy l...</td>\n",
       "      <td>2</td>\n",
       "      <td>False</td>\n",
       "      <td>False</td>\n",
       "      <td>23</td>\n",
       "      <td>{'polarity': -0.125, 'subjectivity': 0.5, 'sen...</td>\n",
       "      <td>200</td>\n",
       "      <td>-0.125</td>\n",
       "      <td>0.5</td>\n",
       "      <td>Negative</td>\n",
       "      <td>22.75</td>\n",
       "      <td>12</td>\n",
       "      <td>15</td>\n",
       "      <td>4</td>\n",
       "    </tr>\n",
       "    <tr>\n",
       "      <th>201</th>\n",
       "      <td>243</td>\n",
       "      <td>2022-04-12</td>\n",
       "      <td>1513925715783299074</td>\n",
       "      <td>Royal Society of Players: 0.12 Ξ\\nRumble Kong ...</td>\n",
       "      <td>nftflooralerts</td>\n",
       "      <td>1</td>\n",
       "      <td>2</td>\n",
       "      <td>243</td>\n",
       "      <td>royal society player rumble kong league lazy l...</td>\n",
       "      <td>2</td>\n",
       "      <td>True</td>\n",
       "      <td>False</td>\n",
       "      <td>23</td>\n",
       "      <td>{'polarity': -0.125, 'subjectivity': 0.5, 'sen...</td>\n",
       "      <td>201</td>\n",
       "      <td>-0.125</td>\n",
       "      <td>0.5</td>\n",
       "      <td>Negative</td>\n",
       "      <td>22.75</td>\n",
       "      <td>12</td>\n",
       "      <td>15</td>\n",
       "      <td>4</td>\n",
       "    </tr>\n",
       "    <tr>\n",
       "      <th>202</th>\n",
       "      <td>244</td>\n",
       "      <td>2022-04-12</td>\n",
       "      <td>1513903051542773760</td>\n",
       "      <td>Parallel Alpha was just listed for 0.17 ETH. \\...</td>\n",
       "      <td>nft_watcher_bot</td>\n",
       "      <td>0</td>\n",
       "      <td>3</td>\n",
       "      <td>244</td>\n",
       "      <td>parallel alpha listed eth http co ba bzrcpo nf...</td>\n",
       "      <td>1</td>\n",
       "      <td>True</td>\n",
       "      <td>False</td>\n",
       "      <td>14</td>\n",
       "      <td>{'polarity': 0.0, 'subjectivity': 0.0, 'sentim...</td>\n",
       "      <td>202</td>\n",
       "      <td>0.000</td>\n",
       "      <td>0.0</td>\n",
       "      <td>Neutral</td>\n",
       "      <td>48.81</td>\n",
       "      <td>12</td>\n",
       "      <td>15</td>\n",
       "      <td>4</td>\n",
       "    </tr>\n",
       "    <tr>\n",
       "      <th>203</th>\n",
       "      <td>245</td>\n",
       "      <td>2022-04-12</td>\n",
       "      <td>1513902025116901378</td>\n",
       "      <td>Parallel Alpha was just listed for 0.0014 ETH....</td>\n",
       "      <td>nft_watcher_bot</td>\n",
       "      <td>0</td>\n",
       "      <td>1</td>\n",
       "      <td>245</td>\n",
       "      <td>parallel alpha listed eth http co z ow l saw n...</td>\n",
       "      <td>1</td>\n",
       "      <td>False</td>\n",
       "      <td>False</td>\n",
       "      <td>16</td>\n",
       "      <td>{'polarity': 0.0, 'subjectivity': 0.0, 'sentim...</td>\n",
       "      <td>203</td>\n",
       "      <td>0.000</td>\n",
       "      <td>0.0</td>\n",
       "      <td>Neutral</td>\n",
       "      <td>55.24</td>\n",
       "      <td>12</td>\n",
       "      <td>15</td>\n",
       "      <td>4</td>\n",
       "    </tr>\n",
       "    <tr>\n",
       "      <th>204</th>\n",
       "      <td>246</td>\n",
       "      <td>2022-04-12</td>\n",
       "      <td>1513899787468292102</td>\n",
       "      <td>Parallel Alpha was just listed for 0.027 ETH. ...</td>\n",
       "      <td>nft_watcher_bot</td>\n",
       "      <td>0</td>\n",
       "      <td>0</td>\n",
       "      <td>246</td>\n",
       "      <td>parallel alpha listed eth http co kfmx cp nft ...</td>\n",
       "      <td>1</td>\n",
       "      <td>False</td>\n",
       "      <td>False</td>\n",
       "      <td>14</td>\n",
       "      <td>{'polarity': 0.0, 'subjectivity': 0.0, 'sentim...</td>\n",
       "      <td>204</td>\n",
       "      <td>0.000</td>\n",
       "      <td>0.0</td>\n",
       "      <td>Neutral</td>\n",
       "      <td>57.27</td>\n",
       "      <td>12</td>\n",
       "      <td>15</td>\n",
       "      <td>4</td>\n",
       "    </tr>\n",
       "  </tbody>\n",
       "</table>\n",
       "</div>"
      ],
      "text/plain": [
       "     index       date             tweet_id  \\\n",
       "200    240 2022-04-12  1514016287831334916   \n",
       "201    243 2022-04-12  1513925715783299074   \n",
       "202    244 2022-04-12  1513903051542773760   \n",
       "203    245 2022-04-12  1513902025116901378   \n",
       "204    246 2022-04-12  1513899787468292102   \n",
       "\n",
       "                                                 tweet         username  \\\n",
       "200  Royal Society of Players: 0.12 Ξ\\nRumble Kong ...   nftflooralerts   \n",
       "201  Royal Society of Players: 0.12 Ξ\\nRumble Kong ...   nftflooralerts   \n",
       "202  Parallel Alpha was just listed for 0.17 ETH. \\...  nft_watcher_bot   \n",
       "203  Parallel Alpha was just listed for 0.0014 ETH....  nft_watcher_bot   \n",
       "204  Parallel Alpha was just listed for 0.027 ETH. ...  nft_watcher_bot   \n",
       "\n",
       "     retweets  likes   id                                      tweet_cleaned  \\\n",
       "200         0      1  240  royal society player rumble kong league lazy l...   \n",
       "201         1      2  243  royal society player rumble kong league lazy l...   \n",
       "202         0      3  244  parallel alpha listed eth http co ba bzrcpo nf...   \n",
       "203         0      1  245  parallel alpha listed eth http co z ow l saw n...   \n",
       "204         0      0  246  parallel alpha listed eth http co kfmx cp nft ...   \n",
       "\n",
       "     clusters  popular_tweet  very_popular_tweet  word_count  \\\n",
       "200         2          False               False          23   \n",
       "201         2           True               False          23   \n",
       "202         1           True               False          14   \n",
       "203         1          False               False          16   \n",
       "204         1          False               False          14   \n",
       "\n",
       "                                     sentiment_results  index  polarity  \\\n",
       "200  {'polarity': -0.125, 'subjectivity': 0.5, 'sen...    200    -0.125   \n",
       "201  {'polarity': -0.125, 'subjectivity': 0.5, 'sen...    201    -0.125   \n",
       "202  {'polarity': 0.0, 'subjectivity': 0.0, 'sentim...    202     0.000   \n",
       "203  {'polarity': 0.0, 'subjectivity': 0.0, 'sentim...    203     0.000   \n",
       "204  {'polarity': 0.0, 'subjectivity': 0.0, 'sentim...    204     0.000   \n",
       "\n",
       "     subjectivity sentiment  readability  day  week  month  \n",
       "200           0.5  Negative        22.75   12    15      4  \n",
       "201           0.5  Negative        22.75   12    15      4  \n",
       "202           0.0   Neutral        48.81   12    15      4  \n",
       "203           0.0   Neutral        55.24   12    15      4  \n",
       "204           0.0   Neutral        57.27   12    15      4  "
      ]
     },
     "execution_count": 58,
     "metadata": {},
     "output_type": "execute_result"
    }
   ],
   "source": [
    "df.head()"
   ]
  },
  {
   "cell_type": "code",
   "execution_count": 59,
   "id": "76af0da4",
   "metadata": {},
   "outputs": [
    {
     "data": {
      "text/html": [
       "<div>\n",
       "<style scoped>\n",
       "    .dataframe tbody tr th:only-of-type {\n",
       "        vertical-align: middle;\n",
       "    }\n",
       "\n",
       "    .dataframe tbody tr th {\n",
       "        vertical-align: top;\n",
       "    }\n",
       "\n",
       "    .dataframe thead th {\n",
       "        text-align: right;\n",
       "    }\n",
       "</style>\n",
       "<table border=\"1\" class=\"dataframe\">\n",
       "  <thead>\n",
       "    <tr style=\"text-align: right;\">\n",
       "      <th></th>\n",
       "      <th>date</th>\n",
       "      <th>collectionname</th>\n",
       "      <th>makernunique</th>\n",
       "      <th>takernunique</th>\n",
       "      <th>thumbnailurlnunique</th>\n",
       "      <th>txnunique</th>\n",
       "      <th>pricemean</th>\n",
       "    </tr>\n",
       "  </thead>\n",
       "  <tbody>\n",
       "    <tr>\n",
       "      <th>0</th>\n",
       "      <td>2021-08-24</td>\n",
       "      <td>Parallel Alpha</td>\n",
       "      <td>821</td>\n",
       "      <td>643</td>\n",
       "      <td>77</td>\n",
       "      <td>1515</td>\n",
       "      <td>0.582914</td>\n",
       "    </tr>\n",
       "    <tr>\n",
       "      <th>1</th>\n",
       "      <td>2021-08-31</td>\n",
       "      <td>Parallel Alpha</td>\n",
       "      <td>963</td>\n",
       "      <td>1031</td>\n",
       "      <td>87</td>\n",
       "      <td>2898</td>\n",
       "      <td>0.529011</td>\n",
       "    </tr>\n",
       "    <tr>\n",
       "      <th>2</th>\n",
       "      <td>2021-09-07</td>\n",
       "      <td>Parallel Alpha</td>\n",
       "      <td>230</td>\n",
       "      <td>252</td>\n",
       "      <td>60</td>\n",
       "      <td>474</td>\n",
       "      <td>0.470613</td>\n",
       "    </tr>\n",
       "    <tr>\n",
       "      <th>3</th>\n",
       "      <td>2021-09-14</td>\n",
       "      <td>Parallel Alpha</td>\n",
       "      <td>144</td>\n",
       "      <td>123</td>\n",
       "      <td>51</td>\n",
       "      <td>238</td>\n",
       "      <td>0.487991</td>\n",
       "    </tr>\n",
       "    <tr>\n",
       "      <th>4</th>\n",
       "      <td>2021-09-21</td>\n",
       "      <td>Parallel Alpha</td>\n",
       "      <td>105</td>\n",
       "      <td>99</td>\n",
       "      <td>50</td>\n",
       "      <td>168</td>\n",
       "      <td>0.442037</td>\n",
       "    </tr>\n",
       "  </tbody>\n",
       "</table>\n",
       "</div>"
      ],
      "text/plain": [
       "        date  collectionname  makernunique  takernunique  thumbnailurlnunique  \\\n",
       "0 2021-08-24  Parallel Alpha           821           643                   77   \n",
       "1 2021-08-31  Parallel Alpha           963          1031                   87   \n",
       "2 2021-09-07  Parallel Alpha           230           252                   60   \n",
       "3 2021-09-14  Parallel Alpha           144           123                   51   \n",
       "4 2021-09-21  Parallel Alpha           105            99                   50   \n",
       "\n",
       "   txnunique  pricemean  \n",
       "0       1515   0.582914  \n",
       "1       2898   0.529011  \n",
       "2        474   0.470613  \n",
       "3        238   0.487991  \n",
       "4        168   0.442037  "
      ]
     },
     "execution_count": 59,
     "metadata": {},
     "output_type": "execute_result"
    }
   ],
   "source": [
    "parallel.head()"
   ]
  },
  {
   "cell_type": "markdown",
   "id": "46668e99",
   "metadata": {},
   "source": [
    "### Data Processing of week level aggregates"
   ]
  },
  {
   "cell_type": "code",
   "execution_count": 60,
   "id": "351b180e",
   "metadata": {},
   "outputs": [],
   "source": [
    "parallel=parallel.rename(columns={'pricemean':'mean_price',\n",
    "                  'makernunique':'num_of_sellers','takernunique':'number_of_buyers','thumbnailurlnunique':'volume_of_assets_traded',\n",
    "                  'txnunique':'number_of_transcations_index'})"
   ]
  },
  {
   "cell_type": "code",
   "execution_count": 61,
   "id": "6895f35a",
   "metadata": {},
   "outputs": [
    {
     "data": {
      "text/plain": [
       "(34, 34)"
      ]
     },
     "execution_count": 61,
     "metadata": {},
     "output_type": "execute_result"
    }
   ],
   "source": [
    "len(parallel),len(agg_df)"
   ]
  },
  {
   "cell_type": "code",
   "execution_count": 62,
   "id": "a9eb7499",
   "metadata": {},
   "outputs": [
    {
     "data": {
      "text/html": [
       "<div>\n",
       "<style scoped>\n",
       "    .dataframe tbody tr th:only-of-type {\n",
       "        vertical-align: middle;\n",
       "    }\n",
       "\n",
       "    .dataframe tbody tr th {\n",
       "        vertical-align: top;\n",
       "    }\n",
       "\n",
       "    .dataframe thead th {\n",
       "        text-align: right;\n",
       "    }\n",
       "</style>\n",
       "<table border=\"1\" class=\"dataframe\">\n",
       "  <thead>\n",
       "    <tr style=\"text-align: right;\">\n",
       "      <th></th>\n",
       "      <th>date</th>\n",
       "      <th>collectionname</th>\n",
       "      <th>num_of_sellers</th>\n",
       "      <th>number_of_buyers</th>\n",
       "      <th>volume_of_assets_traded</th>\n",
       "      <th>number_of_transcations_index</th>\n",
       "      <th>mean_price</th>\n",
       "    </tr>\n",
       "  </thead>\n",
       "  <tbody>\n",
       "    <tr>\n",
       "      <th>0</th>\n",
       "      <td>2021-08-24</td>\n",
       "      <td>Parallel Alpha</td>\n",
       "      <td>821</td>\n",
       "      <td>643</td>\n",
       "      <td>77</td>\n",
       "      <td>1515</td>\n",
       "      <td>0.582914</td>\n",
       "    </tr>\n",
       "    <tr>\n",
       "      <th>1</th>\n",
       "      <td>2021-08-31</td>\n",
       "      <td>Parallel Alpha</td>\n",
       "      <td>963</td>\n",
       "      <td>1031</td>\n",
       "      <td>87</td>\n",
       "      <td>2898</td>\n",
       "      <td>0.529011</td>\n",
       "    </tr>\n",
       "  </tbody>\n",
       "</table>\n",
       "</div>"
      ],
      "text/plain": [
       "        date  collectionname  num_of_sellers  number_of_buyers  \\\n",
       "0 2021-08-24  Parallel Alpha             821               643   \n",
       "1 2021-08-31  Parallel Alpha             963              1031   \n",
       "\n",
       "   volume_of_assets_traded  number_of_transcations_index  mean_price  \n",
       "0                       77                          1515    0.582914  \n",
       "1                       87                          2898    0.529011  "
      ]
     },
     "execution_count": 62,
     "metadata": {},
     "output_type": "execute_result"
    }
   ],
   "source": [
    "parallel.head(2)"
   ]
  },
  {
   "cell_type": "code",
   "execution_count": 63,
   "id": "ab4ff3c4",
   "metadata": {},
   "outputs": [
    {
     "data": {
      "text/plain": [
       "<AxesSubplot:>"
      ]
     },
     "execution_count": 63,
     "metadata": {},
     "output_type": "execute_result"
    },
    {
     "data": {
      "image/png": "[encoded data removed]",
      "text/plain": [
       "<Figure size 720x576 with 1 Axes>"
      ]
     },
     "metadata": {
      "needs_background": "light"
     },
     "output_type": "display_data"
    }
   ],
   "source": [
    "parallel['mean_price'].hist()"
   ]
  },
  {
   "cell_type": "markdown",
   "id": "e410327c",
   "metadata": {},
   "source": [
    "#### The average price of the parallel nft is around 0.65"
   ]
  },
  {
   "cell_type": "code",
   "execution_count": 64,
   "id": "bbed2bea",
   "metadata": {},
   "outputs": [
    {
     "data": {
      "text/html": [
       "<div>\n",
       "<style scoped>\n",
       "    .dataframe tbody tr th:only-of-type {\n",
       "        vertical-align: middle;\n",
       "    }\n",
       "\n",
       "    .dataframe tbody tr th {\n",
       "        vertical-align: top;\n",
       "    }\n",
       "\n",
       "    .dataframe thead th {\n",
       "        text-align: right;\n",
       "    }\n",
       "</style>\n",
       "<table border=\"1\" class=\"dataframe\">\n",
       "  <thead>\n",
       "    <tr style=\"text-align: right;\">\n",
       "      <th></th>\n",
       "      <th>date</th>\n",
       "      <th>collectionname</th>\n",
       "      <th>num_of_sellers</th>\n",
       "      <th>number_of_buyers</th>\n",
       "      <th>volume_of_assets_traded</th>\n",
       "      <th>number_of_transcations_index</th>\n",
       "      <th>mean_price</th>\n",
       "    </tr>\n",
       "  </thead>\n",
       "  <tbody>\n",
       "    <tr>\n",
       "      <th>0</th>\n",
       "      <td>2021-08-24</td>\n",
       "      <td>Parallel Alpha</td>\n",
       "      <td>821</td>\n",
       "      <td>643</td>\n",
       "      <td>77</td>\n",
       "      <td>1515</td>\n",
       "      <td>0.582914</td>\n",
       "    </tr>\n",
       "    <tr>\n",
       "      <th>1</th>\n",
       "      <td>2021-08-31</td>\n",
       "      <td>Parallel Alpha</td>\n",
       "      <td>963</td>\n",
       "      <td>1031</td>\n",
       "      <td>87</td>\n",
       "      <td>2898</td>\n",
       "      <td>0.529011</td>\n",
       "    </tr>\n",
       "    <tr>\n",
       "      <th>2</th>\n",
       "      <td>2021-09-07</td>\n",
       "      <td>Parallel Alpha</td>\n",
       "      <td>230</td>\n",
       "      <td>252</td>\n",
       "      <td>60</td>\n",
       "      <td>474</td>\n",
       "      <td>0.470613</td>\n",
       "    </tr>\n",
       "    <tr>\n",
       "      <th>3</th>\n",
       "      <td>2021-09-14</td>\n",
       "      <td>Parallel Alpha</td>\n",
       "      <td>144</td>\n",
       "      <td>123</td>\n",
       "      <td>51</td>\n",
       "      <td>238</td>\n",
       "      <td>0.487991</td>\n",
       "    </tr>\n",
       "    <tr>\n",
       "      <th>4</th>\n",
       "      <td>2021-09-21</td>\n",
       "      <td>Parallel Alpha</td>\n",
       "      <td>105</td>\n",
       "      <td>99</td>\n",
       "      <td>50</td>\n",
       "      <td>168</td>\n",
       "      <td>0.442037</td>\n",
       "    </tr>\n",
       "  </tbody>\n",
       "</table>\n",
       "</div>"
      ],
      "text/plain": [
       "        date  collectionname  num_of_sellers  number_of_buyers  \\\n",
       "0 2021-08-24  Parallel Alpha             821               643   \n",
       "1 2021-08-31  Parallel Alpha             963              1031   \n",
       "2 2021-09-07  Parallel Alpha             230               252   \n",
       "3 2021-09-14  Parallel Alpha             144               123   \n",
       "4 2021-09-21  Parallel Alpha             105                99   \n",
       "\n",
       "   volume_of_assets_traded  number_of_transcations_index  mean_price  \n",
       "0                       77                          1515    0.582914  \n",
       "1                       87                          2898    0.529011  \n",
       "2                       60                           474    0.470613  \n",
       "3                       51                           238    0.487991  \n",
       "4                       50                           168    0.442037  "
      ]
     },
     "execution_count": 64,
     "metadata": {},
     "output_type": "execute_result"
    }
   ],
   "source": [
    "parallel.head()"
   ]
  },
  {
   "cell_type": "code",
   "execution_count": 65,
   "id": "6859ebdd",
   "metadata": {},
   "outputs": [
    {
     "data": {
      "text/html": [
       "<div>\n",
       "<style scoped>\n",
       "    .dataframe tbody tr th:only-of-type {\n",
       "        vertical-align: middle;\n",
       "    }\n",
       "\n",
       "    .dataframe tbody tr th {\n",
       "        vertical-align: top;\n",
       "    }\n",
       "\n",
       "    .dataframe thead th {\n",
       "        text-align: right;\n",
       "    }\n",
       "</style>\n",
       "<table border=\"1\" class=\"dataframe\">\n",
       "  <thead>\n",
       "    <tr style=\"text-align: right;\">\n",
       "      <th></th>\n",
       "      <th>date</th>\n",
       "      <th>word_countmean</th>\n",
       "      <th>popular_tweetfirst</th>\n",
       "      <th>very_popular_tweetfirst</th>\n",
       "      <th>readabilitymean</th>\n",
       "      <th>sentimentfirst</th>\n",
       "    </tr>\n",
       "  </thead>\n",
       "  <tbody>\n",
       "    <tr>\n",
       "      <th>0</th>\n",
       "      <td>2021-08-24</td>\n",
       "      <td>19.0</td>\n",
       "      <td>0.0</td>\n",
       "      <td>0.0</td>\n",
       "      <td>52.19</td>\n",
       "      <td>Positive</td>\n",
       "    </tr>\n",
       "  </tbody>\n",
       "</table>\n",
       "</div>"
      ],
      "text/plain": [
       "        date  word_countmean  popular_tweetfirst  very_popular_tweetfirst  \\\n",
       "0 2021-08-24            19.0                 0.0                      0.0   \n",
       "\n",
       "   readabilitymean sentimentfirst  \n",
       "0            52.19       Positive  "
      ]
     },
     "execution_count": 65,
     "metadata": {},
     "output_type": "execute_result"
    }
   ],
   "source": [
    "agg_df.head(1)"
   ]
  },
  {
   "cell_type": "code",
   "execution_count": 66,
   "id": "fbce7bc3",
   "metadata": {},
   "outputs": [
    {
     "data": {
      "text/plain": [
       "(Timestamp('2021-08-24 00:00:00'), Timestamp('2022-04-12 00:00:00'))"
      ]
     },
     "execution_count": 66,
     "metadata": {},
     "output_type": "execute_result"
    }
   ],
   "source": [
    "agg_df['date'].min(),agg_df['date'].max()\n"
   ]
  },
  {
   "cell_type": "code",
   "execution_count": 67,
   "id": "1b1d03ed",
   "metadata": {},
   "outputs": [
    {
     "data": {
      "text/plain": [
       "(Timestamp('2021-08-24 00:00:00'), Timestamp('2022-04-12 00:00:00'))"
      ]
     },
     "execution_count": 67,
     "metadata": {},
     "output_type": "execute_result"
    }
   ],
   "source": [
    "parallel['date'].min(),parallel['date'].max()"
   ]
  },
  {
   "cell_type": "code",
   "execution_count": 68,
   "id": "6bed168a",
   "metadata": {},
   "outputs": [],
   "source": [
    "agg_df=agg_df.reset_index()\n",
    "parallel=parallel.reset_index()\n",
    "agg_df=agg_df.merge(parallel, on='date')"
   ]
  },
  {
   "cell_type": "code",
   "execution_count": 69,
   "id": "b99443c5",
   "metadata": {
    "scrolled": true
   },
   "outputs": [
    {
     "data": {
      "text/plain": [
       "index_x                         0\n",
       "date                            0\n",
       "word_countmean                  6\n",
       "popular_tweetfirst              6\n",
       "very_popular_tweetfirst         6\n",
       "readabilitymean                 6\n",
       "sentimentfirst                  6\n",
       "index_y                         0\n",
       "collectionname                  0\n",
       "num_of_sellers                  0\n",
       "number_of_buyers                0\n",
       "volume_of_assets_traded         0\n",
       "number_of_transcations_index    0\n",
       "mean_price                      0\n",
       "dtype: int64"
      ]
     },
     "execution_count": 69,
     "metadata": {},
     "output_type": "execute_result"
    }
   ],
   "source": [
    "agg_df.isnull().sum()"
   ]
  },
  {
   "cell_type": "code",
   "execution_count": 70,
   "id": "7aa62a19",
   "metadata": {},
   "outputs": [
    {
     "data": {
      "text/plain": [
       "mean_price                 1.000000\n",
       "very_popular_tweetfirst    0.369006\n",
       "word_countmean             0.263902\n",
       "popular_tweetfirst        -0.112178\n",
       "num_of_sellers            -0.159648\n",
       "readabilitymean           -0.219277\n",
       "number_of_buyers          -0.222576\n",
       "volume_of_assets_traded   -0.240515\n",
       "Name: mean_price, dtype: float64"
      ]
     },
     "execution_count": 70,
     "metadata": {},
     "output_type": "execute_result"
    }
   ],
   "source": [
    "agg_df=agg_df.dropna()\n",
    "agg_df=agg_df.drop(columns=agg_df.filter(like='index'))\n",
    "corr_matrix = agg_df.corr()\n",
    "(corr_matrix[\"mean_price\"].sort_values(ascending=False))[:20]"
   ]
  },
  {
   "cell_type": "code",
   "execution_count": 71,
   "id": "e05dc1c0",
   "metadata": {},
   "outputs": [
    {
     "data": {
      "text/html": [
       "<div>\n",
       "<style scoped>\n",
       "    .dataframe tbody tr th:only-of-type {\n",
       "        vertical-align: middle;\n",
       "    }\n",
       "\n",
       "    .dataframe tbody tr th {\n",
       "        vertical-align: top;\n",
       "    }\n",
       "\n",
       "    .dataframe thead th {\n",
       "        text-align: right;\n",
       "    }\n",
       "</style>\n",
       "<table border=\"1\" class=\"dataframe\">\n",
       "  <thead>\n",
       "    <tr style=\"text-align: right;\">\n",
       "      <th></th>\n",
       "      <th>index</th>\n",
       "      <th>date</th>\n",
       "      <th>tweet_id</th>\n",
       "      <th>tweet</th>\n",
       "      <th>username</th>\n",
       "      <th>retweets</th>\n",
       "      <th>likes</th>\n",
       "      <th>id</th>\n",
       "      <th>tweet_cleaned</th>\n",
       "      <th>clusters</th>\n",
       "      <th>popular_tweet</th>\n",
       "      <th>very_popular_tweet</th>\n",
       "      <th>word_count</th>\n",
       "      <th>sentiment_results</th>\n",
       "      <th>index</th>\n",
       "      <th>polarity</th>\n",
       "      <th>subjectivity</th>\n",
       "      <th>sentiment</th>\n",
       "      <th>readability</th>\n",
       "      <th>day</th>\n",
       "      <th>week</th>\n",
       "      <th>month</th>\n",
       "    </tr>\n",
       "  </thead>\n",
       "  <tbody>\n",
       "    <tr>\n",
       "      <th>200</th>\n",
       "      <td>240</td>\n",
       "      <td>2022-04-12</td>\n",
       "      <td>1514016287831334916</td>\n",
       "      <td>Royal Society of Players: 0.12 Ξ\\nRumble Kong ...</td>\n",
       "      <td>nftflooralerts</td>\n",
       "      <td>0</td>\n",
       "      <td>1</td>\n",
       "      <td>240</td>\n",
       "      <td>royal society player rumble kong league lazy l...</td>\n",
       "      <td>2</td>\n",
       "      <td>False</td>\n",
       "      <td>False</td>\n",
       "      <td>23</td>\n",
       "      <td>{'polarity': -0.125, 'subjectivity': 0.5, 'sen...</td>\n",
       "      <td>200</td>\n",
       "      <td>-0.125</td>\n",
       "      <td>0.5</td>\n",
       "      <td>Negative</td>\n",
       "      <td>22.75</td>\n",
       "      <td>12</td>\n",
       "      <td>15</td>\n",
       "      <td>4</td>\n",
       "    </tr>\n",
       "    <tr>\n",
       "      <th>201</th>\n",
       "      <td>243</td>\n",
       "      <td>2022-04-12</td>\n",
       "      <td>1513925715783299074</td>\n",
       "      <td>Royal Society of Players: 0.12 Ξ\\nRumble Kong ...</td>\n",
       "      <td>nftflooralerts</td>\n",
       "      <td>1</td>\n",
       "      <td>2</td>\n",
       "      <td>243</td>\n",
       "      <td>royal society player rumble kong league lazy l...</td>\n",
       "      <td>2</td>\n",
       "      <td>True</td>\n",
       "      <td>False</td>\n",
       "      <td>23</td>\n",
       "      <td>{'polarity': -0.125, 'subjectivity': 0.5, 'sen...</td>\n",
       "      <td>201</td>\n",
       "      <td>-0.125</td>\n",
       "      <td>0.5</td>\n",
       "      <td>Negative</td>\n",
       "      <td>22.75</td>\n",
       "      <td>12</td>\n",
       "      <td>15</td>\n",
       "      <td>4</td>\n",
       "    </tr>\n",
       "    <tr>\n",
       "      <th>202</th>\n",
       "      <td>244</td>\n",
       "      <td>2022-04-12</td>\n",
       "      <td>1513903051542773760</td>\n",
       "      <td>Parallel Alpha was just listed for 0.17 ETH. \\...</td>\n",
       "      <td>nft_watcher_bot</td>\n",
       "      <td>0</td>\n",
       "      <td>3</td>\n",
       "      <td>244</td>\n",
       "      <td>parallel alpha listed eth http co ba bzrcpo nf...</td>\n",
       "      <td>1</td>\n",
       "      <td>True</td>\n",
       "      <td>False</td>\n",
       "      <td>14</td>\n",
       "      <td>{'polarity': 0.0, 'subjectivity': 0.0, 'sentim...</td>\n",
       "      <td>202</td>\n",
       "      <td>0.000</td>\n",
       "      <td>0.0</td>\n",
       "      <td>Neutral</td>\n",
       "      <td>48.81</td>\n",
       "      <td>12</td>\n",
       "      <td>15</td>\n",
       "      <td>4</td>\n",
       "    </tr>\n",
       "    <tr>\n",
       "      <th>203</th>\n",
       "      <td>245</td>\n",
       "      <td>2022-04-12</td>\n",
       "      <td>1513902025116901378</td>\n",
       "      <td>Parallel Alpha was just listed for 0.0014 ETH....</td>\n",
       "      <td>nft_watcher_bot</td>\n",
       "      <td>0</td>\n",
       "      <td>1</td>\n",
       "      <td>245</td>\n",
       "      <td>parallel alpha listed eth http co z ow l saw n...</td>\n",
       "      <td>1</td>\n",
       "      <td>False</td>\n",
       "      <td>False</td>\n",
       "      <td>16</td>\n",
       "      <td>{'polarity': 0.0, 'subjectivity': 0.0, 'sentim...</td>\n",
       "      <td>203</td>\n",
       "      <td>0.000</td>\n",
       "      <td>0.0</td>\n",
       "      <td>Neutral</td>\n",
       "      <td>55.24</td>\n",
       "      <td>12</td>\n",
       "      <td>15</td>\n",
       "      <td>4</td>\n",
       "    </tr>\n",
       "    <tr>\n",
       "      <th>204</th>\n",
       "      <td>246</td>\n",
       "      <td>2022-04-12</td>\n",
       "      <td>1513899787468292102</td>\n",
       "      <td>Parallel Alpha was just listed for 0.027 ETH. ...</td>\n",
       "      <td>nft_watcher_bot</td>\n",
       "      <td>0</td>\n",
       "      <td>0</td>\n",
       "      <td>246</td>\n",
       "      <td>parallel alpha listed eth http co kfmx cp nft ...</td>\n",
       "      <td>1</td>\n",
       "      <td>False</td>\n",
       "      <td>False</td>\n",
       "      <td>14</td>\n",
       "      <td>{'polarity': 0.0, 'subjectivity': 0.0, 'sentim...</td>\n",
       "      <td>204</td>\n",
       "      <td>0.000</td>\n",
       "      <td>0.0</td>\n",
       "      <td>Neutral</td>\n",
       "      <td>57.27</td>\n",
       "      <td>12</td>\n",
       "      <td>15</td>\n",
       "      <td>4</td>\n",
       "    </tr>\n",
       "  </tbody>\n",
       "</table>\n",
       "</div>"
      ],
      "text/plain": [
       "     index       date             tweet_id  \\\n",
       "200    240 2022-04-12  1514016287831334916   \n",
       "201    243 2022-04-12  1513925715783299074   \n",
       "202    244 2022-04-12  1513903051542773760   \n",
       "203    245 2022-04-12  1513902025116901378   \n",
       "204    246 2022-04-12  1513899787468292102   \n",
       "\n",
       "                                                 tweet         username  \\\n",
       "200  Royal Society of Players: 0.12 Ξ\\nRumble Kong ...   nftflooralerts   \n",
       "201  Royal Society of Players: 0.12 Ξ\\nRumble Kong ...   nftflooralerts   \n",
       "202  Parallel Alpha was just listed for 0.17 ETH. \\...  nft_watcher_bot   \n",
       "203  Parallel Alpha was just listed for 0.0014 ETH....  nft_watcher_bot   \n",
       "204  Parallel Alpha was just listed for 0.027 ETH. ...  nft_watcher_bot   \n",
       "\n",
       "     retweets  likes   id                                      tweet_cleaned  \\\n",
       "200         0      1  240  royal society player rumble kong league lazy l...   \n",
       "201         1      2  243  royal society player rumble kong league lazy l...   \n",
       "202         0      3  244  parallel alpha listed eth http co ba bzrcpo nf...   \n",
       "203         0      1  245  parallel alpha listed eth http co z ow l saw n...   \n",
       "204         0      0  246  parallel alpha listed eth http co kfmx cp nft ...   \n",
       "\n",
       "     clusters  popular_tweet  very_popular_tweet  word_count  \\\n",
       "200         2          False               False          23   \n",
       "201         2           True               False          23   \n",
       "202         1           True               False          14   \n",
       "203         1          False               False          16   \n",
       "204         1          False               False          14   \n",
       "\n",
       "                                     sentiment_results  index  polarity  \\\n",
       "200  {'polarity': -0.125, 'subjectivity': 0.5, 'sen...    200    -0.125   \n",
       "201  {'polarity': -0.125, 'subjectivity': 0.5, 'sen...    201    -0.125   \n",
       "202  {'polarity': 0.0, 'subjectivity': 0.0, 'sentim...    202     0.000   \n",
       "203  {'polarity': 0.0, 'subjectivity': 0.0, 'sentim...    203     0.000   \n",
       "204  {'polarity': 0.0, 'subjectivity': 0.0, 'sentim...    204     0.000   \n",
       "\n",
       "     subjectivity sentiment  readability  day  week  month  \n",
       "200           0.5  Negative        22.75   12    15      4  \n",
       "201           0.5  Negative        22.75   12    15      4  \n",
       "202           0.0   Neutral        48.81   12    15      4  \n",
       "203           0.0   Neutral        55.24   12    15      4  \n",
       "204           0.0   Neutral        57.27   12    15      4  "
      ]
     },
     "execution_count": 71,
     "metadata": {},
     "output_type": "execute_result"
    }
   ],
   "source": [
    "df.head()"
   ]
  },
  {
   "cell_type": "code",
   "execution_count": 72,
   "id": "82096ff2",
   "metadata": {},
   "outputs": [
    {
     "data": {
      "text/plain": [
       "<AxesSubplot:>"
      ]
     },
     "execution_count": 72,
     "metadata": {},
     "output_type": "execute_result"
    },
    {
     "data": {
      "image/png": "[encoded data removed]",
      "text/plain": [
       "<Figure size 720x576 with 1 Axes>"
      ]
     },
     "metadata": {
      "needs_background": "light"
     },
     "output_type": "display_data"
    }
   ],
   "source": [
    "agg_df[['mean_price']].plot(kind='line')"
   ]
  },
  {
   "cell_type": "code",
   "execution_count": 73,
   "id": "3a7452ff",
   "metadata": {},
   "outputs": [
    {
     "data": {
      "text/plain": [
       "<AxesSubplot:xlabel='y(t)', ylabel='y(t + 1)'>"
      ]
     },
     "execution_count": 73,
     "metadata": {},
     "output_type": "execute_result"
    },
    {
     "data": {
      "image/png": "[encoded data removed]",
      "text/plain": [
       "<Figure size 720x576 with 1 Axes>"
      ]
     },
     "metadata": {
      "needs_background": "light"
     },
     "output_type": "display_data"
    }
   ],
   "source": [
    "\n",
    "pd.plotting.lag_plot(agg_df['mean_price'],lag=1)"
   ]
  },
  {
   "cell_type": "code",
   "execution_count": 74,
   "id": "e4556cf0",
   "metadata": {},
   "outputs": [
    {
     "data": {
      "text/plain": [
       "<AxesSubplot:xlabel='y(t)', ylabel='y(t + 4)'>"
      ]
     },
     "execution_count": 74,
     "metadata": {},
     "output_type": "execute_result"
    },
    {
     "data": {
      "image/png": "[encoded data removed]",
      "text/plain": [
       "<Figure size 720x576 with 1 Axes>"
      ]
     },
     "metadata": {
      "needs_background": "light"
     },
     "output_type": "display_data"
    }
   ],
   "source": [
    "pd.plotting.lag_plot(agg_df['mean_price'],lag=4)"
   ]
  },
  {
   "cell_type": "code",
   "execution_count": 75,
   "id": "efe94b7b",
   "metadata": {},
   "outputs": [
    {
     "data": {
      "image/png": "[encoded data removed]",
      "text/plain": [
       "<Figure size 720x720 with 2 Axes>"
      ]
     },
     "metadata": {
      "needs_background": "light"
     },
     "output_type": "display_data"
    }
   ],
   "source": [
    "g = sns.heatmap(corr_matrix,  vmax=.6, center=0,\n",
    "            square=True, linewidths=.5, cbar_kws={\"shrink\": .5}, annot=True, fmt='.2f', cmap='coolwarm')\n",
    "g.figure.set_size_inches(10,10)\n",
    "    \n",
    "plt.show()"
   ]
  },
  {
   "cell_type": "markdown",
   "id": "39707403",
   "metadata": {},
   "source": [
    "#### The average price of this nft has good correlations with the other features, with the best positive correlation being if a tweet is very popular\n",
    "#### And the volume_of_assets_traded is the best negative correlation feature, which means the higher the number of assets traded, the lower the average price"
   ]
  },
  {
   "cell_type": "code",
   "execution_count": 76,
   "id": "d488872c",
   "metadata": {},
   "outputs": [
    {
     "name": "stdout",
     "output_type": "stream",
     "text": [
      "Test Statistics: -3.777861348377627\n",
      "p-value: 0.0031421199878699764\n",
      "Critial Values: {'1%': -3.7112123008648155, '5%': -2.981246804733728, '10%': -2.6300945562130176}\n",
      "Series is Stationary\n"
     ]
    }
   ],
   "source": [
    "#Determine of Target Column is stationary or not\n",
    "result = adfuller(agg_df['mean_price'])\n",
    "print(f'Test Statistics: {result[0]}')\n",
    "print(f'p-value: {result[1]}')\n",
    "print(f'Critial Values: {result[4]}')\n",
    "\n",
    "if result[1] > 0.05 :\n",
    "  print('Series is not Stationary')\n",
    "else:\n",
    "  print('Series is Stationary')"
   ]
  },
  {
   "cell_type": "markdown",
   "id": "16ac1416",
   "metadata": {},
   "source": [
    "#### Since the pvalue of the average price is below 0.05, it means its stationary, according to the adfuller test"
   ]
  },
  {
   "cell_type": "code",
   "execution_count": 77,
   "id": "00d04f61",
   "metadata": {
    "scrolled": true
   },
   "outputs": [
    {
     "name": "stderr",
     "output_type": "stream",
     "text": [
      "In a future version, the Index constructor will not infer numeric dtypes when passed object-dtype sequences (matching Series behavior)\n"
     ]
    }
   ],
   "source": [
    "#One hot encode categorical variable and join back to dataframe\n",
    "sent=pd.get_dummies(agg_df['sentimentfirst'])\n",
    "agg_df=agg_df.drop(columns=['sentimentfirst'])\n",
    "agg_df=pd.concat([agg_df, sent],axis=1)\n",
    "agg_df['popular_tweetfirst']=agg_df['popular_tweetfirst'].astype('object')\n",
    "agg_df['very_popular_tweetfirst']=agg_df['very_popular_tweetfirst'].astype('object')\n",
    "pop = pd.get_dummies(agg_df[['popular_tweetfirst','very_popular_tweetfirst']])\n",
    "agg_df=agg_df.drop(columns=['popular_tweetfirst','very_popular_tweetfirst'])\n",
    "agg_df=pd.concat([agg_df, pop],axis=1)"
   ]
  },
  {
   "cell_type": "code",
   "execution_count": 78,
   "id": "39f833a1",
   "metadata": {},
   "outputs": [
    {
     "data": {
      "text/html": [
       "<div>\n",
       "<style scoped>\n",
       "    .dataframe tbody tr th:only-of-type {\n",
       "        vertical-align: middle;\n",
       "    }\n",
       "\n",
       "    .dataframe tbody tr th {\n",
       "        vertical-align: top;\n",
       "    }\n",
       "\n",
       "    .dataframe thead th {\n",
       "        text-align: right;\n",
       "    }\n",
       "</style>\n",
       "<table border=\"1\" class=\"dataframe\">\n",
       "  <thead>\n",
       "    <tr style=\"text-align: right;\">\n",
       "      <th></th>\n",
       "      <th>date</th>\n",
       "      <th>word_countmean</th>\n",
       "      <th>readabilitymean</th>\n",
       "      <th>collectionname</th>\n",
       "      <th>num_of_sellers</th>\n",
       "      <th>number_of_buyers</th>\n",
       "      <th>volume_of_assets_traded</th>\n",
       "      <th>mean_price</th>\n",
       "      <th>Negative</th>\n",
       "      <th>Neutral</th>\n",
       "      <th>Positive</th>\n",
       "      <th>popular_tweetfirst_0.0</th>\n",
       "      <th>popular_tweetfirst_1.0</th>\n",
       "      <th>very_popular_tweetfirst_0.0</th>\n",
       "      <th>very_popular_tweetfirst_1.0</th>\n",
       "    </tr>\n",
       "  </thead>\n",
       "  <tbody>\n",
       "    <tr>\n",
       "      <th>0</th>\n",
       "      <td>2021-08-24</td>\n",
       "      <td>19.000000</td>\n",
       "      <td>52.190000</td>\n",
       "      <td>Parallel Alpha</td>\n",
       "      <td>821</td>\n",
       "      <td>643</td>\n",
       "      <td>77</td>\n",
       "      <td>0.582914</td>\n",
       "      <td>0</td>\n",
       "      <td>0</td>\n",
       "      <td>1</td>\n",
       "      <td>1</td>\n",
       "      <td>0</td>\n",
       "      <td>1</td>\n",
       "      <td>0</td>\n",
       "    </tr>\n",
       "    <tr>\n",
       "      <th>1</th>\n",
       "      <td>2021-08-31</td>\n",
       "      <td>18.666667</td>\n",
       "      <td>52.530000</td>\n",
       "      <td>Parallel Alpha</td>\n",
       "      <td>963</td>\n",
       "      <td>1031</td>\n",
       "      <td>87</td>\n",
       "      <td>0.529011</td>\n",
       "      <td>1</td>\n",
       "      <td>0</td>\n",
       "      <td>0</td>\n",
       "      <td>0</td>\n",
       "      <td>1</td>\n",
       "      <td>1</td>\n",
       "      <td>0</td>\n",
       "    </tr>\n",
       "    <tr>\n",
       "      <th>8</th>\n",
       "      <td>2021-10-19</td>\n",
       "      <td>19.000000</td>\n",
       "      <td>52.190000</td>\n",
       "      <td>Parallel Alpha</td>\n",
       "      <td>82</td>\n",
       "      <td>62</td>\n",
       "      <td>49</td>\n",
       "      <td>0.517299</td>\n",
       "      <td>0</td>\n",
       "      <td>0</td>\n",
       "      <td>1</td>\n",
       "      <td>1</td>\n",
       "      <td>0</td>\n",
       "      <td>1</td>\n",
       "      <td>0</td>\n",
       "    </tr>\n",
       "    <tr>\n",
       "      <th>9</th>\n",
       "      <td>2021-10-26</td>\n",
       "      <td>15.666667</td>\n",
       "      <td>48.525000</td>\n",
       "      <td>Parallel Alpha</td>\n",
       "      <td>69</td>\n",
       "      <td>69</td>\n",
       "      <td>45</td>\n",
       "      <td>0.471237</td>\n",
       "      <td>0</td>\n",
       "      <td>0</td>\n",
       "      <td>1</td>\n",
       "      <td>1</td>\n",
       "      <td>0</td>\n",
       "      <td>1</td>\n",
       "      <td>0</td>\n",
       "    </tr>\n",
       "    <tr>\n",
       "      <th>10</th>\n",
       "      <td>2021-11-02</td>\n",
       "      <td>19.344681</td>\n",
       "      <td>44.748979</td>\n",
       "      <td>Parallel Alpha</td>\n",
       "      <td>827</td>\n",
       "      <td>737</td>\n",
       "      <td>97</td>\n",
       "      <td>0.596750</td>\n",
       "      <td>0</td>\n",
       "      <td>0</td>\n",
       "      <td>1</td>\n",
       "      <td>1</td>\n",
       "      <td>0</td>\n",
       "      <td>1</td>\n",
       "      <td>0</td>\n",
       "    </tr>\n",
       "  </tbody>\n",
       "</table>\n",
       "</div>"
      ],
      "text/plain": [
       "         date  word_countmean  readabilitymean  collectionname  \\\n",
       "0  2021-08-24       19.000000        52.190000  Parallel Alpha   \n",
       "1  2021-08-31       18.666667        52.530000  Parallel Alpha   \n",
       "8  2021-10-19       19.000000        52.190000  Parallel Alpha   \n",
       "9  2021-10-26       15.666667        48.525000  Parallel Alpha   \n",
       "10 2021-11-02       19.344681        44.748979  Parallel Alpha   \n",
       "\n",
       "    num_of_sellers  number_of_buyers  volume_of_assets_traded  mean_price  \\\n",
       "0              821               643                       77    0.582914   \n",
       "1              963              1031                       87    0.529011   \n",
       "8               82                62                       49    0.517299   \n",
       "9               69                69                       45    0.471237   \n",
       "10             827               737                       97    0.596750   \n",
       "\n",
       "    Negative  Neutral  Positive  popular_tweetfirst_0.0  \\\n",
       "0          0        0         1                       1   \n",
       "1          1        0         0                       0   \n",
       "8          0        0         1                       1   \n",
       "9          0        0         1                       1   \n",
       "10         0        0         1                       1   \n",
       "\n",
       "    popular_tweetfirst_1.0  very_popular_tweetfirst_0.0  \\\n",
       "0                        0                            1   \n",
       "1                        1                            1   \n",
       "8                        0                            1   \n",
       "9                        0                            1   \n",
       "10                       0                            1   \n",
       "\n",
       "    very_popular_tweetfirst_1.0  \n",
       "0                             0  \n",
       "1                             0  \n",
       "8                             0  \n",
       "9                             0  \n",
       "10                            0  "
      ]
     },
     "execution_count": 78,
     "metadata": {},
     "output_type": "execute_result"
    }
   ],
   "source": [
    "agg_df.head()"
   ]
  },
  {
   "cell_type": "code",
   "execution_count": 79,
   "id": "95cbc40b",
   "metadata": {},
   "outputs": [
    {
     "data": {
      "text/html": [
       "<div>\n",
       "<style scoped>\n",
       "    .dataframe tbody tr th:only-of-type {\n",
       "        vertical-align: middle;\n",
       "    }\n",
       "\n",
       "    .dataframe tbody tr th {\n",
       "        vertical-align: top;\n",
       "    }\n",
       "\n",
       "    .dataframe thead th {\n",
       "        text-align: right;\n",
       "    }\n",
       "</style>\n",
       "<table border=\"1\" class=\"dataframe\">\n",
       "  <thead>\n",
       "    <tr style=\"text-align: right;\">\n",
       "      <th></th>\n",
       "      <th>date</th>\n",
       "      <th>word_countmean</th>\n",
       "      <th>readabilitymean</th>\n",
       "      <th>collectionname</th>\n",
       "      <th>num_of_sellers</th>\n",
       "      <th>number_of_buyers</th>\n",
       "      <th>volume_of_assets_traded</th>\n",
       "      <th>mean_price</th>\n",
       "      <th>Negative</th>\n",
       "      <th>Neutral</th>\n",
       "      <th>Positive</th>\n",
       "      <th>popular_tweetfirst_0.0</th>\n",
       "      <th>popular_tweetfirst_1.0</th>\n",
       "      <th>very_popular_tweetfirst_0.0</th>\n",
       "      <th>very_popular_tweetfirst_1.0</th>\n",
       "    </tr>\n",
       "  </thead>\n",
       "  <tbody>\n",
       "    <tr>\n",
       "      <th>29</th>\n",
       "      <td>2022-03-15</td>\n",
       "      <td>24.066667</td>\n",
       "      <td>35.204000</td>\n",
       "      <td>Parallel Alpha</td>\n",
       "      <td>201</td>\n",
       "      <td>118</td>\n",
       "      <td>43</td>\n",
       "      <td>0.663570</td>\n",
       "      <td>0</td>\n",
       "      <td>0</td>\n",
       "      <td>1</td>\n",
       "      <td>1</td>\n",
       "      <td>0</td>\n",
       "      <td>1</td>\n",
       "      <td>0</td>\n",
       "    </tr>\n",
       "    <tr>\n",
       "      <th>30</th>\n",
       "      <td>2022-03-22</td>\n",
       "      <td>24.200000</td>\n",
       "      <td>32.361600</td>\n",
       "      <td>Parallel Alpha</td>\n",
       "      <td>95</td>\n",
       "      <td>70</td>\n",
       "      <td>33</td>\n",
       "      <td>0.585938</td>\n",
       "      <td>1</td>\n",
       "      <td>0</td>\n",
       "      <td>0</td>\n",
       "      <td>0</td>\n",
       "      <td>1</td>\n",
       "      <td>1</td>\n",
       "      <td>0</td>\n",
       "    </tr>\n",
       "    <tr>\n",
       "      <th>31</th>\n",
       "      <td>2022-03-29</td>\n",
       "      <td>23.307692</td>\n",
       "      <td>25.040769</td>\n",
       "      <td>Parallel Alpha</td>\n",
       "      <td>53</td>\n",
       "      <td>33</td>\n",
       "      <td>28</td>\n",
       "      <td>0.650800</td>\n",
       "      <td>1</td>\n",
       "      <td>0</td>\n",
       "      <td>0</td>\n",
       "      <td>0</td>\n",
       "      <td>1</td>\n",
       "      <td>1</td>\n",
       "      <td>0</td>\n",
       "    </tr>\n",
       "    <tr>\n",
       "      <th>32</th>\n",
       "      <td>2022-04-05</td>\n",
       "      <td>22.531250</td>\n",
       "      <td>25.605313</td>\n",
       "      <td>Parallel Alpha</td>\n",
       "      <td>34</td>\n",
       "      <td>27</td>\n",
       "      <td>20</td>\n",
       "      <td>0.555254</td>\n",
       "      <td>1</td>\n",
       "      <td>0</td>\n",
       "      <td>0</td>\n",
       "      <td>0</td>\n",
       "      <td>1</td>\n",
       "      <td>1</td>\n",
       "      <td>0</td>\n",
       "    </tr>\n",
       "    <tr>\n",
       "      <th>33</th>\n",
       "      <td>2022-04-12</td>\n",
       "      <td>15.343373</td>\n",
       "      <td>45.201325</td>\n",
       "      <td>Parallel Alpha</td>\n",
       "      <td>42</td>\n",
       "      <td>33</td>\n",
       "      <td>26</td>\n",
       "      <td>0.565667</td>\n",
       "      <td>1</td>\n",
       "      <td>0</td>\n",
       "      <td>0</td>\n",
       "      <td>1</td>\n",
       "      <td>0</td>\n",
       "      <td>1</td>\n",
       "      <td>0</td>\n",
       "    </tr>\n",
       "  </tbody>\n",
       "</table>\n",
       "</div>"
      ],
      "text/plain": [
       "         date  word_countmean  readabilitymean  collectionname  \\\n",
       "29 2022-03-15       24.066667        35.204000  Parallel Alpha   \n",
       "30 2022-03-22       24.200000        32.361600  Parallel Alpha   \n",
       "31 2022-03-29       23.307692        25.040769  Parallel Alpha   \n",
       "32 2022-04-05       22.531250        25.605313  Parallel Alpha   \n",
       "33 2022-04-12       15.343373        45.201325  Parallel Alpha   \n",
       "\n",
       "    num_of_sellers  number_of_buyers  volume_of_assets_traded  mean_price  \\\n",
       "29             201               118                       43    0.663570   \n",
       "30              95                70                       33    0.585938   \n",
       "31              53                33                       28    0.650800   \n",
       "32              34                27                       20    0.555254   \n",
       "33              42                33                       26    0.565667   \n",
       "\n",
       "    Negative  Neutral  Positive  popular_tweetfirst_0.0  \\\n",
       "29         0        0         1                       1   \n",
       "30         1        0         0                       0   \n",
       "31         1        0         0                       0   \n",
       "32         1        0         0                       0   \n",
       "33         1        0         0                       1   \n",
       "\n",
       "    popular_tweetfirst_1.0  very_popular_tweetfirst_0.0  \\\n",
       "29                       0                            1   \n",
       "30                       1                            1   \n",
       "31                       1                            1   \n",
       "32                       1                            1   \n",
       "33                       0                            1   \n",
       "\n",
       "    very_popular_tweetfirst_1.0  \n",
       "29                            0  \n",
       "30                            0  \n",
       "31                            0  \n",
       "32                            0  \n",
       "33                            0  "
      ]
     },
     "execution_count": 79,
     "metadata": {},
     "output_type": "execute_result"
    }
   ],
   "source": [
    "agg_df.tail()"
   ]
  },
  {
   "cell_type": "markdown",
   "id": "ae29fb75",
   "metadata": {},
   "source": [
    "### Time series Modelling"
   ]
  },
  {
   "cell_type": "markdown",
   "id": "56462b07",
   "metadata": {},
   "source": [
    "### ARIMA"
   ]
  },
  {
   "cell_type": "code",
   "execution_count": 80,
   "id": "cea2e150",
   "metadata": {},
   "outputs": [],
   "source": [
    "arima=agg_df[['date','mean_price']]"
   ]
  },
  {
   "cell_type": "code",
   "execution_count": 81,
   "id": "e9a1f30f",
   "metadata": {},
   "outputs": [],
   "source": [
    "arima=arima.set_index('date')"
   ]
  },
  {
   "cell_type": "code",
   "execution_count": 82,
   "id": "e0a93e67",
   "metadata": {},
   "outputs": [
    {
     "data": {
      "text/plain": [
       "<AxesSubplot:xlabel='date'>"
      ]
     },
     "execution_count": 82,
     "metadata": {},
     "output_type": "execute_result"
    },
    {
     "data": {
      "image/png": "[encoded data removed]",
      "text/plain": [
       "<Figure size 1080x432 with 1 Axes>"
      ]
     },
     "metadata": {
      "needs_background": "light"
     },
     "output_type": "display_data"
    }
   ],
   "source": [
    "arima.plot(figsize=(15, 6))"
   ]
  },
  {
   "cell_type": "code",
   "execution_count": 83,
   "id": "131e4f34",
   "metadata": {},
   "outputs": [
    {
     "name": "stdout",
     "output_type": "stream",
     "text": [
      "RUNNING THE L-BFGS-B CODE\n",
      "\n",
      "           * * *\n",
      "\n",
      "Machine precision = 2.220D-16\n",
      " N =            3     M =           10\n",
      "\n",
      "At X0         0 variables are exactly at the bounds\n",
      "\n",
      "At iterate    0    f= -4.33590D-01    |proj g|=  4.67157D-01\n",
      "\n",
      "At iterate    5    f= -4.37786D-01    |proj g|=  5.53907D-01\n",
      "\n",
      "At iterate   10    f= -4.66721D-01    |proj g|=  1.93914D-02\n",
      "\n",
      "           * * *\n",
      "\n",
      "Tit   = total number of iterations\n",
      "Tnf   = total number of function evaluations\n",
      "Tnint = total number of segments explored during Cauchy searches\n",
      "Skip  = number of BFGS updates skipped\n",
      "Nact  = number of active bounds at final generalized Cauchy point\n",
      "Projg = norm of the final projected gradient\n",
      "F     = final function value\n",
      "\n",
      "           * * *\n",
      "\n",
      "   N    Tit     Tnf  Tnint  Skip  Nact     Projg        F\n",
      "    3     13     23      1     0     0   9.299D-05  -4.667D-01\n",
      "  F = -0.46672288678211560     \n",
      "\n",
      "CONVERGENCE: REL_REDUCTION_OF_F_<=_FACTR*EPSMCH             \n"
     ]
    },
    {
     "name": "stderr",
     "output_type": "stream",
     "text": [
      "A date index has been provided, but it has no associated frequency information and so will be ignored when e.g. forecasting.\n",
      "A date index has been provided, but it has no associated frequency information and so will be ignored when e.g. forecasting.\n",
      "Too few observations to estimate starting parameters for seasonal ARMA. All parameters except for variances will be set to zeros.\n",
      " This problem is unconstrained.\n"
     ]
    }
   ],
   "source": [
    "arima_model = sm.tsa.statespace.SARIMAX(arima,order=(0, 1, 0),seasonal_order=(1, 1, 1, 12),\n",
    "                                eenforce_invertibility=False)\n",
    "                                \n",
    "results = arima_model.fit()"
   ]
  },
  {
   "cell_type": "code",
   "execution_count": 84,
   "id": "be1922d3",
   "metadata": {},
   "outputs": [
    {
     "data": {
      "image/png": "[encoded data removed]",
      "text/plain": [
       "<Figure size 1008x504 with 1 Axes>"
      ]
     },
     "metadata": {
      "needs_background": "light"
     },
     "output_type": "display_data"
    },
    {
     "name": "stdout",
     "output_type": "stream",
     "text": [
      "The Root Mean Squared Error of the ARIMA model is: 0.07405929422584934\n"
     ]
    }
   ],
   "source": [
    "pred = results.get_prediction('2022-03-01', dynamic=False)\n",
    "ax = arima['2021':].plot(label='Real')\n",
    "pred.predicted_mean.plot(ax=ax, label='Forecasted Predictions', alpha=.7, figsize=(14, 7))\n",
    "ax.set_xlabel('Date')\n",
    "ax.set_ylabel('mean_price')\n",
    "plt.legend()\n",
    "plt.title('Average weekly Price of Parallel Alpha NFT')\n",
    "plt.show()\n",
    "y_forecasted = pred.predicted_mean\n",
    "y_truth = arima['2022-03-01':]\n",
    "arima_mae=mean_absolute_error(y_truth, y_forecasted)\n",
    "print('The Root Mean Squared Error of the ARIMA model is:',arima_mae)"
   ]
  },
  {
   "cell_type": "markdown",
   "id": "744b24ff",
   "metadata": {},
   "source": [
    "#### As can be seen, the mean absolute error is 0.07, and from the plot it can be seen that the forecast follows the trend of the actual, which suggests, it does well to forecast the price"
   ]
  },
  {
   "cell_type": "code",
   "execution_count": 85,
   "id": "a0faa466",
   "metadata": {},
   "outputs": [
    {
     "data": {
      "image/png": "[encoded data removed]",
      "text/plain": [
       "<Figure size 1008x504 with 1 Axes>"
      ]
     },
     "metadata": {
      "needs_background": "light"
     },
     "output_type": "display_data"
    }
   ],
   "source": [
    "fcast_index = pd.to_datetime(['2022-04-19'])\n",
    "pred_uc = results.get_forecast(steps=1 , index=fcast_index)\n",
    "ax = arima.plot(label='Real', figsize=(14, 7))\n",
    "pred_uc.predicted_mean.plot(ax=ax, label='Forecasted')\n",
    "plt.show()"
   ]
  },
  {
   "cell_type": "code",
   "execution_count": 86,
   "id": "708b337d",
   "metadata": {},
   "outputs": [],
   "source": [
    "forecast_cols=(pd.DataFrame(pred_uc.predicted_mean).reset_index()).rename(columns={'index':'date','predicted_mean':'mean_price'})"
   ]
  },
  {
   "cell_type": "code",
   "execution_count": 87,
   "id": "2bae319c",
   "metadata": {},
   "outputs": [
    {
     "data": {
      "text/html": [
       "<div>\n",
       "<style scoped>\n",
       "    .dataframe tbody tr th:only-of-type {\n",
       "        vertical-align: middle;\n",
       "    }\n",
       "\n",
       "    .dataframe tbody tr th {\n",
       "        vertical-align: top;\n",
       "    }\n",
       "\n",
       "    .dataframe thead th {\n",
       "        text-align: right;\n",
       "    }\n",
       "</style>\n",
       "<table border=\"1\" class=\"dataframe\">\n",
       "  <thead>\n",
       "    <tr style=\"text-align: right;\">\n",
       "      <th></th>\n",
       "      <th>date</th>\n",
       "      <th>mean_price</th>\n",
       "    </tr>\n",
       "  </thead>\n",
       "  <tbody>\n",
       "    <tr>\n",
       "      <th>0</th>\n",
       "      <td>2021-08-24</td>\n",
       "      <td>0.582914</td>\n",
       "    </tr>\n",
       "  </tbody>\n",
       "</table>\n",
       "</div>"
      ],
      "text/plain": [
       "        date  mean_price\n",
       "0 2021-08-24    0.582914"
      ]
     },
     "execution_count": 87,
     "metadata": {},
     "output_type": "execute_result"
    }
   ],
   "source": [
    "agg_df[['date','mean_price']].head(1)"
   ]
  },
  {
   "cell_type": "code",
   "execution_count": 88,
   "id": "aa884fa5",
   "metadata": {},
   "outputs": [
    {
     "name": "stderr",
     "output_type": "stream",
     "text": [
      "The frame.append method is deprecated and will be removed from pandas in a future version. Use pandas.concat instead.\n"
     ]
    },
    {
     "data": {
      "text/plain": [
       "<AxesSubplot:xlabel='date'>"
      ]
     },
     "execution_count": 88,
     "metadata": {},
     "output_type": "execute_result"
    },
    {
     "data": {
      "image/png": "[encoded data removed]",
      "text/plain": [
       "<Figure size 1008x504 with 1 Axes>"
      ]
     },
     "metadata": {
      "needs_background": "light"
     },
     "output_type": "display_data"
    }
   ],
   "source": [
    "actual_cols=agg_df[['date','mean_price']]\n",
    "(actual_cols.append(forecast_cols)).set_index('date').plot(figsize=(14, 7))"
   ]
  },
  {
   "cell_type": "markdown",
   "id": "f9c280f5",
   "metadata": {},
   "source": [
    "#### This is how the Average price looks with the addition of the forecast next week price"
   ]
  },
  {
   "cell_type": "markdown",
   "id": "da9da714",
   "metadata": {},
   "source": [
    "### Prophet"
   ]
  },
  {
   "cell_type": "code",
   "execution_count": 90,
   "id": "27b83e75",
   "metadata": {},
   "outputs": [],
   "source": [
    "df_prophet=agg_df.drop(columns=['collectionname']).reset_index()[['date','num_of_sellers','number_of_buyers','volume_of_assets_traded','mean_price','word_countmean','readabilitymean','popular_tweetfirst_0.0','popular_tweetfirst_1.0','very_popular_tweetfirst_0.0','very_popular_tweetfirst_1.0']].rename({'date':'ds','mean_price':'y'}, axis='columns')"
   ]
  },
  {
   "cell_type": "code",
   "execution_count": 91,
   "id": "d1464818",
   "metadata": {},
   "outputs": [
    {
     "data": {
      "text/html": [
       "<div>\n",
       "<style scoped>\n",
       "    .dataframe tbody tr th:only-of-type {\n",
       "        vertical-align: middle;\n",
       "    }\n",
       "\n",
       "    .dataframe tbody tr th {\n",
       "        vertical-align: top;\n",
       "    }\n",
       "\n",
       "    .dataframe thead th {\n",
       "        text-align: right;\n",
       "    }\n",
       "</style>\n",
       "<table border=\"1\" class=\"dataframe\">\n",
       "  <thead>\n",
       "    <tr style=\"text-align: right;\">\n",
       "      <th></th>\n",
       "      <th>ds</th>\n",
       "      <th>num_of_sellers</th>\n",
       "      <th>number_of_buyers</th>\n",
       "      <th>volume_of_assets_traded</th>\n",
       "      <th>y</th>\n",
       "      <th>word_countmean</th>\n",
       "      <th>readabilitymean</th>\n",
       "      <th>popular_tweetfirst_0.0</th>\n",
       "      <th>popular_tweetfirst_1.0</th>\n",
       "      <th>very_popular_tweetfirst_0.0</th>\n",
       "      <th>very_popular_tweetfirst_1.0</th>\n",
       "    </tr>\n",
       "  </thead>\n",
       "  <tbody>\n",
       "    <tr>\n",
       "      <th>0</th>\n",
       "      <td>2021-08-24</td>\n",
       "      <td>821</td>\n",
       "      <td>643</td>\n",
       "      <td>77</td>\n",
       "      <td>0.582914</td>\n",
       "      <td>19.000000</td>\n",
       "      <td>52.190000</td>\n",
       "      <td>1</td>\n",
       "      <td>0</td>\n",
       "      <td>1</td>\n",
       "      <td>0</td>\n",
       "    </tr>\n",
       "    <tr>\n",
       "      <th>1</th>\n",
       "      <td>2021-08-31</td>\n",
       "      <td>963</td>\n",
       "      <td>1031</td>\n",
       "      <td>87</td>\n",
       "      <td>0.529011</td>\n",
       "      <td>18.666667</td>\n",
       "      <td>52.530000</td>\n",
       "      <td>0</td>\n",
       "      <td>1</td>\n",
       "      <td>1</td>\n",
       "      <td>0</td>\n",
       "    </tr>\n",
       "    <tr>\n",
       "      <th>2</th>\n",
       "      <td>2021-10-19</td>\n",
       "      <td>82</td>\n",
       "      <td>62</td>\n",
       "      <td>49</td>\n",
       "      <td>0.517299</td>\n",
       "      <td>19.000000</td>\n",
       "      <td>52.190000</td>\n",
       "      <td>1</td>\n",
       "      <td>0</td>\n",
       "      <td>1</td>\n",
       "      <td>0</td>\n",
       "    </tr>\n",
       "    <tr>\n",
       "      <th>3</th>\n",
       "      <td>2021-10-26</td>\n",
       "      <td>69</td>\n",
       "      <td>69</td>\n",
       "      <td>45</td>\n",
       "      <td>0.471237</td>\n",
       "      <td>15.666667</td>\n",
       "      <td>48.525000</td>\n",
       "      <td>1</td>\n",
       "      <td>0</td>\n",
       "      <td>1</td>\n",
       "      <td>0</td>\n",
       "    </tr>\n",
       "    <tr>\n",
       "      <th>4</th>\n",
       "      <td>2021-11-02</td>\n",
       "      <td>827</td>\n",
       "      <td>737</td>\n",
       "      <td>97</td>\n",
       "      <td>0.596750</td>\n",
       "      <td>19.344681</td>\n",
       "      <td>44.748979</td>\n",
       "      <td>1</td>\n",
       "      <td>0</td>\n",
       "      <td>1</td>\n",
       "      <td>0</td>\n",
       "    </tr>\n",
       "  </tbody>\n",
       "</table>\n",
       "</div>"
      ],
      "text/plain": [
       "          ds  num_of_sellers  number_of_buyers  volume_of_assets_traded  \\\n",
       "0 2021-08-24             821               643                       77   \n",
       "1 2021-08-31             963              1031                       87   \n",
       "2 2021-10-19              82                62                       49   \n",
       "3 2021-10-26              69                69                       45   \n",
       "4 2021-11-02             827               737                       97   \n",
       "\n",
       "          y  word_countmean  readabilitymean  popular_tweetfirst_0.0  \\\n",
       "0  0.582914       19.000000        52.190000                       1   \n",
       "1  0.529011       18.666667        52.530000                       0   \n",
       "2  0.517299       19.000000        52.190000                       1   \n",
       "3  0.471237       15.666667        48.525000                       1   \n",
       "4  0.596750       19.344681        44.748979                       1   \n",
       "\n",
       "   popular_tweetfirst_1.0  very_popular_tweetfirst_0.0  \\\n",
       "0                       0                            1   \n",
       "1                       1                            1   \n",
       "2                       0                            1   \n",
       "3                       0                            1   \n",
       "4                       0                            1   \n",
       "\n",
       "   very_popular_tweetfirst_1.0  \n",
       "0                            0  \n",
       "1                            0  \n",
       "2                            0  \n",
       "3                            0  \n",
       "4                            0  "
      ]
     },
     "execution_count": 91,
     "metadata": {},
     "output_type": "execute_result"
    }
   ],
   "source": [
    "df_prophet.head()"
   ]
  },
  {
   "cell_type": "code",
   "execution_count": 92,
   "id": "d9778a5f",
   "metadata": {
    "scrolled": false
   },
   "outputs": [
    {
     "data": {
      "image/png": "[encoded data removed]",
      "text/plain": [
       "<Figure size 864x576 with 1 Axes>"
      ]
     },
     "metadata": {
      "needs_background": "light"
     },
     "output_type": "display_data"
    }
   ],
   "source": [
    "ax = df_prophet.set_index('ds')['y'].plot(figsize=(12, 8))\n",
    "ax.set_ylabel('Average price of parallel alpha nft')\n",
    "ax.set_xlabel('Date')\n",
    "\n",
    "plt.show()"
   ]
  },
  {
   "cell_type": "code",
   "execution_count": 93,
   "id": "206c333e",
   "metadata": {},
   "outputs": [
    {
     "data": {
      "text/html": [
       "<div>\n",
       "<style scoped>\n",
       "    .dataframe tbody tr th:only-of-type {\n",
       "        vertical-align: middle;\n",
       "    }\n",
       "\n",
       "    .dataframe tbody tr th {\n",
       "        vertical-align: top;\n",
       "    }\n",
       "\n",
       "    .dataframe thead th {\n",
       "        text-align: right;\n",
       "    }\n",
       "</style>\n",
       "<table border=\"1\" class=\"dataframe\">\n",
       "  <thead>\n",
       "    <tr style=\"text-align: right;\">\n",
       "      <th></th>\n",
       "      <th>ds</th>\n",
       "      <th>num_of_sellers</th>\n",
       "      <th>number_of_buyers</th>\n",
       "      <th>volume_of_assets_traded</th>\n",
       "      <th>y</th>\n",
       "      <th>word_countmean</th>\n",
       "      <th>readabilitymean</th>\n",
       "      <th>popular_tweetfirst_0.0</th>\n",
       "      <th>popular_tweetfirst_1.0</th>\n",
       "      <th>very_popular_tweetfirst_0.0</th>\n",
       "      <th>very_popular_tweetfirst_1.0</th>\n",
       "    </tr>\n",
       "  </thead>\n",
       "  <tbody>\n",
       "    <tr>\n",
       "      <th>0</th>\n",
       "      <td>2021-08-24</td>\n",
       "      <td>821</td>\n",
       "      <td>643</td>\n",
       "      <td>77</td>\n",
       "      <td>0.582914</td>\n",
       "      <td>19.000000</td>\n",
       "      <td>52.190000</td>\n",
       "      <td>1</td>\n",
       "      <td>0</td>\n",
       "      <td>1</td>\n",
       "      <td>0</td>\n",
       "    </tr>\n",
       "    <tr>\n",
       "      <th>1</th>\n",
       "      <td>2021-08-31</td>\n",
       "      <td>963</td>\n",
       "      <td>1031</td>\n",
       "      <td>87</td>\n",
       "      <td>0.529011</td>\n",
       "      <td>18.666667</td>\n",
       "      <td>52.530000</td>\n",
       "      <td>0</td>\n",
       "      <td>1</td>\n",
       "      <td>1</td>\n",
       "      <td>0</td>\n",
       "    </tr>\n",
       "    <tr>\n",
       "      <th>2</th>\n",
       "      <td>2021-10-19</td>\n",
       "      <td>82</td>\n",
       "      <td>62</td>\n",
       "      <td>49</td>\n",
       "      <td>0.517299</td>\n",
       "      <td>19.000000</td>\n",
       "      <td>52.190000</td>\n",
       "      <td>1</td>\n",
       "      <td>0</td>\n",
       "      <td>1</td>\n",
       "      <td>0</td>\n",
       "    </tr>\n",
       "    <tr>\n",
       "      <th>3</th>\n",
       "      <td>2021-10-26</td>\n",
       "      <td>69</td>\n",
       "      <td>69</td>\n",
       "      <td>45</td>\n",
       "      <td>0.471237</td>\n",
       "      <td>15.666667</td>\n",
       "      <td>48.525000</td>\n",
       "      <td>1</td>\n",
       "      <td>0</td>\n",
       "      <td>1</td>\n",
       "      <td>0</td>\n",
       "    </tr>\n",
       "    <tr>\n",
       "      <th>4</th>\n",
       "      <td>2021-11-02</td>\n",
       "      <td>827</td>\n",
       "      <td>737</td>\n",
       "      <td>97</td>\n",
       "      <td>0.596750</td>\n",
       "      <td>19.344681</td>\n",
       "      <td>44.748979</td>\n",
       "      <td>1</td>\n",
       "      <td>0</td>\n",
       "      <td>1</td>\n",
       "      <td>0</td>\n",
       "    </tr>\n",
       "  </tbody>\n",
       "</table>\n",
       "</div>"
      ],
      "text/plain": [
       "          ds  num_of_sellers  number_of_buyers  volume_of_assets_traded  \\\n",
       "0 2021-08-24             821               643                       77   \n",
       "1 2021-08-31             963              1031                       87   \n",
       "2 2021-10-19              82                62                       49   \n",
       "3 2021-10-26              69                69                       45   \n",
       "4 2021-11-02             827               737                       97   \n",
       "\n",
       "          y  word_countmean  readabilitymean  popular_tweetfirst_0.0  \\\n",
       "0  0.582914       19.000000        52.190000                       1   \n",
       "1  0.529011       18.666667        52.530000                       0   \n",
       "2  0.517299       19.000000        52.190000                       1   \n",
       "3  0.471237       15.666667        48.525000                       1   \n",
       "4  0.596750       19.344681        44.748979                       1   \n",
       "\n",
       "   popular_tweetfirst_1.0  very_popular_tweetfirst_0.0  \\\n",
       "0                       0                            1   \n",
       "1                       1                            1   \n",
       "2                       0                            1   \n",
       "3                       0                            1   \n",
       "4                       0                            1   \n",
       "\n",
       "   very_popular_tweetfirst_1.0  \n",
       "0                            0  \n",
       "1                            0  \n",
       "2                            0  \n",
       "3                            0  \n",
       "4                            0  "
      ]
     },
     "execution_count": 93,
     "metadata": {},
     "output_type": "execute_result"
    }
   ],
   "source": [
    "df_prophet.head()"
   ]
  },
  {
   "cell_type": "code",
   "execution_count": 94,
   "id": "5f4880a7",
   "metadata": {
    "scrolled": true
   },
   "outputs": [
    {
     "data": {
      "text/plain": [
       "<fbprophet.forecaster.Prophet at 0x291549850>"
      ]
     },
     "execution_count": 94,
     "metadata": {},
     "output_type": "execute_result"
    }
   ],
   "source": [
    "model = Prophet(weekly_seasonality=True, growth='logistic')\n",
    "model.add_regressor('num_of_sellers')\n",
    "model.add_regressor('number_of_buyers')\n",
    "model.add_regressor('volume_of_assets_traded')\n",
    "model.add_regressor('word_countmean')\n",
    "model.add_regressor('readabilitymean')\n",
    "model.add_regressor('volume_of_assets_traded')\n",
    "model.add_regressor('popular_tweetfirst_0.0')\n",
    "model.add_regressor('popular_tweetfirst_1.0')\n",
    "model.add_regressor('very_popular_tweetfirst_0.0')\n",
    "model.add_regressor('very_popular_tweetfirst_1.0')\n"
   ]
  },
  {
   "cell_type": "markdown",
   "id": "edfbc73f",
   "metadata": {},
   "source": [
    "#### Adding the rest of the features for multivariate modelling"
   ]
  },
  {
   "cell_type": "code",
   "execution_count": 95,
   "id": "cf8baa26",
   "metadata": {
    "scrolled": true
   },
   "outputs": [
    {
     "name": "stderr",
     "output_type": "stream",
     "text": [
      "INFO:fbprophet:Disabling yearly seasonality. Run prophet with yearly_seasonality=True to override this.\n",
      "INFO:fbprophet:Disabling daily seasonality. Run prophet with daily_seasonality=True to override this.\n",
      "The frame.append method is deprecated and will be removed from pandas in a future version. Use pandas.concat instead.\n",
      "INFO:fbprophet:n_changepoints greater than number of observations. Using 21.\n"
     ]
    },
    {
     "name": "stdout",
     "output_type": "stream",
     "text": [
      "\n",
      "Initial log joint probability = -33.9296\n"
     ]
    },
    {
     "data": {
      "text/plain": [
       "<fbprophet.forecaster.Prophet at 0x291549850>"
      ]
     },
     "execution_count": 95,
     "metadata": {},
     "output_type": "execute_result"
    },
    {
     "name": "stdout",
     "output_type": "stream",
     "text": [
      "Iteration  1. Log joint probability =    19.7248. Improved by 53.6544.\n",
      "Iteration  2. Log joint probability =    26.5243. Improved by 6.7995.\n",
      "Iteration  3. Log joint probability =    34.1035. Improved by 7.57921.\n",
      "Iteration  4. Log joint probability =    37.5295. Improved by 3.42603.\n",
      "Iteration  5. Log joint probability =     37.768. Improved by 0.238507.\n",
      "Iteration  6. Log joint probability =    38.2684. Improved by 0.500386.\n",
      "Iteration  7. Log joint probability =    38.3334. Improved by 0.0650032.\n",
      "Iteration  8. Log joint probability =     38.362. Improved by 0.0285445.\n",
      "Iteration  9. Log joint probability =    38.4154. Improved by 0.0534383.\n",
      "Iteration 10. Log joint probability =    38.4585. Improved by 0.0431102.\n",
      "Iteration 11. Log joint probability =    38.4626. Improved by 0.00404926.\n",
      "Iteration 12. Log joint probability =    38.4633. Improved by 0.000779422.\n",
      "Iteration 13. Log joint probability =    38.4712. Improved by 0.00782751.\n",
      "Iteration 14. Log joint probability =    38.4895. Improved by 0.0182962.\n",
      "Iteration 15. Log joint probability =    38.4989. Improved by 0.00941545.\n",
      "Iteration 16. Log joint probability =    38.5084. Improved by 0.00947699.\n",
      "Iteration 17. Log joint probability =    38.5093. Improved by 0.00091433.\n",
      "Iteration 18. Log joint probability =    38.5104. Improved by 0.00117449.\n",
      "Iteration 19. Log joint probability =     38.511. Improved by 0.000527702.\n",
      "Iteration 20. Log joint probability =    38.5119. Improved by 0.000887065.\n",
      "Iteration 21. Log joint probability =    38.5121. Improved by 0.000282205.\n",
      "Iteration 22. Log joint probability =     38.513. Improved by 0.00084484.\n",
      "Iteration 23. Log joint probability =    38.5132. Improved by 0.00021652.\n",
      "Iteration 24. Log joint probability =    38.5138. Improved by 0.000608883.\n",
      "Iteration 25. Log joint probability =    38.5139. Improved by 0.000124182.\n",
      "Iteration 26. Log joint probability =    38.5146. Improved by 0.000663128.\n",
      "Iteration 27. Log joint probability =    38.5192. Improved by 0.00463485.\n",
      "Iteration 28. Log joint probability =    38.5207. Improved by 0.00150228.\n",
      "Iteration 29. Log joint probability =    38.5224. Improved by 0.00170867.\n",
      "Iteration 30. Log joint probability =    38.5232. Improved by 0.000787058.\n",
      "Iteration 31. Log joint probability =    38.5239. Improved by 0.000667082.\n",
      "Iteration 32. Log joint probability =    38.5245. Improved by 0.000624829.\n",
      "Iteration 33. Log joint probability =    38.5249. Improved by 0.000393734.\n",
      "Iteration 34. Log joint probability =    38.5249. Improved by 1.44817e-05.\n",
      "Iteration 35. Log joint probability =    38.5249. Improved by 2.20764e-05.\n",
      "Iteration 36. Log joint probability =    38.5253. Improved by 0.000377622.\n",
      "Iteration 37. Log joint probability =    38.5255. Improved by 0.000171524.\n",
      "Iteration 38. Log joint probability =    38.5255. Improved by 2.08585e-05.\n",
      "Iteration 39. Log joint probability =    38.5256. Improved by 5.22392e-05.\n",
      "Iteration 40. Log joint probability =    38.5256. Improved by 6.03151e-06.\n",
      "Iteration 41. Log joint probability =    38.5256. Improved by 2.10673e-05.\n",
      "Iteration 42. Log joint probability =    38.5256. Improved by 7.45935e-06.\n",
      "Iteration 43. Log joint probability =    38.5256. Improved by 6.25265e-06.\n",
      "Iteration 44. Log joint probability =    38.5256. Improved by 7.50788e-06.\n",
      "Iteration 45. Log joint probability =    38.5256. Improved by 7.64066e-07.\n",
      "Iteration 46. Log joint probability =    38.5256. Improved by 5.76685e-06.\n",
      "Iteration 47. Log joint probability =    38.5256. Improved by 2.0071e-06.\n",
      "Iteration 48. Log joint probability =    38.5256. Improved by 1.25141e-06.\n",
      "Iteration 49. Log joint probability =    38.5256. Improved by 9.75302e-08.\n",
      "Iteration 50. Log joint probability =    38.5256. Improved by 1.2269e-08.\n",
      "Iteration 51. Log joint probability =    38.5256. Improved by 4.51605e-09.\n"
     ]
    }
   ],
   "source": [
    "df_prophet['cap'] = 0.87\n",
    "df_prophet['floor'] = 0.4\n",
    "model.fit(df_prophet)"
   ]
  },
  {
   "cell_type": "code",
   "execution_count": 96,
   "id": "316e8f2f",
   "metadata": {},
   "outputs": [
    {
     "data": {
      "text/html": [
       "<div>\n",
       "<style scoped>\n",
       "    .dataframe tbody tr th:only-of-type {\n",
       "        vertical-align: middle;\n",
       "    }\n",
       "\n",
       "    .dataframe tbody tr th {\n",
       "        vertical-align: top;\n",
       "    }\n",
       "\n",
       "    .dataframe thead th {\n",
       "        text-align: right;\n",
       "    }\n",
       "</style>\n",
       "<table border=\"1\" class=\"dataframe\">\n",
       "  <thead>\n",
       "    <tr style=\"text-align: right;\">\n",
       "      <th></th>\n",
       "      <th>ds</th>\n",
       "    </tr>\n",
       "  </thead>\n",
       "  <tbody>\n",
       "    <tr>\n",
       "      <th>0</th>\n",
       "      <td>2021-08-24</td>\n",
       "    </tr>\n",
       "    <tr>\n",
       "      <th>1</th>\n",
       "      <td>2021-08-31</td>\n",
       "    </tr>\n",
       "  </tbody>\n",
       "</table>\n",
       "</div>"
      ],
      "text/plain": [
       "          ds\n",
       "0 2021-08-24\n",
       "1 2021-08-31"
      ]
     },
     "execution_count": 96,
     "metadata": {},
     "output_type": "execute_result"
    }
   ],
   "source": [
    "future_dates=model.make_future_dataframe(periods=1, freq='w-tue')\n",
    "future_dates.head(2)"
   ]
  },
  {
   "cell_type": "code",
   "execution_count": 97,
   "id": "410f6947",
   "metadata": {},
   "outputs": [
    {
     "data": {
      "text/html": [
       "<div>\n",
       "<style scoped>\n",
       "    .dataframe tbody tr th:only-of-type {\n",
       "        vertical-align: middle;\n",
       "    }\n",
       "\n",
       "    .dataframe tbody tr th {\n",
       "        vertical-align: top;\n",
       "    }\n",
       "\n",
       "    .dataframe thead th {\n",
       "        text-align: right;\n",
       "    }\n",
       "</style>\n",
       "<table border=\"1\" class=\"dataframe\">\n",
       "  <thead>\n",
       "    <tr style=\"text-align: right;\">\n",
       "      <th></th>\n",
       "      <th>date</th>\n",
       "      <th>word_countmean</th>\n",
       "      <th>readabilitymean</th>\n",
       "      <th>collectionname</th>\n",
       "      <th>num_of_sellers</th>\n",
       "      <th>number_of_buyers</th>\n",
       "      <th>volume_of_assets_traded</th>\n",
       "      <th>mean_price</th>\n",
       "      <th>Negative</th>\n",
       "      <th>Neutral</th>\n",
       "      <th>Positive</th>\n",
       "      <th>popular_tweetfirst_0.0</th>\n",
       "      <th>popular_tweetfirst_1.0</th>\n",
       "      <th>very_popular_tweetfirst_0.0</th>\n",
       "      <th>very_popular_tweetfirst_1.0</th>\n",
       "    </tr>\n",
       "  </thead>\n",
       "  <tbody>\n",
       "    <tr>\n",
       "      <th>0</th>\n",
       "      <td>2021-08-24</td>\n",
       "      <td>19.0</td>\n",
       "      <td>52.19</td>\n",
       "      <td>Parallel Alpha</td>\n",
       "      <td>821</td>\n",
       "      <td>643</td>\n",
       "      <td>77</td>\n",
       "      <td>0.582914</td>\n",
       "      <td>0</td>\n",
       "      <td>0</td>\n",
       "      <td>1</td>\n",
       "      <td>1</td>\n",
       "      <td>0</td>\n",
       "      <td>1</td>\n",
       "      <td>0</td>\n",
       "    </tr>\n",
       "  </tbody>\n",
       "</table>\n",
       "</div>"
      ],
      "text/plain": [
       "        date  word_countmean  readabilitymean  collectionname  num_of_sellers  \\\n",
       "0 2021-08-24            19.0            52.19  Parallel Alpha             821   \n",
       "\n",
       "   number_of_buyers  volume_of_assets_traded  mean_price  Negative  Neutral  \\\n",
       "0               643                       77    0.582914         0        0   \n",
       "\n",
       "   Positive  popular_tweetfirst_0.0  popular_tweetfirst_1.0  \\\n",
       "0         1                       1                       0   \n",
       "\n",
       "   very_popular_tweetfirst_0.0  very_popular_tweetfirst_1.0  \n",
       "0                            1                            0  "
      ]
     },
     "execution_count": 97,
     "metadata": {},
     "output_type": "execute_result"
    }
   ],
   "source": [
    "agg_df.head(1)"
   ]
  },
  {
   "cell_type": "code",
   "execution_count": 98,
   "id": "4aa46627",
   "metadata": {},
   "outputs": [],
   "source": [
    "fut_features=df_prophet.drop(columns=['ds','y'])"
   ]
  },
  {
   "cell_type": "code",
   "execution_count": 99,
   "id": "80c92651",
   "metadata": {},
   "outputs": [
    {
     "data": {
      "text/html": [
       "<div>\n",
       "<style scoped>\n",
       "    .dataframe tbody tr th:only-of-type {\n",
       "        vertical-align: middle;\n",
       "    }\n",
       "\n",
       "    .dataframe tbody tr th {\n",
       "        vertical-align: top;\n",
       "    }\n",
       "\n",
       "    .dataframe thead th {\n",
       "        text-align: right;\n",
       "    }\n",
       "</style>\n",
       "<table border=\"1\" class=\"dataframe\">\n",
       "  <thead>\n",
       "    <tr style=\"text-align: right;\">\n",
       "      <th></th>\n",
       "      <th>num_of_sellers</th>\n",
       "      <th>number_of_buyers</th>\n",
       "      <th>volume_of_assets_traded</th>\n",
       "      <th>word_countmean</th>\n",
       "      <th>readabilitymean</th>\n",
       "      <th>popular_tweetfirst_0.0</th>\n",
       "      <th>popular_tweetfirst_1.0</th>\n",
       "      <th>very_popular_tweetfirst_0.0</th>\n",
       "      <th>very_popular_tweetfirst_1.0</th>\n",
       "      <th>cap</th>\n",
       "      <th>floor</th>\n",
       "    </tr>\n",
       "  </thead>\n",
       "  <tbody>\n",
       "    <tr>\n",
       "      <th>24</th>\n",
       "      <td>95</td>\n",
       "      <td>70</td>\n",
       "      <td>33</td>\n",
       "      <td>24.200000</td>\n",
       "      <td>32.361600</td>\n",
       "      <td>0</td>\n",
       "      <td>1</td>\n",
       "      <td>1</td>\n",
       "      <td>0</td>\n",
       "      <td>0.87</td>\n",
       "      <td>0.4</td>\n",
       "    </tr>\n",
       "    <tr>\n",
       "      <th>25</th>\n",
       "      <td>53</td>\n",
       "      <td>33</td>\n",
       "      <td>28</td>\n",
       "      <td>23.307692</td>\n",
       "      <td>25.040769</td>\n",
       "      <td>0</td>\n",
       "      <td>1</td>\n",
       "      <td>1</td>\n",
       "      <td>0</td>\n",
       "      <td>0.87</td>\n",
       "      <td>0.4</td>\n",
       "    </tr>\n",
       "    <tr>\n",
       "      <th>26</th>\n",
       "      <td>34</td>\n",
       "      <td>27</td>\n",
       "      <td>20</td>\n",
       "      <td>22.531250</td>\n",
       "      <td>25.605313</td>\n",
       "      <td>0</td>\n",
       "      <td>1</td>\n",
       "      <td>1</td>\n",
       "      <td>0</td>\n",
       "      <td>0.87</td>\n",
       "      <td>0.4</td>\n",
       "    </tr>\n",
       "    <tr>\n",
       "      <th>27</th>\n",
       "      <td>42</td>\n",
       "      <td>33</td>\n",
       "      <td>26</td>\n",
       "      <td>15.343373</td>\n",
       "      <td>45.201325</td>\n",
       "      <td>1</td>\n",
       "      <td>0</td>\n",
       "      <td>1</td>\n",
       "      <td>0</td>\n",
       "      <td>0.87</td>\n",
       "      <td>0.4</td>\n",
       "    </tr>\n",
       "  </tbody>\n",
       "</table>\n",
       "</div>"
      ],
      "text/plain": [
       "    num_of_sellers  number_of_buyers  volume_of_assets_traded  word_countmean  \\\n",
       "24              95                70                       33       24.200000   \n",
       "25              53                33                       28       23.307692   \n",
       "26              34                27                       20       22.531250   \n",
       "27              42                33                       26       15.343373   \n",
       "\n",
       "    readabilitymean  popular_tweetfirst_0.0  popular_tweetfirst_1.0  \\\n",
       "24        32.361600                       0                       1   \n",
       "25        25.040769                       0                       1   \n",
       "26        25.605313                       0                       1   \n",
       "27        45.201325                       1                       0   \n",
       "\n",
       "    very_popular_tweetfirst_0.0  very_popular_tweetfirst_1.0   cap  floor  \n",
       "24                            1                            0  0.87    0.4  \n",
       "25                            1                            0  0.87    0.4  \n",
       "26                            1                            0  0.87    0.4  \n",
       "27                            1                            0  0.87    0.4  "
      ]
     },
     "execution_count": 99,
     "metadata": {},
     "output_type": "execute_result"
    }
   ],
   "source": [
    "past_month=fut_features.tail(4)\n",
    "past_month.head()"
   ]
  },
  {
   "cell_type": "code",
   "execution_count": 100,
   "id": "5d1cad61",
   "metadata": {},
   "outputs": [],
   "source": [
    "future_dates=pd.concat([future_dates,fut_features],axis=1)"
   ]
  },
  {
   "cell_type": "code",
   "execution_count": 101,
   "id": "b601256d",
   "metadata": {},
   "outputs": [],
   "source": [
    "future_dates=future_dates.fillna(past_month.median())"
   ]
  },
  {
   "cell_type": "code",
   "execution_count": 102,
   "id": "13e3e56c",
   "metadata": {},
   "outputs": [
    {
     "name": "stderr",
     "output_type": "stream",
     "text": [
      "The frame.append method is deprecated and will be removed from pandas in a future version. Use pandas.concat instead.\n",
      "The frame.append method is deprecated and will be removed from pandas in a future version. Use pandas.concat instead.\n"
     ]
    },
    {
     "data": {
      "text/html": [
       "<div>\n",
       "<style scoped>\n",
       "    .dataframe tbody tr th:only-of-type {\n",
       "        vertical-align: middle;\n",
       "    }\n",
       "\n",
       "    .dataframe tbody tr th {\n",
       "        vertical-align: top;\n",
       "    }\n",
       "\n",
       "    .dataframe thead th {\n",
       "        text-align: right;\n",
       "    }\n",
       "</style>\n",
       "<table border=\"1\" class=\"dataframe\">\n",
       "  <thead>\n",
       "    <tr style=\"text-align: right;\">\n",
       "      <th></th>\n",
       "      <th>ds</th>\n",
       "      <th>yhat</th>\n",
       "    </tr>\n",
       "  </thead>\n",
       "  <tbody>\n",
       "    <tr>\n",
       "      <th>0</th>\n",
       "      <td>2021-08-24</td>\n",
       "      <td>0.605195</td>\n",
       "    </tr>\n",
       "    <tr>\n",
       "      <th>1</th>\n",
       "      <td>2021-08-31</td>\n",
       "      <td>0.501333</td>\n",
       "    </tr>\n",
       "    <tr>\n",
       "      <th>2</th>\n",
       "      <td>2021-10-19</td>\n",
       "      <td>0.598572</td>\n",
       "    </tr>\n",
       "    <tr>\n",
       "      <th>3</th>\n",
       "      <td>2021-10-26</td>\n",
       "      <td>0.578720</td>\n",
       "    </tr>\n",
       "    <tr>\n",
       "      <th>4</th>\n",
       "      <td>2021-11-02</td>\n",
       "      <td>0.579521</td>\n",
       "    </tr>\n",
       "    <tr>\n",
       "      <th>5</th>\n",
       "      <td>2021-11-09</td>\n",
       "      <td>0.654097</td>\n",
       "    </tr>\n",
       "    <tr>\n",
       "      <th>6</th>\n",
       "      <td>2021-11-16</td>\n",
       "      <td>0.577004</td>\n",
       "    </tr>\n",
       "    <tr>\n",
       "      <th>7</th>\n",
       "      <td>2021-11-23</td>\n",
       "      <td>0.809695</td>\n",
       "    </tr>\n",
       "    <tr>\n",
       "      <th>8</th>\n",
       "      <td>2021-11-30</td>\n",
       "      <td>0.653592</td>\n",
       "    </tr>\n",
       "    <tr>\n",
       "      <th>9</th>\n",
       "      <td>2021-12-07</td>\n",
       "      <td>0.670111</td>\n",
       "    </tr>\n",
       "    <tr>\n",
       "      <th>10</th>\n",
       "      <td>2021-12-14</td>\n",
       "      <td>0.646315</td>\n",
       "    </tr>\n",
       "    <tr>\n",
       "      <th>11</th>\n",
       "      <td>2021-12-21</td>\n",
       "      <td>0.669377</td>\n",
       "    </tr>\n",
       "    <tr>\n",
       "      <th>12</th>\n",
       "      <td>2021-12-28</td>\n",
       "      <td>0.645621</td>\n",
       "    </tr>\n",
       "    <tr>\n",
       "      <th>13</th>\n",
       "      <td>2022-01-04</td>\n",
       "      <td>0.634334</td>\n",
       "    </tr>\n",
       "    <tr>\n",
       "      <th>14</th>\n",
       "      <td>2022-01-11</td>\n",
       "      <td>0.616722</td>\n",
       "    </tr>\n",
       "    <tr>\n",
       "      <th>15</th>\n",
       "      <td>2022-01-18</td>\n",
       "      <td>0.647814</td>\n",
       "    </tr>\n",
       "    <tr>\n",
       "      <th>16</th>\n",
       "      <td>2022-01-25</td>\n",
       "      <td>0.565502</td>\n",
       "    </tr>\n",
       "    <tr>\n",
       "      <th>17</th>\n",
       "      <td>2022-02-01</td>\n",
       "      <td>0.618935</td>\n",
       "    </tr>\n",
       "    <tr>\n",
       "      <th>18</th>\n",
       "      <td>2022-02-08</td>\n",
       "      <td>0.676359</td>\n",
       "    </tr>\n",
       "    <tr>\n",
       "      <th>19</th>\n",
       "      <td>2022-02-15</td>\n",
       "      <td>0.672030</td>\n",
       "    </tr>\n",
       "    <tr>\n",
       "      <th>20</th>\n",
       "      <td>2022-02-22</td>\n",
       "      <td>0.687870</td>\n",
       "    </tr>\n",
       "    <tr>\n",
       "      <th>21</th>\n",
       "      <td>2022-03-01</td>\n",
       "      <td>0.680706</td>\n",
       "    </tr>\n",
       "    <tr>\n",
       "      <th>22</th>\n",
       "      <td>2022-03-08</td>\n",
       "      <td>0.679965</td>\n",
       "    </tr>\n",
       "    <tr>\n",
       "      <th>23</th>\n",
       "      <td>2022-03-15</td>\n",
       "      <td>0.679714</td>\n",
       "    </tr>\n",
       "    <tr>\n",
       "      <th>24</th>\n",
       "      <td>2022-03-22</td>\n",
       "      <td>0.621794</td>\n",
       "    </tr>\n",
       "    <tr>\n",
       "      <th>25</th>\n",
       "      <td>2022-03-29</td>\n",
       "      <td>0.629341</td>\n",
       "    </tr>\n",
       "    <tr>\n",
       "      <th>26</th>\n",
       "      <td>2022-04-05</td>\n",
       "      <td>0.631074</td>\n",
       "    </tr>\n",
       "    <tr>\n",
       "      <th>27</th>\n",
       "      <td>2022-04-12</td>\n",
       "      <td>0.602099</td>\n",
       "    </tr>\n",
       "    <tr>\n",
       "      <th>28</th>\n",
       "      <td>2022-04-19</td>\n",
       "      <td>0.620525</td>\n",
       "    </tr>\n",
       "  </tbody>\n",
       "</table>\n",
       "</div>"
      ],
      "text/plain": [
       "           ds      yhat\n",
       "0  2021-08-24  0.605195\n",
       "1  2021-08-31  0.501333\n",
       "2  2021-10-19  0.598572\n",
       "3  2021-10-26  0.578720\n",
       "4  2021-11-02  0.579521\n",
       "5  2021-11-09  0.654097\n",
       "6  2021-11-16  0.577004\n",
       "7  2021-11-23  0.809695\n",
       "8  2021-11-30  0.653592\n",
       "9  2021-12-07  0.670111\n",
       "10 2021-12-14  0.646315\n",
       "11 2021-12-21  0.669377\n",
       "12 2021-12-28  0.645621\n",
       "13 2022-01-04  0.634334\n",
       "14 2022-01-11  0.616722\n",
       "15 2022-01-18  0.647814\n",
       "16 2022-01-25  0.565502\n",
       "17 2022-02-01  0.618935\n",
       "18 2022-02-08  0.676359\n",
       "19 2022-02-15  0.672030\n",
       "20 2022-02-22  0.687870\n",
       "21 2022-03-01  0.680706\n",
       "22 2022-03-08  0.679965\n",
       "23 2022-03-15  0.679714\n",
       "24 2022-03-22  0.621794\n",
       "25 2022-03-29  0.629341\n",
       "26 2022-04-05  0.631074\n",
       "27 2022-04-12  0.602099\n",
       "28 2022-04-19  0.620525"
      ]
     },
     "execution_count": 102,
     "metadata": {},
     "output_type": "execute_result"
    }
   ],
   "source": [
    "#future_dates['cap'] = 0.87\n",
    "#future_dates['floor'] = 0.4\n",
    "forecast_prophet = model.predict(future_dates)\n",
    "forecast_prophet[['ds', 'yhat']]"
   ]
  },
  {
   "cell_type": "code",
   "execution_count": 104,
   "id": "c3a21bfd",
   "metadata": {},
   "outputs": [
    {
     "data": {
      "image/png": "[encoded data removed]",
      "text/plain": [
       "<Figure size 720x432 with 1 Axes>"
      ]
     },
     "execution_count": 104,
     "metadata": {},
     "output_type": "execute_result"
    },
    {
     "data": {
      "image/png": "[encoded data removed]",
      "text/plain": [
       "<Figure size 720x432 with 1 Axes>"
      ]
     },
     "metadata": {},
     "output_type": "display_data"
    }
   ],
   "source": [
    "model.plot(forecast_prophet, uncertainty=True)"
   ]
  },
  {
   "cell_type": "code",
   "execution_count": 105,
   "id": "f317927e",
   "metadata": {},
   "outputs": [
    {
     "name": "stderr",
     "output_type": "stream",
     "text": [
      "The frame.append method is deprecated and will be removed from pandas in a future version. Use pandas.concat instead.\n"
     ]
    },
    {
     "data": {
      "image/png": "[encoded data removed]",
      "text/plain": [
       "<Figure size 648x648 with 3 Axes>"
      ]
     },
     "execution_count": 105,
     "metadata": {},
     "output_type": "execute_result"
    },
    {
     "data": {
      "image/png": "[encoded data removed]",
      "text/plain": [
       "<Figure size 648x648 with 3 Axes>"
      ]
     },
     "metadata": {},
     "output_type": "display_data"
    }
   ],
   "source": [
    "model.plot_components(forecast_prophet)"
   ]
  },
  {
   "cell_type": "code",
   "execution_count": 107,
   "id": "281a4b5d",
   "metadata": {},
   "outputs": [
    {
     "name": "stdout",
     "output_type": "stream",
     "text": [
      "Mean_absolute_error of the prophet model is: 0.05219186013026084\n"
     ]
    }
   ],
   "source": [
    "y_true = df_prophet['y'].values\n",
    "y_pred = forecast_prophet['yhat'][:-1].values\n",
    "mae_prophet = mean_absolute_error(y_true, y_pred)\n",
    "print('Mean_absolute_error of the prophet model is:',mae_prophet)"
   ]
  },
  {
   "cell_type": "code",
   "execution_count": 109,
   "id": "8b9063ca",
   "metadata": {},
   "outputs": [
    {
     "name": "stderr",
     "output_type": "stream",
     "text": [
      "The frame.append method is deprecated and will be removed from pandas in a future version. Use pandas.concat instead.\n"
     ]
    }
   ],
   "source": [
    "actual_cols=agg_df[['date','mean_price']]\n",
    "forecast_cols=forecast_prophet[['ds','yhat']]\n",
    "forecast_cols.columns=['date','mean_price']\n",
    "all_cols=actual_cols.append(forecast_cols.tail(2))"
   ]
  },
  {
   "cell_type": "code",
   "execution_count": 110,
   "id": "9da44a0d",
   "metadata": {},
   "outputs": [
    {
     "data": {
      "text/html": [
       "<div>\n",
       "<style scoped>\n",
       "    .dataframe tbody tr th:only-of-type {\n",
       "        vertical-align: middle;\n",
       "    }\n",
       "\n",
       "    .dataframe tbody tr th {\n",
       "        vertical-align: top;\n",
       "    }\n",
       "\n",
       "    .dataframe thead th {\n",
       "        text-align: right;\n",
       "    }\n",
       "</style>\n",
       "<table border=\"1\" class=\"dataframe\">\n",
       "  <thead>\n",
       "    <tr style=\"text-align: right;\">\n",
       "      <th></th>\n",
       "      <th>date</th>\n",
       "      <th>mean_price</th>\n",
       "    </tr>\n",
       "  </thead>\n",
       "  <tbody>\n",
       "    <tr>\n",
       "      <th>31</th>\n",
       "      <td>2022-03-29</td>\n",
       "      <td>0.650800</td>\n",
       "    </tr>\n",
       "    <tr>\n",
       "      <th>32</th>\n",
       "      <td>2022-04-05</td>\n",
       "      <td>0.555254</td>\n",
       "    </tr>\n",
       "    <tr>\n",
       "      <th>33</th>\n",
       "      <td>2022-04-12</td>\n",
       "      <td>0.565667</td>\n",
       "    </tr>\n",
       "    <tr>\n",
       "      <th>27</th>\n",
       "      <td>2022-04-12</td>\n",
       "      <td>0.602099</td>\n",
       "    </tr>\n",
       "    <tr>\n",
       "      <th>28</th>\n",
       "      <td>2022-04-19</td>\n",
       "      <td>0.620525</td>\n",
       "    </tr>\n",
       "  </tbody>\n",
       "</table>\n",
       "</div>"
      ],
      "text/plain": [
       "         date  mean_price\n",
       "31 2022-03-29    0.650800\n",
       "32 2022-04-05    0.555254\n",
       "33 2022-04-12    0.565667\n",
       "27 2022-04-12    0.602099\n",
       "28 2022-04-19    0.620525"
      ]
     },
     "execution_count": 110,
     "metadata": {},
     "output_type": "execute_result"
    }
   ],
   "source": [
    "all_cols.tail(5)"
   ]
  },
  {
   "cell_type": "code",
   "execution_count": 111,
   "id": "96607ee5",
   "metadata": {},
   "outputs": [
    {
     "data": {
      "image/png": "[encoded data removed]",
      "text/plain": [
       "<Figure size 1008x720 with 1 Axes>"
      ]
     },
     "metadata": {
      "needs_background": "light"
     },
     "output_type": "display_data"
    }
   ],
   "source": [
    "ax = all_cols.set_index('date')['mean_price'].plot(figsize=(14, 10))\n",
    "ax.set_ylabel('Prices of parallel alpha')\n",
    "ax.set_xlabel('Date')\n",
    "plt.show()"
   ]
  },
  {
   "cell_type": "markdown",
   "id": "a475f4c4",
   "metadata": {},
   "source": [
    "#### This is how the plot of the avergae price of the nft weekly looks with the addition of the forecasted week"
   ]
  },
  {
   "cell_type": "markdown",
   "id": "18ad0a9b",
   "metadata": {},
   "source": [
    "### Random Forest"
   ]
  },
  {
   "cell_type": "code",
   "execution_count": 112,
   "id": "ec676132",
   "metadata": {},
   "outputs": [],
   "source": [
    "df=agg_df.drop(columns=['date','mean_price','collectionname'])"
   ]
  },
  {
   "cell_type": "code",
   "execution_count": 113,
   "id": "3ba1de72",
   "metadata": {},
   "outputs": [],
   "source": [
    "values = df.values"
   ]
  },
  {
   "cell_type": "code",
   "execution_count": 114,
   "id": "fde586ec",
   "metadata": {},
   "outputs": [],
   "source": [
    "df=pd.concat([df, agg_df['mean_price']],axis=1)"
   ]
  },
  {
   "cell_type": "code",
   "execution_count": 115,
   "id": "dac4c7db",
   "metadata": {},
   "outputs": [],
   "source": [
    "def series_to_supervised(data, n_in=1, n_out=1, dropnan=True):\n",
    "    n_vars = 1 if type(data) is list else data.shape[1]\n",
    "    df = pd.DataFrame(data)\n",
    "    cols = list()\n",
    "    # input sequence (t-n, ... t-1)\n",
    "    for i in range(n_in, 0, -1):\n",
    "        cols.append(df.shift(i))\n",
    "    # forecast sequence (t, t+1, ... t+n)\n",
    "    for i in range(0, n_out):\n",
    "        cols.append(df.shift(-i))\n",
    "    # put it all together\n",
    "    agg = pd.concat(cols, axis=1)\n",
    "    # drop rows with NaN values\n",
    "    if dropnan:\n",
    "        agg.dropna(inplace=True)\n",
    "    return agg.values"
   ]
  },
  {
   "cell_type": "code",
   "execution_count": 117,
   "id": "00722e45",
   "metadata": {},
   "outputs": [
    {
     "name": "stdout",
     "output_type": "stream",
     "text": [
      "optimal_parameters: {'criterion': 'absolute_error', 'max_depth': 2, 'n_estimators': 50}\n",
      "Mean_absolute_error: 0.0641\n",
      "Predicted: 0.683\n"
     ]
    }
   ],
   "source": [
    "values = df.values\n",
    "df = series_to_supervised(values, n_in=12)\n",
    "# split into input and output columns\n",
    "X_train, y_train = df[5:, :-1], df[5:, -1]\n",
    "X_test, y_test = df[:5, :-1], df[:5, -1]\n",
    "# fit model\n",
    "\n",
    "param_grid = { \n",
    "    'n_estimators': [50,70,100,200],\n",
    "    'max_depth': [None,2,3,5,7],\n",
    "    'criterion' : [\"squared_error\", \"absolute_error\"]\n",
    "}\n",
    "reg = RandomForestRegressor(random_state=0,oob_score=True)\n",
    "cv_rf = GridSearchCV(estimator=reg, param_grid=param_grid, cv=5,verbose=0)\n",
    "\n",
    "cv_rf.fit(X_train, y_train)\n",
    "\n",
    "r = values[:,:-1]\n",
    "row = r[-14:].flatten()\n",
    "# make a one-step prediction\n",
    "yhat = cv_rf.best_estimator_.predict(np.asarray([row]))\n",
    "prediction = cv_rf.best_estimator_.predict(X_test)\n",
    "mae_rf=(mean_absolute_error(prediction,y_test))\n",
    "print('optimal_parameters:',cv_rf.best_params_)\n",
    "print('Mean_absolute_error: %.4f' % mae_rf)\n",
    "print('Predicted: %.3f' % (yhat[0]))"
   ]
  },
  {
   "cell_type": "code",
   "execution_count": 118,
   "id": "4ba2bba5",
   "metadata": {},
   "outputs": [],
   "source": [
    "forecast=pd.DataFrame({'date':['2022-04-19'],'mean_price':yhat[0]})"
   ]
  },
  {
   "cell_type": "code",
   "execution_count": 119,
   "id": "9da461e2",
   "metadata": {},
   "outputs": [],
   "source": [
    "forecast['date']=pd.to_datetime(forecast['date'])"
   ]
  },
  {
   "cell_type": "code",
   "execution_count": 120,
   "id": "4b9bf6d8",
   "metadata": {},
   "outputs": [],
   "source": [
    "df=agg_df[['date','mean_price']]"
   ]
  },
  {
   "cell_type": "code",
   "execution_count": 121,
   "id": "18c3f2a5",
   "metadata": {},
   "outputs": [],
   "source": [
    "actual=pd.concat([df,forecast])"
   ]
  },
  {
   "cell_type": "code",
   "execution_count": 122,
   "id": "1e9dde9d",
   "metadata": {},
   "outputs": [
    {
     "data": {
      "text/plain": [
       "<AxesSubplot:xlabel='date'>"
      ]
     },
     "execution_count": 122,
     "metadata": {},
     "output_type": "execute_result"
    },
    {
     "data": {
      "image/png": "[encoded data removed]",
      "text/plain": [
       "<Figure size 1008x504 with 1 Axes>"
      ]
     },
     "metadata": {
      "needs_background": "light"
     },
     "output_type": "display_data"
    }
   ],
   "source": [
    "actual.set_index('date').plot(figsize=(14, 7))"
   ]
  },
  {
   "cell_type": "code",
   "execution_count": 123,
   "id": "1c1188ab",
   "metadata": {},
   "outputs": [
    {
     "data": {
      "text/html": [
       "<div>\n",
       "<style scoped>\n",
       "    .dataframe tbody tr th:only-of-type {\n",
       "        vertical-align: middle;\n",
       "    }\n",
       "\n",
       "    .dataframe tbody tr th {\n",
       "        vertical-align: top;\n",
       "    }\n",
       "\n",
       "    .dataframe thead th {\n",
       "        text-align: right;\n",
       "    }\n",
       "</style>\n",
       "<table border=\"1\" class=\"dataframe\">\n",
       "  <thead>\n",
       "    <tr style=\"text-align: right;\">\n",
       "      <th></th>\n",
       "      <th>Mean_absolute_error</th>\n",
       "    </tr>\n",
       "  </thead>\n",
       "  <tbody>\n",
       "    <tr>\n",
       "      <th>Prophet</th>\n",
       "      <td>0.052192</td>\n",
       "    </tr>\n",
       "    <tr>\n",
       "      <th>Random_Forest</th>\n",
       "      <td>0.064077</td>\n",
       "    </tr>\n",
       "    <tr>\n",
       "      <th>ARIMA</th>\n",
       "      <td>0.074059</td>\n",
       "    </tr>\n",
       "  </tbody>\n",
       "</table>\n",
       "</div>"
      ],
      "text/plain": [
       "               Mean_absolute_error\n",
       "Prophet                   0.052192\n",
       "Random_Forest             0.064077\n",
       "ARIMA                     0.074059"
      ]
     },
     "execution_count": 123,
     "metadata": {},
     "output_type": "execute_result"
    }
   ],
   "source": [
    "mae = {'ARIMA':arima_mae,\n",
    "'Prophet': mae_prophet,\n",
    "'Random_Forest': mae_rf,\n",
    "}\n",
    "mae_df = pd.DataFrame.from_dict(mae , orient='index', columns=['Mean_absolute_error'])\n",
    "mae_df.sort_values(by='Mean_absolute_error')"
   ]
  },
  {
   "cell_type": "code",
   "execution_count": 124,
   "id": "f66adf1b",
   "metadata": {},
   "outputs": [
    {
     "data": {
      "text/html": [
       "<div>\n",
       "<style scoped>\n",
       "    .dataframe tbody tr th:only-of-type {\n",
       "        vertical-align: middle;\n",
       "    }\n",
       "\n",
       "    .dataframe tbody tr th {\n",
       "        vertical-align: top;\n",
       "    }\n",
       "\n",
       "    .dataframe thead th {\n",
       "        text-align: right;\n",
       "    }\n",
       "</style>\n",
       "<table border=\"1\" class=\"dataframe\">\n",
       "  <thead>\n",
       "    <tr style=\"text-align: right;\">\n",
       "      <th></th>\n",
       "      <th>Next_Average_price</th>\n",
       "    </tr>\n",
       "  </thead>\n",
       "  <tbody>\n",
       "    <tr>\n",
       "      <th>ARIMA</th>\n",
       "      <td>0.595121</td>\n",
       "    </tr>\n",
       "    <tr>\n",
       "      <th>Prophet</th>\n",
       "      <td>0.620525</td>\n",
       "    </tr>\n",
       "    <tr>\n",
       "      <th>Random_Forest</th>\n",
       "      <td>0.682953</td>\n",
       "    </tr>\n",
       "  </tbody>\n",
       "</table>\n",
       "</div>"
      ],
      "text/plain": [
       "               Next_Average_price\n",
       "ARIMA                    0.595121\n",
       "Prophet                  0.620525\n",
       "Random_Forest            0.682953"
      ]
     },
     "execution_count": 124,
     "metadata": {},
     "output_type": "execute_result"
    }
   ],
   "source": [
    "forecasted_next = {'ARIMA':pred_uc.predicted_mean[0],\n",
    "'Prophet': forecast_prophet['yhat'][28],\n",
    "'Random_Forest': yhat[0],\n",
    "}\n",
    "forecasted_df = pd.DataFrame.from_dict(forecasted_next , orient='index', columns=['Next_Average_price'])\n",
    "forecasted_df.sort_values(by='Next_Average_price')"
   ]
  },
  {
   "cell_type": "code",
   "execution_count": null,
   "id": "84214f56",
   "metadata": {},
   "outputs": [],
   "source": []
  },
  {
   "cell_type": "code",
   "execution_count": null,
   "id": "c0a16ef8",
   "metadata": {},
   "outputs": [],
   "source": []
  }
 ],
 "metadata": {
  "kernelspec": {
   "display_name": "Python 3.8.12 64-bit ('py36': conda)",
   "language": "python",
   "name": "python3812jvsc74a57bd0d4f6b8ba5c30944ddc3f08aa754190fc9fa0c8ffa5eadb59838767fd4f7c97d5"
  },
  "language_info": {
   "codemirror_mode": {
    "name": "ipython",
    "version": 3
   },
   "file_extension": ".py",
   "mimetype": "text/x-python",
   "name": "python",
   "nbconvert_exporter": "python",
   "pygments_lexer": "ipython3",
   "version": "3.8.12"
  }
 },
 "nbformat": 4,
 "nbformat_minor": 5
}
