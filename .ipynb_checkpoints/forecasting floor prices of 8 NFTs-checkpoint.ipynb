{
 "cells": [
  {
   "cell_type": "code",
   "execution_count": 1,
   "id": "252f0a26",
   "metadata": {},
   "outputs": [
    {
     "name": "stderr",
     "output_type": "stream",
     "text": [
      "/Users/hyacinthampadu/miniforge3/envs/py36/lib/python3.8/site-packages/xgboost/compat.py:36: FutureWarning: pandas.Int64Index is deprecated and will be removed from pandas in a future version. Use pandas.Index with the appropriate dtype instead.\n",
      "  from pandas import MultiIndex, Int64Index\n"
     ]
    }
   ],
   "source": [
    "#import the neccesary libraries\n",
    "from datetime import datetime\n",
    "import os\n",
    "import seaborn as sns\n",
    "import matplotlib.pyplot as plt\n",
    "import psycopg2\n",
    "import time\n",
    "import matplotlib as mpl\n",
    "from sklearn.model_selection import GridSearchCV\n",
    "import xgboost as xgb\n",
    "from xgboost import plot_importance, plot_tree\n",
    "import re\n",
    "from statsmodels.tsa.arima.model import ARIMA\n",
    "import pmdarima as pm\n",
    "import itertools\n",
    "from sklearn.metrics import mean_absolute_error, mean_squared_error, r2_score\n",
    "import pandas as pd\n",
    "import shap\n",
    "from fbprophet import Prophet\n",
    "import numpy as np\n",
    "from sklearn.ensemble import RandomForestRegressor\n",
    "from statsmodels.tsa.stattools import adfuller\n",
    "from statsmodels.tsa.stattools import grangercausalitytests\n",
    "import warnings\n",
    "warnings.filterwarnings('ignore')\n",
    "mpl.rcParams['figure.figsize'] = (10, 8)\n",
    "mpl.rcParams['axes.grid'] = False\n",
    "pd.set_option('display.max_columns', None)"
   ]
  },
  {
   "cell_type": "code",
   "execution_count": 2,
   "id": "4bd73b6f",
   "metadata": {},
   "outputs": [],
   "source": [
    "Db_host='127.0.0.1'\n",
    "Db_name='postgres'\n",
    "Db_user='postgres'\n",
    "Db_pass='Brunei42i'"
   ]
  },
  {
   "cell_type": "code",
   "execution_count": 3,
   "id": "e86b5d8f",
   "metadata": {},
   "outputs": [],
   "source": [
    "conn = psycopg2.connect(host=Db_host, dbname=Db_name, user=Db_user,password=Db_pass)\n",
    "conn.set_session(autocommit=True)\n",
    "cur = conn.cursor()"
   ]
  },
  {
   "cell_type": "code",
   "execution_count": 4,
   "id": "9b3504a7",
   "metadata": {},
   "outputs": [
    {
     "data": {
      "text/html": [
       "<div>\n",
       "<style scoped>\n",
       "    .dataframe tbody tr th:only-of-type {\n",
       "        vertical-align: middle;\n",
       "    }\n",
       "\n",
       "    .dataframe tbody tr th {\n",
       "        vertical-align: top;\n",
       "    }\n",
       "\n",
       "    .dataframe thead th {\n",
       "        text-align: right;\n",
       "    }\n",
       "</style>\n",
       "<table border=\"1\" class=\"dataframe\">\n",
       "  <thead>\n",
       "    <tr style=\"text-align: right;\">\n",
       "      <th></th>\n",
       "      <th>chain</th>\n",
       "      <th>collectionaddress</th>\n",
       "      <th>collectionname</th>\n",
       "      <th>exchange</th>\n",
       "      <th>logindex</th>\n",
       "      <th>maker</th>\n",
       "      <th>price</th>\n",
       "      <th>quotecurrency</th>\n",
       "      <th>side</th>\n",
       "      <th>taker</th>\n",
       "      <th>thumbnailurl</th>\n",
       "      <th>timestamp</th>\n",
       "      <th>tokenid</th>\n",
       "      <th>tx</th>\n",
       "      <th>txindex</th>\n",
       "      <th>id</th>\n",
       "    </tr>\n",
       "  </thead>\n",
       "  <tbody>\n",
       "    <tr>\n",
       "      <th>0</th>\n",
       "      <td>eth</td>\n",
       "      <td>0x1a2f71468f656e97c2f86541e57189f59951efe7</td>\n",
       "      <td>CryptoMories</td>\n",
       "      <td>opensea</td>\n",
       "      <td>96</td>\n",
       "      <td>0x4a5d7f0db76d5f079a88130bfb5a38a6e6b85d71</td>\n",
       "      <td>0.400</td>\n",
       "      <td>ETH</td>\n",
       "      <td>sell</td>\n",
       "      <td>0x7f6675eae5bf9731ce448e2bf3923e236303dece</td>\n",
       "      <td>https://storage.googleapis.com/parsec-nft-stor...</td>\n",
       "      <td>1649809419</td>\n",
       "      <td>601.0</td>\n",
       "      <td>0x1bc92ab0cc02a817eb4704c0e4f338becb859c344dee...</td>\n",
       "      <td>36.0</td>\n",
       "      <td>468</td>\n",
       "    </tr>\n",
       "    <tr>\n",
       "      <th>1</th>\n",
       "      <td>eth</td>\n",
       "      <td>0x1a2f71468f656e97c2f86541e57189f59951efe7</td>\n",
       "      <td>CryptoMories</td>\n",
       "      <td>opensea</td>\n",
       "      <td>157</td>\n",
       "      <td>0xffab72e1160ce5378c94acb9dfb24008e7e60ec7</td>\n",
       "      <td>0.400</td>\n",
       "      <td>ETH</td>\n",
       "      <td>sell</td>\n",
       "      <td>0x7f6675eae5bf9731ce448e2bf3923e236303dece</td>\n",
       "      <td>https://storage.googleapis.com/parsec-nft-stor...</td>\n",
       "      <td>1649809293</td>\n",
       "      <td>8601.0</td>\n",
       "      <td>0xf898b41d9b16abaef211c5f8552b351c2b56791b004c...</td>\n",
       "      <td>86.0</td>\n",
       "      <td>539</td>\n",
       "    </tr>\n",
       "    <tr>\n",
       "      <th>2</th>\n",
       "      <td>eth</td>\n",
       "      <td>0x1a2f71468f656e97c2f86541e57189f59951efe7</td>\n",
       "      <td>CryptoMories</td>\n",
       "      <td>opensea</td>\n",
       "      <td>332</td>\n",
       "      <td>0x6e82ce36948f356adcc9d110f7a7a0138272e5ce</td>\n",
       "      <td>0.460</td>\n",
       "      <td>ETH</td>\n",
       "      <td>sell</td>\n",
       "      <td>0x7f6675eae5bf9731ce448e2bf3923e236303dece</td>\n",
       "      <td>https://storage.googleapis.com/parsec-nft-stor...</td>\n",
       "      <td>1649809174</td>\n",
       "      <td>7680.0</td>\n",
       "      <td>0xd31710d24a3769e4c509dd773365b43d60d9bd6d00a9...</td>\n",
       "      <td>248.0</td>\n",
       "      <td>614</td>\n",
       "    </tr>\n",
       "    <tr>\n",
       "      <th>3</th>\n",
       "      <td>eth</td>\n",
       "      <td>0x1a2f71468f656e97c2f86541e57189f59951efe7</td>\n",
       "      <td>CryptoMories</td>\n",
       "      <td>opensea</td>\n",
       "      <td>474</td>\n",
       "      <td>0x60ed33735c9c29ec2c26b8ec734e36d5b6fa1eab</td>\n",
       "      <td>0.500</td>\n",
       "      <td>ETH</td>\n",
       "      <td>buy</td>\n",
       "      <td>0x60af6f3905bac4536aeccaa546d10fe17f4c0d2a</td>\n",
       "      <td>https://storage.googleapis.com/parsec-nft-stor...</td>\n",
       "      <td>1649808589</td>\n",
       "      <td>2298.0</td>\n",
       "      <td>0x772e5887755234953d71f50ef9153a4ad4800a8ef648...</td>\n",
       "      <td>247.0</td>\n",
       "      <td>975</td>\n",
       "    </tr>\n",
       "    <tr>\n",
       "      <th>4</th>\n",
       "      <td>eth</td>\n",
       "      <td>0xc92ceddfb8dd984a89fb494c376f9a48b999aafc</td>\n",
       "      <td>Creature World NFT</td>\n",
       "      <td>opensea</td>\n",
       "      <td>97</td>\n",
       "      <td>0x1b30c84e244361a99be770acd57ace184983c83d</td>\n",
       "      <td>0.492</td>\n",
       "      <td>ETH</td>\n",
       "      <td>sell</td>\n",
       "      <td>0x7094e3c9ba4517a5e8e5ca53e9c18e7cc0332bf4</td>\n",
       "      <td>https://storage.googleapis.com/parsec-nft-stor...</td>\n",
       "      <td>1649808197</td>\n",
       "      <td>1208.0</td>\n",
       "      <td>0x1ca271f1a6684494b949d205ad6970755d0b90bca404...</td>\n",
       "      <td>64.0</td>\n",
       "      <td>1185</td>\n",
       "    </tr>\n",
       "  </tbody>\n",
       "</table>\n",
       "</div>"
      ],
      "text/plain": [
       "  chain                           collectionaddress      collectionname  \\\n",
       "0   eth  0x1a2f71468f656e97c2f86541e57189f59951efe7        CryptoMories   \n",
       "1   eth  0x1a2f71468f656e97c2f86541e57189f59951efe7        CryptoMories   \n",
       "2   eth  0x1a2f71468f656e97c2f86541e57189f59951efe7        CryptoMories   \n",
       "3   eth  0x1a2f71468f656e97c2f86541e57189f59951efe7        CryptoMories   \n",
       "4   eth  0xc92ceddfb8dd984a89fb494c376f9a48b999aafc  Creature World NFT   \n",
       "\n",
       "  exchange  logindex                                       maker  price  \\\n",
       "0  opensea        96  0x4a5d7f0db76d5f079a88130bfb5a38a6e6b85d71  0.400   \n",
       "1  opensea       157  0xffab72e1160ce5378c94acb9dfb24008e7e60ec7  0.400   \n",
       "2  opensea       332  0x6e82ce36948f356adcc9d110f7a7a0138272e5ce  0.460   \n",
       "3  opensea       474  0x60ed33735c9c29ec2c26b8ec734e36d5b6fa1eab  0.500   \n",
       "4  opensea        97  0x1b30c84e244361a99be770acd57ace184983c83d  0.492   \n",
       "\n",
       "  quotecurrency  side                                       taker  \\\n",
       "0           ETH  sell  0x7f6675eae5bf9731ce448e2bf3923e236303dece   \n",
       "1           ETH  sell  0x7f6675eae5bf9731ce448e2bf3923e236303dece   \n",
       "2           ETH  sell  0x7f6675eae5bf9731ce448e2bf3923e236303dece   \n",
       "3           ETH   buy  0x60af6f3905bac4536aeccaa546d10fe17f4c0d2a   \n",
       "4           ETH  sell  0x7094e3c9ba4517a5e8e5ca53e9c18e7cc0332bf4   \n",
       "\n",
       "                                        thumbnailurl   timestamp  tokenid  \\\n",
       "0  https://storage.googleapis.com/parsec-nft-stor...  1649809419    601.0   \n",
       "1  https://storage.googleapis.com/parsec-nft-stor...  1649809293   8601.0   \n",
       "2  https://storage.googleapis.com/parsec-nft-stor...  1649809174   7680.0   \n",
       "3  https://storage.googleapis.com/parsec-nft-stor...  1649808589   2298.0   \n",
       "4  https://storage.googleapis.com/parsec-nft-stor...  1649808197   1208.0   \n",
       "\n",
       "                                                  tx  txindex    id  \n",
       "0  0x1bc92ab0cc02a817eb4704c0e4f338becb859c344dee...     36.0   468  \n",
       "1  0xf898b41d9b16abaef211c5f8552b351c2b56791b004c...     86.0   539  \n",
       "2  0xd31710d24a3769e4c509dd773365b43d60d9bd6d00a9...    248.0   614  \n",
       "3  0x772e5887755234953d71f50ef9153a4ad4800a8ef648...    247.0   975  \n",
       "4  0x1ca271f1a6684494b949d205ad6970755d0b90bca404...     64.0  1185  "
      ]
     },
     "execution_count": 4,
     "metadata": {},
     "output_type": "execute_result"
    }
   ],
   "source": [
    "df=pd.read_sql_query(\"SELECT * FROM nft_trades\",conn)\n",
    "df.head()"
   ]
  },
  {
   "cell_type": "code",
   "execution_count": 5,
   "id": "dabe0172",
   "metadata": {},
   "outputs": [],
   "source": [
    "from datetime import datetime\n",
    "df['date']=df['timestamp'].apply(lambda x: datetime.utcfromtimestamp(x).strftime('%Y-%m-%d %H:%M:%S'))"
   ]
  },
  {
   "cell_type": "code",
   "execution_count": 6,
   "id": "25c0ccb8",
   "metadata": {},
   "outputs": [],
   "source": [
    "df['date']=pd.to_datetime(df['date'])"
   ]
  },
  {
   "cell_type": "code",
   "execution_count": 7,
   "id": "01711de1",
   "metadata": {},
   "outputs": [],
   "source": [
    "df['date']=pd.to_datetime(df['date'])\n",
    "df=df[df['date']>'2021-08-01']"
   ]
  },
  {
   "cell_type": "code",
   "execution_count": 8,
   "id": "bd862051",
   "metadata": {},
   "outputs": [
    {
     "data": {
      "text/plain": [
       "count    3.294970e+05\n",
       "mean     3.945897e+08\n",
       "std      5.659790e+10\n",
       "min     -7.300000e+04\n",
       "25%      8.000000e-02\n",
       "50%      4.250000e-01\n",
       "75%      1.390000e+00\n",
       "max      2.800000e+13\n",
       "Name: price, dtype: float64"
      ]
     },
     "execution_count": 8,
     "metadata": {},
     "output_type": "execute_result"
    }
   ],
   "source": [
    "df['price'].describe()"
   ]
  },
  {
   "cell_type": "code",
   "execution_count": 9,
   "id": "aeecd34d",
   "metadata": {},
   "outputs": [],
   "source": [
    "df=df[df['price']<=np.percentile(df['price'],90)]"
   ]
  },
  {
   "cell_type": "code",
   "execution_count": 10,
   "id": "c6429b2f",
   "metadata": {},
   "outputs": [],
   "source": [
    "df=df.groupby([pd.Grouper(key='date', freq='w'),  'collectionname']).agg({\n",
    "    'maker':['nunique'],\n",
    "    'taker':['nunique'],\n",
    "    'thumbnailurl':['nunique'],\n",
    "    'tx':['nunique'],\n",
    "    'price':['min','median']})"
   ]
  },
  {
   "cell_type": "code",
   "execution_count": 11,
   "id": "fcc418c2",
   "metadata": {},
   "outputs": [
    {
     "data": {
      "text/plain": [
       "258"
      ]
     },
     "execution_count": 11,
     "metadata": {},
     "output_type": "execute_result"
    }
   ],
   "source": [
    "len(df)"
   ]
  },
  {
   "cell_type": "code",
   "execution_count": 12,
   "id": "5e4dbe5b",
   "metadata": {},
   "outputs": [],
   "source": [
    "def flatten_columns(df, prefix=''):\n",
    "    columns = []\n",
    "    for cs in df:\n",
    "        if type(cs) is str:\n",
    "            cs = re.sub('\\W+','_', cs)\n",
    "        elif type(cs) is not list and type(cs) is not tuple:\n",
    "            print (cs)\n",
    "            cs = str(cs)\n",
    "        else:\n",
    "            cs = re.sub(\"\\W+\", \"\", \"\".join([str(c) for c in cs]))\n",
    "        cs = cs.lower()\n",
    "        if prefix:\n",
    "            cs = prefix + '' + cs\n",
    "        cs = re.sub('\\+$', '', cs)\n",
    "        columns.append(cs)\n",
    "    return columns"
   ]
  },
  {
   "cell_type": "code",
   "execution_count": 13,
   "id": "27bbba81",
   "metadata": {},
   "outputs": [],
   "source": [
    "df.columns=flatten_columns(df)"
   ]
  },
  {
   "cell_type": "code",
   "execution_count": 14,
   "id": "924bb706",
   "metadata": {},
   "outputs": [],
   "source": [
    "df=df.reset_index()"
   ]
  },
  {
   "cell_type": "code",
   "execution_count": 15,
   "id": "8f24f1e9",
   "metadata": {},
   "outputs": [
    {
     "data": {
      "text/html": [
       "<div>\n",
       "<style scoped>\n",
       "    .dataframe tbody tr th:only-of-type {\n",
       "        vertical-align: middle;\n",
       "    }\n",
       "\n",
       "    .dataframe tbody tr th {\n",
       "        vertical-align: top;\n",
       "    }\n",
       "\n",
       "    .dataframe thead th {\n",
       "        text-align: right;\n",
       "    }\n",
       "</style>\n",
       "<table border=\"1\" class=\"dataframe\">\n",
       "  <thead>\n",
       "    <tr style=\"text-align: right;\">\n",
       "      <th></th>\n",
       "      <th>date</th>\n",
       "      <th>collectionname</th>\n",
       "      <th>makernunique</th>\n",
       "      <th>takernunique</th>\n",
       "      <th>thumbnailurlnunique</th>\n",
       "      <th>txnunique</th>\n",
       "      <th>pricemin</th>\n",
       "      <th>pricemedian</th>\n",
       "    </tr>\n",
       "  </thead>\n",
       "  <tbody>\n",
       "    <tr>\n",
       "      <th>0</th>\n",
       "      <td>2021-08-01</td>\n",
       "      <td>Cool Cats NFT</td>\n",
       "      <td>239</td>\n",
       "      <td>204</td>\n",
       "      <td>319</td>\n",
       "      <td>325</td>\n",
       "      <td>0.5500</td>\n",
       "      <td>0.8100</td>\n",
       "    </tr>\n",
       "    <tr>\n",
       "      <th>1</th>\n",
       "      <td>2021-08-01</td>\n",
       "      <td>Parallel Alpha</td>\n",
       "      <td>221</td>\n",
       "      <td>222</td>\n",
       "      <td>103</td>\n",
       "      <td>626</td>\n",
       "      <td>0.0200</td>\n",
       "      <td>0.1875</td>\n",
       "    </tr>\n",
       "    <tr>\n",
       "      <th>2</th>\n",
       "      <td>2021-08-01</td>\n",
       "      <td>Pudgy Penguins</td>\n",
       "      <td>84</td>\n",
       "      <td>100</td>\n",
       "      <td>174</td>\n",
       "      <td>174</td>\n",
       "      <td>0.0090</td>\n",
       "      <td>0.0150</td>\n",
       "    </tr>\n",
       "    <tr>\n",
       "      <th>3</th>\n",
       "      <td>2021-08-08</td>\n",
       "      <td>Cool Cats NFT</td>\n",
       "      <td>889</td>\n",
       "      <td>941</td>\n",
       "      <td>1289</td>\n",
       "      <td>1524</td>\n",
       "      <td>0.1479</td>\n",
       "      <td>1.3000</td>\n",
       "    </tr>\n",
       "    <tr>\n",
       "      <th>4</th>\n",
       "      <td>2021-08-08</td>\n",
       "      <td>Parallel Alpha</td>\n",
       "      <td>1772</td>\n",
       "      <td>2259</td>\n",
       "      <td>113</td>\n",
       "      <td>11012</td>\n",
       "      <td>0.0060</td>\n",
       "      <td>0.0990</td>\n",
       "    </tr>\n",
       "  </tbody>\n",
       "</table>\n",
       "</div>"
      ],
      "text/plain": [
       "        date  collectionname  makernunique  takernunique  thumbnailurlnunique  \\\n",
       "0 2021-08-01   Cool Cats NFT           239           204                  319   \n",
       "1 2021-08-01  Parallel Alpha           221           222                  103   \n",
       "2 2021-08-01  Pudgy Penguins            84           100                  174   \n",
       "3 2021-08-08   Cool Cats NFT           889           941                 1289   \n",
       "4 2021-08-08  Parallel Alpha          1772          2259                  113   \n",
       "\n",
       "   txnunique  pricemin  pricemedian  \n",
       "0        325    0.5500       0.8100  \n",
       "1        626    0.0200       0.1875  \n",
       "2        174    0.0090       0.0150  \n",
       "3       1524    0.1479       1.3000  \n",
       "4      11012    0.0060       0.0990  "
      ]
     },
     "execution_count": 15,
     "metadata": {},
     "output_type": "execute_result"
    }
   ],
   "source": [
    "df.head()"
   ]
  },
  {
   "cell_type": "code",
   "execution_count": 16,
   "id": "351b180e",
   "metadata": {},
   "outputs": [],
   "source": [
    "df=df.rename(columns={'pricemin':'floor_price','pricemedian':'median_price',\n",
    "                  'makernunique':'num_of_sellers','takernunique':'number_of_buyers','thumbnailurlnunique':'volume_of_assets_traded',\n",
    "                  'txnunique':'number_of_transcations_index'})"
   ]
  },
  {
   "cell_type": "code",
   "execution_count": 17,
   "id": "a724adad",
   "metadata": {},
   "outputs": [
    {
     "data": {
      "text/html": [
       "<div>\n",
       "<style scoped>\n",
       "    .dataframe tbody tr th:only-of-type {\n",
       "        vertical-align: middle;\n",
       "    }\n",
       "\n",
       "    .dataframe tbody tr th {\n",
       "        vertical-align: top;\n",
       "    }\n",
       "\n",
       "    .dataframe thead th {\n",
       "        text-align: right;\n",
       "    }\n",
       "</style>\n",
       "<table border=\"1\" class=\"dataframe\">\n",
       "  <thead>\n",
       "    <tr style=\"text-align: right;\">\n",
       "      <th></th>\n",
       "      <th>date</th>\n",
       "      <th>collectionname</th>\n",
       "      <th>num_of_sellers</th>\n",
       "      <th>number_of_buyers</th>\n",
       "      <th>volume_of_assets_traded</th>\n",
       "      <th>number_of_transcations_index</th>\n",
       "      <th>floor_price</th>\n",
       "      <th>median_price</th>\n",
       "    </tr>\n",
       "  </thead>\n",
       "  <tbody>\n",
       "    <tr>\n",
       "      <th>0</th>\n",
       "      <td>2021-08-01</td>\n",
       "      <td>Cool Cats NFT</td>\n",
       "      <td>239</td>\n",
       "      <td>204</td>\n",
       "      <td>319</td>\n",
       "      <td>325</td>\n",
       "      <td>0.5500</td>\n",
       "      <td>0.8100</td>\n",
       "    </tr>\n",
       "    <tr>\n",
       "      <th>1</th>\n",
       "      <td>2021-08-01</td>\n",
       "      <td>Parallel Alpha</td>\n",
       "      <td>221</td>\n",
       "      <td>222</td>\n",
       "      <td>103</td>\n",
       "      <td>626</td>\n",
       "      <td>0.0200</td>\n",
       "      <td>0.1875</td>\n",
       "    </tr>\n",
       "    <tr>\n",
       "      <th>2</th>\n",
       "      <td>2021-08-01</td>\n",
       "      <td>Pudgy Penguins</td>\n",
       "      <td>84</td>\n",
       "      <td>100</td>\n",
       "      <td>174</td>\n",
       "      <td>174</td>\n",
       "      <td>0.0090</td>\n",
       "      <td>0.0150</td>\n",
       "    </tr>\n",
       "    <tr>\n",
       "      <th>3</th>\n",
       "      <td>2021-08-08</td>\n",
       "      <td>Cool Cats NFT</td>\n",
       "      <td>889</td>\n",
       "      <td>941</td>\n",
       "      <td>1289</td>\n",
       "      <td>1524</td>\n",
       "      <td>0.1479</td>\n",
       "      <td>1.3000</td>\n",
       "    </tr>\n",
       "    <tr>\n",
       "      <th>4</th>\n",
       "      <td>2021-08-08</td>\n",
       "      <td>Parallel Alpha</td>\n",
       "      <td>1772</td>\n",
       "      <td>2259</td>\n",
       "      <td>113</td>\n",
       "      <td>11012</td>\n",
       "      <td>0.0060</td>\n",
       "      <td>0.0990</td>\n",
       "    </tr>\n",
       "  </tbody>\n",
       "</table>\n",
       "</div>"
      ],
      "text/plain": [
       "        date  collectionname  num_of_sellers  number_of_buyers  \\\n",
       "0 2021-08-01   Cool Cats NFT             239               204   \n",
       "1 2021-08-01  Parallel Alpha             221               222   \n",
       "2 2021-08-01  Pudgy Penguins              84               100   \n",
       "3 2021-08-08   Cool Cats NFT             889               941   \n",
       "4 2021-08-08  Parallel Alpha            1772              2259   \n",
       "\n",
       "   volume_of_assets_traded  number_of_transcations_index  floor_price  \\\n",
       "0                      319                           325       0.5500   \n",
       "1                      103                           626       0.0200   \n",
       "2                      174                           174       0.0090   \n",
       "3                     1289                          1524       0.1479   \n",
       "4                      113                         11012       0.0060   \n",
       "\n",
       "   median_price  \n",
       "0        0.8100  \n",
       "1        0.1875  \n",
       "2        0.0150  \n",
       "3        1.3000  \n",
       "4        0.0990  "
      ]
     },
     "execution_count": 17,
     "metadata": {},
     "output_type": "execute_result"
    }
   ],
   "source": [
    "df.head()"
   ]
  },
  {
   "cell_type": "code",
   "execution_count": 18,
   "id": "3529aeca",
   "metadata": {},
   "outputs": [
    {
     "data": {
      "text/plain": [
       "count    258.000000\n",
       "mean       1.176572\n",
       "std        1.407723\n",
       "min        0.000000\n",
       "25%        0.190250\n",
       "50%        0.695000\n",
       "75%        1.445625\n",
       "max        5.583550\n",
       "Name: median_price, dtype: float64"
      ]
     },
     "execution_count": 18,
     "metadata": {},
     "output_type": "execute_result"
    }
   ],
   "source": [
    "df['median_price'].describe()"
   ]
  },
  {
   "cell_type": "code",
   "execution_count": 19,
   "id": "caf6ea25",
   "metadata": {},
   "outputs": [],
   "source": [
    "df=df[df['floor_price']>0]"
   ]
  },
  {
   "cell_type": "code",
   "execution_count": null,
   "id": "c60cc740",
   "metadata": {},
   "outputs": [],
   "source": []
  },
  {
   "cell_type": "code",
   "execution_count": null,
   "id": "daa074da",
   "metadata": {},
   "outputs": [],
   "source": []
  },
  {
   "cell_type": "code",
   "execution_count": null,
   "id": "8b6ec826",
   "metadata": {},
   "outputs": [],
   "source": []
  },
  {
   "cell_type": "code",
   "execution_count": null,
   "id": "de75a705",
   "metadata": {},
   "outputs": [],
   "source": []
  },
  {
   "cell_type": "code",
   "execution_count": null,
   "id": "1e9dde9d",
   "metadata": {},
   "outputs": [],
   "source": []
  },
  {
   "cell_type": "code",
   "execution_count": null,
   "id": "1c1188ab",
   "metadata": {},
   "outputs": [],
   "source": []
  },
  {
   "cell_type": "code",
   "execution_count": null,
   "id": "84214f56",
   "metadata": {},
   "outputs": [],
   "source": []
  },
  {
   "cell_type": "code",
   "execution_count": null,
   "id": "c0a16ef8",
   "metadata": {},
   "outputs": [],
   "source": []
  }
 ],
 "metadata": {
  "kernelspec": {
   "display_name": "Python 3.8.12 64-bit ('py36': conda)",
   "language": "python",
   "name": "python3812jvsc74a57bd0d4f6b8ba5c30944ddc3f08aa754190fc9fa0c8ffa5eadb59838767fd4f7c97d5"
  },
  "language_info": {
   "codemirror_mode": {
    "name": "ipython",
    "version": 3
   },
   "file_extension": ".py",
   "mimetype": "text/x-python",
   "name": "python",
   "nbconvert_exporter": "python",
   "pygments_lexer": "ipython3",
   "version": "3.8.12"
  }
 },
 "nbformat": 4,
 "nbformat_minor": 5
}
