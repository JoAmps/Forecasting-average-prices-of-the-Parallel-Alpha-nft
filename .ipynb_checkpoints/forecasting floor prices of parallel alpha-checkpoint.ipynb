{
 "cells": [
  {
   "cell_type": "code",
   "execution_count": 1,
   "id": "252f0a26",
   "metadata": {},
   "outputs": [
    {
     "name": "stderr",
     "output_type": "stream",
     "text": [
      "/Users/hyacinthampadu/miniforge3/envs/py36/lib/python3.8/site-packages/xgboost/compat.py:36: FutureWarning: pandas.Int64Index is deprecated and will be removed from pandas in a future version. Use pandas.Index with the appropriate dtype instead.\n",
      "  from pandas import MultiIndex, Int64Index\n",
      "[nltk_data] Downloading package omw-1.4 to\n",
      "[nltk_data]     /Users/hyacinthampadu/nltk_data...\n",
      "[nltk_data]   Package omw-1.4 is already up-to-date!\n",
      "[nltk_data] Downloading package stopwords to\n",
      "[nltk_data]     /Users/hyacinthampadu/nltk_data...\n",
      "[nltk_data]   Package stopwords is already up-to-date!\n"
     ]
    }
   ],
   "source": [
    "#import the neccesary libraries\n",
    "from datetime import datetime\n",
    "import os\n",
    "import seaborn as sns\n",
    "import matplotlib.pyplot as plt\n",
    "import psycopg2\n",
    "import time\n",
    "import matplotlib as mpl\n",
    "from sklearn.model_selection import GridSearchCV\n",
    "import xgboost as xgb\n",
    "from xgboost import plot_importance, plot_tree\n",
    "import re\n",
    "import plotly.graph_objs as go\n",
    "from plotly.offline import init_notebook_mode, iplot\n",
    "from chart_studio import plotly\n",
    "from plotly import tools\n",
    "from wordcloud import WordCloud, STOPWORDS, ImageColorGenerator\n",
    "from sklearn.cluster import KMeans\n",
    "from sklearn.metrics import mean_absolute_error, mean_squared_error, r2_score\n",
    "import pandas as pd\n",
    "from sklearn.decomposition import PCA\n",
    "from scipy.sparse import csr_matrix\n",
    "import shap\n",
    "from textblob import TextBlob\n",
    "import string, os, random\n",
    "from textstat import flesch_reading_ease\n",
    "from nltk.corpus import stopwords\n",
    "from sklearn.metrics import silhouette_score\n",
    "from nltk.stem.porter import PorterStemmer\n",
    "from nltk.stem import WordNetLemmatizer\n",
    "from sklearn.feature_extraction.text import TfidfVectorizer\n",
    "from fbprophet import Prophet\n",
    "import numpy as np\n",
    "import nltk\n",
    "nltk.download('omw-1.4')\n",
    "nltk.download('stopwords')\n",
    "words = set(nltk.corpus.words.words())\n",
    "from sklearn.ensemble import RandomForestRegressor\n",
    "from statsmodels.tsa.stattools import adfuller\n",
    "from statsmodels.tsa.stattools import grangercausalitytests\n",
    "import snscrape.modules.twitter as sntwitter\n",
    "\n",
    "mpl.rcParams['figure.figsize'] = (10, 8)\n",
    "mpl.rcParams['axes.grid'] = False\n",
    "pd.set_option('display.max_columns', None)\n",
    "from datetime import datetime,timedelta"
   ]
  },
  {
   "cell_type": "code",
   "execution_count": 2,
   "id": "4bd73b6f",
   "metadata": {},
   "outputs": [],
   "source": [
    "Db_host='127.0.0.1'\n",
    "Db_name='postgres'\n",
    "Db_user='postgres'\n",
    "Db_pass='Brunei42i'"
   ]
  },
  {
   "cell_type": "code",
   "execution_count": 3,
   "id": "e86b5d8f",
   "metadata": {},
   "outputs": [],
   "source": [
    "conn = psycopg2.connect(host=Db_host, dbname=Db_name, user=Db_user,password=Db_pass)\n",
    "conn.set_session(autocommit=True)\n",
    "cur = conn.cursor()"
   ]
  },
  {
   "cell_type": "code",
   "execution_count": 4,
   "id": "9b3504a7",
   "metadata": {},
   "outputs": [
    {
     "name": "stderr",
     "output_type": "stream",
     "text": [
      "pandas only support SQLAlchemy connectable(engine/connection) ordatabase string URI or sqlite3 DBAPI2 connectionother DBAPI2 objects are not tested, please consider using SQLAlchemy\n"
     ]
    },
    {
     "data": {
      "text/html": [
       "<div>\n",
       "<style scoped>\n",
       "    .dataframe tbody tr th:only-of-type {\n",
       "        vertical-align: middle;\n",
       "    }\n",
       "\n",
       "    .dataframe tbody tr th {\n",
       "        vertical-align: top;\n",
       "    }\n",
       "\n",
       "    .dataframe thead th {\n",
       "        text-align: right;\n",
       "    }\n",
       "</style>\n",
       "<table border=\"1\" class=\"dataframe\">\n",
       "  <thead>\n",
       "    <tr style=\"text-align: right;\">\n",
       "      <th></th>\n",
       "      <th>chain</th>\n",
       "      <th>collectionaddress</th>\n",
       "      <th>collectionname</th>\n",
       "      <th>exchange</th>\n",
       "      <th>logindex</th>\n",
       "      <th>maker</th>\n",
       "      <th>price</th>\n",
       "      <th>quotecurrency</th>\n",
       "      <th>side</th>\n",
       "      <th>taker</th>\n",
       "      <th>thumbnailurl</th>\n",
       "      <th>timestamp</th>\n",
       "      <th>tokenid</th>\n",
       "      <th>tx</th>\n",
       "      <th>txindex</th>\n",
       "      <th>date</th>\n",
       "      <th>id</th>\n",
       "    </tr>\n",
       "  </thead>\n",
       "  <tbody>\n",
       "    <tr>\n",
       "      <th>0</th>\n",
       "      <td>eth</td>\n",
       "      <td>0x76be3b62873462d2142405439777e971754e8e77</td>\n",
       "      <td>Parallel Alpha</td>\n",
       "      <td>opensea</td>\n",
       "      <td>514</td>\n",
       "      <td>0x661d0eaf85b3af039aa457473e5d448b2ce38ce6</td>\n",
       "      <td>0.0013</td>\n",
       "      <td>ETH</td>\n",
       "      <td>buy</td>\n",
       "      <td>0xb9dfffe3dd0956455ebba025bc3f6de4ca6bed87</td>\n",
       "      <td>https://storage.googleapis.com/parsec-nft-stor...</td>\n",
       "      <td>1649804649</td>\n",
       "      <td>10545.0</td>\n",
       "      <td>0xcc40b548c1d454b42c0d8a06d8adb23ffb514b63fa2d...</td>\n",
       "      <td>210.0</td>\n",
       "      <td>2022-04-12</td>\n",
       "      <td>5111</td>\n",
       "    </tr>\n",
       "    <tr>\n",
       "      <th>1</th>\n",
       "      <td>eth</td>\n",
       "      <td>0x76be3b62873462d2142405439777e971754e8e77</td>\n",
       "      <td>Parallel Alpha</td>\n",
       "      <td>opensea</td>\n",
       "      <td>179</td>\n",
       "      <td>0x4050fb6fac4a6dbf61b63d6cba8e344a2ee9057d</td>\n",
       "      <td>0.0200</td>\n",
       "      <td>ETH</td>\n",
       "      <td>buy</td>\n",
       "      <td>0xb587cbaec20ef78296e1d3b105b5b6aa4ff0c3b4</td>\n",
       "      <td>https://storage.googleapis.com/parsec-nft-stor...</td>\n",
       "      <td>1649804054</td>\n",
       "      <td>10566.0</td>\n",
       "      <td>0xc9f1d2dd0b0afc70f254691ea119d1936288bfc261ae...</td>\n",
       "      <td>72.0</td>\n",
       "      <td>2022-04-12</td>\n",
       "      <td>5947</td>\n",
       "    </tr>\n",
       "    <tr>\n",
       "      <th>2</th>\n",
       "      <td>eth</td>\n",
       "      <td>0x76be3b62873462d2142405439777e971754e8e77</td>\n",
       "      <td>Parallel Alpha</td>\n",
       "      <td>opensea</td>\n",
       "      <td>99</td>\n",
       "      <td>0x2f02c4e2da54a0df1f40dfec773ded5125dc28bf</td>\n",
       "      <td>0.0100</td>\n",
       "      <td>ETH</td>\n",
       "      <td>buy</td>\n",
       "      <td>0x215e14543142af17e2cb0ef08db5c126776d59f4</td>\n",
       "      <td>https://storage.googleapis.com/parsec-nft-stor...</td>\n",
       "      <td>1649795459</td>\n",
       "      <td>10568.0</td>\n",
       "      <td>0xd8bc48264001571f79164bfa5c409d5eedecd56ceff6...</td>\n",
       "      <td>64.0</td>\n",
       "      <td>2022-04-12</td>\n",
       "      <td>14484</td>\n",
       "    </tr>\n",
       "    <tr>\n",
       "      <th>3</th>\n",
       "      <td>eth</td>\n",
       "      <td>0x76be3b62873462d2142405439777e971754e8e77</td>\n",
       "      <td>Parallel Alpha</td>\n",
       "      <td>opensea</td>\n",
       "      <td>269</td>\n",
       "      <td>0x91b2642e5317074f25a47dc2b65c280e9b3427a0</td>\n",
       "      <td>0.0380</td>\n",
       "      <td>ETH</td>\n",
       "      <td>sell</td>\n",
       "      <td>0xbc0139b7b925cd3aaf818880ff45ed15b077e111</td>\n",
       "      <td>https://storage.googleapis.com/parsec-nft-stor...</td>\n",
       "      <td>1649795052</td>\n",
       "      <td>10503.0</td>\n",
       "      <td>0x1cc4302565f7c9c1194d601e68e84389dbd88ac856d2...</td>\n",
       "      <td>127.0</td>\n",
       "      <td>2022-04-12</td>\n",
       "      <td>14655</td>\n",
       "    </tr>\n",
       "    <tr>\n",
       "      <th>4</th>\n",
       "      <td>eth</td>\n",
       "      <td>0x76be3b62873462d2142405439777e971754e8e77</td>\n",
       "      <td>Parallel Alpha</td>\n",
       "      <td>opensea</td>\n",
       "      <td>282</td>\n",
       "      <td>0x6c9af2c7b46b8c94061088a1f3bbf9b6651fc34c</td>\n",
       "      <td>0.0010</td>\n",
       "      <td>ETH</td>\n",
       "      <td>buy</td>\n",
       "      <td>0x6917b4f314e3e1e34750432f3c4fa6d6ebd878e0</td>\n",
       "      <td>https://storage.googleapis.com/parsec-nft-stor...</td>\n",
       "      <td>1649793126</td>\n",
       "      <td>10556.0</td>\n",
       "      <td>0x9ac3ba9439a650835fe905fd55571dafb14e5e5bc81d...</td>\n",
       "      <td>138.0</td>\n",
       "      <td>2022-04-12</td>\n",
       "      <td>16319</td>\n",
       "    </tr>\n",
       "  </tbody>\n",
       "</table>\n",
       "</div>"
      ],
      "text/plain": [
       "  chain                           collectionaddress  collectionname exchange  \\\n",
       "0   eth  0x76be3b62873462d2142405439777e971754e8e77  Parallel Alpha  opensea   \n",
       "1   eth  0x76be3b62873462d2142405439777e971754e8e77  Parallel Alpha  opensea   \n",
       "2   eth  0x76be3b62873462d2142405439777e971754e8e77  Parallel Alpha  opensea   \n",
       "3   eth  0x76be3b62873462d2142405439777e971754e8e77  Parallel Alpha  opensea   \n",
       "4   eth  0x76be3b62873462d2142405439777e971754e8e77  Parallel Alpha  opensea   \n",
       "\n",
       "   logindex                                       maker   price quotecurrency  \\\n",
       "0       514  0x661d0eaf85b3af039aa457473e5d448b2ce38ce6  0.0013           ETH   \n",
       "1       179  0x4050fb6fac4a6dbf61b63d6cba8e344a2ee9057d  0.0200           ETH   \n",
       "2        99  0x2f02c4e2da54a0df1f40dfec773ded5125dc28bf  0.0100           ETH   \n",
       "3       269  0x91b2642e5317074f25a47dc2b65c280e9b3427a0  0.0380           ETH   \n",
       "4       282  0x6c9af2c7b46b8c94061088a1f3bbf9b6651fc34c  0.0010           ETH   \n",
       "\n",
       "   side                                       taker  \\\n",
       "0   buy  0xb9dfffe3dd0956455ebba025bc3f6de4ca6bed87   \n",
       "1   buy  0xb587cbaec20ef78296e1d3b105b5b6aa4ff0c3b4   \n",
       "2   buy  0x215e14543142af17e2cb0ef08db5c126776d59f4   \n",
       "3  sell  0xbc0139b7b925cd3aaf818880ff45ed15b077e111   \n",
       "4   buy  0x6917b4f314e3e1e34750432f3c4fa6d6ebd878e0   \n",
       "\n",
       "                                        thumbnailurl   timestamp  tokenid  \\\n",
       "0  https://storage.googleapis.com/parsec-nft-stor...  1649804649  10545.0   \n",
       "1  https://storage.googleapis.com/parsec-nft-stor...  1649804054  10566.0   \n",
       "2  https://storage.googleapis.com/parsec-nft-stor...  1649795459  10568.0   \n",
       "3  https://storage.googleapis.com/parsec-nft-stor...  1649795052  10503.0   \n",
       "4  https://storage.googleapis.com/parsec-nft-stor...  1649793126  10556.0   \n",
       "\n",
       "                                                  tx  txindex        date  \\\n",
       "0  0xcc40b548c1d454b42c0d8a06d8adb23ffb514b63fa2d...    210.0  2022-04-12   \n",
       "1  0xc9f1d2dd0b0afc70f254691ea119d1936288bfc261ae...     72.0  2022-04-12   \n",
       "2  0xd8bc48264001571f79164bfa5c409d5eedecd56ceff6...     64.0  2022-04-12   \n",
       "3  0x1cc4302565f7c9c1194d601e68e84389dbd88ac856d2...    127.0  2022-04-12   \n",
       "4  0x9ac3ba9439a650835fe905fd55571dafb14e5e5bc81d...    138.0  2022-04-12   \n",
       "\n",
       "      id  \n",
       "0   5111  \n",
       "1   5947  \n",
       "2  14484  \n",
       "3  14655  \n",
       "4  16319  "
      ]
     },
     "execution_count": 4,
     "metadata": {},
     "output_type": "execute_result"
    }
   ],
   "source": [
    "parallel=pd.read_sql_query(\"SELECT * FROM parallel_trades\",conn)\n",
    "parallel.head()"
   ]
  },
  {
   "cell_type": "code",
   "execution_count": 5,
   "id": "1c0f00d0",
   "metadata": {},
   "outputs": [
    {
     "name": "stderr",
     "output_type": "stream",
     "text": [
      "pandas only support SQLAlchemy connectable(engine/connection) ordatabase string URI or sqlite3 DBAPI2 connectionother DBAPI2 objects are not tested, please consider using SQLAlchemy\n"
     ]
    },
    {
     "data": {
      "text/html": [
       "<div>\n",
       "<style scoped>\n",
       "    .dataframe tbody tr th:only-of-type {\n",
       "        vertical-align: middle;\n",
       "    }\n",
       "\n",
       "    .dataframe tbody tr th {\n",
       "        vertical-align: top;\n",
       "    }\n",
       "\n",
       "    .dataframe thead th {\n",
       "        text-align: right;\n",
       "    }\n",
       "</style>\n",
       "<table border=\"1\" class=\"dataframe\">\n",
       "  <thead>\n",
       "    <tr style=\"text-align: right;\">\n",
       "      <th></th>\n",
       "      <th>date</th>\n",
       "      <th>tweet_id</th>\n",
       "      <th>tweet</th>\n",
       "      <th>username</th>\n",
       "      <th>retweets</th>\n",
       "      <th>likes</th>\n",
       "      <th>id</th>\n",
       "    </tr>\n",
       "  </thead>\n",
       "  <tbody>\n",
       "    <tr>\n",
       "      <th>6265</th>\n",
       "      <td>2021-08-10</td>\n",
       "      <td>1425189708460662787</td>\n",
       "      <td>@GarretteDVF @0xSisyphus @ParallelNFT Some alp...</td>\n",
       "      <td>lanciendugas</td>\n",
       "      <td>0</td>\n",
       "      <td>2</td>\n",
       "      <td>6266</td>\n",
       "    </tr>\n",
       "    <tr>\n",
       "      <th>6266</th>\n",
       "      <td>2021-08-10</td>\n",
       "      <td>1425136467282563072</td>\n",
       "      <td>@reidatcheson @notdred Perhaps the quantitativ...</td>\n",
       "      <td>AdithyaR_YXE</td>\n",
       "      <td>0</td>\n",
       "      <td>0</td>\n",
       "      <td>6267</td>\n",
       "    </tr>\n",
       "    <tr>\n",
       "      <th>6267</th>\n",
       "      <td>2021-08-10</td>\n",
       "      <td>1425117332448370691</td>\n",
       "      <td>Soleia, Disciple of Gaffar [SE] parallelnft wa...</td>\n",
       "      <td>mondoaxi</td>\n",
       "      <td>0</td>\n",
       "      <td>0</td>\n",
       "      <td>6268</td>\n",
       "    </tr>\n",
       "    <tr>\n",
       "      <th>6268</th>\n",
       "      <td>2021-08-09</td>\n",
       "      <td>1424815063601270785</td>\n",
       "      <td>Artblocks: https://t.co/xyLEkSZFdm ❌\\nCurio ca...</td>\n",
       "      <td>relyt29</td>\n",
       "      <td>0</td>\n",
       "      <td>3</td>\n",
       "      <td>6269</td>\n",
       "    </tr>\n",
       "    <tr>\n",
       "      <th>6269</th>\n",
       "      <td>2021-08-09</td>\n",
       "      <td>1424609710116786179</td>\n",
       "      <td>@ParallelNFT \\nParallel Alpha\\n\\n769.7K\\nitems...</td>\n",
       "      <td>nftsbot</td>\n",
       "      <td>0</td>\n",
       "      <td>0</td>\n",
       "      <td>6270</td>\n",
       "    </tr>\n",
       "  </tbody>\n",
       "</table>\n",
       "</div>"
      ],
      "text/plain": [
       "            date             tweet_id  \\\n",
       "6265  2021-08-10  1425189708460662787   \n",
       "6266  2021-08-10  1425136467282563072   \n",
       "6267  2021-08-10  1425117332448370691   \n",
       "6268  2021-08-09  1424815063601270785   \n",
       "6269  2021-08-09  1424609710116786179   \n",
       "\n",
       "                                                  tweet      username  \\\n",
       "6265  @GarretteDVF @0xSisyphus @ParallelNFT Some alp...  lanciendugas   \n",
       "6266  @reidatcheson @notdred Perhaps the quantitativ...  AdithyaR_YXE   \n",
       "6267  Soleia, Disciple of Gaffar [SE] parallelnft wa...      mondoaxi   \n",
       "6268  Artblocks: https://t.co/xyLEkSZFdm ❌\\nCurio ca...       relyt29   \n",
       "6269  @ParallelNFT \\nParallel Alpha\\n\\n769.7K\\nitems...       nftsbot   \n",
       "\n",
       "      retweets  likes    id  \n",
       "6265         0      2  6266  \n",
       "6266         0      0  6267  \n",
       "6267         0      0  6268  \n",
       "6268         0      3  6269  \n",
       "6269         0      0  6270  "
      ]
     },
     "execution_count": 5,
     "metadata": {},
     "output_type": "execute_result"
    }
   ],
   "source": [
    "tweets=pd.read_sql_query(\"SELECT * FROM parallel_alpha_tweet\",conn)\n",
    "tweets.tail()"
   ]
  },
  {
   "cell_type": "code",
   "execution_count": 6,
   "id": "89ba5b48",
   "metadata": {},
   "outputs": [],
   "source": [
    "ps = WordNetLemmatizer()\n",
    "corpus = []\n",
    "def cleaner(tweet):\n",
    "    for i in range(0, len(tweet)):\n",
    "        corpus = []\n",
    "        review = re.sub('[^a-zA-Z]', ' ', tweet)\n",
    "        review = review.lower()\n",
    "        review = review.split()    \n",
    "        review = [ps.lemmatize(word) for word in review if not word in stopwords.words('english')]\n",
    "        review = ' '.join(review)\n",
    "        corpus.append(review)\n",
    "        return corpus\n",
    "tweets['tweet_cleaned']=tweets['tweet'].map(lambda x: cleaner(x))"
   ]
  },
  {
   "cell_type": "code",
   "execution_count": 7,
   "id": "84e50fde",
   "metadata": {},
   "outputs": [],
   "source": [
    "ps = WordNetLemmatizer()\n",
    "corpus = []\n",
    "for i in range(0, len(tweets['tweet'])):\n",
    "    review = re.sub('[^a-zA-Z]', ' ', tweets['tweet'][i])\n",
    "    review = review.lower()\n",
    "    review = review.split()\n",
    "    \n",
    "    review = [ps.lemmatize(word) for word in review if not word in stopwords.words('english')]\n",
    "    review = ' '.join(review)\n",
    "    corpus.append(review)"
   ]
  },
  {
   "cell_type": "code",
   "execution_count": 8,
   "id": "1fd6c80e",
   "metadata": {},
   "outputs": [],
   "source": [
    "corpus=pd.Series(corpus)\n",
    "tweets['tweet_cleaned']=corpus"
   ]
  },
  {
   "cell_type": "code",
   "execution_count": 9,
   "id": "f2892415",
   "metadata": {},
   "outputs": [
    {
     "data": {
      "text/html": [
       "<div>\n",
       "<style scoped>\n",
       "    .dataframe tbody tr th:only-of-type {\n",
       "        vertical-align: middle;\n",
       "    }\n",
       "\n",
       "    .dataframe tbody tr th {\n",
       "        vertical-align: top;\n",
       "    }\n",
       "\n",
       "    .dataframe thead th {\n",
       "        text-align: right;\n",
       "    }\n",
       "</style>\n",
       "<table border=\"1\" class=\"dataframe\">\n",
       "  <thead>\n",
       "    <tr style=\"text-align: right;\">\n",
       "      <th></th>\n",
       "      <th>date</th>\n",
       "      <th>tweet_id</th>\n",
       "      <th>tweet</th>\n",
       "      <th>username</th>\n",
       "      <th>retweets</th>\n",
       "      <th>likes</th>\n",
       "      <th>id</th>\n",
       "      <th>tweet_cleaned</th>\n",
       "    </tr>\n",
       "  </thead>\n",
       "  <tbody>\n",
       "    <tr>\n",
       "      <th>0</th>\n",
       "      <td>2022-04-16</td>\n",
       "      <td>1515284652889722880</td>\n",
       "      <td>Royal Society of Players: 0.12 Ξ\\nRumble Kong ...</td>\n",
       "      <td>nftflooralerts</td>\n",
       "      <td>0</td>\n",
       "      <td>0</td>\n",
       "      <td>1</td>\n",
       "      <td>royal society player rumble kong league lazy l...</td>\n",
       "    </tr>\n",
       "    <tr>\n",
       "      <th>1</th>\n",
       "      <td>2022-04-16</td>\n",
       "      <td>1515259652409339904</td>\n",
       "      <td>NFT whale monitoring by @MetaApesClub\\nParalle...</td>\n",
       "      <td>Sabeen26694178</td>\n",
       "      <td>0</td>\n",
       "      <td>0</td>\n",
       "      <td>2</td>\n",
       "      <td>nft whale monitoring metaapesclub parallel alp...</td>\n",
       "    </tr>\n",
       "    <tr>\n",
       "      <th>2</th>\n",
       "      <td>2022-04-16</td>\n",
       "      <td>1515244182897672195</td>\n",
       "      <td>Daily Top NFT 🔥 Opensea - Sales  \\n\\n🖼️ Alien ...</td>\n",
       "      <td>coindicators</td>\n",
       "      <td>0</td>\n",
       "      <td>1</td>\n",
       "      <td>3</td>\n",
       "      <td>daily top nft opensea sale alien frens incubat...</td>\n",
       "    </tr>\n",
       "    <tr>\n",
       "      <th>3</th>\n",
       "      <td>2022-04-16</td>\n",
       "      <td>1515233552970964997</td>\n",
       "      <td>#NFT Statistics (Real-Time)\\nCollection: paral...</td>\n",
       "      <td>bitvots</td>\n",
       "      <td>0</td>\n",
       "      <td>1</td>\n",
       "      <td>4</td>\n",
       "      <td>nft statistic real time collection parallelalp...</td>\n",
       "    </tr>\n",
       "    <tr>\n",
       "      <th>4</th>\n",
       "      <td>2022-04-16</td>\n",
       "      <td>1515217419177906178</td>\n",
       "      <td>greddings fella’s i’m back drunk just to say t...</td>\n",
       "      <td>_lukebaum</td>\n",
       "      <td>0</td>\n",
       "      <td>8</td>\n",
       "      <td>5</td>\n",
       "      <td>greddings fella back drunk say wehn dealing pa...</td>\n",
       "    </tr>\n",
       "  </tbody>\n",
       "</table>\n",
       "</div>"
      ],
      "text/plain": [
       "         date             tweet_id  \\\n",
       "0  2022-04-16  1515284652889722880   \n",
       "1  2022-04-16  1515259652409339904   \n",
       "2  2022-04-16  1515244182897672195   \n",
       "3  2022-04-16  1515233552970964997   \n",
       "4  2022-04-16  1515217419177906178   \n",
       "\n",
       "                                               tweet        username  \\\n",
       "0  Royal Society of Players: 0.12 Ξ\\nRumble Kong ...  nftflooralerts   \n",
       "1  NFT whale monitoring by @MetaApesClub\\nParalle...  Sabeen26694178   \n",
       "2  Daily Top NFT 🔥 Opensea - Sales  \\n\\n🖼️ Alien ...    coindicators   \n",
       "3  #NFT Statistics (Real-Time)\\nCollection: paral...         bitvots   \n",
       "4  greddings fella’s i’m back drunk just to say t...       _lukebaum   \n",
       "\n",
       "   retweets  likes  id                                      tweet_cleaned  \n",
       "0         0      0   1  royal society player rumble kong league lazy l...  \n",
       "1         0      0   2  nft whale monitoring metaapesclub parallel alp...  \n",
       "2         0      1   3  daily top nft opensea sale alien frens incubat...  \n",
       "3         0      1   4  nft statistic real time collection parallelalp...  \n",
       "4         0      8   5  greddings fella back drunk say wehn dealing pa...  "
      ]
     },
     "execution_count": 9,
     "metadata": {},
     "output_type": "execute_result"
    }
   ],
   "source": [
    "tweets.head()"
   ]
  },
  {
   "cell_type": "code",
   "execution_count": 10,
   "id": "ddee8596",
   "metadata": {},
   "outputs": [
    {
     "data": {
      "text/plain": [
       "6270"
      ]
     },
     "execution_count": 10,
     "metadata": {},
     "output_type": "execute_result"
    }
   ],
   "source": [
    "documents = tweets['tweet_cleaned'].values.astype(\"U\")\n",
    "len(documents)"
   ]
  },
  {
   "cell_type": "code",
   "execution_count": 11,
   "id": "837e6707",
   "metadata": {},
   "outputs": [],
   "source": [
    "vectorizer = TfidfVectorizer(stop_words='english')\n",
    "features = vectorizer.fit_transform(documents)\n",
    "X = features.copy()\n",
    "X = csr_matrix(X)"
   ]
  },
  {
   "cell_type": "code",
   "execution_count": 12,
   "id": "de786f67",
   "metadata": {},
   "outputs": [
    {
     "name": "stdout",
     "output_type": "stream",
     "text": [
      "Cumulative variance explained by 1000 pca components : 0.8073588260805884\n"
     ]
    }
   ],
   "source": [
    "pca=PCA(n_components=1000,random_state=0)\n",
    "pca_result = pca.fit_transform(X.toarray())\n",
    "print('Cumulative variance explained by 1000 pca components :',(np.sum(pca.explained_variance_ratio_)))"
   ]
  },
  {
   "cell_type": "code",
   "execution_count": 13,
   "id": "8a81ecaf",
   "metadata": {},
   "outputs": [
    {
     "name": "stdout",
     "output_type": "stream",
     "text": [
      "Number of clusters: 1\n",
      "Number of clusters: 2\n",
      "Number of clusters: 3\n",
      "Number of clusters: 4\n",
      "Number of clusters: 5\n",
      "Number of clusters: 6\n",
      "Number of clusters: 7\n",
      "Number of clusters: 8\n",
      "Number of clusters: 9\n",
      "Number of clusters: 10\n"
     ]
    },
    {
     "data": {
      "image/png": "[encoded data removed]",
      "text/plain": [
       "<Figure size 720x720 with 1 Axes>"
      ]
     },
     "metadata": {
      "needs_background": "light"
     },
     "output_type": "display_data"
    }
   ],
   "source": [
    "wcss = []\n",
    "for i in range(1,11):\n",
    "   kmeans = KMeans(n_clusters = i, init = \"k-means++\")\n",
    "   kmeans.fit(pca_result)\n",
    "   wcss.append(kmeans.inertia_)\n",
    "   print('Number of clusters:',i)\n",
    "plt.figure(figsize=(10,10))\n",
    "plt.plot(range(1,11), wcss)\n",
    "plt.xlabel('Number of clusters')\n",
    "plt.ylabel('WCSS')\n",
    "plt.show()"
   ]
  },
  {
   "cell_type": "code",
   "execution_count": 14,
   "id": "d8337997",
   "metadata": {},
   "outputs": [
    {
     "name": "stdout",
     "output_type": "stream",
     "text": [
      "silhouette_score of 2 clusters is: 0.1568734686830686\n",
      "silhouette_score of 3 clusters is: 0.1923608913387054\n",
      "silhouette_score of 4 clusters is: 0.23263237259396963\n",
      "silhouette_score of 5 clusters is: 0.2605748213353883\n",
      "silhouette_score of 6 clusters is: 0.24329653483615232\n",
      "silhouette_score of 7 clusters is: 0.24912835221305435\n",
      "silhouette_score of 8 clusters is: 0.24797694203608087\n",
      "silhouette_score of 9 clusters is: 0.2569212203316684\n",
      "silhouette_score of 10 clusters is: 0.219714180372597\n",
      "silhouette_score of 11 clusters is: 0.27199370838212167\n"
     ]
    },
    {
     "data": {
      "image/png": "[encoded data removed]",
      "text/plain": [
       "<Figure size 720x576 with 1 Axes>"
      ]
     },
     "metadata": {
      "needs_background": "light"
     },
     "output_type": "display_data"
    }
   ],
   "source": [
    "range_n_clusters = [i for i in range(2,12)]\n",
    "silhouette_avg = []\n",
    "for num_clusters in range_n_clusters:\n",
    "     # initialise kmeans\n",
    "     kmeans = KMeans(n_clusters=num_clusters)\n",
    "     kmeans.fit(pca_result)\n",
    "     #cluster_labels= kmeans.labels_\n",
    "     # silhouette score\n",
    "     print(f'silhouette_score of {num_clusters} clusters is:',silhouette_score(pca_result, kmeans.labels_, metric='euclidean'))   \n",
    "     silhouette_avg.append(silhouette_score(pca_result, kmeans.labels_, metric='euclidean'))\n",
    "plt.plot(range_n_clusters,silhouette_avg,'bx-')\n",
    "plt.xlabel('Values of K') \n",
    "plt.ylabel('Silhouette score') \n",
    "plt.title('Silhouette analysis For Optimal k')\n",
    "plt.show()"
   ]
  },
  {
   "cell_type": "code",
   "execution_count": 15,
   "id": "7b234469",
   "metadata": {},
   "outputs": [],
   "source": [
    "kmeans = KMeans(n_clusters=10, random_state=0)\n",
    "kmeans = kmeans.fit(pca_result)\n",
    "kmeans.labels_\n",
    "# \"predictions\" for new data\n",
    "predictions = kmeans.predict(pca_result)"
   ]
  },
  {
   "cell_type": "code",
   "execution_count": 16,
   "id": "338a7cab",
   "metadata": {},
   "outputs": [
    {
     "data": {
      "text/plain": [
       "8    3200\n",
       "9     753\n",
       "2     505\n",
       "5     479\n",
       "4     419\n",
       "1     324\n",
       "7     285\n",
       "0     121\n",
       "6     102\n",
       "3      82\n",
       "Name: clusters, dtype: int64"
      ]
     },
     "execution_count": 16,
     "metadata": {},
     "output_type": "execute_result"
    }
   ],
   "source": [
    "tweets['clusters']=kmeans.labels_\n",
    "tweets['clusters'].value_counts()"
   ]
  },
  {
   "cell_type": "code",
   "execution_count": 17,
   "id": "cec4c166",
   "metadata": {},
   "outputs": [],
   "source": [
    "tweets=tweets[(tweets['clusters']==1)|(tweets['clusters']==2)|(tweets['clusters']==3)|(tweets['clusters']==4)|(tweets['clusters']==9)]"
   ]
  },
  {
   "cell_type": "code",
   "execution_count": 18,
   "id": "c9f77324",
   "metadata": {},
   "outputs": [
    {
     "data": {
      "text/html": [
       "<div>\n",
       "<style scoped>\n",
       "    .dataframe tbody tr th:only-of-type {\n",
       "        vertical-align: middle;\n",
       "    }\n",
       "\n",
       "    .dataframe tbody tr th {\n",
       "        vertical-align: top;\n",
       "    }\n",
       "\n",
       "    .dataframe thead th {\n",
       "        text-align: right;\n",
       "    }\n",
       "</style>\n",
       "<table border=\"1\" class=\"dataframe\">\n",
       "  <thead>\n",
       "    <tr style=\"text-align: right;\">\n",
       "      <th></th>\n",
       "      <th>date</th>\n",
       "      <th>tweet_id</th>\n",
       "      <th>tweet</th>\n",
       "      <th>username</th>\n",
       "      <th>retweets</th>\n",
       "      <th>likes</th>\n",
       "      <th>id</th>\n",
       "      <th>tweet_cleaned</th>\n",
       "      <th>clusters</th>\n",
       "    </tr>\n",
       "  </thead>\n",
       "  <tbody>\n",
       "    <tr>\n",
       "      <th>0</th>\n",
       "      <td>2022-04-16</td>\n",
       "      <td>1515284652889722880</td>\n",
       "      <td>Royal Society of Players: 0.12 Ξ\\nRumble Kong ...</td>\n",
       "      <td>nftflooralerts</td>\n",
       "      <td>0</td>\n",
       "      <td>0</td>\n",
       "      <td>1</td>\n",
       "      <td>royal society player rumble kong league lazy l...</td>\n",
       "      <td>2</td>\n",
       "    </tr>\n",
       "    <tr>\n",
       "      <th>6</th>\n",
       "      <td>2022-04-16</td>\n",
       "      <td>1515194035568361475</td>\n",
       "      <td>Royal Society of Players: 0.12 Ξ\\nRumble Kong ...</td>\n",
       "      <td>nftflooralerts</td>\n",
       "      <td>0</td>\n",
       "      <td>1</td>\n",
       "      <td>7</td>\n",
       "      <td>royal society player rumble kong league lazy l...</td>\n",
       "      <td>2</td>\n",
       "    </tr>\n",
       "    <tr>\n",
       "      <th>10</th>\n",
       "      <td>2022-04-15</td>\n",
       "      <td>1515103488518283278</td>\n",
       "      <td>Royal Society of Players: 0.12 Ξ\\nRumble Kong ...</td>\n",
       "      <td>nftflooralerts</td>\n",
       "      <td>0</td>\n",
       "      <td>0</td>\n",
       "      <td>11</td>\n",
       "      <td>royal society player rumble kong league lazy l...</td>\n",
       "      <td>2</td>\n",
       "    </tr>\n",
       "    <tr>\n",
       "      <th>14</th>\n",
       "      <td>2022-04-15</td>\n",
       "      <td>1515012912376602624</td>\n",
       "      <td>Royal Society of Players: 0.12 Ξ\\nRumble Kong ...</td>\n",
       "      <td>nftflooralerts</td>\n",
       "      <td>0</td>\n",
       "      <td>0</td>\n",
       "      <td>15</td>\n",
       "      <td>royal society player rumble kong league lazy l...</td>\n",
       "      <td>2</td>\n",
       "    </tr>\n",
       "    <tr>\n",
       "      <th>22</th>\n",
       "      <td>2022-04-15</td>\n",
       "      <td>1514922259210776584</td>\n",
       "      <td>Royal Society of Players: 0.12 Ξ\\nRumble Kong ...</td>\n",
       "      <td>nftflooralerts</td>\n",
       "      <td>0</td>\n",
       "      <td>1</td>\n",
       "      <td>23</td>\n",
       "      <td>royal society player rumble kong league lazy l...</td>\n",
       "      <td>2</td>\n",
       "    </tr>\n",
       "  </tbody>\n",
       "</table>\n",
       "</div>"
      ],
      "text/plain": [
       "          date             tweet_id  \\\n",
       "0   2022-04-16  1515284652889722880   \n",
       "6   2022-04-16  1515194035568361475   \n",
       "10  2022-04-15  1515103488518283278   \n",
       "14  2022-04-15  1515012912376602624   \n",
       "22  2022-04-15  1514922259210776584   \n",
       "\n",
       "                                                tweet        username  \\\n",
       "0   Royal Society of Players: 0.12 Ξ\\nRumble Kong ...  nftflooralerts   \n",
       "6   Royal Society of Players: 0.12 Ξ\\nRumble Kong ...  nftflooralerts   \n",
       "10  Royal Society of Players: 0.12 Ξ\\nRumble Kong ...  nftflooralerts   \n",
       "14  Royal Society of Players: 0.12 Ξ\\nRumble Kong ...  nftflooralerts   \n",
       "22  Royal Society of Players: 0.12 Ξ\\nRumble Kong ...  nftflooralerts   \n",
       "\n",
       "    retweets  likes  id                                      tweet_cleaned  \\\n",
       "0          0      0   1  royal society player rumble kong league lazy l...   \n",
       "6          0      1   7  royal society player rumble kong league lazy l...   \n",
       "10         0      0  11  royal society player rumble kong league lazy l...   \n",
       "14         0      0  15  royal society player rumble kong league lazy l...   \n",
       "22         0      1  23  royal society player rumble kong league lazy l...   \n",
       "\n",
       "    clusters  \n",
       "0          2  \n",
       "6          2  \n",
       "10         2  \n",
       "14         2  \n",
       "22         2  "
      ]
     },
     "execution_count": 18,
     "metadata": {},
     "output_type": "execute_result"
    }
   ],
   "source": [
    "tweets.head()"
   ]
  },
  {
   "cell_type": "code",
   "execution_count": 19,
   "id": "d5aa0453",
   "metadata": {},
   "outputs": [
    {
     "data": {
      "text/plain": [
       "count    2083.000000\n",
       "mean        3.079693\n",
       "std        26.804149\n",
       "min         0.000000\n",
       "25%         0.000000\n",
       "50%         1.000000\n",
       "75%         2.000000\n",
       "max      1176.000000\n",
       "Name: likes, dtype: float64"
      ]
     },
     "execution_count": 19,
     "metadata": {},
     "output_type": "execute_result"
    }
   ],
   "source": [
    "tweets['likes'].describe()"
   ]
  },
  {
   "cell_type": "code",
   "execution_count": 20,
   "id": "2e4e312e",
   "metadata": {},
   "outputs": [
    {
     "data": {
      "text/plain": [
       "count    2083.000000\n",
       "mean        0.793087\n",
       "std        18.403053\n",
       "min         0.000000\n",
       "25%         0.000000\n",
       "50%         0.000000\n",
       "75%         0.000000\n",
       "max       836.000000\n",
       "Name: retweets, dtype: float64"
      ]
     },
     "execution_count": 20,
     "metadata": {},
     "output_type": "execute_result"
    }
   ],
   "source": [
    "tweets['retweets'].describe()"
   ]
  },
  {
   "cell_type": "code",
   "execution_count": 21,
   "id": "1d784bfc",
   "metadata": {},
   "outputs": [],
   "source": [
    "tweets['popular_tweet']=(tweets['retweets']>np.percentile(tweets['retweets'],75)) | (tweets['likes']>np.percentile(tweets['likes'],75))\n",
    "tweets['very_popular_tweet']=(tweets['retweets']>np.percentile(tweets['retweets'],95)) | (tweets['likes']>np.percentile(tweets['likes'],95))"
   ]
  },
  {
   "cell_type": "code",
   "execution_count": 22,
   "id": "161c8093",
   "metadata": {},
   "outputs": [
    {
     "data": {
      "text/html": [
       "<div>\n",
       "<style scoped>\n",
       "    .dataframe tbody tr th:only-of-type {\n",
       "        vertical-align: middle;\n",
       "    }\n",
       "\n",
       "    .dataframe tbody tr th {\n",
       "        vertical-align: top;\n",
       "    }\n",
       "\n",
       "    .dataframe thead th {\n",
       "        text-align: right;\n",
       "    }\n",
       "</style>\n",
       "<table border=\"1\" class=\"dataframe\">\n",
       "  <thead>\n",
       "    <tr style=\"text-align: right;\">\n",
       "      <th></th>\n",
       "      <th>date</th>\n",
       "      <th>tweet_id</th>\n",
       "      <th>tweet</th>\n",
       "      <th>username</th>\n",
       "      <th>retweets</th>\n",
       "      <th>likes</th>\n",
       "      <th>id</th>\n",
       "      <th>tweet_cleaned</th>\n",
       "      <th>clusters</th>\n",
       "      <th>popular_tweet</th>\n",
       "      <th>very_popular_tweet</th>\n",
       "    </tr>\n",
       "  </thead>\n",
       "  <tbody>\n",
       "    <tr>\n",
       "      <th>0</th>\n",
       "      <td>2022-04-16</td>\n",
       "      <td>1515284652889722880</td>\n",
       "      <td>Royal Society of Players: 0.12 Ξ\\nRumble Kong ...</td>\n",
       "      <td>nftflooralerts</td>\n",
       "      <td>0</td>\n",
       "      <td>0</td>\n",
       "      <td>1</td>\n",
       "      <td>royal society player rumble kong league lazy l...</td>\n",
       "      <td>2</td>\n",
       "      <td>False</td>\n",
       "      <td>False</td>\n",
       "    </tr>\n",
       "    <tr>\n",
       "      <th>6</th>\n",
       "      <td>2022-04-16</td>\n",
       "      <td>1515194035568361475</td>\n",
       "      <td>Royal Society of Players: 0.12 Ξ\\nRumble Kong ...</td>\n",
       "      <td>nftflooralerts</td>\n",
       "      <td>0</td>\n",
       "      <td>1</td>\n",
       "      <td>7</td>\n",
       "      <td>royal society player rumble kong league lazy l...</td>\n",
       "      <td>2</td>\n",
       "      <td>False</td>\n",
       "      <td>False</td>\n",
       "    </tr>\n",
       "    <tr>\n",
       "      <th>10</th>\n",
       "      <td>2022-04-15</td>\n",
       "      <td>1515103488518283278</td>\n",
       "      <td>Royal Society of Players: 0.12 Ξ\\nRumble Kong ...</td>\n",
       "      <td>nftflooralerts</td>\n",
       "      <td>0</td>\n",
       "      <td>0</td>\n",
       "      <td>11</td>\n",
       "      <td>royal society player rumble kong league lazy l...</td>\n",
       "      <td>2</td>\n",
       "      <td>False</td>\n",
       "      <td>False</td>\n",
       "    </tr>\n",
       "    <tr>\n",
       "      <th>14</th>\n",
       "      <td>2022-04-15</td>\n",
       "      <td>1515012912376602624</td>\n",
       "      <td>Royal Society of Players: 0.12 Ξ\\nRumble Kong ...</td>\n",
       "      <td>nftflooralerts</td>\n",
       "      <td>0</td>\n",
       "      <td>0</td>\n",
       "      <td>15</td>\n",
       "      <td>royal society player rumble kong league lazy l...</td>\n",
       "      <td>2</td>\n",
       "      <td>False</td>\n",
       "      <td>False</td>\n",
       "    </tr>\n",
       "    <tr>\n",
       "      <th>22</th>\n",
       "      <td>2022-04-15</td>\n",
       "      <td>1514922259210776584</td>\n",
       "      <td>Royal Society of Players: 0.12 Ξ\\nRumble Kong ...</td>\n",
       "      <td>nftflooralerts</td>\n",
       "      <td>0</td>\n",
       "      <td>1</td>\n",
       "      <td>23</td>\n",
       "      <td>royal society player rumble kong league lazy l...</td>\n",
       "      <td>2</td>\n",
       "      <td>False</td>\n",
       "      <td>False</td>\n",
       "    </tr>\n",
       "  </tbody>\n",
       "</table>\n",
       "</div>"
      ],
      "text/plain": [
       "          date             tweet_id  \\\n",
       "0   2022-04-16  1515284652889722880   \n",
       "6   2022-04-16  1515194035568361475   \n",
       "10  2022-04-15  1515103488518283278   \n",
       "14  2022-04-15  1515012912376602624   \n",
       "22  2022-04-15  1514922259210776584   \n",
       "\n",
       "                                                tweet        username  \\\n",
       "0   Royal Society of Players: 0.12 Ξ\\nRumble Kong ...  nftflooralerts   \n",
       "6   Royal Society of Players: 0.12 Ξ\\nRumble Kong ...  nftflooralerts   \n",
       "10  Royal Society of Players: 0.12 Ξ\\nRumble Kong ...  nftflooralerts   \n",
       "14  Royal Society of Players: 0.12 Ξ\\nRumble Kong ...  nftflooralerts   \n",
       "22  Royal Society of Players: 0.12 Ξ\\nRumble Kong ...  nftflooralerts   \n",
       "\n",
       "    retweets  likes  id                                      tweet_cleaned  \\\n",
       "0          0      0   1  royal society player rumble kong league lazy l...   \n",
       "6          0      1   7  royal society player rumble kong league lazy l...   \n",
       "10         0      0  11  royal society player rumble kong league lazy l...   \n",
       "14         0      0  15  royal society player rumble kong league lazy l...   \n",
       "22         0      1  23  royal society player rumble kong league lazy l...   \n",
       "\n",
       "    clusters  popular_tweet  very_popular_tweet  \n",
       "0          2          False               False  \n",
       "6          2          False               False  \n",
       "10         2          False               False  \n",
       "14         2          False               False  \n",
       "22         2          False               False  "
      ]
     },
     "execution_count": 22,
     "metadata": {},
     "output_type": "execute_result"
    }
   ],
   "source": [
    "tweets.head()"
   ]
  },
  {
   "cell_type": "code",
   "execution_count": 23,
   "id": "802d6700",
   "metadata": {},
   "outputs": [
    {
     "data": {
      "text/plain": [
       "False    1587\n",
       "True      496\n",
       "Name: popular_tweet, dtype: int64"
      ]
     },
     "execution_count": 23,
     "metadata": {},
     "output_type": "execute_result"
    }
   ],
   "source": [
    "tweets['popular_tweet'].value_counts()"
   ]
  },
  {
   "cell_type": "code",
   "execution_count": 24,
   "id": "1f824c6b",
   "metadata": {},
   "outputs": [
    {
     "data": {
      "text/plain": [
       "False    1961\n",
       "True      122\n",
       "Name: very_popular_tweet, dtype: int64"
      ]
     },
     "execution_count": 24,
     "metadata": {},
     "output_type": "execute_result"
    }
   ],
   "source": [
    "tweets['very_popular_tweet'].value_counts()"
   ]
  },
  {
   "cell_type": "code",
   "execution_count": 25,
   "id": "52a18c26",
   "metadata": {},
   "outputs": [],
   "source": [
    "tweets['word_count'] = tweets['tweet_cleaned'].apply(lambda x : len(x.split()))"
   ]
  },
  {
   "cell_type": "code",
   "execution_count": 26,
   "id": "aa39f5af",
   "metadata": {},
   "outputs": [],
   "source": [
    "def get_sentiment(text):\n",
    "    blob = TextBlob(text)\n",
    "    sentiment_polarity = blob.sentiment.polarity\n",
    "    sentiment_subjectivity = blob.sentiment.subjectivity\n",
    "    if sentiment_polarity > 0:\n",
    "        sentiment_label = 'Positive'\n",
    "    elif sentiment_polarity < 0:\n",
    "        sentiment_label = 'Negative'\n",
    "    else:\n",
    "        sentiment_label = 'Neutral'\n",
    "    result = {'polarity':sentiment_polarity,\n",
    "              'subjectivity':sentiment_subjectivity,\n",
    "              'sentiment':sentiment_label}\n",
    "    return result"
   ]
  },
  {
   "cell_type": "code",
   "execution_count": 27,
   "id": "c1ca13ba",
   "metadata": {},
   "outputs": [],
   "source": [
    "tweets['sentiment_results'] = tweets['tweet_cleaned'].apply(get_sentiment)\n",
    "#tweets =tweets.join(pd.json_normalize(tweets['sentiment_results']))"
   ]
  },
  {
   "cell_type": "code",
   "execution_count": 28,
   "id": "cb8e0265",
   "metadata": {},
   "outputs": [
    {
     "data": {
      "text/plain": [
       "2083"
      ]
     },
     "execution_count": 28,
     "metadata": {},
     "output_type": "execute_result"
    }
   ],
   "source": [
    "len(tweets)"
   ]
  },
  {
   "cell_type": "code",
   "execution_count": 29,
   "id": "af9cf3db",
   "metadata": {},
   "outputs": [],
   "source": [
    "sentiment=pd.json_normalize(tweets['sentiment_results'])"
   ]
  },
  {
   "cell_type": "code",
   "execution_count": 30,
   "id": "526a26aa",
   "metadata": {},
   "outputs": [
    {
     "data": {
      "text/plain": [
       "(2083, 2083)"
      ]
     },
     "execution_count": 30,
     "metadata": {},
     "output_type": "execute_result"
    }
   ],
   "source": [
    "len(tweets),len(sentiment)"
   ]
  },
  {
   "cell_type": "code",
   "execution_count": 31,
   "id": "e1dc5a73",
   "metadata": {},
   "outputs": [],
   "source": [
    "tweets=tweets.reset_index()\n",
    "sentiment=sentiment.reset_index()"
   ]
  },
  {
   "cell_type": "code",
   "execution_count": 32,
   "id": "7e138aec",
   "metadata": {},
   "outputs": [],
   "source": [
    "tweets=(pd.concat([tweets,sentiment],axis=1))"
   ]
  },
  {
   "cell_type": "code",
   "execution_count": 33,
   "id": "17775e3f",
   "metadata": {},
   "outputs": [
    {
     "data": {
      "text/html": [
       "<div>\n",
       "<style scoped>\n",
       "    .dataframe tbody tr th:only-of-type {\n",
       "        vertical-align: middle;\n",
       "    }\n",
       "\n",
       "    .dataframe tbody tr th {\n",
       "        vertical-align: top;\n",
       "    }\n",
       "\n",
       "    .dataframe thead th {\n",
       "        text-align: right;\n",
       "    }\n",
       "</style>\n",
       "<table border=\"1\" class=\"dataframe\">\n",
       "  <thead>\n",
       "    <tr style=\"text-align: right;\">\n",
       "      <th></th>\n",
       "      <th>index</th>\n",
       "      <th>date</th>\n",
       "      <th>tweet_id</th>\n",
       "      <th>tweet</th>\n",
       "      <th>username</th>\n",
       "      <th>retweets</th>\n",
       "      <th>likes</th>\n",
       "      <th>id</th>\n",
       "      <th>tweet_cleaned</th>\n",
       "      <th>clusters</th>\n",
       "      <th>popular_tweet</th>\n",
       "      <th>very_popular_tweet</th>\n",
       "      <th>word_count</th>\n",
       "      <th>sentiment_results</th>\n",
       "      <th>index</th>\n",
       "      <th>polarity</th>\n",
       "      <th>subjectivity</th>\n",
       "      <th>sentiment</th>\n",
       "    </tr>\n",
       "  </thead>\n",
       "  <tbody>\n",
       "    <tr>\n",
       "      <th>2078</th>\n",
       "      <td>5628</td>\n",
       "      <td>2021-10-19</td>\n",
       "      <td>1450516286719545350</td>\n",
       "      <td>The #1 Collection by Volume (last 10 mins):\\np...</td>\n",
       "      <td>spr3adsh33t</td>\n",
       "      <td>0</td>\n",
       "      <td>2</td>\n",
       "      <td>5625</td>\n",
       "      <td>collection volume last min parallel parallelal...</td>\n",
       "      <td>4</td>\n",
       "      <td>False</td>\n",
       "      <td>False</td>\n",
       "      <td>19</td>\n",
       "      <td>{'polarity': 0.09375, 'subjectivity': 0.329166...</td>\n",
       "      <td>2078</td>\n",
       "      <td>0.09375</td>\n",
       "      <td>0.329167</td>\n",
       "      <td>Positive</td>\n",
       "    </tr>\n",
       "    <tr>\n",
       "      <th>2079</th>\n",
       "      <td>5985</td>\n",
       "      <td>2021-08-27</td>\n",
       "      <td>1431289478530928641</td>\n",
       "      <td>Top 5 trending NFT collectibles on OpenSea ove...</td>\n",
       "      <td>JohnTodaro1</td>\n",
       "      <td>0</td>\n",
       "      <td>4</td>\n",
       "      <td>5982</td>\n",
       "      <td>top trending nft collectible opensea week cryp...</td>\n",
       "      <td>9</td>\n",
       "      <td>True</td>\n",
       "      <td>False</td>\n",
       "      <td>18</td>\n",
       "      <td>{'polarity': -0.125, 'subjectivity': 0.575, 's...</td>\n",
       "      <td>2079</td>\n",
       "      <td>-0.12500</td>\n",
       "      <td>0.575000</td>\n",
       "      <td>Negative</td>\n",
       "    </tr>\n",
       "    <tr>\n",
       "      <th>2080</th>\n",
       "      <td>6000</td>\n",
       "      <td>2021-08-26</td>\n",
       "      <td>1430815649690005508</td>\n",
       "      <td>The #1 Collection by Volume (last 10 mins):\\np...</td>\n",
       "      <td>spr3adsh33t</td>\n",
       "      <td>0</td>\n",
       "      <td>0</td>\n",
       "      <td>5997</td>\n",
       "      <td>collection volume last min parallel parallelal...</td>\n",
       "      <td>4</td>\n",
       "      <td>False</td>\n",
       "      <td>False</td>\n",
       "      <td>19</td>\n",
       "      <td>{'polarity': 0.09375, 'subjectivity': 0.329166...</td>\n",
       "      <td>2080</td>\n",
       "      <td>0.09375</td>\n",
       "      <td>0.329167</td>\n",
       "      <td>Positive</td>\n",
       "    </tr>\n",
       "    <tr>\n",
       "      <th>2081</th>\n",
       "      <td>6001</td>\n",
       "      <td>2021-08-26</td>\n",
       "      <td>1430803023211683842</td>\n",
       "      <td>The #1 Collection by Volume (last 10 mins):\\np...</td>\n",
       "      <td>spr3adsh33t</td>\n",
       "      <td>0</td>\n",
       "      <td>0</td>\n",
       "      <td>5998</td>\n",
       "      <td>collection volume last min parallel parallelal...</td>\n",
       "      <td>4</td>\n",
       "      <td>False</td>\n",
       "      <td>False</td>\n",
       "      <td>19</td>\n",
       "      <td>{'polarity': 0.09375, 'subjectivity': 0.329166...</td>\n",
       "      <td>2081</td>\n",
       "      <td>0.09375</td>\n",
       "      <td>0.329167</td>\n",
       "      <td>Positive</td>\n",
       "    </tr>\n",
       "    <tr>\n",
       "      <th>2082</th>\n",
       "      <td>6030</td>\n",
       "      <td>2021-08-24</td>\n",
       "      <td>1429982308799553541</td>\n",
       "      <td>The #1 Collection by Volume (last 10 mins):\\np...</td>\n",
       "      <td>spr3adsh33t</td>\n",
       "      <td>0</td>\n",
       "      <td>0</td>\n",
       "      <td>6029</td>\n",
       "      <td>collection volume last min parallel parallelal...</td>\n",
       "      <td>4</td>\n",
       "      <td>False</td>\n",
       "      <td>False</td>\n",
       "      <td>19</td>\n",
       "      <td>{'polarity': 0.09375, 'subjectivity': 0.329166...</td>\n",
       "      <td>2082</td>\n",
       "      <td>0.09375</td>\n",
       "      <td>0.329167</td>\n",
       "      <td>Positive</td>\n",
       "    </tr>\n",
       "  </tbody>\n",
       "</table>\n",
       "</div>"
      ],
      "text/plain": [
       "      index        date             tweet_id  \\\n",
       "2078   5628  2021-10-19  1450516286719545350   \n",
       "2079   5985  2021-08-27  1431289478530928641   \n",
       "2080   6000  2021-08-26  1430815649690005508   \n",
       "2081   6001  2021-08-26  1430803023211683842   \n",
       "2082   6030  2021-08-24  1429982308799553541   \n",
       "\n",
       "                                                  tweet     username  \\\n",
       "2078  The #1 Collection by Volume (last 10 mins):\\np...  spr3adsh33t   \n",
       "2079  Top 5 trending NFT collectibles on OpenSea ove...  JohnTodaro1   \n",
       "2080  The #1 Collection by Volume (last 10 mins):\\np...  spr3adsh33t   \n",
       "2081  The #1 Collection by Volume (last 10 mins):\\np...  spr3adsh33t   \n",
       "2082  The #1 Collection by Volume (last 10 mins):\\np...  spr3adsh33t   \n",
       "\n",
       "      retweets  likes    id  \\\n",
       "2078         0      2  5625   \n",
       "2079         0      4  5982   \n",
       "2080         0      0  5997   \n",
       "2081         0      0  5998   \n",
       "2082         0      0  6029   \n",
       "\n",
       "                                          tweet_cleaned  clusters  \\\n",
       "2078  collection volume last min parallel parallelal...         4   \n",
       "2079  top trending nft collectible opensea week cryp...         9   \n",
       "2080  collection volume last min parallel parallelal...         4   \n",
       "2081  collection volume last min parallel parallelal...         4   \n",
       "2082  collection volume last min parallel parallelal...         4   \n",
       "\n",
       "      popular_tweet  very_popular_tweet  word_count  \\\n",
       "2078          False               False          19   \n",
       "2079           True               False          18   \n",
       "2080          False               False          19   \n",
       "2081          False               False          19   \n",
       "2082          False               False          19   \n",
       "\n",
       "                                      sentiment_results  index  polarity  \\\n",
       "2078  {'polarity': 0.09375, 'subjectivity': 0.329166...   2078   0.09375   \n",
       "2079  {'polarity': -0.125, 'subjectivity': 0.575, 's...   2079  -0.12500   \n",
       "2080  {'polarity': 0.09375, 'subjectivity': 0.329166...   2080   0.09375   \n",
       "2081  {'polarity': 0.09375, 'subjectivity': 0.329166...   2081   0.09375   \n",
       "2082  {'polarity': 0.09375, 'subjectivity': 0.329166...   2082   0.09375   \n",
       "\n",
       "      subjectivity sentiment  \n",
       "2078      0.329167  Positive  \n",
       "2079      0.575000  Negative  \n",
       "2080      0.329167  Positive  \n",
       "2081      0.329167  Positive  \n",
       "2082      0.329167  Positive  "
      ]
     },
     "execution_count": 33,
     "metadata": {},
     "output_type": "execute_result"
    }
   ],
   "source": [
    "tweets.tail()"
   ]
  },
  {
   "cell_type": "code",
   "execution_count": 34,
   "id": "4880c34b",
   "metadata": {},
   "outputs": [
    {
     "data": {
      "text/plain": [
       "index                 0\n",
       "date                  0\n",
       "tweet_id              0\n",
       "tweet                 0\n",
       "username              0\n",
       "retweets              0\n",
       "likes                 0\n",
       "id                    0\n",
       "tweet_cleaned         0\n",
       "clusters              0\n",
       "popular_tweet         0\n",
       "very_popular_tweet    0\n",
       "word_count            0\n",
       "sentiment_results     0\n",
       "index                 0\n",
       "polarity              0\n",
       "subjectivity          0\n",
       "sentiment             0\n",
       "dtype: int64"
      ]
     },
     "execution_count": 34,
     "metadata": {},
     "output_type": "execute_result"
    }
   ],
   "source": [
    "tweets.isnull().sum()"
   ]
  },
  {
   "cell_type": "code",
   "execution_count": 35,
   "id": "1df1dacc",
   "metadata": {},
   "outputs": [],
   "source": [
    "tweets['readability']=[flesch_reading_ease(i) for i in tweets['tweet_cleaned'].apply(str)]"
   ]
  },
  {
   "cell_type": "code",
   "execution_count": 36,
   "id": "e5745b42",
   "metadata": {},
   "outputs": [
    {
     "data": {
      "text/html": [
       "<div>\n",
       "<style scoped>\n",
       "    .dataframe tbody tr th:only-of-type {\n",
       "        vertical-align: middle;\n",
       "    }\n",
       "\n",
       "    .dataframe tbody tr th {\n",
       "        vertical-align: top;\n",
       "    }\n",
       "\n",
       "    .dataframe thead th {\n",
       "        text-align: right;\n",
       "    }\n",
       "</style>\n",
       "<table border=\"1\" class=\"dataframe\">\n",
       "  <thead>\n",
       "    <tr style=\"text-align: right;\">\n",
       "      <th></th>\n",
       "      <th>index</th>\n",
       "      <th>date</th>\n",
       "      <th>tweet_id</th>\n",
       "      <th>tweet</th>\n",
       "      <th>username</th>\n",
       "      <th>retweets</th>\n",
       "      <th>likes</th>\n",
       "      <th>id</th>\n",
       "      <th>tweet_cleaned</th>\n",
       "      <th>clusters</th>\n",
       "      <th>popular_tweet</th>\n",
       "      <th>very_popular_tweet</th>\n",
       "      <th>word_count</th>\n",
       "      <th>sentiment_results</th>\n",
       "      <th>index</th>\n",
       "      <th>polarity</th>\n",
       "      <th>subjectivity</th>\n",
       "      <th>sentiment</th>\n",
       "      <th>readability</th>\n",
       "    </tr>\n",
       "  </thead>\n",
       "  <tbody>\n",
       "    <tr>\n",
       "      <th>0</th>\n",
       "      <td>0</td>\n",
       "      <td>2022-04-16</td>\n",
       "      <td>1515284652889722880</td>\n",
       "      <td>Royal Society of Players: 0.12 Ξ\\nRumble Kong ...</td>\n",
       "      <td>nftflooralerts</td>\n",
       "      <td>0</td>\n",
       "      <td>0</td>\n",
       "      <td>1</td>\n",
       "      <td>royal society player rumble kong league lazy l...</td>\n",
       "      <td>2</td>\n",
       "      <td>False</td>\n",
       "      <td>False</td>\n",
       "      <td>23</td>\n",
       "      <td>{'polarity': -0.125, 'subjectivity': 0.5, 'sen...</td>\n",
       "      <td>0</td>\n",
       "      <td>-0.125</td>\n",
       "      <td>0.5</td>\n",
       "      <td>Negative</td>\n",
       "      <td>22.75</td>\n",
       "    </tr>\n",
       "    <tr>\n",
       "      <th>1</th>\n",
       "      <td>6</td>\n",
       "      <td>2022-04-16</td>\n",
       "      <td>1515194035568361475</td>\n",
       "      <td>Royal Society of Players: 0.12 Ξ\\nRumble Kong ...</td>\n",
       "      <td>nftflooralerts</td>\n",
       "      <td>0</td>\n",
       "      <td>1</td>\n",
       "      <td>7</td>\n",
       "      <td>royal society player rumble kong league lazy l...</td>\n",
       "      <td>2</td>\n",
       "      <td>False</td>\n",
       "      <td>False</td>\n",
       "      <td>23</td>\n",
       "      <td>{'polarity': -0.125, 'subjectivity': 0.5, 'sen...</td>\n",
       "      <td>1</td>\n",
       "      <td>-0.125</td>\n",
       "      <td>0.5</td>\n",
       "      <td>Negative</td>\n",
       "      <td>22.75</td>\n",
       "    </tr>\n",
       "    <tr>\n",
       "      <th>2</th>\n",
       "      <td>10</td>\n",
       "      <td>2022-04-15</td>\n",
       "      <td>1515103488518283278</td>\n",
       "      <td>Royal Society of Players: 0.12 Ξ\\nRumble Kong ...</td>\n",
       "      <td>nftflooralerts</td>\n",
       "      <td>0</td>\n",
       "      <td>0</td>\n",
       "      <td>11</td>\n",
       "      <td>royal society player rumble kong league lazy l...</td>\n",
       "      <td>2</td>\n",
       "      <td>False</td>\n",
       "      <td>False</td>\n",
       "      <td>23</td>\n",
       "      <td>{'polarity': -0.125, 'subjectivity': 0.5, 'sen...</td>\n",
       "      <td>2</td>\n",
       "      <td>-0.125</td>\n",
       "      <td>0.5</td>\n",
       "      <td>Negative</td>\n",
       "      <td>22.75</td>\n",
       "    </tr>\n",
       "    <tr>\n",
       "      <th>3</th>\n",
       "      <td>14</td>\n",
       "      <td>2022-04-15</td>\n",
       "      <td>1515012912376602624</td>\n",
       "      <td>Royal Society of Players: 0.12 Ξ\\nRumble Kong ...</td>\n",
       "      <td>nftflooralerts</td>\n",
       "      <td>0</td>\n",
       "      <td>0</td>\n",
       "      <td>15</td>\n",
       "      <td>royal society player rumble kong league lazy l...</td>\n",
       "      <td>2</td>\n",
       "      <td>False</td>\n",
       "      <td>False</td>\n",
       "      <td>23</td>\n",
       "      <td>{'polarity': -0.125, 'subjectivity': 0.5, 'sen...</td>\n",
       "      <td>3</td>\n",
       "      <td>-0.125</td>\n",
       "      <td>0.5</td>\n",
       "      <td>Negative</td>\n",
       "      <td>22.75</td>\n",
       "    </tr>\n",
       "    <tr>\n",
       "      <th>4</th>\n",
       "      <td>22</td>\n",
       "      <td>2022-04-15</td>\n",
       "      <td>1514922259210776584</td>\n",
       "      <td>Royal Society of Players: 0.12 Ξ\\nRumble Kong ...</td>\n",
       "      <td>nftflooralerts</td>\n",
       "      <td>0</td>\n",
       "      <td>1</td>\n",
       "      <td>23</td>\n",
       "      <td>royal society player rumble kong league lazy l...</td>\n",
       "      <td>2</td>\n",
       "      <td>False</td>\n",
       "      <td>False</td>\n",
       "      <td>23</td>\n",
       "      <td>{'polarity': -0.125, 'subjectivity': 0.5, 'sen...</td>\n",
       "      <td>4</td>\n",
       "      <td>-0.125</td>\n",
       "      <td>0.5</td>\n",
       "      <td>Negative</td>\n",
       "      <td>22.75</td>\n",
       "    </tr>\n",
       "  </tbody>\n",
       "</table>\n",
       "</div>"
      ],
      "text/plain": [
       "   index        date             tweet_id  \\\n",
       "0      0  2022-04-16  1515284652889722880   \n",
       "1      6  2022-04-16  1515194035568361475   \n",
       "2     10  2022-04-15  1515103488518283278   \n",
       "3     14  2022-04-15  1515012912376602624   \n",
       "4     22  2022-04-15  1514922259210776584   \n",
       "\n",
       "                                               tweet        username  \\\n",
       "0  Royal Society of Players: 0.12 Ξ\\nRumble Kong ...  nftflooralerts   \n",
       "1  Royal Society of Players: 0.12 Ξ\\nRumble Kong ...  nftflooralerts   \n",
       "2  Royal Society of Players: 0.12 Ξ\\nRumble Kong ...  nftflooralerts   \n",
       "3  Royal Society of Players: 0.12 Ξ\\nRumble Kong ...  nftflooralerts   \n",
       "4  Royal Society of Players: 0.12 Ξ\\nRumble Kong ...  nftflooralerts   \n",
       "\n",
       "   retweets  likes  id                                      tweet_cleaned  \\\n",
       "0         0      0   1  royal society player rumble kong league lazy l...   \n",
       "1         0      1   7  royal society player rumble kong league lazy l...   \n",
       "2         0      0  11  royal society player rumble kong league lazy l...   \n",
       "3         0      0  15  royal society player rumble kong league lazy l...   \n",
       "4         0      1  23  royal society player rumble kong league lazy l...   \n",
       "\n",
       "   clusters  popular_tweet  very_popular_tweet  word_count  \\\n",
       "0         2          False               False          23   \n",
       "1         2          False               False          23   \n",
       "2         2          False               False          23   \n",
       "3         2          False               False          23   \n",
       "4         2          False               False          23   \n",
       "\n",
       "                                   sentiment_results  index  polarity  \\\n",
       "0  {'polarity': -0.125, 'subjectivity': 0.5, 'sen...      0    -0.125   \n",
       "1  {'polarity': -0.125, 'subjectivity': 0.5, 'sen...      1    -0.125   \n",
       "2  {'polarity': -0.125, 'subjectivity': 0.5, 'sen...      2    -0.125   \n",
       "3  {'polarity': -0.125, 'subjectivity': 0.5, 'sen...      3    -0.125   \n",
       "4  {'polarity': -0.125, 'subjectivity': 0.5, 'sen...      4    -0.125   \n",
       "\n",
       "   subjectivity sentiment  readability  \n",
       "0           0.5  Negative        22.75  \n",
       "1           0.5  Negative        22.75  \n",
       "2           0.5  Negative        22.75  \n",
       "3           0.5  Negative        22.75  \n",
       "4           0.5  Negative        22.75  "
      ]
     },
     "execution_count": 36,
     "metadata": {},
     "output_type": "execute_result"
    }
   ],
   "source": [
    "tweets.head()"
   ]
  },
  {
   "cell_type": "code",
   "execution_count": 37,
   "id": "4fa329fe",
   "metadata": {},
   "outputs": [],
   "source": [
    "df = tweets.copy()"
   ]
  },
  {
   "cell_type": "code",
   "execution_count": 38,
   "id": "997e7b40",
   "metadata": {},
   "outputs": [
    {
     "name": "stderr",
     "output_type": "stream",
     "text": [
      "Series.dt.weekofyear and Series.dt.week have been deprecated. Please use Series.dt.isocalendar().week instead.\n"
     ]
    }
   ],
   "source": [
    "df['date']=pd.to_datetime(df['date'])\n",
    "df['day']=df['date'].dt.day\n",
    "df['week']=df['date'].dt.week\n",
    "df['month']=df['date'].dt.month"
   ]
  },
  {
   "cell_type": "code",
   "execution_count": 39,
   "id": "1aaf8a34",
   "metadata": {},
   "outputs": [
    {
     "data": {
      "text/plain": [
       "<AxesSubplot:>"
      ]
     },
     "execution_count": 39,
     "metadata": {},
     "output_type": "execute_result"
    },
    {
     "data": {
      "image/png": "[encoded data removed]",
      "text/plain": [
       "<Figure size 720x576 with 1 Axes>"
      ]
     },
     "metadata": {
      "needs_background": "light"
     },
     "output_type": "display_data"
    }
   ],
   "source": [
    "df['word_count'].hist()"
   ]
  },
  {
   "cell_type": "code",
   "execution_count": 40,
   "id": "88a5409d",
   "metadata": {},
   "outputs": [
    {
     "data": {
      "image/png": "[encoded data removed]",
      "text/plain": [
       "<Figure size 1152x576 with 1 Axes>"
      ]
     },
     "metadata": {
      "needs_background": "light"
     },
     "output_type": "display_data"
    }
   ],
   "source": [
    "plt.figure(figsize=(16,8))\n",
    "df['month'].value_counts().plot(kind='bar')\n",
    "plt.title('Number of Tweets per month')\n",
    "plt.xlabel('month')\n",
    "plt.ylabel('Number of tweets');"
   ]
  },
  {
   "cell_type": "code",
   "execution_count": 41,
   "id": "a668271a",
   "metadata": {},
   "outputs": [
    {
     "name": "stderr",
     "output_type": "stream",
     "text": [
      "pandas only support SQLAlchemy connectable(engine/connection) ordatabase string URI or sqlite3 DBAPI2 connectionother DBAPI2 objects are not tested, please consider using SQLAlchemy\n"
     ]
    },
    {
     "data": {
      "text/html": [
       "<div>\n",
       "<style scoped>\n",
       "    .dataframe tbody tr th:only-of-type {\n",
       "        vertical-align: middle;\n",
       "    }\n",
       "\n",
       "    .dataframe tbody tr th {\n",
       "        vertical-align: top;\n",
       "    }\n",
       "\n",
       "    .dataframe thead th {\n",
       "        text-align: right;\n",
       "    }\n",
       "</style>\n",
       "<table border=\"1\" class=\"dataframe\">\n",
       "  <thead>\n",
       "    <tr style=\"text-align: right;\">\n",
       "      <th></th>\n",
       "      <th>chain</th>\n",
       "      <th>collectionaddress</th>\n",
       "      <th>collectionname</th>\n",
       "      <th>exchange</th>\n",
       "      <th>logindex</th>\n",
       "      <th>maker</th>\n",
       "      <th>price</th>\n",
       "      <th>quotecurrency</th>\n",
       "      <th>side</th>\n",
       "      <th>taker</th>\n",
       "      <th>thumbnailurl</th>\n",
       "      <th>timestamp</th>\n",
       "      <th>tokenid</th>\n",
       "      <th>tx</th>\n",
       "      <th>txindex</th>\n",
       "      <th>id</th>\n",
       "    </tr>\n",
       "  </thead>\n",
       "  <tbody>\n",
       "    <tr>\n",
       "      <th>131357</th>\n",
       "      <td>eth</td>\n",
       "      <td>0x76be3b62873462d2142405439777e971754e8e77</td>\n",
       "      <td>Parallel Alpha</td>\n",
       "      <td>opensea</td>\n",
       "      <td>153</td>\n",
       "      <td>0xe20f75642b97c11af651a81afcbbc6d7b4e32981</td>\n",
       "      <td>0.4200</td>\n",
       "      <td>ETH</td>\n",
       "      <td>buy</td>\n",
       "      <td>0xa8c045e857c1c4550119b612f22c3b27ece10340</td>\n",
       "      <td>https://storage.googleapis.com/parsec-nft-stor...</td>\n",
       "      <td>1625339709</td>\n",
       "      <td>87.0</td>\n",
       "      <td>0x2b9d31835cc90cf9206534c7da9dffd7edfbd4b900b4...</td>\n",
       "      <td>76.0</td>\n",
       "      <td>131358</td>\n",
       "    </tr>\n",
       "    <tr>\n",
       "      <th>131358</th>\n",
       "      <td>eth</td>\n",
       "      <td>0x76be3b62873462d2142405439777e971754e8e77</td>\n",
       "      <td>Parallel Alpha</td>\n",
       "      <td>opensea</td>\n",
       "      <td>-1</td>\n",
       "      <td>0xc8301d3780efff7ee9fc579ab3b78aa5d6885a0a</td>\n",
       "      <td>0.4500</td>\n",
       "      <td>ETH</td>\n",
       "      <td>buy</td>\n",
       "      <td>0x41797b5e0398af475422f6f33f2dc81d9a24ae33</td>\n",
       "      <td>https://storage.googleapis.com/parsec-nft-stor...</td>\n",
       "      <td>1625323718</td>\n",
       "      <td>87.0</td>\n",
       "      <td>0x03d2923e72231726b99cda79073188cfb19195595530...</td>\n",
       "      <td>59.0</td>\n",
       "      <td>131359</td>\n",
       "    </tr>\n",
       "    <tr>\n",
       "      <th>131359</th>\n",
       "      <td>eth</td>\n",
       "      <td>0x76be3b62873462d2142405439777e971754e8e77</td>\n",
       "      <td>Parallel Alpha</td>\n",
       "      <td>opensea</td>\n",
       "      <td>193</td>\n",
       "      <td>0xe20f75642b97c11af651a81afcbbc6d7b4e32981</td>\n",
       "      <td>0.3800</td>\n",
       "      <td>ETH</td>\n",
       "      <td>buy</td>\n",
       "      <td>0xf2327b04521589f505c7074c163805843a4bd6cd</td>\n",
       "      <td>https://storage.googleapis.com/parsec-nft-stor...</td>\n",
       "      <td>1625275386</td>\n",
       "      <td>87.0</td>\n",
       "      <td>0xd3168d526e49d9f361e0f8d5dec7e7d5b91733f72b0e...</td>\n",
       "      <td>116.0</td>\n",
       "      <td>131360</td>\n",
       "    </tr>\n",
       "    <tr>\n",
       "      <th>131360</th>\n",
       "      <td>eth</td>\n",
       "      <td>0x76be3b62873462d2142405439777e971754e8e77</td>\n",
       "      <td>Parallel Alpha</td>\n",
       "      <td>opensea</td>\n",
       "      <td>198</td>\n",
       "      <td>0x52d7e31678d712ee8c15ca5af10babc257e5b61a</td>\n",
       "      <td>0.3500</td>\n",
       "      <td>ETH</td>\n",
       "      <td>buy</td>\n",
       "      <td>0x167539702b5501aadd9b0b85e53532fd57cc71a9</td>\n",
       "      <td>https://storage.googleapis.com/parsec-nft-stor...</td>\n",
       "      <td>1625220839</td>\n",
       "      <td>73.0</td>\n",
       "      <td>0x180169adcc282d403943b1a6c74a55c921547455adf4...</td>\n",
       "      <td>146.0</td>\n",
       "      <td>131361</td>\n",
       "    </tr>\n",
       "    <tr>\n",
       "      <th>131361</th>\n",
       "      <td>eth</td>\n",
       "      <td>0x76be3b62873462d2142405439777e971754e8e77</td>\n",
       "      <td>Parallel Alpha</td>\n",
       "      <td>opensea</td>\n",
       "      <td>75</td>\n",
       "      <td>0x98c45d5ea9ccd8278fe43ba740e967a49cd19e6e</td>\n",
       "      <td>0.0099</td>\n",
       "      <td>ETH</td>\n",
       "      <td>buy</td>\n",
       "      <td>0x1c73c6174eb2fddc2e0a702e85cd3146c05aa122</td>\n",
       "      <td>https://storage.googleapis.com/parsec-nft-stor...</td>\n",
       "      <td>1625177755</td>\n",
       "      <td>10089.0</td>\n",
       "      <td>0x56d15482b8e9433db79c4fcfb0788e384cb38ec027aa...</td>\n",
       "      <td>40.0</td>\n",
       "      <td>131362</td>\n",
       "    </tr>\n",
       "  </tbody>\n",
       "</table>\n",
       "</div>"
      ],
      "text/plain": [
       "       chain                           collectionaddress  collectionname  \\\n",
       "131357   eth  0x76be3b62873462d2142405439777e971754e8e77  Parallel Alpha   \n",
       "131358   eth  0x76be3b62873462d2142405439777e971754e8e77  Parallel Alpha   \n",
       "131359   eth  0x76be3b62873462d2142405439777e971754e8e77  Parallel Alpha   \n",
       "131360   eth  0x76be3b62873462d2142405439777e971754e8e77  Parallel Alpha   \n",
       "131361   eth  0x76be3b62873462d2142405439777e971754e8e77  Parallel Alpha   \n",
       "\n",
       "       exchange  logindex                                       maker   price  \\\n",
       "131357  opensea       153  0xe20f75642b97c11af651a81afcbbc6d7b4e32981  0.4200   \n",
       "131358  opensea        -1  0xc8301d3780efff7ee9fc579ab3b78aa5d6885a0a  0.4500   \n",
       "131359  opensea       193  0xe20f75642b97c11af651a81afcbbc6d7b4e32981  0.3800   \n",
       "131360  opensea       198  0x52d7e31678d712ee8c15ca5af10babc257e5b61a  0.3500   \n",
       "131361  opensea        75  0x98c45d5ea9ccd8278fe43ba740e967a49cd19e6e  0.0099   \n",
       "\n",
       "       quotecurrency side                                       taker  \\\n",
       "131357           ETH  buy  0xa8c045e857c1c4550119b612f22c3b27ece10340   \n",
       "131358           ETH  buy  0x41797b5e0398af475422f6f33f2dc81d9a24ae33   \n",
       "131359           ETH  buy  0xf2327b04521589f505c7074c163805843a4bd6cd   \n",
       "131360           ETH  buy  0x167539702b5501aadd9b0b85e53532fd57cc71a9   \n",
       "131361           ETH  buy  0x1c73c6174eb2fddc2e0a702e85cd3146c05aa122   \n",
       "\n",
       "                                             thumbnailurl   timestamp  \\\n",
       "131357  https://storage.googleapis.com/parsec-nft-stor...  1625339709   \n",
       "131358  https://storage.googleapis.com/parsec-nft-stor...  1625323718   \n",
       "131359  https://storage.googleapis.com/parsec-nft-stor...  1625275386   \n",
       "131360  https://storage.googleapis.com/parsec-nft-stor...  1625220839   \n",
       "131361  https://storage.googleapis.com/parsec-nft-stor...  1625177755   \n",
       "\n",
       "        tokenid                                                 tx  txindex  \\\n",
       "131357     87.0  0x2b9d31835cc90cf9206534c7da9dffd7edfbd4b900b4...     76.0   \n",
       "131358     87.0  0x03d2923e72231726b99cda79073188cfb19195595530...     59.0   \n",
       "131359     87.0  0xd3168d526e49d9f361e0f8d5dec7e7d5b91733f72b0e...    116.0   \n",
       "131360     73.0  0x180169adcc282d403943b1a6c74a55c921547455adf4...    146.0   \n",
       "131361  10089.0  0x56d15482b8e9433db79c4fcfb0788e384cb38ec027aa...     40.0   \n",
       "\n",
       "            id  \n",
       "131357  131358  \n",
       "131358  131359  \n",
       "131359  131360  \n",
       "131360  131361  \n",
       "131361  131362  "
      ]
     },
     "execution_count": 41,
     "metadata": {},
     "output_type": "execute_result"
    }
   ],
   "source": [
    "parallel=pd.read_sql_query(\"SELECT * FROM parallel_alpha_trades\",conn)\n",
    "parallel.tail()"
   ]
  },
  {
   "cell_type": "code",
   "execution_count": 42,
   "id": "dabe0172",
   "metadata": {},
   "outputs": [],
   "source": [
    "from datetime import datetime\n",
    "parallel['date']=parallel['timestamp'].apply(lambda x: datetime.utcfromtimestamp(x).strftime('%Y-%m-%d %H:%M:%S'))"
   ]
  },
  {
   "cell_type": "code",
   "execution_count": 43,
   "id": "01711de1",
   "metadata": {},
   "outputs": [],
   "source": [
    "parallel['date']=pd.to_datetime(parallel['date'])\n",
    "#parallel=parallel[parallel['date']>'2021-08-08']"
   ]
  },
  {
   "cell_type": "code",
   "execution_count": 44,
   "id": "a727d908",
   "metadata": {},
   "outputs": [],
   "source": [
    "#parallel=parallel[parallel['price']>=0]"
   ]
  },
  {
   "cell_type": "code",
   "execution_count": 45,
   "id": "2138ddbd",
   "metadata": {},
   "outputs": [
    {
     "data": {
      "text/html": [
       "<div>\n",
       "<style scoped>\n",
       "    .dataframe tbody tr th:only-of-type {\n",
       "        vertical-align: middle;\n",
       "    }\n",
       "\n",
       "    .dataframe tbody tr th {\n",
       "        vertical-align: top;\n",
       "    }\n",
       "\n",
       "    .dataframe thead th {\n",
       "        text-align: right;\n",
       "    }\n",
       "</style>\n",
       "<table border=\"1\" class=\"dataframe\">\n",
       "  <thead>\n",
       "    <tr style=\"text-align: right;\">\n",
       "      <th></th>\n",
       "      <th>index</th>\n",
       "      <th>date</th>\n",
       "      <th>tweet_id</th>\n",
       "      <th>tweet</th>\n",
       "      <th>username</th>\n",
       "      <th>retweets</th>\n",
       "      <th>likes</th>\n",
       "      <th>id</th>\n",
       "      <th>tweet_cleaned</th>\n",
       "      <th>clusters</th>\n",
       "      <th>popular_tweet</th>\n",
       "      <th>very_popular_tweet</th>\n",
       "      <th>word_count</th>\n",
       "      <th>sentiment_results</th>\n",
       "      <th>index</th>\n",
       "      <th>polarity</th>\n",
       "      <th>subjectivity</th>\n",
       "      <th>sentiment</th>\n",
       "      <th>readability</th>\n",
       "      <th>day</th>\n",
       "      <th>week</th>\n",
       "      <th>month</th>\n",
       "    </tr>\n",
       "  </thead>\n",
       "  <tbody>\n",
       "    <tr>\n",
       "      <th>0</th>\n",
       "      <td>0</td>\n",
       "      <td>2022-04-16</td>\n",
       "      <td>1515284652889722880</td>\n",
       "      <td>Royal Society of Players: 0.12 Ξ\\nRumble Kong ...</td>\n",
       "      <td>nftflooralerts</td>\n",
       "      <td>0</td>\n",
       "      <td>0</td>\n",
       "      <td>1</td>\n",
       "      <td>royal society player rumble kong league lazy l...</td>\n",
       "      <td>2</td>\n",
       "      <td>False</td>\n",
       "      <td>False</td>\n",
       "      <td>23</td>\n",
       "      <td>{'polarity': -0.125, 'subjectivity': 0.5, 'sen...</td>\n",
       "      <td>0</td>\n",
       "      <td>-0.125</td>\n",
       "      <td>0.5</td>\n",
       "      <td>Negative</td>\n",
       "      <td>22.75</td>\n",
       "      <td>16</td>\n",
       "      <td>15</td>\n",
       "      <td>4</td>\n",
       "    </tr>\n",
       "    <tr>\n",
       "      <th>1</th>\n",
       "      <td>6</td>\n",
       "      <td>2022-04-16</td>\n",
       "      <td>1515194035568361475</td>\n",
       "      <td>Royal Society of Players: 0.12 Ξ\\nRumble Kong ...</td>\n",
       "      <td>nftflooralerts</td>\n",
       "      <td>0</td>\n",
       "      <td>1</td>\n",
       "      <td>7</td>\n",
       "      <td>royal society player rumble kong league lazy l...</td>\n",
       "      <td>2</td>\n",
       "      <td>False</td>\n",
       "      <td>False</td>\n",
       "      <td>23</td>\n",
       "      <td>{'polarity': -0.125, 'subjectivity': 0.5, 'sen...</td>\n",
       "      <td>1</td>\n",
       "      <td>-0.125</td>\n",
       "      <td>0.5</td>\n",
       "      <td>Negative</td>\n",
       "      <td>22.75</td>\n",
       "      <td>16</td>\n",
       "      <td>15</td>\n",
       "      <td>4</td>\n",
       "    </tr>\n",
       "    <tr>\n",
       "      <th>2</th>\n",
       "      <td>10</td>\n",
       "      <td>2022-04-15</td>\n",
       "      <td>1515103488518283278</td>\n",
       "      <td>Royal Society of Players: 0.12 Ξ\\nRumble Kong ...</td>\n",
       "      <td>nftflooralerts</td>\n",
       "      <td>0</td>\n",
       "      <td>0</td>\n",
       "      <td>11</td>\n",
       "      <td>royal society player rumble kong league lazy l...</td>\n",
       "      <td>2</td>\n",
       "      <td>False</td>\n",
       "      <td>False</td>\n",
       "      <td>23</td>\n",
       "      <td>{'polarity': -0.125, 'subjectivity': 0.5, 'sen...</td>\n",
       "      <td>2</td>\n",
       "      <td>-0.125</td>\n",
       "      <td>0.5</td>\n",
       "      <td>Negative</td>\n",
       "      <td>22.75</td>\n",
       "      <td>15</td>\n",
       "      <td>15</td>\n",
       "      <td>4</td>\n",
       "    </tr>\n",
       "    <tr>\n",
       "      <th>3</th>\n",
       "      <td>14</td>\n",
       "      <td>2022-04-15</td>\n",
       "      <td>1515012912376602624</td>\n",
       "      <td>Royal Society of Players: 0.12 Ξ\\nRumble Kong ...</td>\n",
       "      <td>nftflooralerts</td>\n",
       "      <td>0</td>\n",
       "      <td>0</td>\n",
       "      <td>15</td>\n",
       "      <td>royal society player rumble kong league lazy l...</td>\n",
       "      <td>2</td>\n",
       "      <td>False</td>\n",
       "      <td>False</td>\n",
       "      <td>23</td>\n",
       "      <td>{'polarity': -0.125, 'subjectivity': 0.5, 'sen...</td>\n",
       "      <td>3</td>\n",
       "      <td>-0.125</td>\n",
       "      <td>0.5</td>\n",
       "      <td>Negative</td>\n",
       "      <td>22.75</td>\n",
       "      <td>15</td>\n",
       "      <td>15</td>\n",
       "      <td>4</td>\n",
       "    </tr>\n",
       "    <tr>\n",
       "      <th>4</th>\n",
       "      <td>22</td>\n",
       "      <td>2022-04-15</td>\n",
       "      <td>1514922259210776584</td>\n",
       "      <td>Royal Society of Players: 0.12 Ξ\\nRumble Kong ...</td>\n",
       "      <td>nftflooralerts</td>\n",
       "      <td>0</td>\n",
       "      <td>1</td>\n",
       "      <td>23</td>\n",
       "      <td>royal society player rumble kong league lazy l...</td>\n",
       "      <td>2</td>\n",
       "      <td>False</td>\n",
       "      <td>False</td>\n",
       "      <td>23</td>\n",
       "      <td>{'polarity': -0.125, 'subjectivity': 0.5, 'sen...</td>\n",
       "      <td>4</td>\n",
       "      <td>-0.125</td>\n",
       "      <td>0.5</td>\n",
       "      <td>Negative</td>\n",
       "      <td>22.75</td>\n",
       "      <td>15</td>\n",
       "      <td>15</td>\n",
       "      <td>4</td>\n",
       "    </tr>\n",
       "  </tbody>\n",
       "</table>\n",
       "</div>"
      ],
      "text/plain": [
       "   index       date             tweet_id  \\\n",
       "0      0 2022-04-16  1515284652889722880   \n",
       "1      6 2022-04-16  1515194035568361475   \n",
       "2     10 2022-04-15  1515103488518283278   \n",
       "3     14 2022-04-15  1515012912376602624   \n",
       "4     22 2022-04-15  1514922259210776584   \n",
       "\n",
       "                                               tweet        username  \\\n",
       "0  Royal Society of Players: 0.12 Ξ\\nRumble Kong ...  nftflooralerts   \n",
       "1  Royal Society of Players: 0.12 Ξ\\nRumble Kong ...  nftflooralerts   \n",
       "2  Royal Society of Players: 0.12 Ξ\\nRumble Kong ...  nftflooralerts   \n",
       "3  Royal Society of Players: 0.12 Ξ\\nRumble Kong ...  nftflooralerts   \n",
       "4  Royal Society of Players: 0.12 Ξ\\nRumble Kong ...  nftflooralerts   \n",
       "\n",
       "   retweets  likes  id                                      tweet_cleaned  \\\n",
       "0         0      0   1  royal society player rumble kong league lazy l...   \n",
       "1         0      1   7  royal society player rumble kong league lazy l...   \n",
       "2         0      0  11  royal society player rumble kong league lazy l...   \n",
       "3         0      0  15  royal society player rumble kong league lazy l...   \n",
       "4         0      1  23  royal society player rumble kong league lazy l...   \n",
       "\n",
       "   clusters  popular_tweet  very_popular_tweet  word_count  \\\n",
       "0         2          False               False          23   \n",
       "1         2          False               False          23   \n",
       "2         2          False               False          23   \n",
       "3         2          False               False          23   \n",
       "4         2          False               False          23   \n",
       "\n",
       "                                   sentiment_results  index  polarity  \\\n",
       "0  {'polarity': -0.125, 'subjectivity': 0.5, 'sen...      0    -0.125   \n",
       "1  {'polarity': -0.125, 'subjectivity': 0.5, 'sen...      1    -0.125   \n",
       "2  {'polarity': -0.125, 'subjectivity': 0.5, 'sen...      2    -0.125   \n",
       "3  {'polarity': -0.125, 'subjectivity': 0.5, 'sen...      3    -0.125   \n",
       "4  {'polarity': -0.125, 'subjectivity': 0.5, 'sen...      4    -0.125   \n",
       "\n",
       "   subjectivity sentiment  readability  day  week  month  \n",
       "0           0.5  Negative        22.75   16    15      4  \n",
       "1           0.5  Negative        22.75   16    15      4  \n",
       "2           0.5  Negative        22.75   15    15      4  \n",
       "3           0.5  Negative        22.75   15    15      4  \n",
       "4           0.5  Negative        22.75   15    15      4  "
      ]
     },
     "execution_count": 45,
     "metadata": {},
     "output_type": "execute_result"
    }
   ],
   "source": [
    "df.head()"
   ]
  },
  {
   "cell_type": "code",
   "execution_count": 46,
   "id": "66df5f5f",
   "metadata": {},
   "outputs": [
    {
     "data": {
      "text/html": [
       "<div>\n",
       "<style scoped>\n",
       "    .dataframe tbody tr th:only-of-type {\n",
       "        vertical-align: middle;\n",
       "    }\n",
       "\n",
       "    .dataframe tbody tr th {\n",
       "        vertical-align: top;\n",
       "    }\n",
       "\n",
       "    .dataframe thead th {\n",
       "        text-align: right;\n",
       "    }\n",
       "</style>\n",
       "<table border=\"1\" class=\"dataframe\">\n",
       "  <thead>\n",
       "    <tr style=\"text-align: right;\">\n",
       "      <th></th>\n",
       "      <th>index</th>\n",
       "      <th>date</th>\n",
       "      <th>tweet_id</th>\n",
       "      <th>tweet</th>\n",
       "      <th>username</th>\n",
       "      <th>retweets</th>\n",
       "      <th>likes</th>\n",
       "      <th>id</th>\n",
       "      <th>tweet_cleaned</th>\n",
       "      <th>clusters</th>\n",
       "      <th>popular_tweet</th>\n",
       "      <th>very_popular_tweet</th>\n",
       "      <th>word_count</th>\n",
       "      <th>sentiment_results</th>\n",
       "      <th>index</th>\n",
       "      <th>polarity</th>\n",
       "      <th>subjectivity</th>\n",
       "      <th>sentiment</th>\n",
       "      <th>readability</th>\n",
       "      <th>day</th>\n",
       "      <th>week</th>\n",
       "      <th>month</th>\n",
       "    </tr>\n",
       "  </thead>\n",
       "  <tbody>\n",
       "    <tr>\n",
       "      <th>0</th>\n",
       "      <td>0</td>\n",
       "      <td>2022-04-16</td>\n",
       "      <td>1515284652889722880</td>\n",
       "      <td>Royal Society of Players: 0.12 Ξ\\nRumble Kong ...</td>\n",
       "      <td>nftflooralerts</td>\n",
       "      <td>0</td>\n",
       "      <td>0</td>\n",
       "      <td>1</td>\n",
       "      <td>royal society player rumble kong league lazy l...</td>\n",
       "      <td>2</td>\n",
       "      <td>False</td>\n",
       "      <td>False</td>\n",
       "      <td>23</td>\n",
       "      <td>{'polarity': -0.125, 'subjectivity': 0.5, 'sen...</td>\n",
       "      <td>0</td>\n",
       "      <td>-0.125</td>\n",
       "      <td>0.5</td>\n",
       "      <td>Negative</td>\n",
       "      <td>22.75</td>\n",
       "      <td>16</td>\n",
       "      <td>15</td>\n",
       "      <td>4</td>\n",
       "    </tr>\n",
       "  </tbody>\n",
       "</table>\n",
       "</div>"
      ],
      "text/plain": [
       "   index       date             tweet_id  \\\n",
       "0      0 2022-04-16  1515284652889722880   \n",
       "\n",
       "                                               tweet        username  \\\n",
       "0  Royal Society of Players: 0.12 Ξ\\nRumble Kong ...  nftflooralerts   \n",
       "\n",
       "   retweets  likes  id                                      tweet_cleaned  \\\n",
       "0         0      0   1  royal society player rumble kong league lazy l...   \n",
       "\n",
       "   clusters  popular_tweet  very_popular_tweet  word_count  \\\n",
       "0         2          False               False          23   \n",
       "\n",
       "                                   sentiment_results  index  polarity  \\\n",
       "0  {'polarity': -0.125, 'subjectivity': 0.5, 'sen...      0    -0.125   \n",
       "\n",
       "   subjectivity sentiment  readability  day  week  month  \n",
       "0           0.5  Negative        22.75   16    15      4  "
      ]
     },
     "execution_count": 46,
     "metadata": {},
     "output_type": "execute_result"
    }
   ],
   "source": [
    "df.head(1)"
   ]
  },
  {
   "cell_type": "code",
   "execution_count": 47,
   "id": "36b1a066",
   "metadata": {},
   "outputs": [
    {
     "data": {
      "text/html": [
       "<div>\n",
       "<style scoped>\n",
       "    .dataframe tbody tr th:only-of-type {\n",
       "        vertical-align: middle;\n",
       "    }\n",
       "\n",
       "    .dataframe tbody tr th {\n",
       "        vertical-align: top;\n",
       "    }\n",
       "\n",
       "    .dataframe thead th {\n",
       "        text-align: right;\n",
       "    }\n",
       "</style>\n",
       "<table border=\"1\" class=\"dataframe\">\n",
       "  <thead>\n",
       "    <tr style=\"text-align: right;\">\n",
       "      <th></th>\n",
       "      <th>index</th>\n",
       "      <th>date</th>\n",
       "      <th>tweet_id</th>\n",
       "      <th>tweet</th>\n",
       "      <th>username</th>\n",
       "      <th>retweets</th>\n",
       "      <th>likes</th>\n",
       "      <th>id</th>\n",
       "      <th>tweet_cleaned</th>\n",
       "      <th>clusters</th>\n",
       "      <th>popular_tweet</th>\n",
       "      <th>very_popular_tweet</th>\n",
       "      <th>word_count</th>\n",
       "      <th>sentiment_results</th>\n",
       "      <th>index</th>\n",
       "      <th>polarity</th>\n",
       "      <th>subjectivity</th>\n",
       "      <th>sentiment</th>\n",
       "      <th>readability</th>\n",
       "      <th>day</th>\n",
       "      <th>week</th>\n",
       "      <th>month</th>\n",
       "    </tr>\n",
       "  </thead>\n",
       "  <tbody>\n",
       "    <tr>\n",
       "      <th>2073</th>\n",
       "      <td>5515</td>\n",
       "      <td>2021-10-23</td>\n",
       "      <td>1451888645208690702</td>\n",
       "      <td>Top 10 Trending #NFT Collections Past Hour:\\n\\...</td>\n",
       "      <td>StickyDAO</td>\n",
       "      <td>0</td>\n",
       "      <td>7</td>\n",
       "      <td>5512</td>\n",
       "      <td>top trending nft collection past hour og cryst...</td>\n",
       "      <td>9</td>\n",
       "      <td>True</td>\n",
       "      <td>False</td>\n",
       "      <td>15</td>\n",
       "      <td>{'polarity': -0.0625, 'subjectivity': 0.4375, ...</td>\n",
       "      <td>2073</td>\n",
       "      <td>-0.062500</td>\n",
       "      <td>0.437500</td>\n",
       "      <td>Negative</td>\n",
       "      <td>47.79</td>\n",
       "      <td>23</td>\n",
       "      <td>42</td>\n",
       "      <td>10</td>\n",
       "    </tr>\n",
       "    <tr>\n",
       "      <th>2074</th>\n",
       "      <td>5536</td>\n",
       "      <td>2021-10-23</td>\n",
       "      <td>1451707453087920130</td>\n",
       "      <td>Top 10 Trending #NFT Collections Past Hour:\\n\\...</td>\n",
       "      <td>StickyDAO</td>\n",
       "      <td>0</td>\n",
       "      <td>2</td>\n",
       "      <td>5533</td>\n",
       "      <td>top trending nft collection past hour parallel...</td>\n",
       "      <td>9</td>\n",
       "      <td>False</td>\n",
       "      <td>False</td>\n",
       "      <td>15</td>\n",
       "      <td>{'polarity': 0.08333333333333333, 'subjectivit...</td>\n",
       "      <td>2074</td>\n",
       "      <td>0.083333</td>\n",
       "      <td>0.250000</td>\n",
       "      <td>Positive</td>\n",
       "      <td>56.25</td>\n",
       "      <td>23</td>\n",
       "      <td>42</td>\n",
       "      <td>10</td>\n",
       "    </tr>\n",
       "    <tr>\n",
       "      <th>2075</th>\n",
       "      <td>5540</td>\n",
       "      <td>2021-10-22</td>\n",
       "      <td>1451692351747936284</td>\n",
       "      <td>Top 10 Trending #NFT Collections Past Hour:\\n\\...</td>\n",
       "      <td>StickyDAO</td>\n",
       "      <td>0</td>\n",
       "      <td>0</td>\n",
       "      <td>5537</td>\n",
       "      <td>top trending nft collection past hour parallel...</td>\n",
       "      <td>9</td>\n",
       "      <td>False</td>\n",
       "      <td>False</td>\n",
       "      <td>14</td>\n",
       "      <td>{'polarity': 0.08333333333333333, 'subjectivit...</td>\n",
       "      <td>2075</td>\n",
       "      <td>0.083333</td>\n",
       "      <td>0.250000</td>\n",
       "      <td>Positive</td>\n",
       "      <td>48.81</td>\n",
       "      <td>22</td>\n",
       "      <td>42</td>\n",
       "      <td>10</td>\n",
       "    </tr>\n",
       "    <tr>\n",
       "      <th>2076</th>\n",
       "      <td>5544</td>\n",
       "      <td>2021-10-22</td>\n",
       "      <td>1451677252131958787</td>\n",
       "      <td>Top 10 Trending #NFT Collections Past Hour:\\n\\...</td>\n",
       "      <td>StickyDAO</td>\n",
       "      <td>1</td>\n",
       "      <td>5</td>\n",
       "      <td>5541</td>\n",
       "      <td>top trending nft collection past hour alpacada...</td>\n",
       "      <td>9</td>\n",
       "      <td>True</td>\n",
       "      <td>False</td>\n",
       "      <td>16</td>\n",
       "      <td>{'polarity': 0.08333333333333333, 'subjectivit...</td>\n",
       "      <td>2076</td>\n",
       "      <td>0.083333</td>\n",
       "      <td>0.250000</td>\n",
       "      <td>Positive</td>\n",
       "      <td>38.32</td>\n",
       "      <td>22</td>\n",
       "      <td>42</td>\n",
       "      <td>10</td>\n",
       "    </tr>\n",
       "    <tr>\n",
       "      <th>2077</th>\n",
       "      <td>5590</td>\n",
       "      <td>2021-10-21</td>\n",
       "      <td>1451239368274874372</td>\n",
       "      <td>Top 10 Trending #NFT Collections Past Hour:\\n\\...</td>\n",
       "      <td>StickyDAO</td>\n",
       "      <td>1</td>\n",
       "      <td>1</td>\n",
       "      <td>5587</td>\n",
       "      <td>top trending nft collection past hour creature...</td>\n",
       "      <td>9</td>\n",
       "      <td>True</td>\n",
       "      <td>False</td>\n",
       "      <td>15</td>\n",
       "      <td>{'polarity': 0.08333333333333333, 'subjectivit...</td>\n",
       "      <td>2077</td>\n",
       "      <td>0.083333</td>\n",
       "      <td>0.250000</td>\n",
       "      <td>Positive</td>\n",
       "      <td>47.79</td>\n",
       "      <td>21</td>\n",
       "      <td>42</td>\n",
       "      <td>10</td>\n",
       "    </tr>\n",
       "    <tr>\n",
       "      <th>2078</th>\n",
       "      <td>5628</td>\n",
       "      <td>2021-10-19</td>\n",
       "      <td>1450516286719545350</td>\n",
       "      <td>The #1 Collection by Volume (last 10 mins):\\np...</td>\n",
       "      <td>spr3adsh33t</td>\n",
       "      <td>0</td>\n",
       "      <td>2</td>\n",
       "      <td>5625</td>\n",
       "      <td>collection volume last min parallel parallelal...</td>\n",
       "      <td>4</td>\n",
       "      <td>False</td>\n",
       "      <td>False</td>\n",
       "      <td>19</td>\n",
       "      <td>{'polarity': 0.09375, 'subjectivity': 0.329166...</td>\n",
       "      <td>2078</td>\n",
       "      <td>0.093750</td>\n",
       "      <td>0.329167</td>\n",
       "      <td>Positive</td>\n",
       "      <td>52.19</td>\n",
       "      <td>19</td>\n",
       "      <td>42</td>\n",
       "      <td>10</td>\n",
       "    </tr>\n",
       "    <tr>\n",
       "      <th>2079</th>\n",
       "      <td>5985</td>\n",
       "      <td>2021-08-27</td>\n",
       "      <td>1431289478530928641</td>\n",
       "      <td>Top 5 trending NFT collectibles on OpenSea ove...</td>\n",
       "      <td>JohnTodaro1</td>\n",
       "      <td>0</td>\n",
       "      <td>4</td>\n",
       "      <td>5982</td>\n",
       "      <td>top trending nft collectible opensea week cryp...</td>\n",
       "      <td>9</td>\n",
       "      <td>True</td>\n",
       "      <td>False</td>\n",
       "      <td>18</td>\n",
       "      <td>{'polarity': -0.125, 'subjectivity': 0.575, 's...</td>\n",
       "      <td>2079</td>\n",
       "      <td>-0.125000</td>\n",
       "      <td>0.575000</td>\n",
       "      <td>Negative</td>\n",
       "      <td>53.21</td>\n",
       "      <td>27</td>\n",
       "      <td>34</td>\n",
       "      <td>8</td>\n",
       "    </tr>\n",
       "    <tr>\n",
       "      <th>2080</th>\n",
       "      <td>6000</td>\n",
       "      <td>2021-08-26</td>\n",
       "      <td>1430815649690005508</td>\n",
       "      <td>The #1 Collection by Volume (last 10 mins):\\np...</td>\n",
       "      <td>spr3adsh33t</td>\n",
       "      <td>0</td>\n",
       "      <td>0</td>\n",
       "      <td>5997</td>\n",
       "      <td>collection volume last min parallel parallelal...</td>\n",
       "      <td>4</td>\n",
       "      <td>False</td>\n",
       "      <td>False</td>\n",
       "      <td>19</td>\n",
       "      <td>{'polarity': 0.09375, 'subjectivity': 0.329166...</td>\n",
       "      <td>2080</td>\n",
       "      <td>0.093750</td>\n",
       "      <td>0.329167</td>\n",
       "      <td>Positive</td>\n",
       "      <td>52.19</td>\n",
       "      <td>26</td>\n",
       "      <td>34</td>\n",
       "      <td>8</td>\n",
       "    </tr>\n",
       "    <tr>\n",
       "      <th>2081</th>\n",
       "      <td>6001</td>\n",
       "      <td>2021-08-26</td>\n",
       "      <td>1430803023211683842</td>\n",
       "      <td>The #1 Collection by Volume (last 10 mins):\\np...</td>\n",
       "      <td>spr3adsh33t</td>\n",
       "      <td>0</td>\n",
       "      <td>0</td>\n",
       "      <td>5998</td>\n",
       "      <td>collection volume last min parallel parallelal...</td>\n",
       "      <td>4</td>\n",
       "      <td>False</td>\n",
       "      <td>False</td>\n",
       "      <td>19</td>\n",
       "      <td>{'polarity': 0.09375, 'subjectivity': 0.329166...</td>\n",
       "      <td>2081</td>\n",
       "      <td>0.093750</td>\n",
       "      <td>0.329167</td>\n",
       "      <td>Positive</td>\n",
       "      <td>52.19</td>\n",
       "      <td>26</td>\n",
       "      <td>34</td>\n",
       "      <td>8</td>\n",
       "    </tr>\n",
       "    <tr>\n",
       "      <th>2082</th>\n",
       "      <td>6030</td>\n",
       "      <td>2021-08-24</td>\n",
       "      <td>1429982308799553541</td>\n",
       "      <td>The #1 Collection by Volume (last 10 mins):\\np...</td>\n",
       "      <td>spr3adsh33t</td>\n",
       "      <td>0</td>\n",
       "      <td>0</td>\n",
       "      <td>6029</td>\n",
       "      <td>collection volume last min parallel parallelal...</td>\n",
       "      <td>4</td>\n",
       "      <td>False</td>\n",
       "      <td>False</td>\n",
       "      <td>19</td>\n",
       "      <td>{'polarity': 0.09375, 'subjectivity': 0.329166...</td>\n",
       "      <td>2082</td>\n",
       "      <td>0.093750</td>\n",
       "      <td>0.329167</td>\n",
       "      <td>Positive</td>\n",
       "      <td>52.19</td>\n",
       "      <td>24</td>\n",
       "      <td>34</td>\n",
       "      <td>8</td>\n",
       "    </tr>\n",
       "  </tbody>\n",
       "</table>\n",
       "</div>"
      ],
      "text/plain": [
       "      index       date             tweet_id  \\\n",
       "2073   5515 2021-10-23  1451888645208690702   \n",
       "2074   5536 2021-10-23  1451707453087920130   \n",
       "2075   5540 2021-10-22  1451692351747936284   \n",
       "2076   5544 2021-10-22  1451677252131958787   \n",
       "2077   5590 2021-10-21  1451239368274874372   \n",
       "2078   5628 2021-10-19  1450516286719545350   \n",
       "2079   5985 2021-08-27  1431289478530928641   \n",
       "2080   6000 2021-08-26  1430815649690005508   \n",
       "2081   6001 2021-08-26  1430803023211683842   \n",
       "2082   6030 2021-08-24  1429982308799553541   \n",
       "\n",
       "                                                  tweet     username  \\\n",
       "2073  Top 10 Trending #NFT Collections Past Hour:\\n\\...    StickyDAO   \n",
       "2074  Top 10 Trending #NFT Collections Past Hour:\\n\\...    StickyDAO   \n",
       "2075  Top 10 Trending #NFT Collections Past Hour:\\n\\...    StickyDAO   \n",
       "2076  Top 10 Trending #NFT Collections Past Hour:\\n\\...    StickyDAO   \n",
       "2077  Top 10 Trending #NFT Collections Past Hour:\\n\\...    StickyDAO   \n",
       "2078  The #1 Collection by Volume (last 10 mins):\\np...  spr3adsh33t   \n",
       "2079  Top 5 trending NFT collectibles on OpenSea ove...  JohnTodaro1   \n",
       "2080  The #1 Collection by Volume (last 10 mins):\\np...  spr3adsh33t   \n",
       "2081  The #1 Collection by Volume (last 10 mins):\\np...  spr3adsh33t   \n",
       "2082  The #1 Collection by Volume (last 10 mins):\\np...  spr3adsh33t   \n",
       "\n",
       "      retweets  likes    id  \\\n",
       "2073         0      7  5512   \n",
       "2074         0      2  5533   \n",
       "2075         0      0  5537   \n",
       "2076         1      5  5541   \n",
       "2077         1      1  5587   \n",
       "2078         0      2  5625   \n",
       "2079         0      4  5982   \n",
       "2080         0      0  5997   \n",
       "2081         0      0  5998   \n",
       "2082         0      0  6029   \n",
       "\n",
       "                                          tweet_cleaned  clusters  \\\n",
       "2073  top trending nft collection past hour og cryst...         9   \n",
       "2074  top trending nft collection past hour parallel...         9   \n",
       "2075  top trending nft collection past hour parallel...         9   \n",
       "2076  top trending nft collection past hour alpacada...         9   \n",
       "2077  top trending nft collection past hour creature...         9   \n",
       "2078  collection volume last min parallel parallelal...         4   \n",
       "2079  top trending nft collectible opensea week cryp...         9   \n",
       "2080  collection volume last min parallel parallelal...         4   \n",
       "2081  collection volume last min parallel parallelal...         4   \n",
       "2082  collection volume last min parallel parallelal...         4   \n",
       "\n",
       "      popular_tweet  very_popular_tweet  word_count  \\\n",
       "2073           True               False          15   \n",
       "2074          False               False          15   \n",
       "2075          False               False          14   \n",
       "2076           True               False          16   \n",
       "2077           True               False          15   \n",
       "2078          False               False          19   \n",
       "2079           True               False          18   \n",
       "2080          False               False          19   \n",
       "2081          False               False          19   \n",
       "2082          False               False          19   \n",
       "\n",
       "                                      sentiment_results  index  polarity  \\\n",
       "2073  {'polarity': -0.0625, 'subjectivity': 0.4375, ...   2073 -0.062500   \n",
       "2074  {'polarity': 0.08333333333333333, 'subjectivit...   2074  0.083333   \n",
       "2075  {'polarity': 0.08333333333333333, 'subjectivit...   2075  0.083333   \n",
       "2076  {'polarity': 0.08333333333333333, 'subjectivit...   2076  0.083333   \n",
       "2077  {'polarity': 0.08333333333333333, 'subjectivit...   2077  0.083333   \n",
       "2078  {'polarity': 0.09375, 'subjectivity': 0.329166...   2078  0.093750   \n",
       "2079  {'polarity': -0.125, 'subjectivity': 0.575, 's...   2079 -0.125000   \n",
       "2080  {'polarity': 0.09375, 'subjectivity': 0.329166...   2080  0.093750   \n",
       "2081  {'polarity': 0.09375, 'subjectivity': 0.329166...   2081  0.093750   \n",
       "2082  {'polarity': 0.09375, 'subjectivity': 0.329166...   2082  0.093750   \n",
       "\n",
       "      subjectivity sentiment  readability  day  week  month  \n",
       "2073      0.437500  Negative        47.79   23    42     10  \n",
       "2074      0.250000  Positive        56.25   23    42     10  \n",
       "2075      0.250000  Positive        48.81   22    42     10  \n",
       "2076      0.250000  Positive        38.32   22    42     10  \n",
       "2077      0.250000  Positive        47.79   21    42     10  \n",
       "2078      0.329167  Positive        52.19   19    42     10  \n",
       "2079      0.575000  Negative        53.21   27    34      8  \n",
       "2080      0.329167  Positive        52.19   26    34      8  \n",
       "2081      0.329167  Positive        52.19   26    34      8  \n",
       "2082      0.329167  Positive        52.19   24    34      8  "
      ]
     },
     "execution_count": 47,
     "metadata": {},
     "output_type": "execute_result"
    }
   ],
   "source": [
    "df.tail(10)"
   ]
  },
  {
   "cell_type": "code",
   "execution_count": 48,
   "id": "1b3ad1e6",
   "metadata": {},
   "outputs": [
    {
     "data": {
      "text/plain": [
       "index                 0\n",
       "date                  0\n",
       "tweet_id              0\n",
       "tweet                 0\n",
       "username              0\n",
       "retweets              0\n",
       "likes                 0\n",
       "id                    0\n",
       "tweet_cleaned         0\n",
       "clusters              0\n",
       "popular_tweet         0\n",
       "very_popular_tweet    0\n",
       "word_count            0\n",
       "sentiment_results     0\n",
       "index                 0\n",
       "polarity              0\n",
       "subjectivity          0\n",
       "sentiment             0\n",
       "readability           0\n",
       "day                   0\n",
       "week                  0\n",
       "month                 0\n",
       "dtype: int64"
      ]
     },
     "execution_count": 48,
     "metadata": {},
     "output_type": "execute_result"
    }
   ],
   "source": [
    "df.isnull().sum()"
   ]
  },
  {
   "cell_type": "code",
   "execution_count": 49,
   "id": "978174bf",
   "metadata": {},
   "outputs": [
    {
     "data": {
      "text/plain": [
       "(Timestamp('2021-08-24 00:00:00'), Timestamp('2022-04-16 00:00:00'))"
      ]
     },
     "execution_count": 49,
     "metadata": {},
     "output_type": "execute_result"
    }
   ],
   "source": [
    "df['date'].min(), df['date'].max()"
   ]
  },
  {
   "cell_type": "code",
   "execution_count": 50,
   "id": "685c9736",
   "metadata": {},
   "outputs": [
    {
     "data": {
      "text/plain": [
       "(Timestamp('2021-07-01 22:15:55'), Timestamp('2022-04-12 23:04:09'))"
      ]
     },
     "execution_count": 50,
     "metadata": {},
     "output_type": "execute_result"
    }
   ],
   "source": [
    "parallel['date'].min(), parallel['date'].max()"
   ]
  },
  {
   "cell_type": "code",
   "execution_count": 51,
   "id": "6d900678",
   "metadata": {},
   "outputs": [],
   "source": [
    "df=df[df['date']<='2022-04-12']\n",
    "parallel=parallel[parallel['date']>'2021-08-09']"
   ]
  },
  {
   "cell_type": "code",
   "execution_count": 52,
   "id": "a4c95b41",
   "metadata": {},
   "outputs": [
    {
     "data": {
      "text/plain": [
       "1883"
      ]
     },
     "execution_count": 52,
     "metadata": {},
     "output_type": "execute_result"
    }
   ],
   "source": [
    "len(df)"
   ]
  },
  {
   "cell_type": "code",
   "execution_count": 53,
   "id": "db73b4e8",
   "metadata": {},
   "outputs": [
    {
     "data": {
      "text/plain": [
       "index                 0\n",
       "date                  0\n",
       "tweet_id              0\n",
       "tweet                 0\n",
       "username              0\n",
       "retweets              0\n",
       "likes                 0\n",
       "id                    0\n",
       "tweet_cleaned         0\n",
       "clusters              0\n",
       "popular_tweet         0\n",
       "very_popular_tweet    0\n",
       "word_count            0\n",
       "sentiment_results     0\n",
       "index                 0\n",
       "polarity              0\n",
       "subjectivity          0\n",
       "sentiment             0\n",
       "readability           0\n",
       "day                   0\n",
       "week                  0\n",
       "month                 0\n",
       "dtype: int64"
      ]
     },
     "execution_count": 53,
     "metadata": {},
     "output_type": "execute_result"
    }
   ],
   "source": [
    "df.isnull().sum()"
   ]
  },
  {
   "cell_type": "code",
   "execution_count": 54,
   "id": "c6429b2f",
   "metadata": {},
   "outputs": [],
   "source": [
    "parallel=parallel.groupby([pd.Grouper(key='date', freq='d'),  'collectionname']).agg({\n",
    "    'maker':['nunique'],\n",
    "    'taker':['nunique'],\n",
    "    'thumbnailurl':['nunique'],\n",
    "    'tx':['nunique'],\n",
    "    'price':['median']})"
   ]
  },
  {
   "cell_type": "code",
   "execution_count": 55,
   "id": "171808a1",
   "metadata": {},
   "outputs": [
    {
     "data": {
      "text/html": [
       "<div>\n",
       "<style scoped>\n",
       "    .dataframe tbody tr th:only-of-type {\n",
       "        vertical-align: middle;\n",
       "    }\n",
       "\n",
       "    .dataframe tbody tr th {\n",
       "        vertical-align: top;\n",
       "    }\n",
       "\n",
       "    .dataframe thead th {\n",
       "        text-align: right;\n",
       "    }\n",
       "</style>\n",
       "<table border=\"1\" class=\"dataframe\">\n",
       "  <thead>\n",
       "    <tr style=\"text-align: right;\">\n",
       "      <th></th>\n",
       "      <th>index</th>\n",
       "      <th>date</th>\n",
       "      <th>tweet_id</th>\n",
       "      <th>tweet</th>\n",
       "      <th>username</th>\n",
       "      <th>retweets</th>\n",
       "      <th>likes</th>\n",
       "      <th>id</th>\n",
       "      <th>tweet_cleaned</th>\n",
       "      <th>clusters</th>\n",
       "      <th>popular_tweet</th>\n",
       "      <th>very_popular_tweet</th>\n",
       "      <th>word_count</th>\n",
       "      <th>sentiment_results</th>\n",
       "      <th>index</th>\n",
       "      <th>polarity</th>\n",
       "      <th>subjectivity</th>\n",
       "      <th>sentiment</th>\n",
       "      <th>readability</th>\n",
       "      <th>day</th>\n",
       "      <th>week</th>\n",
       "      <th>month</th>\n",
       "    </tr>\n",
       "  </thead>\n",
       "  <tbody>\n",
       "    <tr>\n",
       "      <th>200</th>\n",
       "      <td>240</td>\n",
       "      <td>2022-04-12</td>\n",
       "      <td>1514016287831334916</td>\n",
       "      <td>Royal Society of Players: 0.12 Ξ\\nRumble Kong ...</td>\n",
       "      <td>nftflooralerts</td>\n",
       "      <td>0</td>\n",
       "      <td>1</td>\n",
       "      <td>240</td>\n",
       "      <td>royal society player rumble kong league lazy l...</td>\n",
       "      <td>2</td>\n",
       "      <td>False</td>\n",
       "      <td>False</td>\n",
       "      <td>23</td>\n",
       "      <td>{'polarity': -0.125, 'subjectivity': 0.5, 'sen...</td>\n",
       "      <td>200</td>\n",
       "      <td>-0.125</td>\n",
       "      <td>0.5</td>\n",
       "      <td>Negative</td>\n",
       "      <td>22.75</td>\n",
       "      <td>12</td>\n",
       "      <td>15</td>\n",
       "      <td>4</td>\n",
       "    </tr>\n",
       "  </tbody>\n",
       "</table>\n",
       "</div>"
      ],
      "text/plain": [
       "     index       date             tweet_id  \\\n",
       "200    240 2022-04-12  1514016287831334916   \n",
       "\n",
       "                                                 tweet        username  \\\n",
       "200  Royal Society of Players: 0.12 Ξ\\nRumble Kong ...  nftflooralerts   \n",
       "\n",
       "     retweets  likes   id                                      tweet_cleaned  \\\n",
       "200         0      1  240  royal society player rumble kong league lazy l...   \n",
       "\n",
       "     clusters  popular_tweet  very_popular_tweet  word_count  \\\n",
       "200         2          False               False          23   \n",
       "\n",
       "                                     sentiment_results  index  polarity  \\\n",
       "200  {'polarity': -0.125, 'subjectivity': 0.5, 'sen...    200    -0.125   \n",
       "\n",
       "     subjectivity sentiment  readability  day  week  month  \n",
       "200           0.5  Negative        22.75   12    15      4  "
      ]
     },
     "execution_count": 55,
     "metadata": {},
     "output_type": "execute_result"
    }
   ],
   "source": [
    "df.head(1)"
   ]
  },
  {
   "cell_type": "code",
   "execution_count": 56,
   "id": "05bce8c9",
   "metadata": {},
   "outputs": [],
   "source": [
    "agg_df=df.groupby([pd.Grouper(key='date', freq='d')]).agg({\n",
    "    'word_count':['mean'],\n",
    "    'popular_tweet':'first',\n",
    "    'very_popular_tweet':'first',\n",
    "    'readability':['mean'],\n",
    "    'sentiment':'first'})"
   ]
  },
  {
   "cell_type": "code",
   "execution_count": 57,
   "id": "fcc418c2",
   "metadata": {},
   "outputs": [
    {
     "data": {
      "text/plain": [
       "(232, 247)"
      ]
     },
     "execution_count": 57,
     "metadata": {},
     "output_type": "execute_result"
    }
   ],
   "source": [
    "len(agg_df),len(parallel)"
   ]
  },
  {
   "cell_type": "code",
   "execution_count": 58,
   "id": "5e4dbe5b",
   "metadata": {},
   "outputs": [],
   "source": [
    "def flatten_columns(df, prefix=''):\n",
    "    columns = []\n",
    "    for cs in df:\n",
    "        if type(cs) is str:\n",
    "            cs = re.sub('\\W+','_', cs)\n",
    "        elif type(cs) is not list and type(cs) is not tuple:\n",
    "            print (cs)\n",
    "            cs = str(cs)\n",
    "        else:\n",
    "            cs = re.sub(\"\\W+\", \"\", \"\".join([str(c) for c in cs]))\n",
    "        cs = cs.lower()\n",
    "        if prefix:\n",
    "            cs = prefix + '' + cs\n",
    "        cs = re.sub('\\+$', '', cs)\n",
    "        columns.append(cs)\n",
    "    return columns"
   ]
  },
  {
   "cell_type": "code",
   "execution_count": 59,
   "id": "27bbba81",
   "metadata": {},
   "outputs": [],
   "source": [
    "agg_df.columns=flatten_columns(agg_df)\n",
    "parallel.columns=flatten_columns(parallel)"
   ]
  },
  {
   "cell_type": "code",
   "execution_count": 60,
   "id": "924bb706",
   "metadata": {},
   "outputs": [],
   "source": [
    "agg_df=agg_df.reset_index()\n",
    "parallel=parallel.reset_index()"
   ]
  },
  {
   "cell_type": "code",
   "execution_count": 61,
   "id": "8f24f1e9",
   "metadata": {},
   "outputs": [
    {
     "data": {
      "text/html": [
       "<div>\n",
       "<style scoped>\n",
       "    .dataframe tbody tr th:only-of-type {\n",
       "        vertical-align: middle;\n",
       "    }\n",
       "\n",
       "    .dataframe tbody tr th {\n",
       "        vertical-align: top;\n",
       "    }\n",
       "\n",
       "    .dataframe thead th {\n",
       "        text-align: right;\n",
       "    }\n",
       "</style>\n",
       "<table border=\"1\" class=\"dataframe\">\n",
       "  <thead>\n",
       "    <tr style=\"text-align: right;\">\n",
       "      <th></th>\n",
       "      <th>index</th>\n",
       "      <th>date</th>\n",
       "      <th>tweet_id</th>\n",
       "      <th>tweet</th>\n",
       "      <th>username</th>\n",
       "      <th>retweets</th>\n",
       "      <th>likes</th>\n",
       "      <th>id</th>\n",
       "      <th>tweet_cleaned</th>\n",
       "      <th>clusters</th>\n",
       "      <th>popular_tweet</th>\n",
       "      <th>very_popular_tweet</th>\n",
       "      <th>word_count</th>\n",
       "      <th>sentiment_results</th>\n",
       "      <th>index</th>\n",
       "      <th>polarity</th>\n",
       "      <th>subjectivity</th>\n",
       "      <th>sentiment</th>\n",
       "      <th>readability</th>\n",
       "      <th>day</th>\n",
       "      <th>week</th>\n",
       "      <th>month</th>\n",
       "    </tr>\n",
       "  </thead>\n",
       "  <tbody>\n",
       "    <tr>\n",
       "      <th>200</th>\n",
       "      <td>240</td>\n",
       "      <td>2022-04-12</td>\n",
       "      <td>1514016287831334916</td>\n",
       "      <td>Royal Society of Players: 0.12 Ξ\\nRumble Kong ...</td>\n",
       "      <td>nftflooralerts</td>\n",
       "      <td>0</td>\n",
       "      <td>1</td>\n",
       "      <td>240</td>\n",
       "      <td>royal society player rumble kong league lazy l...</td>\n",
       "      <td>2</td>\n",
       "      <td>False</td>\n",
       "      <td>False</td>\n",
       "      <td>23</td>\n",
       "      <td>{'polarity': -0.125, 'subjectivity': 0.5, 'sen...</td>\n",
       "      <td>200</td>\n",
       "      <td>-0.125</td>\n",
       "      <td>0.5</td>\n",
       "      <td>Negative</td>\n",
       "      <td>22.75</td>\n",
       "      <td>12</td>\n",
       "      <td>15</td>\n",
       "      <td>4</td>\n",
       "    </tr>\n",
       "    <tr>\n",
       "      <th>201</th>\n",
       "      <td>243</td>\n",
       "      <td>2022-04-12</td>\n",
       "      <td>1513925715783299074</td>\n",
       "      <td>Royal Society of Players: 0.12 Ξ\\nRumble Kong ...</td>\n",
       "      <td>nftflooralerts</td>\n",
       "      <td>1</td>\n",
       "      <td>2</td>\n",
       "      <td>243</td>\n",
       "      <td>royal society player rumble kong league lazy l...</td>\n",
       "      <td>2</td>\n",
       "      <td>True</td>\n",
       "      <td>False</td>\n",
       "      <td>23</td>\n",
       "      <td>{'polarity': -0.125, 'subjectivity': 0.5, 'sen...</td>\n",
       "      <td>201</td>\n",
       "      <td>-0.125</td>\n",
       "      <td>0.5</td>\n",
       "      <td>Negative</td>\n",
       "      <td>22.75</td>\n",
       "      <td>12</td>\n",
       "      <td>15</td>\n",
       "      <td>4</td>\n",
       "    </tr>\n",
       "    <tr>\n",
       "      <th>202</th>\n",
       "      <td>244</td>\n",
       "      <td>2022-04-12</td>\n",
       "      <td>1513903051542773760</td>\n",
       "      <td>Parallel Alpha was just listed for 0.17 ETH. \\...</td>\n",
       "      <td>nft_watcher_bot</td>\n",
       "      <td>0</td>\n",
       "      <td>3</td>\n",
       "      <td>244</td>\n",
       "      <td>parallel alpha listed eth http co ba bzrcpo nf...</td>\n",
       "      <td>1</td>\n",
       "      <td>True</td>\n",
       "      <td>False</td>\n",
       "      <td>14</td>\n",
       "      <td>{'polarity': 0.0, 'subjectivity': 0.0, 'sentim...</td>\n",
       "      <td>202</td>\n",
       "      <td>0.000</td>\n",
       "      <td>0.0</td>\n",
       "      <td>Neutral</td>\n",
       "      <td>48.81</td>\n",
       "      <td>12</td>\n",
       "      <td>15</td>\n",
       "      <td>4</td>\n",
       "    </tr>\n",
       "    <tr>\n",
       "      <th>203</th>\n",
       "      <td>245</td>\n",
       "      <td>2022-04-12</td>\n",
       "      <td>1513902025116901378</td>\n",
       "      <td>Parallel Alpha was just listed for 0.0014 ETH....</td>\n",
       "      <td>nft_watcher_bot</td>\n",
       "      <td>0</td>\n",
       "      <td>1</td>\n",
       "      <td>245</td>\n",
       "      <td>parallel alpha listed eth http co z ow l saw n...</td>\n",
       "      <td>1</td>\n",
       "      <td>False</td>\n",
       "      <td>False</td>\n",
       "      <td>16</td>\n",
       "      <td>{'polarity': 0.0, 'subjectivity': 0.0, 'sentim...</td>\n",
       "      <td>203</td>\n",
       "      <td>0.000</td>\n",
       "      <td>0.0</td>\n",
       "      <td>Neutral</td>\n",
       "      <td>55.24</td>\n",
       "      <td>12</td>\n",
       "      <td>15</td>\n",
       "      <td>4</td>\n",
       "    </tr>\n",
       "    <tr>\n",
       "      <th>204</th>\n",
       "      <td>246</td>\n",
       "      <td>2022-04-12</td>\n",
       "      <td>1513899787468292102</td>\n",
       "      <td>Parallel Alpha was just listed for 0.027 ETH. ...</td>\n",
       "      <td>nft_watcher_bot</td>\n",
       "      <td>0</td>\n",
       "      <td>0</td>\n",
       "      <td>246</td>\n",
       "      <td>parallel alpha listed eth http co kfmx cp nft ...</td>\n",
       "      <td>1</td>\n",
       "      <td>False</td>\n",
       "      <td>False</td>\n",
       "      <td>14</td>\n",
       "      <td>{'polarity': 0.0, 'subjectivity': 0.0, 'sentim...</td>\n",
       "      <td>204</td>\n",
       "      <td>0.000</td>\n",
       "      <td>0.0</td>\n",
       "      <td>Neutral</td>\n",
       "      <td>57.27</td>\n",
       "      <td>12</td>\n",
       "      <td>15</td>\n",
       "      <td>4</td>\n",
       "    </tr>\n",
       "  </tbody>\n",
       "</table>\n",
       "</div>"
      ],
      "text/plain": [
       "     index       date             tweet_id  \\\n",
       "200    240 2022-04-12  1514016287831334916   \n",
       "201    243 2022-04-12  1513925715783299074   \n",
       "202    244 2022-04-12  1513903051542773760   \n",
       "203    245 2022-04-12  1513902025116901378   \n",
       "204    246 2022-04-12  1513899787468292102   \n",
       "\n",
       "                                                 tweet         username  \\\n",
       "200  Royal Society of Players: 0.12 Ξ\\nRumble Kong ...   nftflooralerts   \n",
       "201  Royal Society of Players: 0.12 Ξ\\nRumble Kong ...   nftflooralerts   \n",
       "202  Parallel Alpha was just listed for 0.17 ETH. \\...  nft_watcher_bot   \n",
       "203  Parallel Alpha was just listed for 0.0014 ETH....  nft_watcher_bot   \n",
       "204  Parallel Alpha was just listed for 0.027 ETH. ...  nft_watcher_bot   \n",
       "\n",
       "     retweets  likes   id                                      tweet_cleaned  \\\n",
       "200         0      1  240  royal society player rumble kong league lazy l...   \n",
       "201         1      2  243  royal society player rumble kong league lazy l...   \n",
       "202         0      3  244  parallel alpha listed eth http co ba bzrcpo nf...   \n",
       "203         0      1  245  parallel alpha listed eth http co z ow l saw n...   \n",
       "204         0      0  246  parallel alpha listed eth http co kfmx cp nft ...   \n",
       "\n",
       "     clusters  popular_tweet  very_popular_tweet  word_count  \\\n",
       "200         2          False               False          23   \n",
       "201         2           True               False          23   \n",
       "202         1           True               False          14   \n",
       "203         1          False               False          16   \n",
       "204         1          False               False          14   \n",
       "\n",
       "                                     sentiment_results  index  polarity  \\\n",
       "200  {'polarity': -0.125, 'subjectivity': 0.5, 'sen...    200    -0.125   \n",
       "201  {'polarity': -0.125, 'subjectivity': 0.5, 'sen...    201    -0.125   \n",
       "202  {'polarity': 0.0, 'subjectivity': 0.0, 'sentim...    202     0.000   \n",
       "203  {'polarity': 0.0, 'subjectivity': 0.0, 'sentim...    203     0.000   \n",
       "204  {'polarity': 0.0, 'subjectivity': 0.0, 'sentim...    204     0.000   \n",
       "\n",
       "     subjectivity sentiment  readability  day  week  month  \n",
       "200           0.5  Negative        22.75   12    15      4  \n",
       "201           0.5  Negative        22.75   12    15      4  \n",
       "202           0.0   Neutral        48.81   12    15      4  \n",
       "203           0.0   Neutral        55.24   12    15      4  \n",
       "204           0.0   Neutral        57.27   12    15      4  "
      ]
     },
     "execution_count": 61,
     "metadata": {},
     "output_type": "execute_result"
    }
   ],
   "source": [
    "df.head()"
   ]
  },
  {
   "cell_type": "code",
   "execution_count": 62,
   "id": "f8a058f2",
   "metadata": {},
   "outputs": [
    {
     "data": {
      "text/html": [
       "<div>\n",
       "<style scoped>\n",
       "    .dataframe tbody tr th:only-of-type {\n",
       "        vertical-align: middle;\n",
       "    }\n",
       "\n",
       "    .dataframe tbody tr th {\n",
       "        vertical-align: top;\n",
       "    }\n",
       "\n",
       "    .dataframe thead th {\n",
       "        text-align: right;\n",
       "    }\n",
       "</style>\n",
       "<table border=\"1\" class=\"dataframe\">\n",
       "  <thead>\n",
       "    <tr style=\"text-align: right;\">\n",
       "      <th></th>\n",
       "      <th>date</th>\n",
       "      <th>collectionname</th>\n",
       "      <th>makernunique</th>\n",
       "      <th>takernunique</th>\n",
       "      <th>thumbnailurlnunique</th>\n",
       "      <th>txnunique</th>\n",
       "      <th>pricemedian</th>\n",
       "    </tr>\n",
       "  </thead>\n",
       "  <tbody>\n",
       "    <tr>\n",
       "      <th>0</th>\n",
       "      <td>2021-08-09</td>\n",
       "      <td>Parallel Alpha</td>\n",
       "      <td>335</td>\n",
       "      <td>294</td>\n",
       "      <td>99</td>\n",
       "      <td>665</td>\n",
       "      <td>0.090</td>\n",
       "    </tr>\n",
       "    <tr>\n",
       "      <th>1</th>\n",
       "      <td>2021-08-10</td>\n",
       "      <td>Parallel Alpha</td>\n",
       "      <td>330</td>\n",
       "      <td>247</td>\n",
       "      <td>102</td>\n",
       "      <td>626</td>\n",
       "      <td>0.098</td>\n",
       "    </tr>\n",
       "    <tr>\n",
       "      <th>2</th>\n",
       "      <td>2021-08-11</td>\n",
       "      <td>Parallel Alpha</td>\n",
       "      <td>258</td>\n",
       "      <td>187</td>\n",
       "      <td>101</td>\n",
       "      <td>445</td>\n",
       "      <td>0.094</td>\n",
       "    </tr>\n",
       "    <tr>\n",
       "      <th>3</th>\n",
       "      <td>2021-08-12</td>\n",
       "      <td>Parallel Alpha</td>\n",
       "      <td>276</td>\n",
       "      <td>252</td>\n",
       "      <td>99</td>\n",
       "      <td>526</td>\n",
       "      <td>0.115</td>\n",
       "    </tr>\n",
       "    <tr>\n",
       "      <th>4</th>\n",
       "      <td>2021-08-13</td>\n",
       "      <td>Parallel Alpha</td>\n",
       "      <td>354</td>\n",
       "      <td>277</td>\n",
       "      <td>117</td>\n",
       "      <td>726</td>\n",
       "      <td>0.111</td>\n",
       "    </tr>\n",
       "  </tbody>\n",
       "</table>\n",
       "</div>"
      ],
      "text/plain": [
       "        date  collectionname  makernunique  takernunique  thumbnailurlnunique  \\\n",
       "0 2021-08-09  Parallel Alpha           335           294                   99   \n",
       "1 2021-08-10  Parallel Alpha           330           247                  102   \n",
       "2 2021-08-11  Parallel Alpha           258           187                  101   \n",
       "3 2021-08-12  Parallel Alpha           276           252                   99   \n",
       "4 2021-08-13  Parallel Alpha           354           277                  117   \n",
       "\n",
       "   txnunique  pricemedian  \n",
       "0        665        0.090  \n",
       "1        626        0.098  \n",
       "2        445        0.094  \n",
       "3        526        0.115  \n",
       "4        726        0.111  "
      ]
     },
     "execution_count": 62,
     "metadata": {},
     "output_type": "execute_result"
    }
   ],
   "source": [
    "parallel.head()"
   ]
  },
  {
   "cell_type": "code",
   "execution_count": 63,
   "id": "351b180e",
   "metadata": {},
   "outputs": [],
   "source": [
    "parallel=parallel.rename(columns={'pricemedian':'median_price',\n",
    "                  'makernunique':'num_of_sellers','takernunique':'number_of_buyers','thumbnailurlnunique':'volume_of_assets_traded',\n",
    "                  'txnunique':'number_of_transcations_index'})"
   ]
  },
  {
   "cell_type": "code",
   "execution_count": 64,
   "id": "3a25ea55",
   "metadata": {},
   "outputs": [
    {
     "data": {
      "text/plain": [
       "(247, 232)"
      ]
     },
     "execution_count": 64,
     "metadata": {},
     "output_type": "execute_result"
    }
   ],
   "source": [
    "len(parallel),len(agg_df)"
   ]
  },
  {
   "cell_type": "code",
   "execution_count": 65,
   "id": "aee3d7db",
   "metadata": {},
   "outputs": [
    {
     "data": {
      "text/html": [
       "<div>\n",
       "<style scoped>\n",
       "    .dataframe tbody tr th:only-of-type {\n",
       "        vertical-align: middle;\n",
       "    }\n",
       "\n",
       "    .dataframe tbody tr th {\n",
       "        vertical-align: top;\n",
       "    }\n",
       "\n",
       "    .dataframe thead th {\n",
       "        text-align: right;\n",
       "    }\n",
       "</style>\n",
       "<table border=\"1\" class=\"dataframe\">\n",
       "  <thead>\n",
       "    <tr style=\"text-align: right;\">\n",
       "      <th></th>\n",
       "      <th>date</th>\n",
       "      <th>collectionname</th>\n",
       "      <th>num_of_sellers</th>\n",
       "      <th>number_of_buyers</th>\n",
       "      <th>volume_of_assets_traded</th>\n",
       "      <th>number_of_transcations_index</th>\n",
       "      <th>median_price</th>\n",
       "    </tr>\n",
       "  </thead>\n",
       "  <tbody>\n",
       "    <tr>\n",
       "      <th>0</th>\n",
       "      <td>2021-08-09</td>\n",
       "      <td>Parallel Alpha</td>\n",
       "      <td>335</td>\n",
       "      <td>294</td>\n",
       "      <td>99</td>\n",
       "      <td>665</td>\n",
       "      <td>0.090</td>\n",
       "    </tr>\n",
       "    <tr>\n",
       "      <th>1</th>\n",
       "      <td>2021-08-10</td>\n",
       "      <td>Parallel Alpha</td>\n",
       "      <td>330</td>\n",
       "      <td>247</td>\n",
       "      <td>102</td>\n",
       "      <td>626</td>\n",
       "      <td>0.098</td>\n",
       "    </tr>\n",
       "  </tbody>\n",
       "</table>\n",
       "</div>"
      ],
      "text/plain": [
       "        date  collectionname  num_of_sellers  number_of_buyers  \\\n",
       "0 2021-08-09  Parallel Alpha             335               294   \n",
       "1 2021-08-10  Parallel Alpha             330               247   \n",
       "\n",
       "   volume_of_assets_traded  number_of_transcations_index  median_price  \n",
       "0                       99                           665         0.090  \n",
       "1                      102                           626         0.098  "
      ]
     },
     "execution_count": 65,
     "metadata": {},
     "output_type": "execute_result"
    }
   ],
   "source": [
    "parallel.head(2)"
   ]
  },
  {
   "cell_type": "code",
   "execution_count": 66,
   "id": "cc16ecbe",
   "metadata": {},
   "outputs": [
    {
     "data": {
      "text/plain": [
       "<AxesSubplot:>"
      ]
     },
     "execution_count": 66,
     "metadata": {},
     "output_type": "execute_result"
    },
    {
     "data": {
      "image/png": "[encoded data removed]",
      "text/plain": [
       "<Figure size 720x576 with 1 Axes>"
      ]
     },
     "metadata": {
      "needs_background": "light"
     },
     "output_type": "display_data"
    }
   ],
   "source": [
    "parallel['median_price'].hist()"
   ]
  },
  {
   "cell_type": "code",
   "execution_count": 67,
   "id": "a385d63d",
   "metadata": {},
   "outputs": [
    {
     "ename": "KeyError",
     "evalue": "'index'",
     "output_type": "error",
     "traceback": [
      "\u001b[0;31m---------------------------------------------------------------------------\u001b[0m",
      "\u001b[0;31mKeyError\u001b[0m                                  Traceback (most recent call last)",
      "File \u001b[0;32m~/miniforge3/envs/py36/lib/python3.8/site-packages/pandas/core/indexes/base.py:3621\u001b[0m, in \u001b[0;36mIndex.get_loc\u001b[0;34m(self, key, method, tolerance)\u001b[0m\n\u001b[1;32m   3620\u001b[0m \u001b[38;5;28;01mtry\u001b[39;00m:\n\u001b[0;32m-> 3621\u001b[0m     \u001b[38;5;28;01mreturn\u001b[39;00m \u001b[38;5;28;43mself\u001b[39;49m\u001b[38;5;241;43m.\u001b[39;49m\u001b[43m_engine\u001b[49m\u001b[38;5;241;43m.\u001b[39;49m\u001b[43mget_loc\u001b[49m\u001b[43m(\u001b[49m\u001b[43mcasted_key\u001b[49m\u001b[43m)\u001b[49m\n\u001b[1;32m   3622\u001b[0m \u001b[38;5;28;01mexcept\u001b[39;00m \u001b[38;5;167;01mKeyError\u001b[39;00m \u001b[38;5;28;01mas\u001b[39;00m err:\n",
      "File \u001b[0;32m~/miniforge3/envs/py36/lib/python3.8/site-packages/pandas/_libs/index.pyx:136\u001b[0m, in \u001b[0;36mpandas._libs.index.IndexEngine.get_loc\u001b[0;34m()\u001b[0m\n",
      "File \u001b[0;32m~/miniforge3/envs/py36/lib/python3.8/site-packages/pandas/_libs/index.pyx:163\u001b[0m, in \u001b[0;36mpandas._libs.index.IndexEngine.get_loc\u001b[0;34m()\u001b[0m\n",
      "File \u001b[0;32mpandas/_libs/hashtable_class_helper.pxi:5198\u001b[0m, in \u001b[0;36mpandas._libs.hashtable.PyObjectHashTable.get_item\u001b[0;34m()\u001b[0m\n",
      "File \u001b[0;32mpandas/_libs/hashtable_class_helper.pxi:5206\u001b[0m, in \u001b[0;36mpandas._libs.hashtable.PyObjectHashTable.get_item\u001b[0;34m()\u001b[0m\n",
      "\u001b[0;31mKeyError\u001b[0m: 'index'",
      "\nThe above exception was the direct cause of the following exception:\n",
      "\u001b[0;31mKeyError\u001b[0m                                  Traceback (most recent call last)",
      "Input \u001b[0;32mIn [67]\u001b[0m, in \u001b[0;36m<cell line: 36>\u001b[0;34m()\u001b[0m\n\u001b[1;32m     32\u001b[0m         ax\u001b[38;5;241m.\u001b[39mlegend([key])\n\u001b[1;32m     33\u001b[0m     plt\u001b[38;5;241m.\u001b[39mtight_layout()\n\u001b[0;32m---> 36\u001b[0m \u001b[43mVisualize\u001b[49m\u001b[43m(\u001b[49m\u001b[43mparallel\u001b[49m\u001b[43m)\u001b[49m\n",
      "Input \u001b[0;32mIn [67]\u001b[0m, in \u001b[0;36mVisualize\u001b[0;34m(data)\u001b[0m\n\u001b[1;32m     22\u001b[0m key \u001b[38;5;241m=\u001b[39m features[i]\n\u001b[1;32m     23\u001b[0m c \u001b[38;5;241m=\u001b[39m color_list[i \u001b[38;5;241m%\u001b[39m (\u001b[38;5;28mlen\u001b[39m(color_list))]\n\u001b[0;32m---> 24\u001b[0m t_data \u001b[38;5;241m=\u001b[39m \u001b[43mdata\u001b[49m\u001b[43m[\u001b[49m\u001b[43mkey\u001b[49m\u001b[43m]\u001b[49m\n\u001b[1;32m     25\u001b[0m t_data\u001b[38;5;241m.\u001b[39mhead()\n\u001b[1;32m     26\u001b[0m ax \u001b[38;5;241m=\u001b[39m t_data\u001b[38;5;241m.\u001b[39mplot(\n\u001b[1;32m     27\u001b[0m     ax\u001b[38;5;241m=\u001b[39maxes[i \u001b[38;5;241m/\u001b[39m\u001b[38;5;241m/\u001b[39m \u001b[38;5;241m2\u001b[39m, i \u001b[38;5;241m%\u001b[39m \u001b[38;5;241m2\u001b[39m],\n\u001b[1;32m     28\u001b[0m     color\u001b[38;5;241m=\u001b[39mc,\n\u001b[1;32m     29\u001b[0m     title\u001b[38;5;241m=\u001b[39m\u001b[38;5;124m\"\u001b[39m\u001b[38;5;132;01m{}\u001b[39;00m\u001b[38;5;124m\"\u001b[39m\u001b[38;5;241m.\u001b[39mformat(key),\n\u001b[1;32m     30\u001b[0m     rot\u001b[38;5;241m=\u001b[39m\u001b[38;5;241m25\u001b[39m,\n\u001b[1;32m     31\u001b[0m )\n",
      "File \u001b[0;32m~/miniforge3/envs/py36/lib/python3.8/site-packages/pandas/core/frame.py:3505\u001b[0m, in \u001b[0;36mDataFrame.__getitem__\u001b[0;34m(self, key)\u001b[0m\n\u001b[1;32m   3503\u001b[0m \u001b[38;5;28;01mif\u001b[39;00m \u001b[38;5;28mself\u001b[39m\u001b[38;5;241m.\u001b[39mcolumns\u001b[38;5;241m.\u001b[39mnlevels \u001b[38;5;241m>\u001b[39m \u001b[38;5;241m1\u001b[39m:\n\u001b[1;32m   3504\u001b[0m     \u001b[38;5;28;01mreturn\u001b[39;00m \u001b[38;5;28mself\u001b[39m\u001b[38;5;241m.\u001b[39m_getitem_multilevel(key)\n\u001b[0;32m-> 3505\u001b[0m indexer \u001b[38;5;241m=\u001b[39m \u001b[38;5;28;43mself\u001b[39;49m\u001b[38;5;241;43m.\u001b[39;49m\u001b[43mcolumns\u001b[49m\u001b[38;5;241;43m.\u001b[39;49m\u001b[43mget_loc\u001b[49m\u001b[43m(\u001b[49m\u001b[43mkey\u001b[49m\u001b[43m)\u001b[49m\n\u001b[1;32m   3506\u001b[0m \u001b[38;5;28;01mif\u001b[39;00m is_integer(indexer):\n\u001b[1;32m   3507\u001b[0m     indexer \u001b[38;5;241m=\u001b[39m [indexer]\n",
      "File \u001b[0;32m~/miniforge3/envs/py36/lib/python3.8/site-packages/pandas/core/indexes/base.py:3623\u001b[0m, in \u001b[0;36mIndex.get_loc\u001b[0;34m(self, key, method, tolerance)\u001b[0m\n\u001b[1;32m   3621\u001b[0m     \u001b[38;5;28;01mreturn\u001b[39;00m \u001b[38;5;28mself\u001b[39m\u001b[38;5;241m.\u001b[39m_engine\u001b[38;5;241m.\u001b[39mget_loc(casted_key)\n\u001b[1;32m   3622\u001b[0m \u001b[38;5;28;01mexcept\u001b[39;00m \u001b[38;5;167;01mKeyError\u001b[39;00m \u001b[38;5;28;01mas\u001b[39;00m err:\n\u001b[0;32m-> 3623\u001b[0m     \u001b[38;5;28;01mraise\u001b[39;00m \u001b[38;5;167;01mKeyError\u001b[39;00m(key) \u001b[38;5;28;01mfrom\u001b[39;00m \u001b[38;5;21;01merr\u001b[39;00m\n\u001b[1;32m   3624\u001b[0m \u001b[38;5;28;01mexcept\u001b[39;00m \u001b[38;5;167;01mTypeError\u001b[39;00m:\n\u001b[1;32m   3625\u001b[0m     \u001b[38;5;66;03m# If we have a listlike key, _check_indexing_error will raise\u001b[39;00m\n\u001b[1;32m   3626\u001b[0m     \u001b[38;5;66;03m#  InvalidIndexError. Otherwise we fall through and re-raise\u001b[39;00m\n\u001b[1;32m   3627\u001b[0m     \u001b[38;5;66;03m#  the TypeError.\u001b[39;00m\n\u001b[1;32m   3628\u001b[0m     \u001b[38;5;28mself\u001b[39m\u001b[38;5;241m.\u001b[39m_check_indexing_error(key)\n",
      "\u001b[0;31mKeyError\u001b[0m: 'index'"
     ]
    },
    {
     "data": {
      "image/png": "[encoded data removed]",
      "text/plain": [
       "<Figure size 1120x2240 with 14 Axes>"
      ]
     },
     "metadata": {},
     "output_type": "display_data"
    }
   ],
   "source": [
    "color_list = [\n",
    "    \"blue\",\n",
    "    \"orange\",\n",
    "    \"green\",\n",
    "    \"red\",\n",
    "    \"purple\",\n",
    "    \"brown\",\n",
    "    \"pink\",\n",
    "    \"gray\",\n",
    "    \"olive\",\n",
    "    \"cyan\",\n",
    "]\n",
    "\n",
    "\n",
    "def Visualize(data):\n",
    "    features= list(df.select_dtypes(include=[np.number]).columns.values)\n",
    "    feature_size=len(features)\n",
    "    fig, axes = plt.subplots(\n",
    "        nrows=int(np.ceil(feature_size/2)), ncols=2, figsize=(14, feature_size*2), dpi=80, facecolor=\"w\", edgecolor=\"k\"\n",
    "    )\n",
    "    for i in range(feature_size):\n",
    "        key = features[i]\n",
    "        c = color_list[i % (len(color_list))]\n",
    "        t_data = data[key]\n",
    "        t_data.head()\n",
    "        ax = t_data.plot(\n",
    "            ax=axes[i // 2, i % 2],\n",
    "            color=c,\n",
    "            title=\"{}\".format(key),\n",
    "            rot=25,\n",
    "        )\n",
    "        ax.legend([key])\n",
    "    plt.tight_layout()\n",
    "\n",
    "\n",
    "Visualize(parallel)"
   ]
  },
  {
   "cell_type": "code",
   "execution_count": 68,
   "id": "45a8efd5",
   "metadata": {},
   "outputs": [
    {
     "data": {
      "text/html": [
       "<div>\n",
       "<style scoped>\n",
       "    .dataframe tbody tr th:only-of-type {\n",
       "        vertical-align: middle;\n",
       "    }\n",
       "\n",
       "    .dataframe tbody tr th {\n",
       "        vertical-align: top;\n",
       "    }\n",
       "\n",
       "    .dataframe thead th {\n",
       "        text-align: right;\n",
       "    }\n",
       "</style>\n",
       "<table border=\"1\" class=\"dataframe\">\n",
       "  <thead>\n",
       "    <tr style=\"text-align: right;\">\n",
       "      <th></th>\n",
       "      <th>date</th>\n",
       "      <th>collectionname</th>\n",
       "      <th>num_of_sellers</th>\n",
       "      <th>number_of_buyers</th>\n",
       "      <th>volume_of_assets_traded</th>\n",
       "      <th>number_of_transcations_index</th>\n",
       "      <th>median_price</th>\n",
       "    </tr>\n",
       "  </thead>\n",
       "  <tbody>\n",
       "    <tr>\n",
       "      <th>0</th>\n",
       "      <td>2021-08-09</td>\n",
       "      <td>Parallel Alpha</td>\n",
       "      <td>335</td>\n",
       "      <td>294</td>\n",
       "      <td>99</td>\n",
       "      <td>665</td>\n",
       "      <td>0.090</td>\n",
       "    </tr>\n",
       "    <tr>\n",
       "      <th>1</th>\n",
       "      <td>2021-08-10</td>\n",
       "      <td>Parallel Alpha</td>\n",
       "      <td>330</td>\n",
       "      <td>247</td>\n",
       "      <td>102</td>\n",
       "      <td>626</td>\n",
       "      <td>0.098</td>\n",
       "    </tr>\n",
       "    <tr>\n",
       "      <th>2</th>\n",
       "      <td>2021-08-11</td>\n",
       "      <td>Parallel Alpha</td>\n",
       "      <td>258</td>\n",
       "      <td>187</td>\n",
       "      <td>101</td>\n",
       "      <td>445</td>\n",
       "      <td>0.094</td>\n",
       "    </tr>\n",
       "    <tr>\n",
       "      <th>3</th>\n",
       "      <td>2021-08-12</td>\n",
       "      <td>Parallel Alpha</td>\n",
       "      <td>276</td>\n",
       "      <td>252</td>\n",
       "      <td>99</td>\n",
       "      <td>526</td>\n",
       "      <td>0.115</td>\n",
       "    </tr>\n",
       "    <tr>\n",
       "      <th>4</th>\n",
       "      <td>2021-08-13</td>\n",
       "      <td>Parallel Alpha</td>\n",
       "      <td>354</td>\n",
       "      <td>277</td>\n",
       "      <td>117</td>\n",
       "      <td>726</td>\n",
       "      <td>0.111</td>\n",
       "    </tr>\n",
       "  </tbody>\n",
       "</table>\n",
       "</div>"
      ],
      "text/plain": [
       "        date  collectionname  num_of_sellers  number_of_buyers  \\\n",
       "0 2021-08-09  Parallel Alpha             335               294   \n",
       "1 2021-08-10  Parallel Alpha             330               247   \n",
       "2 2021-08-11  Parallel Alpha             258               187   \n",
       "3 2021-08-12  Parallel Alpha             276               252   \n",
       "4 2021-08-13  Parallel Alpha             354               277   \n",
       "\n",
       "   volume_of_assets_traded  number_of_transcations_index  median_price  \n",
       "0                       99                           665         0.090  \n",
       "1                      102                           626         0.098  \n",
       "2                      101                           445         0.094  \n",
       "3                       99                           526         0.115  \n",
       "4                      117                           726         0.111  "
      ]
     },
     "execution_count": 68,
     "metadata": {},
     "output_type": "execute_result"
    }
   ],
   "source": [
    "parallel.head()"
   ]
  },
  {
   "cell_type": "code",
   "execution_count": 69,
   "id": "956ab64a",
   "metadata": {},
   "outputs": [
    {
     "data": {
      "text/html": [
       "<div>\n",
       "<style scoped>\n",
       "    .dataframe tbody tr th:only-of-type {\n",
       "        vertical-align: middle;\n",
       "    }\n",
       "\n",
       "    .dataframe tbody tr th {\n",
       "        vertical-align: top;\n",
       "    }\n",
       "\n",
       "    .dataframe thead th {\n",
       "        text-align: right;\n",
       "    }\n",
       "</style>\n",
       "<table border=\"1\" class=\"dataframe\">\n",
       "  <thead>\n",
       "    <tr style=\"text-align: right;\">\n",
       "      <th></th>\n",
       "      <th>date</th>\n",
       "      <th>word_countmean</th>\n",
       "      <th>popular_tweetfirst</th>\n",
       "      <th>very_popular_tweetfirst</th>\n",
       "      <th>readabilitymean</th>\n",
       "      <th>sentimentfirst</th>\n",
       "    </tr>\n",
       "  </thead>\n",
       "  <tbody>\n",
       "    <tr>\n",
       "      <th>0</th>\n",
       "      <td>2021-08-24</td>\n",
       "      <td>19.0</td>\n",
       "      <td>0.0</td>\n",
       "      <td>0.0</td>\n",
       "      <td>52.19</td>\n",
       "      <td>Positive</td>\n",
       "    </tr>\n",
       "  </tbody>\n",
       "</table>\n",
       "</div>"
      ],
      "text/plain": [
       "        date  word_countmean  popular_tweetfirst  very_popular_tweetfirst  \\\n",
       "0 2021-08-24            19.0                 0.0                      0.0   \n",
       "\n",
       "   readabilitymean sentimentfirst  \n",
       "0            52.19       Positive  "
      ]
     },
     "execution_count": 69,
     "metadata": {},
     "output_type": "execute_result"
    }
   ],
   "source": [
    "agg_df.head(1)"
   ]
  },
  {
   "cell_type": "code",
   "execution_count": 70,
   "id": "9ecc638f",
   "metadata": {},
   "outputs": [
    {
     "data": {
      "text/plain": [
       "(Timestamp('2021-08-24 00:00:00'), Timestamp('2022-04-12 00:00:00'))"
      ]
     },
     "execution_count": 70,
     "metadata": {},
     "output_type": "execute_result"
    }
   ],
   "source": [
    "agg_df['date'].min(),agg_df['date'].max()\n"
   ]
  },
  {
   "cell_type": "code",
   "execution_count": 71,
   "id": "08b2b45a",
   "metadata": {},
   "outputs": [
    {
     "data": {
      "text/plain": [
       "(Timestamp('2021-08-09 00:00:00'), Timestamp('2022-04-12 00:00:00'))"
      ]
     },
     "execution_count": 71,
     "metadata": {},
     "output_type": "execute_result"
    }
   ],
   "source": [
    "parallel['date'].min(),parallel['date'].max()"
   ]
  },
  {
   "cell_type": "code",
   "execution_count": null,
   "id": "045788a0",
   "metadata": {},
   "outputs": [],
   "source": [
    "agg_df=agg_df.reset_index()\n",
    "parallel=parallel.reset_index()"
   ]
  },
  {
   "cell_type": "code",
   "execution_count": null,
   "id": "5c74bac2",
   "metadata": {},
   "outputs": [],
   "source": [
    "(agg_df.merge(parallel,on='date'))"
   ]
  },
  {
   "cell_type": "code",
   "execution_count": null,
   "id": "22ed789f",
   "metadata": {},
   "outputs": [],
   "source": [
    "agg_df['num_of_sellers']=parallel['num_of_sellers']\n",
    "agg_df['date']=parallel['date']\n",
    "agg_df['number_of_buyers']=parallel['number_of_buyers']\n",
    "agg_df['volume_of_assets_traded']=parallel['volume_of_assets_traded']\n",
    "agg_df['number_of_transcations_index']=parallel['number_of_transcations_index']\n",
    "agg_df['median_price']=parallel['median_price']"
   ]
  },
  {
   "cell_type": "code",
   "execution_count": null,
   "id": "50bcbece",
   "metadata": {},
   "outputs": [],
   "source": [
    "agg_df.tail()"
   ]
  },
  {
   "cell_type": "code",
   "execution_count": null,
   "id": "12c2b4f2",
   "metadata": {
    "scrolled": true
   },
   "outputs": [],
   "source": [
    "agg_df.isnull().sum()"
   ]
  },
  {
   "cell_type": "code",
   "execution_count": null,
   "id": "7aa62a19",
   "metadata": {},
   "outputs": [],
   "source": [
    "corr_matrix = agg_df.corr()\n",
    "(corr_matrix[\"median_price\"].sort_values(ascending=False))[:20]"
   ]
  },
  {
   "cell_type": "code",
   "execution_count": null,
   "id": "e05dc1c0",
   "metadata": {},
   "outputs": [],
   "source": [
    "df.head()"
   ]
  },
  {
   "cell_type": "code",
   "execution_count": null,
   "id": "82096ff2",
   "metadata": {},
   "outputs": [],
   "source": [
    "agg_df[['median_price']].plot(kind='line')"
   ]
  },
  {
   "cell_type": "code",
   "execution_count": null,
   "id": "3a7452ff",
   "metadata": {},
   "outputs": [],
   "source": [
    "pd.plotting.lag_plot(agg_df['median_price'],lag=1)"
   ]
  },
  {
   "cell_type": "code",
   "execution_count": null,
   "id": "e4556cf0",
   "metadata": {},
   "outputs": [],
   "source": [
    "pd.plotting.lag_plot(agg_df['median_price'],lag=7)"
   ]
  },
  {
   "cell_type": "code",
   "execution_count": null,
   "id": "2adaa3bb",
   "metadata": {},
   "outputs": [],
   "source": [
    "pd.plotting.lag_plot(agg_df['median_price'],lag=30)"
   ]
  },
  {
   "cell_type": "code",
   "execution_count": null,
   "id": "efe94b7b",
   "metadata": {},
   "outputs": [],
   "source": [
    "g = sns.heatmap(corr_matrix,  vmax=.6, center=0,\n",
    "            square=True, linewidths=.5, cbar_kws={\"shrink\": .5}, annot=True, fmt='.2f', cmap='coolwarm')\n",
    "g.figure.set_size_inches(10,10)\n",
    "    \n",
    "plt.show()"
   ]
  },
  {
   "cell_type": "code",
   "execution_count": null,
   "id": "d488872c",
   "metadata": {},
   "outputs": [],
   "source": [
    "result = adfuller(agg_df['median_price'])\n",
    "print(f'Test Statistics: {result[0]}')\n",
    "print(f'p-value: {result[1]}')\n",
    "print(f'Critial Values: {result[4]}')\n",
    "\n",
    "if result[1] > 0.05 :\n",
    "  print('Series is not Stationary')\n",
    "else:\n",
    "  print('Series is Stationary')"
   ]
  },
  {
   "cell_type": "code",
   "execution_count": null,
   "id": "49d309f2",
   "metadata": {},
   "outputs": [],
   "source": [
    "dsdss"
   ]
  },
  {
   "cell_type": "code",
   "execution_count": null,
   "id": "9bf9cc57",
   "metadata": {},
   "outputs": [],
   "source": [
    "agg_df['date'].min(),agg_df['date'].max()"
   ]
  },
  {
   "cell_type": "code",
   "execution_count": null,
   "id": "ac94e82e",
   "metadata": {},
   "outputs": [],
   "source": [
    "#split data into train and test sets\n",
    "split_date ='2022-03-01'\n",
    "df_train = df.loc[df.date <= split_date].copy()\n",
    "df_test = df.loc[df.date > split_date].copy()"
   ]
  },
  {
   "cell_type": "code",
   "execution_count": null,
   "id": "52c24da8",
   "metadata": {},
   "outputs": [],
   "source": [
    "len(df_train), len(df_test)"
   ]
  },
  {
   "cell_type": "code",
   "execution_count": null,
   "id": "5618628b",
   "metadata": {},
   "outputs": [],
   "source": [
    "agg_df.head()"
   ]
  },
  {
   "cell_type": "code",
   "execution_count": null,
   "id": "3efb053b",
   "metadata": {},
   "outputs": [],
   "source": [
    "agg_df=agg_df.dropna()"
   ]
  },
  {
   "cell_type": "code",
   "execution_count": null,
   "id": "8e857508",
   "metadata": {},
   "outputs": [],
   "source": [
    "agg_df.isnull().sum()"
   ]
  },
  {
   "cell_type": "code",
   "execution_count": null,
   "id": "fe6f3fd4",
   "metadata": {},
   "outputs": [],
   "source": [
    "len(agg_df)"
   ]
  },
  {
   "cell_type": "code",
   "execution_count": null,
   "id": "300c6f85",
   "metadata": {},
   "outputs": [],
   "source": [
    "def create_features(df, label=None):\n",
    "    \"\"\"\n",
    "    Creates features from column index\n",
    "    \"\"\"\n",
    "    \n",
    "    X = df[['num_of_sellers','number_of_buyers','volume_of_assets_traded','number_of_transcations_index','median_price']]\n",
    "    if label:\n",
    "        y = df[label]\n",
    "        return X, y\n",
    "    return X"
   ]
  },
  {
   "cell_type": "code",
   "execution_count": null,
   "id": "46c3aaf7",
   "metadata": {},
   "outputs": [],
   "source": [
    "#Split train and test sets into X (features) and y - (label)\n",
    "X_train, y_train = create_features(df_train, label='floor_price')\n",
    "X_test, y_test = create_features(df_test, label='floor_price')"
   ]
  },
  {
   "cell_type": "code",
   "execution_count": null,
   "id": "89d92b22",
   "metadata": {},
   "outputs": [],
   "source": [
    "from sklearn.preprocessing import StandardScaler, MinMaxScaler, RobustScaler"
   ]
  },
  {
   "cell_type": "code",
   "execution_count": null,
   "id": "f2bbf326",
   "metadata": {},
   "outputs": [],
   "source": [
    "#Scale the data\n",
    "scaler = MinMaxScaler()\n",
    "X_train = scaler.fit_transform(X_train)\n",
    "X_test = scaler.transform(X_test)"
   ]
  },
  {
   "cell_type": "code",
   "execution_count": null,
   "id": "bf7a903c",
   "metadata": {},
   "outputs": [],
   "source": [
    "param_grid = { \n",
    "    'n_estimators': [50,70,60],\n",
    "    'max_depth': [3,5,4],\n",
    "    'min_samples_split':[2,3,4]\n",
    "}\n",
    "reg = RandomForestRegressor(random_state=0,verbose=0,oob_score=True)\n",
    "cv_xgb = GridSearchCV(estimator=reg, param_grid=param_grid, cv=5,verbose=0)\n",
    "\n",
    "cv_xgb.fit(X_train, y_train)\n",
    "yhat = cv_xgb.best_estimator_.predict(X_test)"
   ]
  },
  {
   "cell_type": "code",
   "execution_count": null,
   "id": "5ad03557",
   "metadata": {},
   "outputs": [],
   "source": [
    "cv_xgb.best_params_"
   ]
  },
  {
   "cell_type": "code",
   "execution_count": null,
   "id": "c2a90e16",
   "metadata": {},
   "outputs": [],
   "source": [
    "err=pd.DataFrame({'prediction':yhat,'actual': y_test, 'error':y_test-yhat})\n",
    "err['error'].describe()"
   ]
  },
  {
   "cell_type": "code",
   "execution_count": null,
   "id": "91ec0da3",
   "metadata": {},
   "outputs": [],
   "source": [
    "df['floor_price'].describe()"
   ]
  },
  {
   "cell_type": "code",
   "execution_count": null,
   "id": "37ee0dd8",
   "metadata": {},
   "outputs": [],
   "source": [
    "#score the model\n",
    "mae = mean_absolute_error(yhat,y_test)\n",
    "print(\"MAE:\", mae)"
   ]
  },
  {
   "cell_type": "code",
   "execution_count": null,
   "id": "ab7cd373",
   "metadata": {},
   "outputs": [],
   "source": [
    "#score the model\n",
    "rmse = np.sqrt(mean_squared_error(yhat,y_test))\n",
    "print(\"RMSE:\", rmse)"
   ]
  },
  {
   "cell_type": "code",
   "execution_count": null,
   "id": "7634f136",
   "metadata": {},
   "outputs": [],
   "source": [
    "import scipy"
   ]
  },
  {
   "cell_type": "code",
   "execution_count": null,
   "id": "e2cc575a",
   "metadata": {},
   "outputs": [],
   "source": [
    "slope, intercept, r_value, p_value, std_err = scipy.stats.linregress(yhat, y_test)\n",
    "'Pvalue:',p_value,'Rvalue:',r_value"
   ]
  },
  {
   "cell_type": "code",
   "execution_count": null,
   "id": "e1988502",
   "metadata": {},
   "outputs": [],
   "source": [
    "sns.regplot(yhat, y_test)"
   ]
  },
  {
   "cell_type": "code",
   "execution_count": null,
   "id": "5d07b4d3",
   "metadata": {},
   "outputs": [],
   "source": [
    "explainer = shap.TreeExplainer(cv_xgb.best_estimator_)\n",
    "shap_values = explainer.shap_values(X_test)\n",
    "shap.summary_plot(shap_values, X_test, plot_type=\"bar\")"
   ]
  },
  {
   "cell_type": "markdown",
   "id": "da9da714",
   "metadata": {},
   "source": [
    "### Prophet"
   ]
  },
  {
   "cell_type": "code",
   "execution_count": null,
   "id": "81af782e",
   "metadata": {},
   "outputs": [],
   "source": [
    "df.head(2)"
   ]
  },
  {
   "cell_type": "code",
   "execution_count": null,
   "id": "27b83e75",
   "metadata": {},
   "outputs": [],
   "source": [
    "df_prophet=df.reset_index()[['date','floor_price','median_price','num_of_sellers','number_of_buyers','volume_of_assets_traded',\n",
    "                             'number_of_transcations_index']].rename({'date':'ds','floor_price':'y'}, axis='columns')"
   ]
  },
  {
   "cell_type": "code",
   "execution_count": null,
   "id": "d1464818",
   "metadata": {},
   "outputs": [],
   "source": [
    "df_prophet.head()"
   ]
  },
  {
   "cell_type": "code",
   "execution_count": null,
   "id": "d9778a5f",
   "metadata": {
    "scrolled": false
   },
   "outputs": [],
   "source": [
    "ax = df_prophet.set_index('ds')['y'].plot(figsize=(12, 8))\n",
    "ax.set_ylabel('Floor price of parallel alpha nft')\n",
    "ax.set_xlabel('Date')\n",
    "\n",
    "plt.show()"
   ]
  },
  {
   "cell_type": "code",
   "execution_count": null,
   "id": "147815a9",
   "metadata": {},
   "outputs": [],
   "source": [
    "#features=normalize(df_prophet.drop(columns=['ds','y']))"
   ]
  },
  {
   "cell_type": "code",
   "execution_count": null,
   "id": "badcf704",
   "metadata": {},
   "outputs": [],
   "source": [
    "#Scale the data\n",
    "#scaler = MinMaxScaler()\n",
    "#features = scaler.fit_transform(df_prophet.drop(columns=['ds','y']))"
   ]
  },
  {
   "cell_type": "code",
   "execution_count": null,
   "id": "1c57713c",
   "metadata": {},
   "outputs": [],
   "source": [
    "#features=pd.DataFrame(features)"
   ]
  },
  {
   "cell_type": "code",
   "execution_count": null,
   "id": "7f3709f8",
   "metadata": {},
   "outputs": [],
   "source": [
    "#labels=df_prophet[['ds','y']]"
   ]
  },
  {
   "cell_type": "code",
   "execution_count": null,
   "id": "3e2a2224",
   "metadata": {},
   "outputs": [],
   "source": [
    "#df_prophet=pd.concat([features,labels],axis=1)"
   ]
  },
  {
   "cell_type": "code",
   "execution_count": null,
   "id": "a42096a6",
   "metadata": {},
   "outputs": [],
   "source": [
    "df_prophet.head()"
   ]
  },
  {
   "cell_type": "code",
   "execution_count": null,
   "id": "5f4880a7",
   "metadata": {},
   "outputs": [],
   "source": [
    "model = Prophet(interval_width=0.5,growth='logistic')\n",
    "model.add_regressor('num_of_sellers')\n",
    "model.add_regressor('number_of_buyers')\n",
    "model.add_regressor('volume_of_assets_traded')\n",
    "model.add_regressor('number_of_transcations_index')\n",
    "model.add_regressor('median_price')"
   ]
  },
  {
   "cell_type": "code",
   "execution_count": null,
   "id": "cf8baa26",
   "metadata": {},
   "outputs": [],
   "source": [
    "df_prophet['cap'] = 0.16\n",
    "df_prophet['floor'] = 0\n"
   ]
  },
  {
   "cell_type": "code",
   "execution_count": null,
   "id": "fcbbaaca",
   "metadata": {},
   "outputs": [],
   "source": [
    "model.fit(df_prophet)\n"
   ]
  },
  {
   "cell_type": "code",
   "execution_count": null,
   "id": "316e8f2f",
   "metadata": {},
   "outputs": [],
   "source": [
    "future_dates=model.make_future_dataframe(periods=7, freq='d')\n",
    "future_dates.tail(7)"
   ]
  },
  {
   "cell_type": "code",
   "execution_count": null,
   "id": "824a79a8",
   "metadata": {},
   "outputs": [],
   "source": [
    "future_dates"
   ]
  },
  {
   "cell_type": "code",
   "execution_count": null,
   "id": "13e3e56c",
   "metadata": {},
   "outputs": [],
   "source": [
    "future_dates['cap'] = 0.16\n",
    "future_dates['floor'] = 0\n",
    "forecast = model.predict(future_dates)\n",
    "forecast[['ds', 'yhat', 'yhat_lower', 'yhat_upper']].tail(7)"
   ]
  },
  {
   "cell_type": "code",
   "execution_count": null,
   "id": "a13669cf",
   "metadata": {},
   "outputs": [],
   "source": [
    "#forecast['yhat']=np.abs(forecast['yhat'])"
   ]
  },
  {
   "cell_type": "code",
   "execution_count": null,
   "id": "c3a21bfd",
   "metadata": {},
   "outputs": [],
   "source": [
    "model.plot(forecast, uncertainty=True)"
   ]
  },
  {
   "cell_type": "code",
   "execution_count": null,
   "id": "f317927e",
   "metadata": {},
   "outputs": [],
   "source": [
    "model.plot_components(forecast)"
   ]
  },
  {
   "cell_type": "code",
   "execution_count": null,
   "id": "9025711f",
   "metadata": {},
   "outputs": [],
   "source": [
    "fig1 = model.plot_components(forecast)"
   ]
  },
  {
   "cell_type": "code",
   "execution_count": null,
   "id": "47ceab22",
   "metadata": {},
   "outputs": [],
   "source": [
    "forecast['yhat'].describe()"
   ]
  },
  {
   "cell_type": "code",
   "execution_count": null,
   "id": "5681f10f",
   "metadata": {},
   "outputs": [],
   "source": [
    "forecast[['ds','yhat']].tail(15)"
   ]
  },
  {
   "cell_type": "code",
   "execution_count": null,
   "id": "96607ee5",
   "metadata": {},
   "outputs": [],
   "source": [
    "ax = forecast.set_index('ds')['yhat'].plot(figsize=(12, 8))\n",
    "ax.set_ylabel('volume of assets of parallel alpha')\n",
    "ax.set_xlabel('Date')\n",
    "\n",
    "plt.show()"
   ]
  },
  {
   "cell_type": "code",
   "execution_count": null,
   "id": "d7b9354e",
   "metadata": {
    "scrolled": true
   },
   "outputs": [],
   "source": [
    "from fbprophet.diagnostics import cross_validation,  performance_metrics\n",
    "cv_results = cross_validation( model = model, initial = '200 days', horizon = '7 days')\n",
    "df_p = performance_metrics(cv_results)\n",
    "df_p"
   ]
  },
  {
   "cell_type": "code",
   "execution_count": null,
   "id": "d6637cee",
   "metadata": {},
   "outputs": [],
   "source": [
    "df_p['mae'].mean()"
   ]
  },
  {
   "cell_type": "code",
   "execution_count": null,
   "id": "045ba11c",
   "metadata": {},
   "outputs": [],
   "source": [
    "df_p['rmse'].mean()"
   ]
  },
  {
   "cell_type": "code",
   "execution_count": null,
   "id": "a15340ec",
   "metadata": {},
   "outputs": [],
   "source": [
    "from fbprophet.plot import plot_cross_validation_metric\n",
    "fig3 = plot_cross_validation_metric(cv_results, metric='mae')"
   ]
  },
  {
   "cell_type": "code",
   "execution_count": null,
   "id": "49d3d742",
   "metadata": {},
   "outputs": [],
   "source": [
    "### LSTM"
   ]
  },
  {
   "cell_type": "code",
   "execution_count": null,
   "id": "517497d4",
   "metadata": {},
   "outputs": [],
   "source": []
  },
  {
   "cell_type": "code",
   "execution_count": null,
   "id": "c60cc740",
   "metadata": {},
   "outputs": [],
   "source": []
  },
  {
   "cell_type": "code",
   "execution_count": null,
   "id": "daa074da",
   "metadata": {},
   "outputs": [],
   "source": []
  },
  {
   "cell_type": "code",
   "execution_count": null,
   "id": "8b6ec826",
   "metadata": {},
   "outputs": [],
   "source": []
  },
  {
   "cell_type": "code",
   "execution_count": null,
   "id": "de75a705",
   "metadata": {},
   "outputs": [],
   "source": []
  },
  {
   "cell_type": "code",
   "execution_count": null,
   "id": "1e9dde9d",
   "metadata": {},
   "outputs": [],
   "source": []
  },
  {
   "cell_type": "code",
   "execution_count": null,
   "id": "1c1188ab",
   "metadata": {},
   "outputs": [],
   "source": []
  },
  {
   "cell_type": "code",
   "execution_count": null,
   "id": "84214f56",
   "metadata": {},
   "outputs": [],
   "source": []
  },
  {
   "cell_type": "code",
   "execution_count": null,
   "id": "c0a16ef8",
   "metadata": {},
   "outputs": [],
   "source": []
  }
 ],
 "metadata": {
  "kernelspec": {
   "display_name": "Python 3.8.12 64-bit ('py36': conda)",
   "language": "python",
   "name": "python3812jvsc74a57bd0d4f6b8ba5c30944ddc3f08aa754190fc9fa0c8ffa5eadb59838767fd4f7c97d5"
  },
  "language_info": {
   "codemirror_mode": {
    "name": "ipython",
    "version": 3
   },
   "file_extension": ".py",
   "mimetype": "text/x-python",
   "name": "python",
   "nbconvert_exporter": "python",
   "pygments_lexer": "ipython3",
   "version": "3.8.12"
  }
 },
 "nbformat": 4,
 "nbformat_minor": 5
}
