{
 "cells": [
  {
   "cell_type": "markdown",
   "id": "ed6b9eee",
   "metadata": {},
   "source": [
    "### PARSEC"
   ]
  },
  {
   "cell_type": "code",
   "execution_count": 32,
   "id": "7d96c7ef",
   "metadata": {},
   "outputs": [],
   "source": [
    "#import the neccesary libraries\n",
    "from gql import gql, Client\n",
    "import pandas as pd\n",
    "from gql.transport.requests import RequestsHTTPTransport\n",
    "import json\n",
    "import asyncio\n",
    "from datetime import datetime\n",
    "import json\n",
    "import os\n",
    "import seaborn as sns\n",
    "import matplotlib.pyplot as plt\n",
    "import psycopg2\n",
    "import time\n",
    "import glob\n",
    "pd.set_option('display.max_columns', None)"
   ]
  },
  {
   "cell_type": "code",
   "execution_count": null,
   "id": "ba4b472b",
   "metadata": {},
   "outputs": [],
   "source": [
    "def get_connection(url, header):\n",
    "  header = header\n",
    "  transport = RequestsHTTPTransport(url,headers=header,use_json=True)\n",
    "  return Client(transport=transport, fetch_schema_from_transport=True)\n",
    "client = get_connection('https://api.parsec.finance/api/v2',{'api_key':'Your_key'})"
   ]
  },
  {
   "cell_type": "code",
   "execution_count": null,
   "id": "29520e23",
   "metadata": {},
   "outputs": [],
   "source": [
    "query = gql('''\n",
    "        { \n",
    "\n",
    "      nftTrades(limit: 1000) {\n",
    "          chain\n",
    "    collectionAddress\n",
    "    collectionName\n",
    "    exchange\n",
    "    logIndex\n",
    "    maker\n",
    "    price\n",
    "    quoteCurrency\n",
    "    side\n",
    "    taker\n",
    "    thumbnailUrl\n",
    "    timestamp\n",
    "    tokenId\n",
    "    tx\n",
    "    txIndex\n",
    "\n",
    "          }\n",
    "        }\n",
    "        ''')"
   ]
  },
  {
   "cell_type": "code",
   "execution_count": null,
   "id": "b635ad40",
   "metadata": {},
   "outputs": [],
   "source": [
    "from datetime import datetime\n",
    "ts = int('1633824003')\n",
    "\n",
    "# if you encounter a \"year is out of range\" error the timestamp\n",
    "# may be in milliseconds, try `ts /= 1000` in that case\n",
    "print(datetime.utcfromtimestamp(ts).strftime('%Y-%m-%d %H:%M:%S'))"
   ]
  },
  {
   "cell_type": "code",
   "execution_count": null,
   "id": "22809494",
   "metadata": {},
   "outputs": [],
   "source": [
    "tr=pd.DataFrame(client.execute(query)['nftTrades'])"
   ]
  },
  {
   "cell_type": "code",
   "execution_count": null,
   "id": "3e20c515",
   "metadata": {
    "scrolled": true
   },
   "outputs": [],
   "source": [
    "trs=[]\n",
    "while True:\n",
    "    before = tr['timestamp'].min()\n",
    "    print(before)\n",
    "    query = gql('''\n",
    "{ \n",
    "    nftTrades(limit:1000, before:''' + str(before) + ''') {\n",
    "       chain\n",
    "    collectionAddress\n",
    "    collectionName\n",
    "    exchange\n",
    "    logIndex\n",
    "    maker\n",
    "    price\n",
    "    quoteCurrency\n",
    "    side\n",
    "    taker\n",
    "    thumbnailUrl\n",
    "    timestamp\n",
    "    tokenId\n",
    "    tx\n",
    "    txIndex\n",
    "\n",
    "        }\n",
    "      }\n",
    "      ''')\n",
    "    while True:\n",
    "        try:\n",
    "            ex = client.execute(query)\n",
    "            break\n",
    "        except:\n",
    "            print ('retrying')\n",
    "            pass\n",
    "    tr = pd.DataFrame(ex['nftTrades'])\n",
    "    print (tr.shape)\n",
    "    trs.append(tr)\n",
    "    "
   ]
  },
  {
   "cell_type": "code",
   "execution_count": null,
   "id": "6efe45f9",
   "metadata": {},
   "outputs": [],
   "source": [
    "trss=pd.concat(trs)"
   ]
  },
  {
   "cell_type": "code",
   "execution_count": null,
   "id": "fcb659ee",
   "metadata": {},
   "outputs": [],
   "source": [
    "parallel=df[df['collectionName']=='Parallel Alpha']"
   ]
  },
  {
   "cell_type": "code",
   "execution_count": null,
   "id": "58e46436",
   "metadata": {},
   "outputs": [],
   "source": [
    "parallel.head()"
   ]
  },
  {
   "cell_type": "code",
   "execution_count": null,
   "id": "e743fcc5",
   "metadata": {},
   "outputs": [],
   "source": [
    "from datetime import datetime\n",
    "parallel['date']=parallel['timestamp'].apply(lambda x: datetime.utcfromtimestamp(x).strftime('%Y-%m-%d %H:%M:%S'))"
   ]
  },
  {
   "cell_type": "code",
   "execution_count": null,
   "id": "d1f08729",
   "metadata": {},
   "outputs": [],
   "source": [
    "parallel['date']=pd.to_datetime(parallel['date'])"
   ]
  },
  {
   "cell_type": "code",
   "execution_count": null,
   "id": "44bac4c1",
   "metadata": {},
   "outputs": [],
   "source": [
    "parallel['date']"
   ]
  },
  {
   "cell_type": "code",
   "execution_count": null,
   "id": "59d97323",
   "metadata": {},
   "outputs": [],
   "source": []
  },
  {
   "cell_type": "code",
   "execution_count": 3,
   "id": "7b3dabf5",
   "metadata": {},
   "outputs": [],
   "source": [
    "#parallel=pd.read_csv('data/parallel_alpha_raw_data.csv')"
   ]
  },
  {
   "cell_type": "code",
   "execution_count": 7,
   "id": "ef30e3f5",
   "metadata": {},
   "outputs": [],
   "source": [
    "Db_host='127.0.0.1'\n",
    "Db_name='postgres'\n",
    "Db_user='postgres'\n",
    "Db_pass='Brunei42i'"
   ]
  },
  {
   "cell_type": "code",
   "execution_count": 8,
   "id": "e0136e32",
   "metadata": {},
   "outputs": [],
   "source": [
    "conn = psycopg2.connect(host=Db_host, dbname=Db_name, user=Db_user,password=Db_pass)\n",
    "conn.set_session(autocommit=True)\n",
    "cur = conn.cursor()"
   ]
  },
  {
   "cell_type": "code",
   "execution_count": null,
   "id": "1b9fb5f2",
   "metadata": {},
   "outputs": [],
   "source": [
    "parallel=parallel.drop(columns=parallel.filter(like='Unnamed'))\n",
    "parallel=parallel.drop(columns='date')"
   ]
  },
  {
   "cell_type": "code",
   "execution_count": null,
   "id": "d5da652c",
   "metadata": {},
   "outputs": [],
   "source": [
    "parallel.head(2)"
   ]
  },
  {
   "cell_type": "code",
   "execution_count": null,
   "id": "3504bdf4",
   "metadata": {},
   "outputs": [],
   "source": [
    "cur.execute('create database parallel_alpha')"
   ]
  },
  {
   "cell_type": "code",
   "execution_count": null,
   "id": "800dbd33",
   "metadata": {},
   "outputs": [],
   "source": [
    "parallel[\"id\"] = parallel.index + 1"
   ]
  },
  {
   "cell_type": "code",
   "execution_count": null,
   "id": "14a8963d",
   "metadata": {},
   "outputs": [],
   "source": [
    "parallel.head(2)"
   ]
  },
  {
   "cell_type": "code",
   "execution_count": null,
   "id": "9dd0ff65",
   "metadata": {},
   "outputs": [],
   "source": [
    "cur.execute(\"CREATE TABLE parallel_alpha_trades (chain varchar, collectionAddress varchar, collectionName varchar, exchange varchar, logIndex int,maker varchar, price float,quoteCurrency varchar, side varchar, taker varchar, thumbnailUrl varchar, timestamp int,tokenId float, tx varchar, txIndex float, id int PRIMARY KEY);\")"
   ]
  },
  {
   "cell_type": "code",
   "execution_count": null,
   "id": "ea739d53",
   "metadata": {},
   "outputs": [],
   "source": [
    "insert_trades=\"\"\"\n",
    "INSERT INTO parallel_alpha_trades(chain,collectionAddress,collectionName,exchange,logIndex,maker,price,\\\n",
    "quoteCurrency,side,taker,thumbnailUrl,timestamp,tokenId,tx,txIndex,id)\n",
    "VALUES(%s,%s, %s, %s, %s, %s, %s, %s, %s, %s,%s,%s,%s, %s, %s, %s)\n",
    "ON CONFLICT (id) DO UPDATE SET(chain,collectionAddress,collectionName,exchange,logIndex,maker,price,\\\n",
    "quoteCurrency,side,taker,thumbnailUrl,timestamp,tokenId,tx,txIndex)=(EXCLUDED.chain,EXCLUDED.collectionAddress,EXCLUDED.collectionName,EXCLUDED.exchange,\\\n",
    "EXCLUDED.logIndex,EXCLUDED.maker,EXCLUDED.price,EXCLUDED.quoteCurrency,EXCLUDED.side,EXCLUDED.taker,EXCLUDED.thumbnailUrl,EXCLUDED.timestamp,EXCLUDED.tokenId,\\\n",
    "EXCLUDED.tx,EXCLUDED.txIndex)\n",
    "\"\"\"\n",
    "for i, row in parallel.iterrows():\n",
    "    cur.execute(insert_trades, row.values.tolist())\n",
    "    conn.commit()"
   ]
  },
  {
   "cell_type": "code",
   "execution_count": 9,
   "id": "974b1e84",
   "metadata": {},
   "outputs": [
    {
     "name": "stderr",
     "output_type": "stream",
     "text": [
      "/Users/hyacinthampadu/miniforge3/envs/py36/lib/python3.8/site-packages/pandas/io/sql.py:761: UserWarning: pandas only support SQLAlchemy connectable(engine/connection) ordatabase string URI or sqlite3 DBAPI2 connectionother DBAPI2 objects are not tested, please consider using SQLAlchemy\n",
      "  warnings.warn(\n"
     ]
    },
    {
     "data": {
      "text/html": [
       "<div>\n",
       "<style scoped>\n",
       "    .dataframe tbody tr th:only-of-type {\n",
       "        vertical-align: middle;\n",
       "    }\n",
       "\n",
       "    .dataframe tbody tr th {\n",
       "        vertical-align: top;\n",
       "    }\n",
       "\n",
       "    .dataframe thead th {\n",
       "        text-align: right;\n",
       "    }\n",
       "</style>\n",
       "<table border=\"1\" class=\"dataframe\">\n",
       "  <thead>\n",
       "    <tr style=\"text-align: right;\">\n",
       "      <th></th>\n",
       "      <th>chain</th>\n",
       "      <th>collectionaddress</th>\n",
       "      <th>collectionname</th>\n",
       "      <th>exchange</th>\n",
       "      <th>logindex</th>\n",
       "      <th>maker</th>\n",
       "      <th>price</th>\n",
       "      <th>quotecurrency</th>\n",
       "      <th>side</th>\n",
       "      <th>taker</th>\n",
       "      <th>thumbnailurl</th>\n",
       "      <th>timestamp</th>\n",
       "      <th>tokenid</th>\n",
       "      <th>tx</th>\n",
       "      <th>txindex</th>\n",
       "      <th>date</th>\n",
       "      <th>id</th>\n",
       "    </tr>\n",
       "  </thead>\n",
       "  <tbody>\n",
       "    <tr>\n",
       "      <th>0</th>\n",
       "      <td>eth</td>\n",
       "      <td>0x76be3b62873462d2142405439777e971754e8e77</td>\n",
       "      <td>Parallel Alpha</td>\n",
       "      <td>opensea</td>\n",
       "      <td>514</td>\n",
       "      <td>0x661d0eaf85b3af039aa457473e5d448b2ce38ce6</td>\n",
       "      <td>0.0013</td>\n",
       "      <td>ETH</td>\n",
       "      <td>buy</td>\n",
       "      <td>0xb9dfffe3dd0956455ebba025bc3f6de4ca6bed87</td>\n",
       "      <td>https://storage.googleapis.com/parsec-nft-stor...</td>\n",
       "      <td>1649804649</td>\n",
       "      <td>10545.0</td>\n",
       "      <td>0xcc40b548c1d454b42c0d8a06d8adb23ffb514b63fa2d...</td>\n",
       "      <td>210.0</td>\n",
       "      <td>2022-04-12</td>\n",
       "      <td>5111</td>\n",
       "    </tr>\n",
       "    <tr>\n",
       "      <th>1</th>\n",
       "      <td>eth</td>\n",
       "      <td>0x76be3b62873462d2142405439777e971754e8e77</td>\n",
       "      <td>Parallel Alpha</td>\n",
       "      <td>opensea</td>\n",
       "      <td>179</td>\n",
       "      <td>0x4050fb6fac4a6dbf61b63d6cba8e344a2ee9057d</td>\n",
       "      <td>0.0200</td>\n",
       "      <td>ETH</td>\n",
       "      <td>buy</td>\n",
       "      <td>0xb587cbaec20ef78296e1d3b105b5b6aa4ff0c3b4</td>\n",
       "      <td>https://storage.googleapis.com/parsec-nft-stor...</td>\n",
       "      <td>1649804054</td>\n",
       "      <td>10566.0</td>\n",
       "      <td>0xc9f1d2dd0b0afc70f254691ea119d1936288bfc261ae...</td>\n",
       "      <td>72.0</td>\n",
       "      <td>2022-04-12</td>\n",
       "      <td>5947</td>\n",
       "    </tr>\n",
       "    <tr>\n",
       "      <th>2</th>\n",
       "      <td>eth</td>\n",
       "      <td>0x76be3b62873462d2142405439777e971754e8e77</td>\n",
       "      <td>Parallel Alpha</td>\n",
       "      <td>opensea</td>\n",
       "      <td>99</td>\n",
       "      <td>0x2f02c4e2da54a0df1f40dfec773ded5125dc28bf</td>\n",
       "      <td>0.0100</td>\n",
       "      <td>ETH</td>\n",
       "      <td>buy</td>\n",
       "      <td>0x215e14543142af17e2cb0ef08db5c126776d59f4</td>\n",
       "      <td>https://storage.googleapis.com/parsec-nft-stor...</td>\n",
       "      <td>1649795459</td>\n",
       "      <td>10568.0</td>\n",
       "      <td>0xd8bc48264001571f79164bfa5c409d5eedecd56ceff6...</td>\n",
       "      <td>64.0</td>\n",
       "      <td>2022-04-12</td>\n",
       "      <td>14484</td>\n",
       "    </tr>\n",
       "    <tr>\n",
       "      <th>3</th>\n",
       "      <td>eth</td>\n",
       "      <td>0x76be3b62873462d2142405439777e971754e8e77</td>\n",
       "      <td>Parallel Alpha</td>\n",
       "      <td>opensea</td>\n",
       "      <td>269</td>\n",
       "      <td>0x91b2642e5317074f25a47dc2b65c280e9b3427a0</td>\n",
       "      <td>0.0380</td>\n",
       "      <td>ETH</td>\n",
       "      <td>sell</td>\n",
       "      <td>0xbc0139b7b925cd3aaf818880ff45ed15b077e111</td>\n",
       "      <td>https://storage.googleapis.com/parsec-nft-stor...</td>\n",
       "      <td>1649795052</td>\n",
       "      <td>10503.0</td>\n",
       "      <td>0x1cc4302565f7c9c1194d601e68e84389dbd88ac856d2...</td>\n",
       "      <td>127.0</td>\n",
       "      <td>2022-04-12</td>\n",
       "      <td>14655</td>\n",
       "    </tr>\n",
       "    <tr>\n",
       "      <th>4</th>\n",
       "      <td>eth</td>\n",
       "      <td>0x76be3b62873462d2142405439777e971754e8e77</td>\n",
       "      <td>Parallel Alpha</td>\n",
       "      <td>opensea</td>\n",
       "      <td>282</td>\n",
       "      <td>0x6c9af2c7b46b8c94061088a1f3bbf9b6651fc34c</td>\n",
       "      <td>0.0010</td>\n",
       "      <td>ETH</td>\n",
       "      <td>buy</td>\n",
       "      <td>0x6917b4f314e3e1e34750432f3c4fa6d6ebd878e0</td>\n",
       "      <td>https://storage.googleapis.com/parsec-nft-stor...</td>\n",
       "      <td>1649793126</td>\n",
       "      <td>10556.0</td>\n",
       "      <td>0x9ac3ba9439a650835fe905fd55571dafb14e5e5bc81d...</td>\n",
       "      <td>138.0</td>\n",
       "      <td>2022-04-12</td>\n",
       "      <td>16319</td>\n",
       "    </tr>\n",
       "  </tbody>\n",
       "</table>\n",
       "</div>"
      ],
      "text/plain": [
       "  chain                           collectionaddress  collectionname exchange  \\\n",
       "0   eth  0x76be3b62873462d2142405439777e971754e8e77  Parallel Alpha  opensea   \n",
       "1   eth  0x76be3b62873462d2142405439777e971754e8e77  Parallel Alpha  opensea   \n",
       "2   eth  0x76be3b62873462d2142405439777e971754e8e77  Parallel Alpha  opensea   \n",
       "3   eth  0x76be3b62873462d2142405439777e971754e8e77  Parallel Alpha  opensea   \n",
       "4   eth  0x76be3b62873462d2142405439777e971754e8e77  Parallel Alpha  opensea   \n",
       "\n",
       "   logindex                                       maker   price quotecurrency  \\\n",
       "0       514  0x661d0eaf85b3af039aa457473e5d448b2ce38ce6  0.0013           ETH   \n",
       "1       179  0x4050fb6fac4a6dbf61b63d6cba8e344a2ee9057d  0.0200           ETH   \n",
       "2        99  0x2f02c4e2da54a0df1f40dfec773ded5125dc28bf  0.0100           ETH   \n",
       "3       269  0x91b2642e5317074f25a47dc2b65c280e9b3427a0  0.0380           ETH   \n",
       "4       282  0x6c9af2c7b46b8c94061088a1f3bbf9b6651fc34c  0.0010           ETH   \n",
       "\n",
       "   side                                       taker  \\\n",
       "0   buy  0xb9dfffe3dd0956455ebba025bc3f6de4ca6bed87   \n",
       "1   buy  0xb587cbaec20ef78296e1d3b105b5b6aa4ff0c3b4   \n",
       "2   buy  0x215e14543142af17e2cb0ef08db5c126776d59f4   \n",
       "3  sell  0xbc0139b7b925cd3aaf818880ff45ed15b077e111   \n",
       "4   buy  0x6917b4f314e3e1e34750432f3c4fa6d6ebd878e0   \n",
       "\n",
       "                                        thumbnailurl   timestamp  tokenid  \\\n",
       "0  https://storage.googleapis.com/parsec-nft-stor...  1649804649  10545.0   \n",
       "1  https://storage.googleapis.com/parsec-nft-stor...  1649804054  10566.0   \n",
       "2  https://storage.googleapis.com/parsec-nft-stor...  1649795459  10568.0   \n",
       "3  https://storage.googleapis.com/parsec-nft-stor...  1649795052  10503.0   \n",
       "4  https://storage.googleapis.com/parsec-nft-stor...  1649793126  10556.0   \n",
       "\n",
       "                                                  tx  txindex        date  \\\n",
       "0  0xcc40b548c1d454b42c0d8a06d8adb23ffb514b63fa2d...    210.0  2022-04-12   \n",
       "1  0xc9f1d2dd0b0afc70f254691ea119d1936288bfc261ae...     72.0  2022-04-12   \n",
       "2  0xd8bc48264001571f79164bfa5c409d5eedecd56ceff6...     64.0  2022-04-12   \n",
       "3  0x1cc4302565f7c9c1194d601e68e84389dbd88ac856d2...    127.0  2022-04-12   \n",
       "4  0x9ac3ba9439a650835fe905fd55571dafb14e5e5bc81d...    138.0  2022-04-12   \n",
       "\n",
       "      id  \n",
       "0   5111  \n",
       "1   5947  \n",
       "2  14484  \n",
       "3  14655  \n",
       "4  16319  "
      ]
     },
     "execution_count": 9,
     "metadata": {},
     "output_type": "execute_result"
    }
   ],
   "source": [
    "parallel=pd.read_sql_query(\"SELECT * FROM parallel_trades\",conn)\n",
    "parallel.head()"
   ]
  },
  {
   "cell_type": "code",
   "execution_count": 10,
   "id": "58f8356f",
   "metadata": {},
   "outputs": [],
   "source": [
    "from datetime import datetime\n",
    "parallel['date']=parallel['timestamp'].apply(lambda x: datetime.utcfromtimestamp(x).strftime('%Y-%m-%d %H:%M:%S'))"
   ]
  },
  {
   "cell_type": "code",
   "execution_count": 11,
   "id": "d738b542",
   "metadata": {},
   "outputs": [],
   "source": [
    "parallel['date']=pd.to_datetime(parallel['date'])"
   ]
  },
  {
   "cell_type": "code",
   "execution_count": 12,
   "id": "f8169cc6",
   "metadata": {},
   "outputs": [],
   "source": [
    "parallel=parallel[parallel['date']>'2021-08-01']"
   ]
  },
  {
   "cell_type": "code",
   "execution_count": 13,
   "id": "77a33eb7",
   "metadata": {},
   "outputs": [],
   "source": [
    "df=parallel.groupby([pd.Grouper(key='date', freq='d'),  'collectionname']).agg({\n",
    "    'maker':['nunique'],\n",
    "    'taker':['nunique'],\n",
    "    'thumbnailurl':['nunique'],\n",
    "    'tx':['nunique'],\n",
    "    'price':['min','max','mean','median']})"
   ]
  },
  {
   "cell_type": "code",
   "execution_count": 14,
   "id": "136f0ade",
   "metadata": {},
   "outputs": [
    {
     "data": {
      "text/plain": [
       "255"
      ]
     },
     "execution_count": 14,
     "metadata": {},
     "output_type": "execute_result"
    }
   ],
   "source": [
    "len(df)"
   ]
  },
  {
   "cell_type": "code",
   "execution_count": 15,
   "id": "68809c8a",
   "metadata": {},
   "outputs": [],
   "source": [
    "def flatten_columns(df, prefix=''):\n",
    "    columns = []\n",
    "    for cs in df:\n",
    "        if type(cs) is str:\n",
    "            cs = re.sub('\\W+','_', cs)\n",
    "        elif type(cs) is not list and type(cs) is not tuple:\n",
    "            print (cs)\n",
    "            cs = str(cs)\n",
    "        else:\n",
    "            cs = re.sub(\"\\W+\", \"\", \"\".join([str(c) for c in cs]))\n",
    "        cs = cs.lower()\n",
    "        if prefix:\n",
    "            cs = prefix + '' + cs\n",
    "        cs = re.sub('\\+$', '', cs)\n",
    "        columns.append(cs)\n",
    "    return columns"
   ]
  },
  {
   "cell_type": "code",
   "execution_count": 16,
   "id": "8b241b4b",
   "metadata": {},
   "outputs": [],
   "source": [
    "import re"
   ]
  },
  {
   "cell_type": "code",
   "execution_count": 17,
   "id": "ee37aa1b",
   "metadata": {},
   "outputs": [],
   "source": [
    "df.columns=flatten_columns(df)"
   ]
  },
  {
   "cell_type": "code",
   "execution_count": 18,
   "id": "cafdfe25",
   "metadata": {},
   "outputs": [
    {
     "data": {
      "text/html": [
       "<div>\n",
       "<style scoped>\n",
       "    .dataframe tbody tr th:only-of-type {\n",
       "        vertical-align: middle;\n",
       "    }\n",
       "\n",
       "    .dataframe tbody tr th {\n",
       "        vertical-align: top;\n",
       "    }\n",
       "\n",
       "    .dataframe thead th {\n",
       "        text-align: right;\n",
       "    }\n",
       "</style>\n",
       "<table border=\"1\" class=\"dataframe\">\n",
       "  <thead>\n",
       "    <tr style=\"text-align: right;\">\n",
       "      <th></th>\n",
       "      <th></th>\n",
       "      <th>makernunique</th>\n",
       "      <th>takernunique</th>\n",
       "      <th>thumbnailurlnunique</th>\n",
       "      <th>txnunique</th>\n",
       "      <th>pricemin</th>\n",
       "      <th>pricemax</th>\n",
       "      <th>pricemean</th>\n",
       "      <th>pricemedian</th>\n",
       "    </tr>\n",
       "    <tr>\n",
       "      <th>date</th>\n",
       "      <th>collectionname</th>\n",
       "      <th></th>\n",
       "      <th></th>\n",
       "      <th></th>\n",
       "      <th></th>\n",
       "      <th></th>\n",
       "      <th></th>\n",
       "      <th></th>\n",
       "      <th></th>\n",
       "    </tr>\n",
       "  </thead>\n",
       "  <tbody>\n",
       "    <tr>\n",
       "      <th>2021-08-01</th>\n",
       "      <th>Parallel Alpha</th>\n",
       "      <td>228</td>\n",
       "      <td>230</td>\n",
       "      <td>108</td>\n",
       "      <td>641</td>\n",
       "      <td>0.0200</td>\n",
       "      <td>10000.0</td>\n",
       "      <td>31.648996</td>\n",
       "      <td>0.1900</td>\n",
       "    </tr>\n",
       "    <tr>\n",
       "      <th>2021-08-02</th>\n",
       "      <th>Parallel Alpha</th>\n",
       "      <td>745</td>\n",
       "      <td>804</td>\n",
       "      <td>113</td>\n",
       "      <td>3632</td>\n",
       "      <td>0.0060</td>\n",
       "      <td>32000.0</td>\n",
       "      <td>15.646073</td>\n",
       "      <td>0.0880</td>\n",
       "    </tr>\n",
       "    <tr>\n",
       "      <th>2021-08-03</th>\n",
       "      <th>Parallel Alpha</th>\n",
       "      <td>887</td>\n",
       "      <td>937</td>\n",
       "      <td>119</td>\n",
       "      <td>3212</td>\n",
       "      <td>0.0230</td>\n",
       "      <td>1900.0</td>\n",
       "      <td>1.429123</td>\n",
       "      <td>0.1290</td>\n",
       "    </tr>\n",
       "    <tr>\n",
       "      <th>2021-08-04</th>\n",
       "      <th>Parallel Alpha</th>\n",
       "      <td>434</td>\n",
       "      <td>387</td>\n",
       "      <td>98</td>\n",
       "      <td>1230</td>\n",
       "      <td>0.0189</td>\n",
       "      <td>79000.0</td>\n",
       "      <td>66.104642</td>\n",
       "      <td>0.1000</td>\n",
       "    </tr>\n",
       "    <tr>\n",
       "      <th>2021-08-05</th>\n",
       "      <th>Parallel Alpha</th>\n",
       "      <td>339</td>\n",
       "      <td>276</td>\n",
       "      <td>92</td>\n",
       "      <td>728</td>\n",
       "      <td>0.0160</td>\n",
       "      <td>1400.0</td>\n",
       "      <td>3.271091</td>\n",
       "      <td>0.1149</td>\n",
       "    </tr>\n",
       "  </tbody>\n",
       "</table>\n",
       "</div>"
      ],
      "text/plain": [
       "                           makernunique  takernunique  thumbnailurlnunique  \\\n",
       "date       collectionname                                                    \n",
       "2021-08-01 Parallel Alpha           228           230                  108   \n",
       "2021-08-02 Parallel Alpha           745           804                  113   \n",
       "2021-08-03 Parallel Alpha           887           937                  119   \n",
       "2021-08-04 Parallel Alpha           434           387                   98   \n",
       "2021-08-05 Parallel Alpha           339           276                   92   \n",
       "\n",
       "                           txnunique  pricemin  pricemax  pricemean  \\\n",
       "date       collectionname                                             \n",
       "2021-08-01 Parallel Alpha        641    0.0200   10000.0  31.648996   \n",
       "2021-08-02 Parallel Alpha       3632    0.0060   32000.0  15.646073   \n",
       "2021-08-03 Parallel Alpha       3212    0.0230    1900.0   1.429123   \n",
       "2021-08-04 Parallel Alpha       1230    0.0189   79000.0  66.104642   \n",
       "2021-08-05 Parallel Alpha        728    0.0160    1400.0   3.271091   \n",
       "\n",
       "                           pricemedian  \n",
       "date       collectionname               \n",
       "2021-08-01 Parallel Alpha       0.1900  \n",
       "2021-08-02 Parallel Alpha       0.0880  \n",
       "2021-08-03 Parallel Alpha       0.1290  \n",
       "2021-08-04 Parallel Alpha       0.1000  \n",
       "2021-08-05 Parallel Alpha       0.1149  "
      ]
     },
     "execution_count": 18,
     "metadata": {},
     "output_type": "execute_result"
    }
   ],
   "source": [
    "df.head()"
   ]
  },
  {
   "cell_type": "code",
   "execution_count": 19,
   "id": "627325df",
   "metadata": {},
   "outputs": [],
   "source": [
    "df=df.reset_index()"
   ]
  },
  {
   "cell_type": "code",
   "execution_count": 20,
   "id": "4a3f0d19",
   "metadata": {},
   "outputs": [
    {
     "data": {
      "text/html": [
       "<div>\n",
       "<style scoped>\n",
       "    .dataframe tbody tr th:only-of-type {\n",
       "        vertical-align: middle;\n",
       "    }\n",
       "\n",
       "    .dataframe tbody tr th {\n",
       "        vertical-align: top;\n",
       "    }\n",
       "\n",
       "    .dataframe thead th {\n",
       "        text-align: right;\n",
       "    }\n",
       "</style>\n",
       "<table border=\"1\" class=\"dataframe\">\n",
       "  <thead>\n",
       "    <tr style=\"text-align: right;\">\n",
       "      <th></th>\n",
       "      <th>date</th>\n",
       "      <th>collectionname</th>\n",
       "      <th>makernunique</th>\n",
       "      <th>takernunique</th>\n",
       "      <th>thumbnailurlnunique</th>\n",
       "      <th>txnunique</th>\n",
       "      <th>pricemin</th>\n",
       "      <th>pricemax</th>\n",
       "      <th>pricemean</th>\n",
       "      <th>pricemedian</th>\n",
       "    </tr>\n",
       "  </thead>\n",
       "  <tbody>\n",
       "    <tr>\n",
       "      <th>0</th>\n",
       "      <td>2021-08-01</td>\n",
       "      <td>Parallel Alpha</td>\n",
       "      <td>228</td>\n",
       "      <td>230</td>\n",
       "      <td>108</td>\n",
       "      <td>641</td>\n",
       "      <td>0.0200</td>\n",
       "      <td>10000.0</td>\n",
       "      <td>31.648996</td>\n",
       "      <td>0.1900</td>\n",
       "    </tr>\n",
       "    <tr>\n",
       "      <th>1</th>\n",
       "      <td>2021-08-02</td>\n",
       "      <td>Parallel Alpha</td>\n",
       "      <td>745</td>\n",
       "      <td>804</td>\n",
       "      <td>113</td>\n",
       "      <td>3632</td>\n",
       "      <td>0.0060</td>\n",
       "      <td>32000.0</td>\n",
       "      <td>15.646073</td>\n",
       "      <td>0.0880</td>\n",
       "    </tr>\n",
       "    <tr>\n",
       "      <th>2</th>\n",
       "      <td>2021-08-03</td>\n",
       "      <td>Parallel Alpha</td>\n",
       "      <td>887</td>\n",
       "      <td>937</td>\n",
       "      <td>119</td>\n",
       "      <td>3212</td>\n",
       "      <td>0.0230</td>\n",
       "      <td>1900.0</td>\n",
       "      <td>1.429123</td>\n",
       "      <td>0.1290</td>\n",
       "    </tr>\n",
       "    <tr>\n",
       "      <th>3</th>\n",
       "      <td>2021-08-04</td>\n",
       "      <td>Parallel Alpha</td>\n",
       "      <td>434</td>\n",
       "      <td>387</td>\n",
       "      <td>98</td>\n",
       "      <td>1230</td>\n",
       "      <td>0.0189</td>\n",
       "      <td>79000.0</td>\n",
       "      <td>66.104642</td>\n",
       "      <td>0.1000</td>\n",
       "    </tr>\n",
       "    <tr>\n",
       "      <th>4</th>\n",
       "      <td>2021-08-05</td>\n",
       "      <td>Parallel Alpha</td>\n",
       "      <td>339</td>\n",
       "      <td>276</td>\n",
       "      <td>92</td>\n",
       "      <td>728</td>\n",
       "      <td>0.0160</td>\n",
       "      <td>1400.0</td>\n",
       "      <td>3.271091</td>\n",
       "      <td>0.1149</td>\n",
       "    </tr>\n",
       "  </tbody>\n",
       "</table>\n",
       "</div>"
      ],
      "text/plain": [
       "        date  collectionname  makernunique  takernunique  thumbnailurlnunique  \\\n",
       "0 2021-08-01  Parallel Alpha           228           230                  108   \n",
       "1 2021-08-02  Parallel Alpha           745           804                  113   \n",
       "2 2021-08-03  Parallel Alpha           887           937                  119   \n",
       "3 2021-08-04  Parallel Alpha           434           387                   98   \n",
       "4 2021-08-05  Parallel Alpha           339           276                   92   \n",
       "\n",
       "   txnunique  pricemin  pricemax  pricemean  pricemedian  \n",
       "0        641    0.0200   10000.0  31.648996       0.1900  \n",
       "1       3632    0.0060   32000.0  15.646073       0.0880  \n",
       "2       3212    0.0230    1900.0   1.429123       0.1290  \n",
       "3       1230    0.0189   79000.0  66.104642       0.1000  \n",
       "4        728    0.0160    1400.0   3.271091       0.1149  "
      ]
     },
     "execution_count": 20,
     "metadata": {},
     "output_type": "execute_result"
    }
   ],
   "source": [
    "df.head()"
   ]
  },
  {
   "cell_type": "code",
   "execution_count": 21,
   "id": "ec05dc2f",
   "metadata": {},
   "outputs": [
    {
     "data": {
      "text/plain": [
       "count    2.550000e+02\n",
       "mean     8.683459e+08\n",
       "std      7.208750e+09\n",
       "min     -1.748500e-03\n",
       "25%      1.717243e-01\n",
       "50%      5.821670e-01\n",
       "75%      2.160591e+00\n",
       "max      7.953201e+10\n",
       "Name: pricemean, dtype: float64"
      ]
     },
     "execution_count": 21,
     "metadata": {},
     "output_type": "execute_result"
    }
   ],
   "source": [
    "df['pricemean'].describe()"
   ]
  },
  {
   "cell_type": "code",
   "execution_count": 22,
   "id": "2f2e667e",
   "metadata": {},
   "outputs": [
    {
     "data": {
      "text/plain": [
       "pricemedian            1.000000\n",
       "txnunique              0.262268\n",
       "takernunique           0.248459\n",
       "makernunique           0.173167\n",
       "pricemin               0.067898\n",
       "pricemax              -0.037935\n",
       "pricemean             -0.050892\n",
       "thumbnailurlnunique   -0.256485\n",
       "Name: pricemedian, dtype: float64"
      ]
     },
     "execution_count": 22,
     "metadata": {},
     "output_type": "execute_result"
    }
   ],
   "source": [
    "corr_matrix = df.corr()\n",
    "(corr_matrix[\"pricemedian\"].sort_values(ascending=False))"
   ]
  },
  {
   "cell_type": "code",
   "execution_count": 23,
   "id": "ef695a5d",
   "metadata": {},
   "outputs": [
    {
     "data": {
      "text/plain": [
       "<AxesSubplot:>"
      ]
     },
     "execution_count": 23,
     "metadata": {},
     "output_type": "execute_result"
    },
    {
     "data": {
      "image/png": "[encoded data removed]",
      "text/plain": [
       "<Figure size 432x288 with 1 Axes>"
      ]
     },
     "metadata": {
      "needs_background": "light"
     },
     "output_type": "display_data"
    }
   ],
   "source": [
    "df['pricemedian'].hist()"
   ]
  },
  {
   "cell_type": "code",
   "execution_count": 24,
   "id": "b9bba591",
   "metadata": {},
   "outputs": [
    {
     "data": {
      "text/plain": [
       "<AxesSubplot:xlabel='y(t)', ylabel='y(t + 1)'>"
      ]
     },
     "execution_count": 24,
     "metadata": {},
     "output_type": "execute_result"
    },
    {
     "data": {
      "image/png": "[encoded data removed]",
      "text/plain": [
       "<Figure size 432x288 with 1 Axes>"
      ]
     },
     "metadata": {
      "needs_background": "light"
     },
     "output_type": "display_data"
    }
   ],
   "source": [
    "pd.plotting.lag_plot(df['pricemedian'],lag=1)"
   ]
  },
  {
   "cell_type": "code",
   "execution_count": 25,
   "id": "08a2adeb",
   "metadata": {},
   "outputs": [
    {
     "data": {
      "text/plain": [
       "<AxesSubplot:ylabel='Density'>"
      ]
     },
     "execution_count": 25,
     "metadata": {},
     "output_type": "execute_result"
    },
    {
     "data": {
      "image/png": "[encoded data removed]",
      "text/plain": [
       "<Figure size 432x288 with 1 Axes>"
      ]
     },
     "metadata": {
      "needs_background": "light"
     },
     "output_type": "display_data"
    }
   ],
   "source": [
    "df[['pricemedian']].plot(kind='density')"
   ]
  },
  {
   "cell_type": "code",
   "execution_count": 26,
   "id": "0d3d7c0d",
   "metadata": {},
   "outputs": [
    {
     "data": {
      "text/plain": [
       "<AxesSubplot:xlabel='y(t)', ylabel='y(t + 30)'>"
      ]
     },
     "execution_count": 26,
     "metadata": {},
     "output_type": "execute_result"
    },
    {
     "data": {
      "image/png": "[encoded data removed]",
      "text/plain": [
       "<Figure size 432x288 with 1 Axes>"
      ]
     },
     "metadata": {
      "needs_background": "light"
     },
     "output_type": "display_data"
    }
   ],
   "source": [
    "pd.plotting.lag_plot(df['pricemedian'],lag=30)"
   ]
  },
  {
   "cell_type": "code",
   "execution_count": 34,
   "id": "b428823b",
   "metadata": {},
   "outputs": [
    {
     "data": {
      "image/png": "[encoded data removed]",
      "text/plain": [
       "<Figure size 720x720 with 2 Axes>"
      ]
     },
     "metadata": {
      "needs_background": "light"
     },
     "output_type": "display_data"
    }
   ],
   "source": [
    "g = sns.heatmap(df.corr(),  vmax=.6, center=0,\n",
    "            square=True, linewidths=.5, cbar_kws={\"shrink\": .5}, annot=True, fmt='.2f', cmap='coolwarm')\n",
    "g.figure.set_size_inches(10,10)\n",
    "    \n",
    "plt.show()"
   ]
  },
  {
   "cell_type": "code",
   "execution_count": 33,
   "id": "c46c800e",
   "metadata": {},
   "outputs": [
    {
     "data": {
      "text/plain": [
       "<AxesSubplot:xlabel='Lag', ylabel='Autocorrelation'>"
      ]
     },
     "execution_count": 33,
     "metadata": {},
     "output_type": "execute_result"
    },
    {
     "data": {
      "image/png": "[encoded data removed]",
      "text/plain": [
       "<Figure size 432x288 with 1 Axes>"
      ]
     },
     "metadata": {
      "needs_background": "light"
     },
     "output_type": "display_data"
    }
   ],
   "source": [
    "pd.plotting.autocorrelation_plot(df['pricemedian'])"
   ]
  },
  {
   "cell_type": "code",
   "execution_count": null,
   "id": "c56ba7bc",
   "metadata": {},
   "outputs": [],
   "source": []
  },
  {
   "cell_type": "code",
   "execution_count": null,
   "id": "4115b3c4",
   "metadata": {},
   "outputs": [],
   "source": []
  },
  {
   "cell_type": "code",
   "execution_count": null,
   "id": "17319af5",
   "metadata": {},
   "outputs": [],
   "source": []
  },
  {
   "cell_type": "code",
   "execution_count": null,
   "id": "586a8ace",
   "metadata": {},
   "outputs": [],
   "source": []
  },
  {
   "cell_type": "code",
   "execution_count": null,
   "id": "e9fb5e22",
   "metadata": {},
   "outputs": [],
   "source": []
  },
  {
   "cell_type": "code",
   "execution_count": null,
   "id": "970a85b2",
   "metadata": {},
   "outputs": [],
   "source": []
  }
 ],
 "metadata": {
  "kernelspec": {
   "display_name": "Python 3.8.12 64-bit ('py36': conda)",
   "language": "python",
   "name": "python3812jvsc74a57bd0d4f6b8ba5c30944ddc3f08aa754190fc9fa0c8ffa5eadb59838767fd4f7c97d5"
  },
  "language_info": {
   "codemirror_mode": {
    "name": "ipython",
    "version": 3
   },
   "file_extension": ".py",
   "mimetype": "text/x-python",
   "name": "python",
   "nbconvert_exporter": "python",
   "pygments_lexer": "ipython3",
   "version": "3.8.12"
  }
 },
 "nbformat": 4,
 "nbformat_minor": 5
}
